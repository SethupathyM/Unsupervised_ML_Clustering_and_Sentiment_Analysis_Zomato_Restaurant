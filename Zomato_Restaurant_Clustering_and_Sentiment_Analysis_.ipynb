{
  "nbformat": 4,
  "nbformat_minor": 0,
  "metadata": {
    "colab": {
      "name": "Zomato Restaurant Clustering and Sentiment Analysis .ipynb",
      "provenance": [],
      "collapsed_sections": [],
      "include_colab_link": true
    },
    "kernelspec": {
      "name": "python3",
      "display_name": "Python 3"
    },
    "language_info": {
      "name": "python"
    }
  },
  "cells": [
    {
      "cell_type": "markdown",
      "metadata": {
        "id": "view-in-github",
        "colab_type": "text"
      },
      "source": [
        "<a href=\"https://colab.research.google.com/github/SethupathyM/Unsupervised_ML_Clustering_and_Sentiment_Analysis_Zomato_Restaurant/blob/main/Zomato_Restaurant_Clustering_and_Sentiment_Analysis_.ipynb\" target=\"_parent\"><img src=\"https://colab.research.google.com/assets/colab-badge.svg\" alt=\"Open In Colab\"/></a>"
      ]
    },
    {
      "cell_type": "markdown",
      "metadata": {
        "id": "LGcl5Bv9ed6u"
      },
      "source": [
        "# **Problem Statement**"
      ]
    },
    {
      "cell_type": "markdown",
      "metadata": {
        "id": "Dtb2te3Omis9"
      },
      "source": [
        "Zomato is an Indian restaurant aggregator and food delivery start-up founded by Deepinder Goyal and Pankaj Chaddah in 2008. Zomato provides information, menus and user-reviews of restaurants, and also has food delivery options from partner restaurants in select cities.\n",
        "\n",
        "India is quite famous for its diverse multi cuisine available in a large number of restaurants and hotel resorts, which is reminiscent of unity in diversity. Restaurant business in India is always evolving. More Indians are warming up to the idea of eating restaurant food whether by dining outside or getting food delivered. The growing number of restaurants in every state of India has been a motivation to inspect the data to get some insights, interesting facts and figures about the Indian food industry in each city. So, this project focuses on analysing the Zomato restaurant data for each city in India.\n",
        "\n",
        "The Project focuses on Customers and Company, you have  to analyze the sentiments of the reviews given by the customer in the data and made some useful conclusion in the form of Visualizations. Also, cluster the zomato restaurants into different segments. The data is vizualized as it becomes easy to analyse data at instant. The Analysis also solve some of the business cases that can directly help the customers finding the Best restaurant in their locality and for the company to grow up and work on the fields they are currently lagging in.\n",
        "\n",
        "This could help in clustering the restaurants into segments. Also the data has valuable information around cuisine and costing which can be used in cost vs. benefit analysis\n",
        "\n",
        "Data could be used for sentiment analysis. Also the metadata of reviewers can be used for identifying the critics in the industry. "
      ]
    },
    {
      "cell_type": "markdown",
      "metadata": {
        "id": "AzGDqdC4fZ-b"
      },
      "source": [
        "# **Attribute Information**"
      ]
    },
    {
      "cell_type": "markdown",
      "metadata": {
        "id": "1rDsYX7KtvFb"
      },
      "source": [
        "## **Zomato Restaurant names and Metadata**\n",
        "Use this dataset for clustering part"
      ]
    },
    {
      "cell_type": "markdown",
      "metadata": {
        "id": "3uB3PQRXtz-A"
      },
      "source": [
        "1. Name : Name of Restaurants\n",
        "\n",
        "2. Links : URL Links of Restaurants\n",
        "\n",
        "3. Cost : Per person estimated Cost of dining\n",
        "\n",
        "4. Collection : Tagging of Restaurants w.r.t. Zomato categories\n",
        "\n",
        "5. Cuisines : Cuisines served by Restaurants\n",
        "\n",
        "6. Timings : Restaurant Timings"
      ]
    },
    {
      "cell_type": "markdown",
      "metadata": {
        "id": "Pq7CVNxQuT8i"
      },
      "source": [
        "## **Zomato Restaurant reviews**\n",
        "Merge this dataset with Names and Matadata and then use for sentiment analysis part"
      ]
    },
    {
      "cell_type": "markdown",
      "metadata": {
        "id": "k9E4XoEGuc0G"
      },
      "source": [
        "1. Restaurant : Name of the Restaurant\n",
        "\n",
        "2. Reviewer : Name of the Reviewer\n",
        "\n",
        "3. Review : Review Text\n",
        "\n",
        "4. Rating : Rating Provided by Reviewer\n",
        "\n",
        "5. MetaData : Reviewer Metadata - No. of Reviews and followers\n",
        "\n",
        "6. Time: Date and Time of Review\n",
        "\n",
        "7. Pictures : No. of pictures posted with review"
      ]
    },
    {
      "cell_type": "code",
      "source": [
        "# Importing Libraries\n",
        "import pandas as pd\n",
        "import numpy as np\n",
        "import seaborn as sns\n",
        "import matplotlib.pyplot as plt\n",
        "import matplotlib.cm as cm\n",
        "import math\n",
        "\n",
        "import re, string, unicodedata\n",
        "import nltk\n",
        "import inflect\n",
        "from bs4 import BeautifulSoup\n",
        "from nltk import word_tokenize, sent_tokenize\n",
        "from nltk.corpus import stopwords\n",
        "from nltk.stem import LancasterStemmer, WordNetLemmatizer\n",
        "\n",
        "from keras.preprocessing.text import Tokenizer\n",
        "from sklearn.feature_extraction.text import TfidfVectorizer\n",
        "from sklearn.cluster import KMeans\n",
        "from sklearn.metrics import silhouette_samples, silhouette_score\n",
        "from sklearn.datasets import make_blobs\n",
        "from nltk.stem import PorterStemmer, LancasterStemmer\n",
        "\n",
        "from yellowbrick.cluster import KElbowVisualizer\n",
        "from wordcloud import WordCloud\n",
        "\n",
        "import inflect\n",
        "import scipy.cluster.hierarchy as shc\n",
        "from sklearn.cluster import AgglomerativeClustering\n"
      ],
      "metadata": {
        "id": "A8EC7skUFy9U"
      },
      "execution_count": 1,
      "outputs": []
    },
    {
      "cell_type": "code",
      "source": [
        "# Mounting the drive\n",
        "from google.colab import drive\n",
        "drive.mount('/content/Mydrive')"
      ],
      "metadata": {
        "id": "TjE5pgyrFzOL",
        "colab": {
          "base_uri": "https://localhost:8080/"
        },
        "outputId": "adbd89e3-5e97-4473-a514-843d6cc29e27"
      },
      "execution_count": 2,
      "outputs": [
        {
          "output_type": "stream",
          "name": "stdout",
          "text": [
            "Mounted at /content/Mydrive\n"
          ]
        }
      ]
    },
    {
      "cell_type": "markdown",
      "source": [
        " **Loading Zomato Restaurant names and Metadata CSV file**"
      ],
      "metadata": {
        "id": "EenElKQG0lZr"
      }
    },
    {
      "cell_type": "code",
      "source": [
        "# Loading the CSV file\n",
        "df = pd.read_csv('/content/Mydrive/MyDrive/Capstone_Project_Unsupervised_ML_Zomato_Restaurant_Clustering_and_Sentiment_Analysis/Zomato Restaurant names and Metadata.csv')"
      ],
      "metadata": {
        "id": "pk2rxyqIv_cl"
      },
      "execution_count": 3,
      "outputs": []
    },
    {
      "cell_type": "code",
      "source": [
        "df_copy = df"
      ],
      "metadata": {
        "id": "BwbYIhgL6Wnd"
      },
      "execution_count": 4,
      "outputs": []
    },
    {
      "cell_type": "code",
      "source": [
        "cuisine_list = df_copy.Cuisines.str.split(', ') "
      ],
      "metadata": {
        "id": "v4ZSUFZN6VVa"
      },
      "execution_count": 5,
      "outputs": []
    },
    {
      "cell_type": "code",
      "source": [
        "cuisine_list"
      ],
      "metadata": {
        "colab": {
          "base_uri": "https://localhost:8080/"
        },
        "id": "S5pnpnX46eS6",
        "outputId": "b813981a-90bd-4c17-d35b-f08319d5e59a"
      },
      "execution_count": 6,
      "outputs": [
        {
          "output_type": "execute_result",
          "data": {
            "text/plain": [
              "0      [Chinese, Continental, Kebab, European, South ...\n",
              "1                       [Biryani, North Indian, Chinese]\n",
              "2         [Asian, Mediterranean, North Indian, Desserts]\n",
              "3      [Biryani, North Indian, Chinese, Seafood, Beve...\n",
              "4      [Asian, Continental, North Indian, Chinese, Me...\n",
              "                             ...                        \n",
              "100                                   [Fast Food, Salad]\n",
              "101                                     [Bakery, Mithai]\n",
              "102                     [North Indian, Biryani, Chinese]\n",
              "103                                          [Fast Food]\n",
              "104                    [Thai, Asian, Chinese, Malaysian]\n",
              "Name: Cuisines, Length: 105, dtype: object"
            ]
          },
          "metadata": {},
          "execution_count": 6
        }
      ]
    },
    {
      "cell_type": "code",
      "source": [
        "clusterlist = {}\n",
        "for names in cuisine_list:\n",
        "    for name in names:\n",
        "      # print(name)\n",
        "      if (name in clusterlist):\n",
        "        clusterlist[name]+=1\n",
        "        print(clusterlist)\n",
        "      else:\n",
        "         clusterlist[name]=1\n",
        "cuis_df = pd.DataFrame(clusterlist.values(),index = clusterlist.keys(),columns = {'Counts of Restaurants'}) #Create a cuis dataframe\n",
        "cuis_df.sort_values(by = 'Counts of Restaurants',ascending = False,inplace = True) #Sort the dataframe in ascending order\n",
        "top_10_cuis = cuis_df[0:10] #Pick the 10 restaurant most nominated\n",
        "print('The Top 10 Cuisines are:\\n',top_10_cuis)\n",
        "\n"
      ],
      "metadata": {
        "colab": {
          "base_uri": "https://localhost:8080/"
        },
        "id": "ibIEl2Z06yIo",
        "outputId": "f0eb3036-e1ce-4d45-c677-b67958d10c2c"
      },
      "execution_count": 7,
      "outputs": [
        {
          "output_type": "stream",
          "name": "stdout",
          "text": [
            "{'Chinese': 1, 'Continental': 1, 'Kebab': 1, 'European': 1, 'South Indian': 1, 'North Indian': 2, 'Biryani': 1}\n",
            "{'Chinese': 2, 'Continental': 1, 'Kebab': 1, 'European': 1, 'South Indian': 1, 'North Indian': 2, 'Biryani': 1}\n",
            "{'Chinese': 2, 'Continental': 1, 'Kebab': 1, 'European': 1, 'South Indian': 1, 'North Indian': 3, 'Biryani': 1, 'Asian': 1, 'Mediterranean': 1}\n",
            "{'Chinese': 2, 'Continental': 1, 'Kebab': 1, 'European': 1, 'South Indian': 1, 'North Indian': 3, 'Biryani': 2, 'Asian': 1, 'Mediterranean': 1, 'Desserts': 1}\n",
            "{'Chinese': 2, 'Continental': 1, 'Kebab': 1, 'European': 1, 'South Indian': 1, 'North Indian': 4, 'Biryani': 2, 'Asian': 1, 'Mediterranean': 1, 'Desserts': 1}\n",
            "{'Chinese': 3, 'Continental': 1, 'Kebab': 1, 'European': 1, 'South Indian': 1, 'North Indian': 4, 'Biryani': 2, 'Asian': 1, 'Mediterranean': 1, 'Desserts': 1}\n",
            "{'Chinese': 3, 'Continental': 1, 'Kebab': 1, 'European': 1, 'South Indian': 1, 'North Indian': 4, 'Biryani': 2, 'Asian': 2, 'Mediterranean': 1, 'Desserts': 1, 'Seafood': 1, 'Beverages': 1}\n",
            "{'Chinese': 3, 'Continental': 2, 'Kebab': 1, 'European': 1, 'South Indian': 1, 'North Indian': 4, 'Biryani': 2, 'Asian': 2, 'Mediterranean': 1, 'Desserts': 1, 'Seafood': 1, 'Beverages': 1}\n",
            "{'Chinese': 3, 'Continental': 2, 'Kebab': 1, 'European': 1, 'South Indian': 1, 'North Indian': 5, 'Biryani': 2, 'Asian': 2, 'Mediterranean': 1, 'Desserts': 1, 'Seafood': 1, 'Beverages': 1}\n",
            "{'Chinese': 4, 'Continental': 2, 'Kebab': 1, 'European': 1, 'South Indian': 1, 'North Indian': 5, 'Biryani': 2, 'Asian': 2, 'Mediterranean': 1, 'Desserts': 1, 'Seafood': 1, 'Beverages': 1}\n",
            "{'Chinese': 4, 'Continental': 2, 'Kebab': 1, 'European': 1, 'South Indian': 1, 'North Indian': 5, 'Biryani': 2, 'Asian': 2, 'Mediterranean': 2, 'Desserts': 1, 'Seafood': 1, 'Beverages': 1}\n",
            "{'Chinese': 4, 'Continental': 2, 'Kebab': 1, 'European': 1, 'South Indian': 1, 'North Indian': 5, 'Biryani': 2, 'Asian': 2, 'Mediterranean': 2, 'Desserts': 1, 'Seafood': 2, 'Beverages': 1}\n",
            "{'Chinese': 4, 'Continental': 2, 'Kebab': 1, 'European': 1, 'South Indian': 1, 'North Indian': 6, 'Biryani': 2, 'Asian': 2, 'Mediterranean': 2, 'Desserts': 1, 'Seafood': 2, 'Beverages': 1, 'Goan': 1}\n",
            "{'Chinese': 4, 'Continental': 3, 'Kebab': 1, 'European': 1, 'South Indian': 1, 'North Indian': 6, 'Biryani': 2, 'Asian': 2, 'Mediterranean': 2, 'Desserts': 1, 'Seafood': 2, 'Beverages': 1, 'Goan': 1}\n",
            "{'Chinese': 4, 'Continental': 3, 'Kebab': 1, 'European': 1, 'South Indian': 1, 'North Indian': 6, 'Biryani': 2, 'Asian': 3, 'Mediterranean': 2, 'Desserts': 1, 'Seafood': 2, 'Beverages': 1, 'Goan': 1}\n",
            "{'Chinese': 4, 'Continental': 3, 'Kebab': 1, 'European': 1, 'South Indian': 1, 'North Indian': 7, 'Biryani': 2, 'Asian': 3, 'Mediterranean': 2, 'Desserts': 1, 'Seafood': 2, 'Beverages': 1, 'Goan': 1, 'Healthy Food': 1}\n",
            "{'Chinese': 4, 'Continental': 4, 'Kebab': 1, 'European': 1, 'South Indian': 1, 'North Indian': 7, 'Biryani': 2, 'Asian': 3, 'Mediterranean': 2, 'Desserts': 1, 'Seafood': 2, 'Beverages': 1, 'Goan': 1, 'Healthy Food': 1}\n",
            "{'Chinese': 4, 'Continental': 4, 'Kebab': 1, 'European': 1, 'South Indian': 2, 'North Indian': 7, 'Biryani': 2, 'Asian': 3, 'Mediterranean': 2, 'Desserts': 1, 'Seafood': 2, 'Beverages': 1, 'Goan': 1, 'Healthy Food': 1}\n",
            "{'Chinese': 5, 'Continental': 4, 'Kebab': 1, 'European': 1, 'South Indian': 2, 'North Indian': 7, 'Biryani': 2, 'Asian': 3, 'Mediterranean': 2, 'Desserts': 1, 'Seafood': 2, 'Beverages': 1, 'Goan': 1, 'Healthy Food': 1, 'Lebanese': 1, 'American': 1}\n",
            "{'Chinese': 5, 'Continental': 4, 'Kebab': 1, 'European': 1, 'South Indian': 2, 'North Indian': 8, 'Biryani': 2, 'Asian': 3, 'Mediterranean': 2, 'Desserts': 1, 'Seafood': 2, 'Beverages': 1, 'Goan': 1, 'Healthy Food': 1, 'Lebanese': 1, 'American': 1}\n",
            "{'Chinese': 5, 'Continental': 4, 'Kebab': 2, 'European': 1, 'South Indian': 2, 'North Indian': 8, 'Biryani': 2, 'Asian': 3, 'Mediterranean': 2, 'Desserts': 1, 'Seafood': 2, 'Beverages': 1, 'Goan': 1, 'Healthy Food': 1, 'Lebanese': 1, 'American': 1}\n",
            "{'Chinese': 5, 'Continental': 4, 'Kebab': 2, 'European': 1, 'South Indian': 3, 'North Indian': 8, 'Biryani': 2, 'Asian': 3, 'Mediterranean': 2, 'Desserts': 1, 'Seafood': 2, 'Beverages': 1, 'Goan': 1, 'Healthy Food': 1, 'Lebanese': 1, 'American': 1}\n",
            "{'Chinese': 5, 'Continental': 4, 'Kebab': 2, 'European': 1, 'South Indian': 3, 'North Indian': 8, 'Biryani': 2, 'Asian': 3, 'Mediterranean': 2, 'Desserts': 2, 'Seafood': 2, 'Beverages': 1, 'Goan': 1, 'Healthy Food': 1, 'Lebanese': 1, 'American': 1, 'Ice Cream': 1}\n",
            "{'Chinese': 5, 'Continental': 4, 'Kebab': 2, 'European': 1, 'South Indian': 3, 'North Indian': 9, 'Biryani': 2, 'Asian': 3, 'Mediterranean': 2, 'Desserts': 2, 'Seafood': 2, 'Beverages': 1, 'Goan': 1, 'Healthy Food': 1, 'Lebanese': 1, 'American': 1, 'Ice Cream': 1, 'Street Food': 1}\n",
            "{'Chinese': 5, 'Continental': 4, 'Kebab': 2, 'European': 1, 'South Indian': 3, 'North Indian': 9, 'Biryani': 2, 'Asian': 3, 'Mediterranean': 3, 'Desserts': 2, 'Seafood': 2, 'Beverages': 1, 'Goan': 1, 'Healthy Food': 1, 'Lebanese': 1, 'American': 1, 'Ice Cream': 1, 'Street Food': 1, 'Fast Food': 1}\n",
            "{'Chinese': 5, 'Continental': 4, 'Kebab': 2, 'European': 1, 'South Indian': 3, 'North Indian': 10, 'Biryani': 2, 'Asian': 3, 'Mediterranean': 3, 'Desserts': 2, 'Seafood': 2, 'Beverages': 1, 'Goan': 1, 'Healthy Food': 1, 'Lebanese': 1, 'American': 1, 'Ice Cream': 1, 'Street Food': 1, 'Fast Food': 1}\n",
            "{'Chinese': 5, 'Continental': 4, 'Kebab': 3, 'European': 1, 'South Indian': 3, 'North Indian': 10, 'Biryani': 2, 'Asian': 3, 'Mediterranean': 3, 'Desserts': 2, 'Seafood': 2, 'Beverages': 1, 'Goan': 1, 'Healthy Food': 1, 'Lebanese': 1, 'American': 1, 'Ice Cream': 1, 'Street Food': 1, 'Fast Food': 1}\n",
            "{'Chinese': 5, 'Continental': 5, 'Kebab': 3, 'European': 1, 'South Indian': 3, 'North Indian': 10, 'Biryani': 2, 'Asian': 3, 'Mediterranean': 3, 'Desserts': 2, 'Seafood': 2, 'Beverages': 1, 'Goan': 1, 'Healthy Food': 1, 'Lebanese': 1, 'American': 1, 'Ice Cream': 1, 'Street Food': 1, 'Fast Food': 1, 'BBQ': 1}\n",
            "{'Chinese': 5, 'Continental': 5, 'Kebab': 3, 'European': 1, 'South Indian': 3, 'North Indian': 10, 'Biryani': 2, 'Asian': 3, 'Mediterranean': 3, 'Desserts': 2, 'Seafood': 2, 'Beverages': 1, 'Goan': 1, 'Healthy Food': 1, 'Lebanese': 1, 'American': 2, 'Ice Cream': 1, 'Street Food': 1, 'Fast Food': 1, 'BBQ': 1}\n",
            "{'Chinese': 6, 'Continental': 5, 'Kebab': 3, 'European': 1, 'South Indian': 3, 'North Indian': 10, 'Biryani': 2, 'Asian': 3, 'Mediterranean': 3, 'Desserts': 2, 'Seafood': 2, 'Beverages': 1, 'Goan': 1, 'Healthy Food': 1, 'Lebanese': 1, 'American': 2, 'Ice Cream': 1, 'Street Food': 1, 'Fast Food': 1, 'BBQ': 1}\n",
            "{'Chinese': 6, 'Continental': 5, 'Kebab': 3, 'European': 1, 'South Indian': 3, 'North Indian': 11, 'Biryani': 2, 'Asian': 3, 'Mediterranean': 3, 'Desserts': 2, 'Seafood': 2, 'Beverages': 1, 'Goan': 1, 'Healthy Food': 1, 'Lebanese': 1, 'American': 2, 'Ice Cream': 1, 'Street Food': 1, 'Fast Food': 1, 'BBQ': 1}\n",
            "{'Chinese': 6, 'Continental': 5, 'Kebab': 3, 'European': 2, 'South Indian': 3, 'North Indian': 11, 'Biryani': 2, 'Asian': 3, 'Mediterranean': 3, 'Desserts': 2, 'Seafood': 2, 'Beverages': 1, 'Goan': 1, 'Healthy Food': 1, 'Lebanese': 1, 'American': 2, 'Ice Cream': 1, 'Street Food': 1, 'Fast Food': 1, 'BBQ': 1, 'Italian': 1, 'Finger Food': 1}\n",
            "{'Chinese': 6, 'Continental': 5, 'Kebab': 3, 'European': 2, 'South Indian': 3, 'North Indian': 11, 'Biryani': 2, 'Asian': 3, 'Mediterranean': 4, 'Desserts': 2, 'Seafood': 2, 'Beverages': 1, 'Goan': 1, 'Healthy Food': 1, 'Lebanese': 1, 'American': 2, 'Ice Cream': 1, 'Street Food': 1, 'Fast Food': 1, 'BBQ': 1, 'Italian': 1, 'Finger Food': 1}\n",
            "{'Chinese': 6, 'Continental': 5, 'Kebab': 3, 'European': 2, 'South Indian': 3, 'North Indian': 12, 'Biryani': 2, 'Asian': 3, 'Mediterranean': 4, 'Desserts': 2, 'Seafood': 2, 'Beverages': 1, 'Goan': 1, 'Healthy Food': 1, 'Lebanese': 1, 'American': 2, 'Ice Cream': 1, 'Street Food': 1, 'Fast Food': 1, 'BBQ': 1, 'Italian': 1, 'Finger Food': 1}\n",
            "{'Chinese': 6, 'Continental': 5, 'Kebab': 3, 'European': 2, 'South Indian': 3, 'North Indian': 12, 'Biryani': 2, 'Asian': 3, 'Mediterranean': 4, 'Desserts': 2, 'Seafood': 2, 'Beverages': 1, 'Goan': 1, 'Healthy Food': 1, 'Lebanese': 1, 'American': 2, 'Ice Cream': 1, 'Street Food': 1, 'Fast Food': 2, 'BBQ': 1, 'Italian': 1, 'Finger Food': 1, 'Burger': 1}\n",
            "{'Chinese': 6, 'Continental': 5, 'Kebab': 3, 'European': 2, 'South Indian': 3, 'North Indian': 13, 'Biryani': 2, 'Asian': 3, 'Mediterranean': 4, 'Desserts': 2, 'Seafood': 2, 'Beverages': 1, 'Goan': 1, 'Healthy Food': 1, 'Lebanese': 1, 'American': 2, 'Ice Cream': 1, 'Street Food': 1, 'Fast Food': 2, 'BBQ': 1, 'Italian': 1, 'Finger Food': 1, 'Burger': 1}\n",
            "{'Chinese': 7, 'Continental': 5, 'Kebab': 3, 'European': 2, 'South Indian': 3, 'North Indian': 13, 'Biryani': 2, 'Asian': 3, 'Mediterranean': 4, 'Desserts': 2, 'Seafood': 2, 'Beverages': 1, 'Goan': 1, 'Healthy Food': 1, 'Lebanese': 1, 'American': 2, 'Ice Cream': 1, 'Street Food': 1, 'Fast Food': 2, 'BBQ': 1, 'Italian': 1, 'Finger Food': 1, 'Burger': 1}\n",
            "{'Chinese': 7, 'Continental': 5, 'Kebab': 3, 'European': 2, 'South Indian': 3, 'North Indian': 14, 'Biryani': 2, 'Asian': 3, 'Mediterranean': 4, 'Desserts': 2, 'Seafood': 2, 'Beverages': 1, 'Goan': 1, 'Healthy Food': 1, 'Lebanese': 1, 'American': 2, 'Ice Cream': 1, 'Street Food': 1, 'Fast Food': 2, 'BBQ': 1, 'Italian': 1, 'Finger Food': 1, 'Burger': 1}\n",
            "{'Chinese': 7, 'Continental': 5, 'Kebab': 3, 'European': 2, 'South Indian': 3, 'North Indian': 15, 'Biryani': 2, 'Asian': 3, 'Mediterranean': 4, 'Desserts': 2, 'Seafood': 2, 'Beverages': 1, 'Goan': 1, 'Healthy Food': 1, 'Lebanese': 1, 'American': 2, 'Ice Cream': 1, 'Street Food': 1, 'Fast Food': 2, 'BBQ': 1, 'Italian': 1, 'Finger Food': 1, 'Burger': 1}\n",
            "{'Chinese': 8, 'Continental': 5, 'Kebab': 3, 'European': 2, 'South Indian': 3, 'North Indian': 15, 'Biryani': 2, 'Asian': 3, 'Mediterranean': 4, 'Desserts': 2, 'Seafood': 2, 'Beverages': 1, 'Goan': 1, 'Healthy Food': 1, 'Lebanese': 1, 'American': 2, 'Ice Cream': 1, 'Street Food': 1, 'Fast Food': 2, 'BBQ': 1, 'Italian': 1, 'Finger Food': 1, 'Burger': 1}\n",
            "{'Chinese': 8, 'Continental': 6, 'Kebab': 3, 'European': 2, 'South Indian': 3, 'North Indian': 15, 'Biryani': 2, 'Asian': 3, 'Mediterranean': 4, 'Desserts': 2, 'Seafood': 2, 'Beverages': 1, 'Goan': 1, 'Healthy Food': 1, 'Lebanese': 1, 'American': 2, 'Ice Cream': 1, 'Street Food': 1, 'Fast Food': 2, 'BBQ': 1, 'Italian': 1, 'Finger Food': 1, 'Burger': 1}\n",
            "{'Chinese': 8, 'Continental': 6, 'Kebab': 3, 'European': 2, 'South Indian': 3, 'North Indian': 16, 'Biryani': 2, 'Asian': 3, 'Mediterranean': 4, 'Desserts': 2, 'Seafood': 2, 'Beverages': 1, 'Goan': 1, 'Healthy Food': 1, 'Lebanese': 1, 'American': 2, 'Ice Cream': 1, 'Street Food': 1, 'Fast Food': 2, 'BBQ': 1, 'Italian': 1, 'Finger Food': 1, 'Burger': 1}\n",
            "{'Chinese': 9, 'Continental': 6, 'Kebab': 3, 'European': 2, 'South Indian': 3, 'North Indian': 16, 'Biryani': 2, 'Asian': 3, 'Mediterranean': 4, 'Desserts': 2, 'Seafood': 2, 'Beverages': 1, 'Goan': 1, 'Healthy Food': 1, 'Lebanese': 1, 'American': 2, 'Ice Cream': 1, 'Street Food': 1, 'Fast Food': 2, 'BBQ': 1, 'Italian': 1, 'Finger Food': 1, 'Burger': 1}\n",
            "{'Chinese': 9, 'Continental': 6, 'Kebab': 3, 'European': 2, 'South Indian': 3, 'North Indian': 16, 'Biryani': 3, 'Asian': 3, 'Mediterranean': 4, 'Desserts': 2, 'Seafood': 2, 'Beverages': 1, 'Goan': 1, 'Healthy Food': 1, 'Lebanese': 1, 'American': 2, 'Ice Cream': 1, 'Street Food': 1, 'Fast Food': 2, 'BBQ': 1, 'Italian': 1, 'Finger Food': 1, 'Burger': 1}\n",
            "{'Chinese': 9, 'Continental': 6, 'Kebab': 3, 'European': 2, 'South Indian': 3, 'North Indian': 17, 'Biryani': 3, 'Asian': 3, 'Mediterranean': 4, 'Desserts': 2, 'Seafood': 2, 'Beverages': 1, 'Goan': 1, 'Healthy Food': 1, 'Lebanese': 1, 'American': 2, 'Ice Cream': 1, 'Street Food': 1, 'Fast Food': 2, 'BBQ': 1, 'Italian': 1, 'Finger Food': 1, 'Burger': 1}\n",
            "{'Chinese': 9, 'Continental': 6, 'Kebab': 3, 'European': 2, 'South Indian': 3, 'North Indian': 18, 'Biryani': 3, 'Asian': 3, 'Mediterranean': 4, 'Desserts': 2, 'Seafood': 2, 'Beverages': 1, 'Goan': 1, 'Healthy Food': 1, 'Lebanese': 1, 'American': 2, 'Ice Cream': 1, 'Street Food': 1, 'Fast Food': 2, 'BBQ': 1, 'Italian': 1, 'Finger Food': 1, 'Burger': 1}\n",
            "{'Chinese': 9, 'Continental': 6, 'Kebab': 3, 'European': 2, 'South Indian': 3, 'North Indian': 18, 'Biryani': 3, 'Asian': 3, 'Mediterranean': 4, 'Desserts': 2, 'Seafood': 2, 'Beverages': 1, 'Goan': 1, 'Healthy Food': 1, 'Lebanese': 1, 'American': 2, 'Ice Cream': 1, 'Street Food': 1, 'Fast Food': 2, 'BBQ': 1, 'Italian': 2, 'Finger Food': 1, 'Burger': 1, 'Japanese': 1}\n",
            "{'Chinese': 9, 'Continental': 6, 'Kebab': 3, 'European': 2, 'South Indian': 3, 'North Indian': 18, 'Biryani': 3, 'Asian': 3, 'Mediterranean': 4, 'Desserts': 2, 'Seafood': 2, 'Beverages': 1, 'Goan': 1, 'Healthy Food': 1, 'Lebanese': 1, 'American': 3, 'Ice Cream': 1, 'Street Food': 1, 'Fast Food': 2, 'BBQ': 1, 'Italian': 2, 'Finger Food': 1, 'Burger': 1, 'Japanese': 1, 'Salad': 1, 'Sushi': 1}\n",
            "{'Chinese': 9, 'Continental': 6, 'Kebab': 3, 'European': 2, 'South Indian': 3, 'North Indian': 18, 'Biryani': 3, 'Asian': 3, 'Mediterranean': 4, 'Desserts': 2, 'Seafood': 2, 'Beverages': 1, 'Goan': 1, 'Healthy Food': 1, 'Lebanese': 1, 'American': 3, 'Ice Cream': 2, 'Street Food': 1, 'Fast Food': 2, 'BBQ': 1, 'Italian': 2, 'Finger Food': 1, 'Burger': 1, 'Japanese': 1, 'Salad': 1, 'Sushi': 1}\n",
            "{'Chinese': 9, 'Continental': 6, 'Kebab': 3, 'European': 2, 'South Indian': 3, 'North Indian': 18, 'Biryani': 3, 'Asian': 3, 'Mediterranean': 4, 'Desserts': 3, 'Seafood': 2, 'Beverages': 1, 'Goan': 1, 'Healthy Food': 1, 'Lebanese': 1, 'American': 3, 'Ice Cream': 2, 'Street Food': 1, 'Fast Food': 2, 'BBQ': 1, 'Italian': 2, 'Finger Food': 1, 'Burger': 1, 'Japanese': 1, 'Salad': 1, 'Sushi': 1}\n",
            "{'Chinese': 9, 'Continental': 6, 'Kebab': 3, 'European': 2, 'South Indian': 3, 'North Indian': 19, 'Biryani': 3, 'Asian': 3, 'Mediterranean': 4, 'Desserts': 3, 'Seafood': 2, 'Beverages': 1, 'Goan': 1, 'Healthy Food': 1, 'Lebanese': 1, 'American': 3, 'Ice Cream': 2, 'Street Food': 1, 'Fast Food': 2, 'BBQ': 1, 'Italian': 2, 'Finger Food': 1, 'Burger': 1, 'Japanese': 1, 'Salad': 1, 'Sushi': 1}\n",
            "{'Chinese': 10, 'Continental': 6, 'Kebab': 3, 'European': 2, 'South Indian': 3, 'North Indian': 19, 'Biryani': 3, 'Asian': 3, 'Mediterranean': 4, 'Desserts': 3, 'Seafood': 2, 'Beverages': 1, 'Goan': 1, 'Healthy Food': 1, 'Lebanese': 1, 'American': 3, 'Ice Cream': 2, 'Street Food': 1, 'Fast Food': 2, 'BBQ': 1, 'Italian': 2, 'Finger Food': 1, 'Burger': 1, 'Japanese': 1, 'Salad': 1, 'Sushi': 1}\n",
            "{'Chinese': 10, 'Continental': 7, 'Kebab': 3, 'European': 2, 'South Indian': 3, 'North Indian': 19, 'Biryani': 3, 'Asian': 3, 'Mediterranean': 4, 'Desserts': 3, 'Seafood': 2, 'Beverages': 1, 'Goan': 1, 'Healthy Food': 1, 'Lebanese': 1, 'American': 3, 'Ice Cream': 2, 'Street Food': 1, 'Fast Food': 2, 'BBQ': 1, 'Italian': 2, 'Finger Food': 1, 'Burger': 1, 'Japanese': 1, 'Salad': 1, 'Sushi': 1}\n",
            "{'Chinese': 10, 'Continental': 8, 'Kebab': 3, 'European': 2, 'South Indian': 3, 'North Indian': 19, 'Biryani': 3, 'Asian': 3, 'Mediterranean': 4, 'Desserts': 3, 'Seafood': 2, 'Beverages': 1, 'Goan': 1, 'Healthy Food': 1, 'Lebanese': 1, 'American': 3, 'Ice Cream': 2, 'Street Food': 1, 'Fast Food': 2, 'BBQ': 1, 'Italian': 2, 'Finger Food': 1, 'Burger': 1, 'Japanese': 1, 'Salad': 1, 'Sushi': 1}\n",
            "{'Chinese': 10, 'Continental': 8, 'Kebab': 3, 'European': 2, 'South Indian': 3, 'North Indian': 19, 'Biryani': 3, 'Asian': 3, 'Mediterranean': 4, 'Desserts': 3, 'Seafood': 2, 'Beverages': 1, 'Goan': 1, 'Healthy Food': 1, 'Lebanese': 1, 'American': 3, 'Ice Cream': 2, 'Street Food': 1, 'Fast Food': 2, 'BBQ': 1, 'Italian': 3, 'Finger Food': 1, 'Burger': 1, 'Japanese': 1, 'Salad': 1, 'Sushi': 1, 'Mexican': 1}\n",
            "{'Chinese': 10, 'Continental': 8, 'Kebab': 3, 'European': 2, 'South Indian': 3, 'North Indian': 20, 'Biryani': 3, 'Asian': 3, 'Mediterranean': 4, 'Desserts': 3, 'Seafood': 2, 'Beverages': 1, 'Goan': 1, 'Healthy Food': 1, 'Lebanese': 1, 'American': 3, 'Ice Cream': 2, 'Street Food': 1, 'Fast Food': 2, 'BBQ': 1, 'Italian': 3, 'Finger Food': 1, 'Burger': 1, 'Japanese': 1, 'Salad': 1, 'Sushi': 1, 'Mexican': 1}\n",
            "{'Chinese': 11, 'Continental': 8, 'Kebab': 3, 'European': 2, 'South Indian': 3, 'North Indian': 20, 'Biryani': 3, 'Asian': 3, 'Mediterranean': 4, 'Desserts': 3, 'Seafood': 2, 'Beverages': 1, 'Goan': 1, 'Healthy Food': 1, 'Lebanese': 1, 'American': 3, 'Ice Cream': 2, 'Street Food': 1, 'Fast Food': 2, 'BBQ': 1, 'Italian': 3, 'Finger Food': 1, 'Burger': 1, 'Japanese': 1, 'Salad': 1, 'Sushi': 1, 'Mexican': 1}\n",
            "{'Chinese': 11, 'Continental': 8, 'Kebab': 3, 'European': 2, 'South Indian': 3, 'North Indian': 20, 'Biryani': 3, 'Asian': 3, 'Mediterranean': 4, 'Desserts': 3, 'Seafood': 2, 'Beverages': 1, 'Goan': 1, 'Healthy Food': 1, 'Lebanese': 1, 'American': 3, 'Ice Cream': 2, 'Street Food': 1, 'Fast Food': 2, 'BBQ': 1, 'Italian': 3, 'Finger Food': 1, 'Burger': 1, 'Japanese': 1, 'Salad': 2, 'Sushi': 1, 'Mexican': 1}\n",
            "{'Chinese': 11, 'Continental': 8, 'Kebab': 3, 'European': 2, 'South Indian': 3, 'North Indian': 21, 'Biryani': 3, 'Asian': 3, 'Mediterranean': 4, 'Desserts': 3, 'Seafood': 2, 'Beverages': 1, 'Goan': 1, 'Healthy Food': 1, 'Lebanese': 1, 'American': 3, 'Ice Cream': 2, 'Street Food': 1, 'Fast Food': 2, 'BBQ': 1, 'Italian': 3, 'Finger Food': 1, 'Burger': 1, 'Japanese': 1, 'Salad': 2, 'Sushi': 1, 'Mexican': 1}\n",
            "{'Chinese': 11, 'Continental': 8, 'Kebab': 3, 'European': 2, 'South Indian': 3, 'North Indian': 21, 'Biryani': 3, 'Asian': 3, 'Mediterranean': 5, 'Desserts': 3, 'Seafood': 2, 'Beverages': 1, 'Goan': 1, 'Healthy Food': 1, 'Lebanese': 1, 'American': 3, 'Ice Cream': 2, 'Street Food': 1, 'Fast Food': 2, 'BBQ': 1, 'Italian': 3, 'Finger Food': 1, 'Burger': 1, 'Japanese': 1, 'Salad': 2, 'Sushi': 1, 'Mexican': 1}\n",
            "{'Chinese': 11, 'Continental': 8, 'Kebab': 3, 'European': 3, 'South Indian': 3, 'North Indian': 21, 'Biryani': 3, 'Asian': 3, 'Mediterranean': 5, 'Desserts': 3, 'Seafood': 2, 'Beverages': 1, 'Goan': 1, 'Healthy Food': 1, 'Lebanese': 1, 'American': 3, 'Ice Cream': 2, 'Street Food': 1, 'Fast Food': 2, 'BBQ': 1, 'Italian': 3, 'Finger Food': 1, 'Burger': 1, 'Japanese': 1, 'Salad': 2, 'Sushi': 1, 'Mexican': 1}\n",
            "{'Chinese': 11, 'Continental': 8, 'Kebab': 3, 'European': 3, 'South Indian': 3, 'North Indian': 21, 'Biryani': 4, 'Asian': 3, 'Mediterranean': 5, 'Desserts': 3, 'Seafood': 2, 'Beverages': 1, 'Goan': 1, 'Healthy Food': 1, 'Lebanese': 1, 'American': 3, 'Ice Cream': 2, 'Street Food': 1, 'Fast Food': 2, 'BBQ': 1, 'Italian': 3, 'Finger Food': 1, 'Burger': 1, 'Japanese': 1, 'Salad': 2, 'Sushi': 1, 'Mexican': 1, 'Mughlai': 1}\n",
            "{'Chinese': 11, 'Continental': 8, 'Kebab': 3, 'European': 3, 'South Indian': 3, 'North Indian': 21, 'Biryani': 4, 'Asian': 3, 'Mediterranean': 5, 'Desserts': 3, 'Seafood': 2, 'Beverages': 1, 'Goan': 1, 'Healthy Food': 1, 'Lebanese': 1, 'American': 3, 'Ice Cream': 2, 'Street Food': 1, 'Fast Food': 3, 'BBQ': 1, 'Italian': 3, 'Finger Food': 1, 'Burger': 1, 'Japanese': 1, 'Salad': 2, 'Sushi': 1, 'Mexican': 1, 'Mughlai': 1}\n",
            "{'Chinese': 11, 'Continental': 8, 'Kebab': 3, 'European': 3, 'South Indian': 4, 'North Indian': 21, 'Biryani': 4, 'Asian': 3, 'Mediterranean': 5, 'Desserts': 3, 'Seafood': 2, 'Beverages': 1, 'Goan': 1, 'Healthy Food': 1, 'Lebanese': 1, 'American': 3, 'Ice Cream': 2, 'Street Food': 1, 'Fast Food': 3, 'BBQ': 1, 'Italian': 3, 'Finger Food': 1, 'Burger': 1, 'Japanese': 1, 'Salad': 2, 'Sushi': 1, 'Mexican': 1, 'Mughlai': 1, 'Andhra': 1}\n",
            "{'Chinese': 11, 'Continental': 8, 'Kebab': 3, 'European': 3, 'South Indian': 4, 'North Indian': 22, 'Biryani': 4, 'Asian': 3, 'Mediterranean': 5, 'Desserts': 3, 'Seafood': 2, 'Beverages': 1, 'Goan': 1, 'Healthy Food': 1, 'Lebanese': 1, 'American': 3, 'Ice Cream': 2, 'Street Food': 1, 'Fast Food': 3, 'BBQ': 1, 'Italian': 3, 'Finger Food': 1, 'Burger': 1, 'Japanese': 1, 'Salad': 2, 'Sushi': 1, 'Mexican': 1, 'Mughlai': 1, 'Andhra': 1}\n",
            "{'Chinese': 11, 'Continental': 8, 'Kebab': 3, 'European': 3, 'South Indian': 4, 'North Indian': 23, 'Biryani': 4, 'Asian': 3, 'Mediterranean': 5, 'Desserts': 3, 'Seafood': 2, 'Beverages': 1, 'Goan': 1, 'Healthy Food': 1, 'Lebanese': 1, 'American': 3, 'Ice Cream': 2, 'Street Food': 1, 'Fast Food': 3, 'BBQ': 1, 'Italian': 3, 'Finger Food': 1, 'Burger': 1, 'Japanese': 1, 'Salad': 2, 'Sushi': 1, 'Mexican': 1, 'Mughlai': 1, 'Andhra': 1, 'Bakery': 1}\n",
            "{'Chinese': 11, 'Continental': 8, 'Kebab': 3, 'European': 3, 'South Indian': 4, 'North Indian': 23, 'Biryani': 4, 'Asian': 3, 'Mediterranean': 5, 'Desserts': 3, 'Seafood': 2, 'Beverages': 1, 'Goan': 1, 'Healthy Food': 1, 'Lebanese': 1, 'American': 3, 'Ice Cream': 2, 'Street Food': 1, 'Fast Food': 3, 'BBQ': 1, 'Italian': 3, 'Finger Food': 1, 'Burger': 1, 'Japanese': 1, 'Salad': 2, 'Sushi': 1, 'Mexican': 1, 'Mughlai': 2, 'Andhra': 1, 'Bakery': 1}\n",
            "{'Chinese': 12, 'Continental': 8, 'Kebab': 3, 'European': 3, 'South Indian': 4, 'North Indian': 23, 'Biryani': 4, 'Asian': 3, 'Mediterranean': 5, 'Desserts': 3, 'Seafood': 2, 'Beverages': 1, 'Goan': 1, 'Healthy Food': 1, 'Lebanese': 1, 'American': 3, 'Ice Cream': 2, 'Street Food': 1, 'Fast Food': 3, 'BBQ': 1, 'Italian': 3, 'Finger Food': 1, 'Burger': 1, 'Japanese': 1, 'Salad': 2, 'Sushi': 1, 'Mexican': 1, 'Mughlai': 2, 'Andhra': 1, 'Bakery': 1, 'Juices': 1}\n",
            "{'Chinese': 12, 'Continental': 8, 'Kebab': 3, 'European': 3, 'South Indian': 4, 'North Indian': 24, 'Biryani': 4, 'Asian': 3, 'Mediterranean': 5, 'Desserts': 3, 'Seafood': 2, 'Beverages': 1, 'Goan': 1, 'Healthy Food': 1, 'Lebanese': 1, 'American': 3, 'Ice Cream': 2, 'Street Food': 1, 'Fast Food': 3, 'BBQ': 1, 'Italian': 3, 'Finger Food': 1, 'Burger': 1, 'Japanese': 1, 'Salad': 2, 'Sushi': 1, 'Mexican': 1, 'Mughlai': 2, 'Andhra': 1, 'Bakery': 1, 'Juices': 1, 'Arabian': 1}\n",
            "{'Chinese': 13, 'Continental': 8, 'Kebab': 3, 'European': 3, 'South Indian': 4, 'North Indian': 24, 'Biryani': 4, 'Asian': 3, 'Mediterranean': 5, 'Desserts': 3, 'Seafood': 2, 'Beverages': 1, 'Goan': 1, 'Healthy Food': 1, 'Lebanese': 1, 'American': 3, 'Ice Cream': 2, 'Street Food': 1, 'Fast Food': 3, 'BBQ': 1, 'Italian': 3, 'Finger Food': 1, 'Burger': 1, 'Japanese': 1, 'Salad': 2, 'Sushi': 1, 'Mexican': 1, 'Mughlai': 2, 'Andhra': 1, 'Bakery': 1, 'Juices': 1, 'Arabian': 1}\n",
            "{'Chinese': 13, 'Continental': 8, 'Kebab': 3, 'European': 3, 'South Indian': 4, 'North Indian': 25, 'Biryani': 4, 'Asian': 3, 'Mediterranean': 5, 'Desserts': 3, 'Seafood': 2, 'Beverages': 1, 'Goan': 1, 'Healthy Food': 1, 'Lebanese': 1, 'American': 3, 'Ice Cream': 2, 'Street Food': 1, 'Fast Food': 3, 'BBQ': 1, 'Italian': 3, 'Finger Food': 1, 'Burger': 1, 'Japanese': 1, 'Salad': 2, 'Sushi': 1, 'Mexican': 1, 'Mughlai': 2, 'Andhra': 1, 'Bakery': 1, 'Juices': 1, 'Arabian': 1}\n",
            "{'Chinese': 13, 'Continental': 8, 'Kebab': 3, 'European': 3, 'South Indian': 4, 'North Indian': 25, 'Biryani': 4, 'Asian': 3, 'Mediterranean': 5, 'Desserts': 3, 'Seafood': 2, 'Beverages': 1, 'Goan': 1, 'Healthy Food': 1, 'Lebanese': 1, 'American': 3, 'Ice Cream': 2, 'Street Food': 1, 'Fast Food': 4, 'BBQ': 1, 'Italian': 3, 'Finger Food': 1, 'Burger': 1, 'Japanese': 1, 'Salad': 2, 'Sushi': 1, 'Mexican': 1, 'Mughlai': 2, 'Andhra': 1, 'Bakery': 1, 'Juices': 1, 'Arabian': 1}\n",
            "{'Chinese': 13, 'Continental': 8, 'Kebab': 3, 'European': 3, 'South Indian': 4, 'North Indian': 25, 'Biryani': 4, 'Asian': 3, 'Mediterranean': 5, 'Desserts': 3, 'Seafood': 2, 'Beverages': 1, 'Goan': 1, 'Healthy Food': 1, 'Lebanese': 1, 'American': 3, 'Ice Cream': 2, 'Street Food': 1, 'Fast Food': 4, 'BBQ': 1, 'Italian': 4, 'Finger Food': 1, 'Burger': 1, 'Japanese': 1, 'Salad': 2, 'Sushi': 1, 'Mexican': 1, 'Mughlai': 2, 'Andhra': 1, 'Bakery': 1, 'Juices': 1, 'Arabian': 1}\n",
            "{'Chinese': 13, 'Continental': 8, 'Kebab': 3, 'European': 3, 'South Indian': 4, 'North Indian': 26, 'Biryani': 4, 'Asian': 3, 'Mediterranean': 5, 'Desserts': 3, 'Seafood': 2, 'Beverages': 1, 'Goan': 1, 'Healthy Food': 1, 'Lebanese': 1, 'American': 3, 'Ice Cream': 2, 'Street Food': 1, 'Fast Food': 4, 'BBQ': 1, 'Italian': 4, 'Finger Food': 1, 'Burger': 1, 'Japanese': 1, 'Salad': 2, 'Sushi': 1, 'Mexican': 1, 'Mughlai': 2, 'Andhra': 1, 'Bakery': 1, 'Juices': 1, 'Arabian': 1}\n",
            "{'Chinese': 13, 'Continental': 8, 'Kebab': 3, 'European': 3, 'South Indian': 5, 'North Indian': 26, 'Biryani': 4, 'Asian': 3, 'Mediterranean': 5, 'Desserts': 3, 'Seafood': 2, 'Beverages': 1, 'Goan': 1, 'Healthy Food': 1, 'Lebanese': 1, 'American': 3, 'Ice Cream': 2, 'Street Food': 1, 'Fast Food': 4, 'BBQ': 1, 'Italian': 4, 'Finger Food': 1, 'Burger': 1, 'Japanese': 1, 'Salad': 2, 'Sushi': 1, 'Mexican': 1, 'Mughlai': 2, 'Andhra': 1, 'Bakery': 1, 'Juices': 1, 'Arabian': 1}\n",
            "{'Chinese': 13, 'Continental': 8, 'Kebab': 3, 'European': 3, 'South Indian': 5, 'North Indian': 26, 'Biryani': 4, 'Asian': 4, 'Mediterranean': 5, 'Desserts': 3, 'Seafood': 2, 'Beverages': 1, 'Goan': 1, 'Healthy Food': 1, 'Lebanese': 1, 'American': 3, 'Ice Cream': 2, 'Street Food': 1, 'Fast Food': 4, 'BBQ': 1, 'Italian': 4, 'Finger Food': 1, 'Burger': 1, 'Japanese': 1, 'Salad': 2, 'Sushi': 1, 'Mexican': 1, 'Mughlai': 2, 'Andhra': 1, 'Bakery': 1, 'Juices': 1, 'Arabian': 1}\n",
            "{'Chinese': 13, 'Continental': 8, 'Kebab': 3, 'European': 3, 'South Indian': 5, 'North Indian': 27, 'Biryani': 4, 'Asian': 4, 'Mediterranean': 5, 'Desserts': 3, 'Seafood': 2, 'Beverages': 1, 'Goan': 1, 'Healthy Food': 1, 'Lebanese': 1, 'American': 3, 'Ice Cream': 2, 'Street Food': 1, 'Fast Food': 4, 'BBQ': 1, 'Italian': 4, 'Finger Food': 1, 'Burger': 1, 'Japanese': 1, 'Salad': 2, 'Sushi': 1, 'Mexican': 1, 'Mughlai': 2, 'Andhra': 1, 'Bakery': 1, 'Juices': 1, 'Arabian': 1}\n",
            "{'Chinese': 14, 'Continental': 8, 'Kebab': 3, 'European': 3, 'South Indian': 5, 'North Indian': 27, 'Biryani': 4, 'Asian': 4, 'Mediterranean': 5, 'Desserts': 3, 'Seafood': 2, 'Beverages': 1, 'Goan': 1, 'Healthy Food': 1, 'Lebanese': 1, 'American': 3, 'Ice Cream': 2, 'Street Food': 1, 'Fast Food': 4, 'BBQ': 1, 'Italian': 4, 'Finger Food': 1, 'Burger': 1, 'Japanese': 1, 'Salad': 2, 'Sushi': 1, 'Mexican': 1, 'Mughlai': 2, 'Andhra': 1, 'Bakery': 1, 'Juices': 1, 'Arabian': 1}\n",
            "{'Chinese': 14, 'Continental': 8, 'Kebab': 3, 'European': 3, 'South Indian': 5, 'North Indian': 27, 'Biryani': 5, 'Asian': 4, 'Mediterranean': 5, 'Desserts': 3, 'Seafood': 2, 'Beverages': 1, 'Goan': 1, 'Healthy Food': 1, 'Lebanese': 1, 'American': 3, 'Ice Cream': 2, 'Street Food': 1, 'Fast Food': 4, 'BBQ': 1, 'Italian': 4, 'Finger Food': 1, 'Burger': 1, 'Japanese': 1, 'Salad': 2, 'Sushi': 1, 'Mexican': 1, 'Mughlai': 2, 'Andhra': 1, 'Bakery': 1, 'Juices': 1, 'Arabian': 1}\n",
            "{'Chinese': 14, 'Continental': 8, 'Kebab': 3, 'European': 3, 'South Indian': 5, 'North Indian': 27, 'Biryani': 6, 'Asian': 4, 'Mediterranean': 5, 'Desserts': 3, 'Seafood': 2, 'Beverages': 1, 'Goan': 1, 'Healthy Food': 1, 'Lebanese': 1, 'American': 3, 'Ice Cream': 2, 'Street Food': 1, 'Fast Food': 4, 'BBQ': 1, 'Italian': 4, 'Finger Food': 1, 'Burger': 1, 'Japanese': 1, 'Salad': 2, 'Sushi': 1, 'Mexican': 1, 'Mughlai': 2, 'Andhra': 1, 'Bakery': 1, 'Juices': 1, 'Arabian': 1}\n",
            "{'Chinese': 14, 'Continental': 8, 'Kebab': 3, 'European': 3, 'South Indian': 6, 'North Indian': 27, 'Biryani': 6, 'Asian': 4, 'Mediterranean': 5, 'Desserts': 3, 'Seafood': 2, 'Beverages': 1, 'Goan': 1, 'Healthy Food': 1, 'Lebanese': 1, 'American': 3, 'Ice Cream': 2, 'Street Food': 1, 'Fast Food': 4, 'BBQ': 1, 'Italian': 4, 'Finger Food': 1, 'Burger': 1, 'Japanese': 1, 'Salad': 2, 'Sushi': 1, 'Mexican': 1, 'Mughlai': 2, 'Andhra': 1, 'Bakery': 1, 'Juices': 1, 'Arabian': 1}\n",
            "{'Chinese': 14, 'Continental': 8, 'Kebab': 3, 'European': 3, 'South Indian': 6, 'North Indian': 28, 'Biryani': 6, 'Asian': 4, 'Mediterranean': 5, 'Desserts': 3, 'Seafood': 2, 'Beverages': 1, 'Goan': 1, 'Healthy Food': 1, 'Lebanese': 1, 'American': 3, 'Ice Cream': 2, 'Street Food': 1, 'Fast Food': 4, 'BBQ': 1, 'Italian': 4, 'Finger Food': 1, 'Burger': 1, 'Japanese': 1, 'Salad': 2, 'Sushi': 1, 'Mexican': 1, 'Mughlai': 2, 'Andhra': 1, 'Bakery': 1, 'Juices': 1, 'Arabian': 1}\n",
            "{'Chinese': 15, 'Continental': 8, 'Kebab': 3, 'European': 3, 'South Indian': 6, 'North Indian': 28, 'Biryani': 6, 'Asian': 4, 'Mediterranean': 5, 'Desserts': 3, 'Seafood': 2, 'Beverages': 1, 'Goan': 1, 'Healthy Food': 1, 'Lebanese': 1, 'American': 3, 'Ice Cream': 2, 'Street Food': 1, 'Fast Food': 4, 'BBQ': 1, 'Italian': 4, 'Finger Food': 1, 'Burger': 1, 'Japanese': 1, 'Salad': 2, 'Sushi': 1, 'Mexican': 1, 'Mughlai': 2, 'Andhra': 1, 'Bakery': 1, 'Juices': 1, 'Arabian': 1}\n",
            "{'Chinese': 15, 'Continental': 8, 'Kebab': 3, 'European': 3, 'South Indian': 6, 'North Indian': 28, 'Biryani': 6, 'Asian': 4, 'Mediterranean': 5, 'Desserts': 3, 'Seafood': 2, 'Beverages': 1, 'Goan': 1, 'Healthy Food': 1, 'Lebanese': 1, 'American': 3, 'Ice Cream': 2, 'Street Food': 1, 'Fast Food': 4, 'BBQ': 1, 'Italian': 4, 'Finger Food': 1, 'Burger': 1, 'Japanese': 1, 'Salad': 2, 'Sushi': 1, 'Mexican': 1, 'Mughlai': 2, 'Andhra': 2, 'Bakery': 1, 'Juices': 1, 'Arabian': 1}\n",
            "{'Chinese': 15, 'Continental': 8, 'Kebab': 3, 'European': 3, 'South Indian': 6, 'North Indian': 28, 'Biryani': 6, 'Asian': 4, 'Mediterranean': 5, 'Desserts': 3, 'Seafood': 2, 'Beverages': 1, 'Goan': 1, 'Healthy Food': 1, 'Lebanese': 1, 'American': 3, 'Ice Cream': 2, 'Street Food': 1, 'Fast Food': 4, 'BBQ': 1, 'Italian': 4, 'Finger Food': 1, 'Burger': 1, 'Japanese': 1, 'Salad': 2, 'Sushi': 1, 'Mexican': 1, 'Mughlai': 2, 'Andhra': 3, 'Bakery': 1, 'Juices': 1, 'Arabian': 1}\n",
            "{'Chinese': 15, 'Continental': 8, 'Kebab': 3, 'European': 3, 'South Indian': 6, 'North Indian': 28, 'Biryani': 7, 'Asian': 4, 'Mediterranean': 5, 'Desserts': 3, 'Seafood': 2, 'Beverages': 1, 'Goan': 1, 'Healthy Food': 1, 'Lebanese': 1, 'American': 3, 'Ice Cream': 2, 'Street Food': 1, 'Fast Food': 4, 'BBQ': 1, 'Italian': 4, 'Finger Food': 1, 'Burger': 1, 'Japanese': 1, 'Salad': 2, 'Sushi': 1, 'Mexican': 1, 'Mughlai': 2, 'Andhra': 3, 'Bakery': 1, 'Juices': 1, 'Arabian': 1}\n",
            "{'Chinese': 15, 'Continental': 8, 'Kebab': 3, 'European': 3, 'South Indian': 6, 'North Indian': 29, 'Biryani': 7, 'Asian': 4, 'Mediterranean': 5, 'Desserts': 3, 'Seafood': 2, 'Beverages': 1, 'Goan': 1, 'Healthy Food': 1, 'Lebanese': 1, 'American': 3, 'Ice Cream': 2, 'Street Food': 1, 'Fast Food': 4, 'BBQ': 1, 'Italian': 4, 'Finger Food': 1, 'Burger': 1, 'Japanese': 1, 'Salad': 2, 'Sushi': 1, 'Mexican': 1, 'Mughlai': 2, 'Andhra': 3, 'Bakery': 1, 'Juices': 1, 'Arabian': 1, 'Hyderabadi': 1}\n",
            "{'Chinese': 15, 'Continental': 8, 'Kebab': 3, 'European': 3, 'South Indian': 6, 'North Indian': 30, 'Biryani': 7, 'Asian': 4, 'Mediterranean': 5, 'Desserts': 3, 'Seafood': 2, 'Beverages': 1, 'Goan': 1, 'Healthy Food': 1, 'Lebanese': 1, 'American': 3, 'Ice Cream': 2, 'Street Food': 1, 'Fast Food': 4, 'BBQ': 1, 'Italian': 4, 'Finger Food': 1, 'Burger': 1, 'Japanese': 1, 'Salad': 2, 'Sushi': 1, 'Mexican': 1, 'Mughlai': 2, 'Andhra': 3, 'Bakery': 1, 'Juices': 1, 'Arabian': 1, 'Hyderabadi': 1}\n",
            "{'Chinese': 15, 'Continental': 9, 'Kebab': 3, 'European': 3, 'South Indian': 6, 'North Indian': 30, 'Biryani': 7, 'Asian': 4, 'Mediterranean': 5, 'Desserts': 3, 'Seafood': 2, 'Beverages': 1, 'Goan': 1, 'Healthy Food': 1, 'Lebanese': 1, 'American': 3, 'Ice Cream': 2, 'Street Food': 1, 'Fast Food': 4, 'BBQ': 1, 'Italian': 4, 'Finger Food': 1, 'Burger': 1, 'Japanese': 1, 'Salad': 2, 'Sushi': 1, 'Mexican': 1, 'Mughlai': 2, 'Andhra': 3, 'Bakery': 1, 'Juices': 1, 'Arabian': 1, 'Hyderabadi': 1}\n",
            "{'Chinese': 15, 'Continental': 9, 'Kebab': 3, 'European': 3, 'South Indian': 6, 'North Indian': 30, 'Biryani': 7, 'Asian': 4, 'Mediterranean': 5, 'Desserts': 3, 'Seafood': 2, 'Beverages': 1, 'Goan': 1, 'Healthy Food': 1, 'Lebanese': 1, 'American': 3, 'Ice Cream': 2, 'Street Food': 1, 'Fast Food': 4, 'BBQ': 1, 'Italian': 5, 'Finger Food': 1, 'Burger': 1, 'Japanese': 1, 'Salad': 2, 'Sushi': 1, 'Mexican': 1, 'Mughlai': 2, 'Andhra': 3, 'Bakery': 1, 'Juices': 1, 'Arabian': 1, 'Hyderabadi': 1}\n",
            "{'Chinese': 15, 'Continental': 9, 'Kebab': 3, 'European': 3, 'South Indian': 6, 'North Indian': 30, 'Biryani': 7, 'Asian': 5, 'Mediterranean': 5, 'Desserts': 3, 'Seafood': 2, 'Beverages': 1, 'Goan': 1, 'Healthy Food': 1, 'Lebanese': 1, 'American': 3, 'Ice Cream': 2, 'Street Food': 1, 'Fast Food': 4, 'BBQ': 1, 'Italian': 5, 'Finger Food': 1, 'Burger': 1, 'Japanese': 1, 'Salad': 2, 'Sushi': 1, 'Mexican': 1, 'Mughlai': 2, 'Andhra': 3, 'Bakery': 1, 'Juices': 1, 'Arabian': 1, 'Hyderabadi': 1}\n",
            "{'Chinese': 15, 'Continental': 10, 'Kebab': 3, 'European': 3, 'South Indian': 6, 'North Indian': 30, 'Biryani': 7, 'Asian': 5, 'Mediterranean': 5, 'Desserts': 3, 'Seafood': 2, 'Beverages': 1, 'Goan': 1, 'Healthy Food': 1, 'Lebanese': 1, 'American': 3, 'Ice Cream': 2, 'Street Food': 1, 'Fast Food': 4, 'BBQ': 1, 'Italian': 5, 'Finger Food': 1, 'Burger': 1, 'Japanese': 1, 'Salad': 2, 'Sushi': 1, 'Mexican': 1, 'Mughlai': 2, 'Andhra': 3, 'Bakery': 1, 'Juices': 1, 'Arabian': 1, 'Hyderabadi': 1, 'Cafe': 1}\n",
            "{'Chinese': 15, 'Continental': 10, 'Kebab': 3, 'European': 3, 'South Indian': 6, 'North Indian': 30, 'Biryani': 7, 'Asian': 5, 'Mediterranean': 5, 'Desserts': 4, 'Seafood': 2, 'Beverages': 1, 'Goan': 1, 'Healthy Food': 1, 'Lebanese': 1, 'American': 3, 'Ice Cream': 2, 'Street Food': 1, 'Fast Food': 4, 'BBQ': 1, 'Italian': 5, 'Finger Food': 1, 'Burger': 1, 'Japanese': 1, 'Salad': 2, 'Sushi': 1, 'Mexican': 1, 'Mughlai': 2, 'Andhra': 3, 'Bakery': 1, 'Juices': 1, 'Arabian': 1, 'Hyderabadi': 1, 'Cafe': 1}\n",
            "{'Chinese': 15, 'Continental': 10, 'Kebab': 3, 'European': 4, 'South Indian': 6, 'North Indian': 30, 'Biryani': 7, 'Asian': 5, 'Mediterranean': 5, 'Desserts': 4, 'Seafood': 2, 'Beverages': 1, 'Goan': 1, 'Healthy Food': 1, 'Lebanese': 1, 'American': 3, 'Ice Cream': 2, 'Street Food': 1, 'Fast Food': 4, 'BBQ': 1, 'Italian': 5, 'Finger Food': 1, 'Burger': 1, 'Japanese': 1, 'Salad': 2, 'Sushi': 1, 'Mexican': 1, 'Mughlai': 2, 'Andhra': 3, 'Bakery': 1, 'Juices': 1, 'Arabian': 1, 'Hyderabadi': 1, 'Cafe': 1}\n",
            "{'Chinese': 15, 'Continental': 10, 'Kebab': 3, 'European': 4, 'South Indian': 6, 'North Indian': 30, 'Biryani': 7, 'Asian': 5, 'Mediterranean': 5, 'Desserts': 4, 'Seafood': 2, 'Beverages': 1, 'Goan': 1, 'Healthy Food': 1, 'Lebanese': 1, 'American': 3, 'Ice Cream': 2, 'Street Food': 1, 'Fast Food': 4, 'BBQ': 1, 'Italian': 6, 'Finger Food': 1, 'Burger': 1, 'Japanese': 1, 'Salad': 2, 'Sushi': 1, 'Mexican': 1, 'Mughlai': 2, 'Andhra': 3, 'Bakery': 1, 'Juices': 1, 'Arabian': 1, 'Hyderabadi': 1, 'Cafe': 1}\n",
            "{'Chinese': 15, 'Continental': 11, 'Kebab': 3, 'European': 4, 'South Indian': 6, 'North Indian': 30, 'Biryani': 7, 'Asian': 5, 'Mediterranean': 5, 'Desserts': 4, 'Seafood': 2, 'Beverages': 1, 'Goan': 1, 'Healthy Food': 1, 'Lebanese': 1, 'American': 3, 'Ice Cream': 2, 'Street Food': 1, 'Fast Food': 4, 'BBQ': 1, 'Italian': 6, 'Finger Food': 1, 'Burger': 1, 'Japanese': 1, 'Salad': 2, 'Sushi': 1, 'Mexican': 1, 'Mughlai': 2, 'Andhra': 3, 'Bakery': 1, 'Juices': 1, 'Arabian': 1, 'Hyderabadi': 1, 'Cafe': 1}\n",
            "{'Chinese': 15, 'Continental': 11, 'Kebab': 3, 'European': 4, 'South Indian': 6, 'North Indian': 30, 'Biryani': 7, 'Asian': 5, 'Mediterranean': 5, 'Desserts': 4, 'Seafood': 2, 'Beverages': 1, 'Goan': 1, 'Healthy Food': 1, 'Lebanese': 1, 'American': 3, 'Ice Cream': 2, 'Street Food': 1, 'Fast Food': 4, 'BBQ': 1, 'Italian': 6, 'Finger Food': 1, 'Burger': 1, 'Japanese': 1, 'Salad': 2, 'Sushi': 1, 'Mexican': 1, 'Mughlai': 2, 'Andhra': 3, 'Bakery': 2, 'Juices': 1, 'Arabian': 1, 'Hyderabadi': 1, 'Cafe': 1, 'Spanish': 1}\n",
            "{'Chinese': 15, 'Continental': 11, 'Kebab': 3, 'European': 4, 'South Indian': 6, 'North Indian': 30, 'Biryani': 7, 'Asian': 5, 'Mediterranean': 5, 'Desserts': 4, 'Seafood': 2, 'Beverages': 1, 'Goan': 1, 'Healthy Food': 1, 'Lebanese': 1, 'American': 3, 'Ice Cream': 2, 'Street Food': 1, 'Fast Food': 5, 'BBQ': 1, 'Italian': 6, 'Finger Food': 1, 'Burger': 1, 'Japanese': 1, 'Salad': 2, 'Sushi': 1, 'Mexican': 1, 'Mughlai': 2, 'Andhra': 3, 'Bakery': 2, 'Juices': 1, 'Arabian': 1, 'Hyderabadi': 1, 'Cafe': 1, 'Spanish': 1}\n",
            "{'Chinese': 15, 'Continental': 11, 'Kebab': 3, 'European': 4, 'South Indian': 6, 'North Indian': 30, 'Biryani': 7, 'Asian': 5, 'Mediterranean': 5, 'Desserts': 5, 'Seafood': 2, 'Beverages': 1, 'Goan': 1, 'Healthy Food': 1, 'Lebanese': 1, 'American': 3, 'Ice Cream': 2, 'Street Food': 1, 'Fast Food': 5, 'BBQ': 1, 'Italian': 6, 'Finger Food': 1, 'Burger': 1, 'Japanese': 1, 'Salad': 2, 'Sushi': 1, 'Mexican': 1, 'Mughlai': 2, 'Andhra': 3, 'Bakery': 2, 'Juices': 1, 'Arabian': 1, 'Hyderabadi': 1, 'Cafe': 1, 'Spanish': 1}\n",
            "{'Chinese': 15, 'Continental': 11, 'Kebab': 3, 'European': 4, 'South Indian': 6, 'North Indian': 30, 'Biryani': 7, 'Asian': 5, 'Mediterranean': 5, 'Desserts': 5, 'Seafood': 2, 'Beverages': 1, 'Goan': 1, 'Healthy Food': 1, 'Lebanese': 1, 'American': 3, 'Ice Cream': 2, 'Street Food': 1, 'Fast Food': 5, 'BBQ': 1, 'Italian': 6, 'Finger Food': 1, 'Burger': 1, 'Japanese': 1, 'Salad': 2, 'Sushi': 1, 'Mexican': 1, 'Mughlai': 2, 'Andhra': 3, 'Bakery': 2, 'Juices': 1, 'Arabian': 1, 'Hyderabadi': 1, 'Cafe': 2, 'Spanish': 1}\n",
            "{'Chinese': 15, 'Continental': 11, 'Kebab': 3, 'European': 4, 'South Indian': 6, 'North Indian': 30, 'Biryani': 7, 'Asian': 5, 'Mediterranean': 5, 'Desserts': 6, 'Seafood': 2, 'Beverages': 1, 'Goan': 1, 'Healthy Food': 1, 'Lebanese': 1, 'American': 3, 'Ice Cream': 2, 'Street Food': 1, 'Fast Food': 5, 'BBQ': 1, 'Italian': 6, 'Finger Food': 1, 'Burger': 1, 'Japanese': 1, 'Salad': 2, 'Sushi': 1, 'Mexican': 1, 'Mughlai': 2, 'Andhra': 3, 'Bakery': 2, 'Juices': 1, 'Arabian': 1, 'Hyderabadi': 1, 'Cafe': 2, 'Spanish': 1}\n",
            "{'Chinese': 15, 'Continental': 11, 'Kebab': 3, 'European': 4, 'South Indian': 6, 'North Indian': 30, 'Biryani': 7, 'Asian': 5, 'Mediterranean': 5, 'Desserts': 6, 'Seafood': 2, 'Beverages': 1, 'Goan': 1, 'Healthy Food': 1, 'Lebanese': 1, 'American': 3, 'Ice Cream': 2, 'Street Food': 1, 'Fast Food': 6, 'BBQ': 1, 'Italian': 6, 'Finger Food': 1, 'Burger': 1, 'Japanese': 1, 'Salad': 2, 'Sushi': 1, 'Mexican': 1, 'Mughlai': 2, 'Andhra': 3, 'Bakery': 2, 'Juices': 1, 'Arabian': 1, 'Hyderabadi': 1, 'Cafe': 2, 'Spanish': 1}\n",
            "{'Chinese': 15, 'Continental': 11, 'Kebab': 3, 'European': 4, 'South Indian': 6, 'North Indian': 30, 'Biryani': 7, 'Asian': 5, 'Mediterranean': 5, 'Desserts': 6, 'Seafood': 2, 'Beverages': 1, 'Goan': 1, 'Healthy Food': 1, 'Lebanese': 1, 'American': 4, 'Ice Cream': 2, 'Street Food': 1, 'Fast Food': 6, 'BBQ': 1, 'Italian': 6, 'Finger Food': 1, 'Burger': 1, 'Japanese': 1, 'Salad': 2, 'Sushi': 1, 'Mexican': 1, 'Mughlai': 2, 'Andhra': 3, 'Bakery': 2, 'Juices': 1, 'Arabian': 1, 'Hyderabadi': 1, 'Cafe': 2, 'Spanish': 1}\n",
            "{'Chinese': 15, 'Continental': 11, 'Kebab': 3, 'European': 4, 'South Indian': 6, 'North Indian': 30, 'Biryani': 7, 'Asian': 5, 'Mediterranean': 5, 'Desserts': 7, 'Seafood': 2, 'Beverages': 1, 'Goan': 1, 'Healthy Food': 1, 'Lebanese': 1, 'American': 4, 'Ice Cream': 2, 'Street Food': 1, 'Fast Food': 6, 'BBQ': 1, 'Italian': 6, 'Finger Food': 1, 'Burger': 1, 'Japanese': 1, 'Salad': 2, 'Sushi': 1, 'Mexican': 1, 'Mughlai': 2, 'Andhra': 3, 'Bakery': 2, 'Juices': 1, 'Arabian': 1, 'Hyderabadi': 1, 'Cafe': 2, 'Spanish': 1, 'Wraps': 1}\n",
            "{'Chinese': 15, 'Continental': 11, 'Kebab': 3, 'European': 4, 'South Indian': 6, 'North Indian': 30, 'Biryani': 7, 'Asian': 5, 'Mediterranean': 5, 'Desserts': 7, 'Seafood': 2, 'Beverages': 1, 'Goan': 1, 'Healthy Food': 1, 'Lebanese': 1, 'American': 4, 'Ice Cream': 2, 'Street Food': 1, 'Fast Food': 6, 'BBQ': 1, 'Italian': 6, 'Finger Food': 2, 'Burger': 1, 'Japanese': 1, 'Salad': 2, 'Sushi': 1, 'Mexican': 1, 'Mughlai': 2, 'Andhra': 3, 'Bakery': 2, 'Juices': 1, 'Arabian': 1, 'Hyderabadi': 1, 'Cafe': 2, 'Spanish': 1, 'Wraps': 1}\n",
            "{'Chinese': 15, 'Continental': 11, 'Kebab': 3, 'European': 4, 'South Indian': 6, 'North Indian': 31, 'Biryani': 7, 'Asian': 5, 'Mediterranean': 5, 'Desserts': 7, 'Seafood': 2, 'Beverages': 1, 'Goan': 1, 'Healthy Food': 1, 'Lebanese': 1, 'American': 4, 'Ice Cream': 2, 'Street Food': 1, 'Fast Food': 6, 'BBQ': 1, 'Italian': 6, 'Finger Food': 2, 'Burger': 1, 'Japanese': 1, 'Salad': 2, 'Sushi': 1, 'Mexican': 1, 'Mughlai': 2, 'Andhra': 3, 'Bakery': 2, 'Juices': 1, 'Arabian': 1, 'Hyderabadi': 1, 'Cafe': 2, 'Spanish': 1, 'Wraps': 1}\n",
            "{'Chinese': 15, 'Continental': 11, 'Kebab': 4, 'European': 4, 'South Indian': 6, 'North Indian': 31, 'Biryani': 7, 'Asian': 5, 'Mediterranean': 5, 'Desserts': 7, 'Seafood': 2, 'Beverages': 1, 'Goan': 1, 'Healthy Food': 1, 'Lebanese': 1, 'American': 4, 'Ice Cream': 2, 'Street Food': 1, 'Fast Food': 6, 'BBQ': 1, 'Italian': 6, 'Finger Food': 2, 'Burger': 1, 'Japanese': 1, 'Salad': 2, 'Sushi': 1, 'Mexican': 1, 'Mughlai': 2, 'Andhra': 3, 'Bakery': 2, 'Juices': 1, 'Arabian': 1, 'Hyderabadi': 1, 'Cafe': 2, 'Spanish': 1, 'Wraps': 1}\n",
            "{'Chinese': 16, 'Continental': 11, 'Kebab': 4, 'European': 4, 'South Indian': 6, 'North Indian': 31, 'Biryani': 7, 'Asian': 5, 'Mediterranean': 5, 'Desserts': 7, 'Seafood': 2, 'Beverages': 1, 'Goan': 1, 'Healthy Food': 1, 'Lebanese': 1, 'American': 4, 'Ice Cream': 2, 'Street Food': 1, 'Fast Food': 6, 'BBQ': 1, 'Italian': 6, 'Finger Food': 2, 'Burger': 1, 'Japanese': 1, 'Salad': 2, 'Sushi': 1, 'Mexican': 1, 'Mughlai': 2, 'Andhra': 3, 'Bakery': 2, 'Juices': 1, 'Arabian': 1, 'Hyderabadi': 1, 'Cafe': 2, 'Spanish': 1, 'Wraps': 1}\n",
            "{'Chinese': 17, 'Continental': 11, 'Kebab': 4, 'European': 4, 'South Indian': 6, 'North Indian': 31, 'Biryani': 7, 'Asian': 5, 'Mediterranean': 5, 'Desserts': 7, 'Seafood': 2, 'Beverages': 1, 'Goan': 1, 'Healthy Food': 1, 'Lebanese': 1, 'American': 4, 'Ice Cream': 2, 'Street Food': 1, 'Fast Food': 6, 'BBQ': 1, 'Italian': 6, 'Finger Food': 2, 'Burger': 1, 'Japanese': 1, 'Salad': 2, 'Sushi': 1, 'Mexican': 1, 'Mughlai': 2, 'Andhra': 3, 'Bakery': 2, 'Juices': 1, 'Arabian': 1, 'Hyderabadi': 1, 'Cafe': 2, 'Spanish': 1, 'Wraps': 1}\n",
            "{'Chinese': 17, 'Continental': 11, 'Kebab': 4, 'European': 4, 'South Indian': 6, 'North Indian': 31, 'Biryani': 8, 'Asian': 5, 'Mediterranean': 5, 'Desserts': 7, 'Seafood': 2, 'Beverages': 1, 'Goan': 1, 'Healthy Food': 1, 'Lebanese': 1, 'American': 4, 'Ice Cream': 2, 'Street Food': 1, 'Fast Food': 6, 'BBQ': 1, 'Italian': 6, 'Finger Food': 2, 'Burger': 1, 'Japanese': 1, 'Salad': 2, 'Sushi': 1, 'Mexican': 1, 'Mughlai': 2, 'Andhra': 3, 'Bakery': 2, 'Juices': 1, 'Arabian': 1, 'Hyderabadi': 1, 'Cafe': 2, 'Spanish': 1, 'Wraps': 1}\n",
            "{'Chinese': 17, 'Continental': 11, 'Kebab': 4, 'European': 4, 'South Indian': 6, 'North Indian': 31, 'Biryani': 8, 'Asian': 5, 'Mediterranean': 5, 'Desserts': 7, 'Seafood': 2, 'Beverages': 1, 'Goan': 1, 'Healthy Food': 1, 'Lebanese': 1, 'American': 4, 'Ice Cream': 2, 'Street Food': 1, 'Fast Food': 6, 'BBQ': 1, 'Italian': 6, 'Finger Food': 2, 'Burger': 1, 'Japanese': 1, 'Salad': 2, 'Sushi': 1, 'Mexican': 1, 'Mughlai': 2, 'Andhra': 4, 'Bakery': 2, 'Juices': 1, 'Arabian': 1, 'Hyderabadi': 1, 'Cafe': 2, 'Spanish': 1, 'Wraps': 1}\n",
            "{'Chinese': 17, 'Continental': 11, 'Kebab': 4, 'European': 4, 'South Indian': 6, 'North Indian': 32, 'Biryani': 8, 'Asian': 5, 'Mediterranean': 5, 'Desserts': 7, 'Seafood': 2, 'Beverages': 1, 'Goan': 1, 'Healthy Food': 1, 'Lebanese': 1, 'American': 4, 'Ice Cream': 2, 'Street Food': 1, 'Fast Food': 6, 'BBQ': 1, 'Italian': 6, 'Finger Food': 2, 'Burger': 1, 'Japanese': 1, 'Salad': 2, 'Sushi': 1, 'Mexican': 1, 'Mughlai': 2, 'Andhra': 4, 'Bakery': 2, 'Juices': 1, 'Arabian': 1, 'Hyderabadi': 1, 'Cafe': 2, 'Spanish': 1, 'Wraps': 1}\n",
            "{'Chinese': 17, 'Continental': 11, 'Kebab': 4, 'European': 4, 'South Indian': 6, 'North Indian': 32, 'Biryani': 8, 'Asian': 5, 'Mediterranean': 5, 'Desserts': 7, 'Seafood': 2, 'Beverages': 1, 'Goan': 1, 'Healthy Food': 1, 'Lebanese': 1, 'American': 4, 'Ice Cream': 2, 'Street Food': 1, 'Fast Food': 6, 'BBQ': 1, 'Italian': 6, 'Finger Food': 2, 'Burger': 1, 'Japanese': 1, 'Salad': 2, 'Sushi': 1, 'Mexican': 1, 'Mughlai': 2, 'Andhra': 5, 'Bakery': 2, 'Juices': 1, 'Arabian': 1, 'Hyderabadi': 1, 'Cafe': 2, 'Spanish': 1, 'Wraps': 1}\n",
            "{'Chinese': 17, 'Continental': 11, 'Kebab': 4, 'European': 4, 'South Indian': 6, 'North Indian': 33, 'Biryani': 8, 'Asian': 5, 'Mediterranean': 5, 'Desserts': 7, 'Seafood': 2, 'Beverages': 1, 'Goan': 1, 'Healthy Food': 1, 'Lebanese': 1, 'American': 4, 'Ice Cream': 2, 'Street Food': 1, 'Fast Food': 6, 'BBQ': 1, 'Italian': 6, 'Finger Food': 2, 'Burger': 1, 'Japanese': 1, 'Salad': 2, 'Sushi': 1, 'Mexican': 1, 'Mughlai': 2, 'Andhra': 5, 'Bakery': 2, 'Juices': 1, 'Arabian': 1, 'Hyderabadi': 1, 'Cafe': 2, 'Spanish': 1, 'Wraps': 1}\n",
            "{'Chinese': 18, 'Continental': 11, 'Kebab': 4, 'European': 4, 'South Indian': 6, 'North Indian': 33, 'Biryani': 8, 'Asian': 5, 'Mediterranean': 5, 'Desserts': 7, 'Seafood': 2, 'Beverages': 1, 'Goan': 1, 'Healthy Food': 1, 'Lebanese': 1, 'American': 4, 'Ice Cream': 2, 'Street Food': 1, 'Fast Food': 6, 'BBQ': 1, 'Italian': 6, 'Finger Food': 2, 'Burger': 1, 'Japanese': 1, 'Salad': 2, 'Sushi': 1, 'Mexican': 1, 'Mughlai': 2, 'Andhra': 5, 'Bakery': 2, 'Juices': 1, 'Arabian': 1, 'Hyderabadi': 1, 'Cafe': 2, 'Spanish': 1, 'Wraps': 1}\n",
            "{'Chinese': 19, 'Continental': 11, 'Kebab': 4, 'European': 4, 'South Indian': 6, 'North Indian': 33, 'Biryani': 8, 'Asian': 5, 'Mediterranean': 5, 'Desserts': 7, 'Seafood': 2, 'Beverages': 1, 'Goan': 1, 'Healthy Food': 1, 'Lebanese': 1, 'American': 4, 'Ice Cream': 2, 'Street Food': 1, 'Fast Food': 6, 'BBQ': 1, 'Italian': 6, 'Finger Food': 2, 'Burger': 1, 'Japanese': 1, 'Salad': 2, 'Sushi': 1, 'Mexican': 1, 'Mughlai': 2, 'Andhra': 5, 'Bakery': 2, 'Juices': 1, 'Arabian': 1, 'Hyderabadi': 1, 'Cafe': 2, 'Spanish': 1, 'Wraps': 1}\n",
            "{'Chinese': 19, 'Continental': 11, 'Kebab': 4, 'European': 4, 'South Indian': 6, 'North Indian': 33, 'Biryani': 8, 'Asian': 6, 'Mediterranean': 5, 'Desserts': 7, 'Seafood': 2, 'Beverages': 1, 'Goan': 1, 'Healthy Food': 1, 'Lebanese': 1, 'American': 4, 'Ice Cream': 2, 'Street Food': 1, 'Fast Food': 6, 'BBQ': 1, 'Italian': 6, 'Finger Food': 2, 'Burger': 1, 'Japanese': 1, 'Salad': 2, 'Sushi': 1, 'Mexican': 1, 'Mughlai': 2, 'Andhra': 5, 'Bakery': 2, 'Juices': 1, 'Arabian': 1, 'Hyderabadi': 1, 'Cafe': 2, 'Spanish': 1, 'Wraps': 1, 'Thai': 1, 'Indonesian': 1}\n",
            "{'Chinese': 19, 'Continental': 11, 'Kebab': 4, 'European': 4, 'South Indian': 7, 'North Indian': 33, 'Biryani': 8, 'Asian': 6, 'Mediterranean': 5, 'Desserts': 7, 'Seafood': 2, 'Beverages': 1, 'Goan': 1, 'Healthy Food': 1, 'Lebanese': 1, 'American': 4, 'Ice Cream': 2, 'Street Food': 1, 'Fast Food': 6, 'BBQ': 1, 'Italian': 6, 'Finger Food': 2, 'Burger': 1, 'Japanese': 1, 'Salad': 2, 'Sushi': 1, 'Mexican': 1, 'Mughlai': 2, 'Andhra': 5, 'Bakery': 2, 'Juices': 1, 'Arabian': 1, 'Hyderabadi': 1, 'Cafe': 2, 'Spanish': 1, 'Wraps': 1, 'Thai': 1, 'Indonesian': 1}\n",
            "{'Chinese': 19, 'Continental': 11, 'Kebab': 4, 'European': 4, 'South Indian': 7, 'North Indian': 34, 'Biryani': 8, 'Asian': 6, 'Mediterranean': 5, 'Desserts': 7, 'Seafood': 2, 'Beverages': 1, 'Goan': 1, 'Healthy Food': 1, 'Lebanese': 1, 'American': 4, 'Ice Cream': 2, 'Street Food': 1, 'Fast Food': 6, 'BBQ': 1, 'Italian': 6, 'Finger Food': 2, 'Burger': 1, 'Japanese': 1, 'Salad': 2, 'Sushi': 1, 'Mexican': 1, 'Mughlai': 2, 'Andhra': 5, 'Bakery': 2, 'Juices': 1, 'Arabian': 1, 'Hyderabadi': 1, 'Cafe': 2, 'Spanish': 1, 'Wraps': 1, 'Thai': 1, 'Indonesian': 1}\n",
            "{'Chinese': 20, 'Continental': 11, 'Kebab': 4, 'European': 4, 'South Indian': 7, 'North Indian': 34, 'Biryani': 8, 'Asian': 6, 'Mediterranean': 5, 'Desserts': 7, 'Seafood': 2, 'Beverages': 1, 'Goan': 1, 'Healthy Food': 1, 'Lebanese': 1, 'American': 4, 'Ice Cream': 2, 'Street Food': 1, 'Fast Food': 6, 'BBQ': 1, 'Italian': 6, 'Finger Food': 2, 'Burger': 1, 'Japanese': 1, 'Salad': 2, 'Sushi': 1, 'Mexican': 1, 'Mughlai': 2, 'Andhra': 5, 'Bakery': 2, 'Juices': 1, 'Arabian': 1, 'Hyderabadi': 1, 'Cafe': 2, 'Spanish': 1, 'Wraps': 1, 'Thai': 1, 'Indonesian': 1}\n",
            "{'Chinese': 20, 'Continental': 11, 'Kebab': 4, 'European': 4, 'South Indian': 8, 'North Indian': 34, 'Biryani': 8, 'Asian': 6, 'Mediterranean': 5, 'Desserts': 7, 'Seafood': 2, 'Beverages': 1, 'Goan': 1, 'Healthy Food': 1, 'Lebanese': 1, 'American': 4, 'Ice Cream': 2, 'Street Food': 1, 'Fast Food': 6, 'BBQ': 1, 'Italian': 6, 'Finger Food': 2, 'Burger': 1, 'Japanese': 1, 'Salad': 2, 'Sushi': 1, 'Mexican': 1, 'Mughlai': 2, 'Andhra': 5, 'Bakery': 2, 'Juices': 1, 'Arabian': 1, 'Hyderabadi': 1, 'Cafe': 2, 'Spanish': 1, 'Wraps': 1, 'Thai': 1, 'Indonesian': 1}\n",
            "{'Chinese': 20, 'Continental': 11, 'Kebab': 4, 'European': 4, 'South Indian': 8, 'North Indian': 35, 'Biryani': 8, 'Asian': 6, 'Mediterranean': 5, 'Desserts': 7, 'Seafood': 2, 'Beverages': 1, 'Goan': 1, 'Healthy Food': 1, 'Lebanese': 1, 'American': 4, 'Ice Cream': 2, 'Street Food': 1, 'Fast Food': 6, 'BBQ': 1, 'Italian': 6, 'Finger Food': 2, 'Burger': 1, 'Japanese': 1, 'Salad': 2, 'Sushi': 1, 'Mexican': 1, 'Mughlai': 2, 'Andhra': 5, 'Bakery': 2, 'Juices': 1, 'Arabian': 1, 'Hyderabadi': 1, 'Cafe': 2, 'Spanish': 1, 'Wraps': 1, 'Thai': 1, 'Indonesian': 1}\n",
            "{'Chinese': 21, 'Continental': 11, 'Kebab': 4, 'European': 4, 'South Indian': 8, 'North Indian': 35, 'Biryani': 8, 'Asian': 6, 'Mediterranean': 5, 'Desserts': 7, 'Seafood': 2, 'Beverages': 1, 'Goan': 1, 'Healthy Food': 1, 'Lebanese': 1, 'American': 4, 'Ice Cream': 2, 'Street Food': 1, 'Fast Food': 6, 'BBQ': 1, 'Italian': 6, 'Finger Food': 2, 'Burger': 1, 'Japanese': 1, 'Salad': 2, 'Sushi': 1, 'Mexican': 1, 'Mughlai': 2, 'Andhra': 5, 'Bakery': 2, 'Juices': 1, 'Arabian': 1, 'Hyderabadi': 1, 'Cafe': 2, 'Spanish': 1, 'Wraps': 1, 'Thai': 1, 'Indonesian': 1}\n",
            "{'Chinese': 21, 'Continental': 11, 'Kebab': 4, 'European': 4, 'South Indian': 8, 'North Indian': 36, 'Biryani': 8, 'Asian': 6, 'Mediterranean': 5, 'Desserts': 7, 'Seafood': 2, 'Beverages': 1, 'Goan': 1, 'Healthy Food': 1, 'Lebanese': 1, 'American': 4, 'Ice Cream': 2, 'Street Food': 1, 'Fast Food': 6, 'BBQ': 1, 'Italian': 6, 'Finger Food': 2, 'Burger': 1, 'Japanese': 1, 'Salad': 2, 'Sushi': 1, 'Mexican': 1, 'Mughlai': 2, 'Andhra': 5, 'Bakery': 2, 'Juices': 1, 'Arabian': 1, 'Hyderabadi': 1, 'Cafe': 2, 'Spanish': 1, 'Wraps': 1, 'Thai': 1, 'Indonesian': 1}\n",
            "{'Chinese': 21, 'Continental': 12, 'Kebab': 4, 'European': 4, 'South Indian': 8, 'North Indian': 36, 'Biryani': 8, 'Asian': 6, 'Mediterranean': 5, 'Desserts': 7, 'Seafood': 2, 'Beverages': 1, 'Goan': 1, 'Healthy Food': 1, 'Lebanese': 1, 'American': 4, 'Ice Cream': 2, 'Street Food': 1, 'Fast Food': 6, 'BBQ': 1, 'Italian': 6, 'Finger Food': 2, 'Burger': 1, 'Japanese': 1, 'Salad': 2, 'Sushi': 1, 'Mexican': 1, 'Mughlai': 2, 'Andhra': 5, 'Bakery': 2, 'Juices': 1, 'Arabian': 1, 'Hyderabadi': 1, 'Cafe': 2, 'Spanish': 1, 'Wraps': 1, 'Thai': 1, 'Indonesian': 1}\n",
            "{'Chinese': 21, 'Continental': 12, 'Kebab': 4, 'European': 4, 'South Indian': 8, 'North Indian': 36, 'Biryani': 9, 'Asian': 6, 'Mediterranean': 5, 'Desserts': 7, 'Seafood': 2, 'Beverages': 1, 'Goan': 1, 'Healthy Food': 1, 'Lebanese': 1, 'American': 4, 'Ice Cream': 2, 'Street Food': 1, 'Fast Food': 6, 'BBQ': 1, 'Italian': 6, 'Finger Food': 2, 'Burger': 1, 'Japanese': 1, 'Salad': 2, 'Sushi': 1, 'Mexican': 1, 'Mughlai': 2, 'Andhra': 5, 'Bakery': 2, 'Juices': 1, 'Arabian': 1, 'Hyderabadi': 1, 'Cafe': 2, 'Spanish': 1, 'Wraps': 1, 'Thai': 1, 'Indonesian': 1}\n",
            "{'Chinese': 21, 'Continental': 12, 'Kebab': 4, 'European': 4, 'South Indian': 8, 'North Indian': 37, 'Biryani': 9, 'Asian': 6, 'Mediterranean': 5, 'Desserts': 7, 'Seafood': 2, 'Beverages': 1, 'Goan': 1, 'Healthy Food': 1, 'Lebanese': 1, 'American': 4, 'Ice Cream': 2, 'Street Food': 1, 'Fast Food': 6, 'BBQ': 1, 'Italian': 6, 'Finger Food': 2, 'Burger': 1, 'Japanese': 1, 'Salad': 2, 'Sushi': 1, 'Mexican': 1, 'Mughlai': 2, 'Andhra': 5, 'Bakery': 2, 'Juices': 1, 'Arabian': 1, 'Hyderabadi': 1, 'Cafe': 2, 'Spanish': 1, 'Wraps': 1, 'Thai': 1, 'Indonesian': 1}\n",
            "{'Chinese': 22, 'Continental': 12, 'Kebab': 4, 'European': 4, 'South Indian': 8, 'North Indian': 37, 'Biryani': 9, 'Asian': 6, 'Mediterranean': 5, 'Desserts': 7, 'Seafood': 2, 'Beverages': 1, 'Goan': 1, 'Healthy Food': 1, 'Lebanese': 1, 'American': 4, 'Ice Cream': 2, 'Street Food': 1, 'Fast Food': 6, 'BBQ': 1, 'Italian': 6, 'Finger Food': 2, 'Burger': 1, 'Japanese': 1, 'Salad': 2, 'Sushi': 1, 'Mexican': 1, 'Mughlai': 2, 'Andhra': 5, 'Bakery': 2, 'Juices': 1, 'Arabian': 1, 'Hyderabadi': 1, 'Cafe': 2, 'Spanish': 1, 'Wraps': 1, 'Thai': 1, 'Indonesian': 1}\n",
            "{'Chinese': 22, 'Continental': 12, 'Kebab': 4, 'European': 4, 'South Indian': 8, 'North Indian': 38, 'Biryani': 9, 'Asian': 6, 'Mediterranean': 5, 'Desserts': 7, 'Seafood': 2, 'Beverages': 1, 'Goan': 1, 'Healthy Food': 1, 'Lebanese': 1, 'American': 4, 'Ice Cream': 2, 'Street Food': 1, 'Fast Food': 6, 'BBQ': 1, 'Italian': 6, 'Finger Food': 2, 'Burger': 1, 'Japanese': 1, 'Salad': 2, 'Sushi': 1, 'Mexican': 1, 'Mughlai': 2, 'Andhra': 5, 'Bakery': 2, 'Juices': 1, 'Arabian': 1, 'Hyderabadi': 1, 'Cafe': 2, 'Spanish': 1, 'Wraps': 1, 'Thai': 1, 'Indonesian': 1}\n",
            "{'Chinese': 22, 'Continental': 12, 'Kebab': 4, 'European': 4, 'South Indian': 8, 'North Indian': 38, 'Biryani': 10, 'Asian': 6, 'Mediterranean': 5, 'Desserts': 7, 'Seafood': 2, 'Beverages': 1, 'Goan': 1, 'Healthy Food': 1, 'Lebanese': 1, 'American': 4, 'Ice Cream': 2, 'Street Food': 1, 'Fast Food': 6, 'BBQ': 1, 'Italian': 6, 'Finger Food': 2, 'Burger': 1, 'Japanese': 1, 'Salad': 2, 'Sushi': 1, 'Mexican': 1, 'Mughlai': 2, 'Andhra': 5, 'Bakery': 2, 'Juices': 1, 'Arabian': 1, 'Hyderabadi': 1, 'Cafe': 2, 'Spanish': 1, 'Wraps': 1, 'Thai': 1, 'Indonesian': 1}\n",
            "{'Chinese': 23, 'Continental': 12, 'Kebab': 4, 'European': 4, 'South Indian': 8, 'North Indian': 38, 'Biryani': 10, 'Asian': 6, 'Mediterranean': 5, 'Desserts': 7, 'Seafood': 2, 'Beverages': 1, 'Goan': 1, 'Healthy Food': 1, 'Lebanese': 1, 'American': 4, 'Ice Cream': 2, 'Street Food': 1, 'Fast Food': 6, 'BBQ': 1, 'Italian': 6, 'Finger Food': 2, 'Burger': 1, 'Japanese': 1, 'Salad': 2, 'Sushi': 1, 'Mexican': 1, 'Mughlai': 2, 'Andhra': 5, 'Bakery': 2, 'Juices': 1, 'Arabian': 1, 'Hyderabadi': 1, 'Cafe': 2, 'Spanish': 1, 'Wraps': 1, 'Thai': 1, 'Indonesian': 1}\n",
            "{'Chinese': 24, 'Continental': 12, 'Kebab': 4, 'European': 4, 'South Indian': 8, 'North Indian': 38, 'Biryani': 10, 'Asian': 6, 'Mediterranean': 5, 'Desserts': 7, 'Seafood': 2, 'Beverages': 1, 'Goan': 1, 'Healthy Food': 1, 'Lebanese': 1, 'American': 4, 'Ice Cream': 2, 'Street Food': 1, 'Fast Food': 6, 'BBQ': 1, 'Italian': 6, 'Finger Food': 2, 'Burger': 1, 'Japanese': 1, 'Salad': 2, 'Sushi': 1, 'Mexican': 1, 'Mughlai': 2, 'Andhra': 5, 'Bakery': 2, 'Juices': 1, 'Arabian': 1, 'Hyderabadi': 1, 'Cafe': 2, 'Spanish': 1, 'Wraps': 1, 'Thai': 1, 'Indonesian': 1}\n",
            "{'Chinese': 24, 'Continental': 13, 'Kebab': 4, 'European': 4, 'South Indian': 8, 'North Indian': 38, 'Biryani': 10, 'Asian': 6, 'Mediterranean': 5, 'Desserts': 7, 'Seafood': 2, 'Beverages': 1, 'Goan': 1, 'Healthy Food': 1, 'Lebanese': 1, 'American': 4, 'Ice Cream': 2, 'Street Food': 1, 'Fast Food': 6, 'BBQ': 1, 'Italian': 6, 'Finger Food': 2, 'Burger': 1, 'Japanese': 1, 'Salad': 2, 'Sushi': 1, 'Mexican': 1, 'Mughlai': 2, 'Andhra': 5, 'Bakery': 2, 'Juices': 1, 'Arabian': 1, 'Hyderabadi': 1, 'Cafe': 2, 'Spanish': 1, 'Wraps': 1, 'Thai': 1, 'Indonesian': 1}\n",
            "{'Chinese': 24, 'Continental': 13, 'Kebab': 4, 'European': 4, 'South Indian': 8, 'North Indian': 38, 'Biryani': 10, 'Asian': 6, 'Mediterranean': 5, 'Desserts': 7, 'Seafood': 2, 'Beverages': 1, 'Goan': 1, 'Healthy Food': 1, 'Lebanese': 1, 'American': 4, 'Ice Cream': 2, 'Street Food': 1, 'Fast Food': 6, 'BBQ': 1, 'Italian': 7, 'Finger Food': 2, 'Burger': 1, 'Japanese': 1, 'Salad': 2, 'Sushi': 1, 'Mexican': 1, 'Mughlai': 2, 'Andhra': 5, 'Bakery': 2, 'Juices': 1, 'Arabian': 1, 'Hyderabadi': 1, 'Cafe': 2, 'Spanish': 1, 'Wraps': 1, 'Thai': 1, 'Indonesian': 1}\n",
            "{'Chinese': 24, 'Continental': 13, 'Kebab': 4, 'European': 4, 'South Indian': 8, 'North Indian': 38, 'Biryani': 10, 'Asian': 7, 'Mediterranean': 5, 'Desserts': 7, 'Seafood': 2, 'Beverages': 1, 'Goan': 1, 'Healthy Food': 1, 'Lebanese': 1, 'American': 4, 'Ice Cream': 2, 'Street Food': 1, 'Fast Food': 6, 'BBQ': 1, 'Italian': 7, 'Finger Food': 2, 'Burger': 1, 'Japanese': 1, 'Salad': 2, 'Sushi': 1, 'Mexican': 1, 'Mughlai': 2, 'Andhra': 5, 'Bakery': 2, 'Juices': 1, 'Arabian': 1, 'Hyderabadi': 1, 'Cafe': 2, 'Spanish': 1, 'Wraps': 1, 'Thai': 1, 'Indonesian': 1}\n",
            "{'Chinese': 24, 'Continental': 13, 'Kebab': 4, 'European': 4, 'South Indian': 8, 'North Indian': 38, 'Biryani': 10, 'Asian': 7, 'Mediterranean': 5, 'Desserts': 7, 'Seafood': 2, 'Beverages': 1, 'Goan': 1, 'Healthy Food': 1, 'Lebanese': 1, 'American': 4, 'Ice Cream': 2, 'Street Food': 1, 'Fast Food': 6, 'BBQ': 1, 'Italian': 7, 'Finger Food': 2, 'Burger': 1, 'Japanese': 1, 'Salad': 2, 'Sushi': 1, 'Mexican': 1, 'Mughlai': 2, 'Andhra': 5, 'Bakery': 2, 'Juices': 1, 'Arabian': 1, 'Hyderabadi': 1, 'Cafe': 3, 'Spanish': 1, 'Wraps': 1, 'Thai': 1, 'Indonesian': 1}\n",
            "{'Chinese': 24, 'Continental': 13, 'Kebab': 4, 'European': 4, 'South Indian': 8, 'North Indian': 38, 'Biryani': 10, 'Asian': 7, 'Mediterranean': 5, 'Desserts': 7, 'Seafood': 2, 'Beverages': 1, 'Goan': 1, 'Healthy Food': 1, 'Lebanese': 1, 'American': 4, 'Ice Cream': 2, 'Street Food': 1, 'Fast Food': 6, 'BBQ': 1, 'Italian': 7, 'Finger Food': 2, 'Burger': 1, 'Japanese': 1, 'Salad': 2, 'Sushi': 1, 'Mexican': 1, 'Mughlai': 2, 'Andhra': 5, 'Bakery': 3, 'Juices': 1, 'Arabian': 1, 'Hyderabadi': 1, 'Cafe': 3, 'Spanish': 1, 'Wraps': 1, 'Thai': 1, 'Indonesian': 1}\n",
            "{'Chinese': 24, 'Continental': 13, 'Kebab': 4, 'European': 4, 'South Indian': 8, 'North Indian': 38, 'Biryani': 10, 'Asian': 8, 'Mediterranean': 5, 'Desserts': 7, 'Seafood': 2, 'Beverages': 1, 'Goan': 1, 'Healthy Food': 1, 'Lebanese': 1, 'American': 4, 'Ice Cream': 2, 'Street Food': 1, 'Fast Food': 6, 'BBQ': 1, 'Italian': 7, 'Finger Food': 2, 'Burger': 1, 'Japanese': 1, 'Salad': 2, 'Sushi': 1, 'Mexican': 1, 'Mughlai': 2, 'Andhra': 5, 'Bakery': 3, 'Juices': 1, 'Arabian': 1, 'Hyderabadi': 1, 'Cafe': 3, 'Spanish': 1, 'Wraps': 1, 'Thai': 1, 'Indonesian': 1, 'Modern Indian': 1}\n",
            "{'Chinese': 24, 'Continental': 14, 'Kebab': 4, 'European': 4, 'South Indian': 8, 'North Indian': 38, 'Biryani': 10, 'Asian': 8, 'Mediterranean': 5, 'Desserts': 7, 'Seafood': 2, 'Beverages': 1, 'Goan': 1, 'Healthy Food': 1, 'Lebanese': 1, 'American': 4, 'Ice Cream': 2, 'Street Food': 1, 'Fast Food': 6, 'BBQ': 1, 'Italian': 7, 'Finger Food': 2, 'Burger': 1, 'Japanese': 1, 'Salad': 2, 'Sushi': 1, 'Mexican': 1, 'Mughlai': 2, 'Andhra': 5, 'Bakery': 3, 'Juices': 1, 'Arabian': 1, 'Hyderabadi': 1, 'Cafe': 3, 'Spanish': 1, 'Wraps': 1, 'Thai': 1, 'Indonesian': 1, 'Modern Indian': 1}\n",
            "{'Chinese': 24, 'Continental': 14, 'Kebab': 4, 'European': 4, 'South Indian': 8, 'North Indian': 38, 'Biryani': 10, 'Asian': 8, 'Mediterranean': 5, 'Desserts': 7, 'Seafood': 2, 'Beverages': 1, 'Goan': 1, 'Healthy Food': 1, 'Lebanese': 1, 'American': 4, 'Ice Cream': 2, 'Street Food': 1, 'Fast Food': 6, 'BBQ': 1, 'Italian': 8, 'Finger Food': 2, 'Burger': 1, 'Japanese': 1, 'Salad': 2, 'Sushi': 1, 'Mexican': 1, 'Mughlai': 2, 'Andhra': 5, 'Bakery': 3, 'Juices': 1, 'Arabian': 1, 'Hyderabadi': 1, 'Cafe': 3, 'Spanish': 1, 'Wraps': 1, 'Thai': 1, 'Indonesian': 1, 'Modern Indian': 1}\n",
            "{'Chinese': 24, 'Continental': 14, 'Kebab': 4, 'European': 4, 'South Indian': 8, 'North Indian': 39, 'Biryani': 10, 'Asian': 8, 'Mediterranean': 5, 'Desserts': 7, 'Seafood': 2, 'Beverages': 1, 'Goan': 1, 'Healthy Food': 1, 'Lebanese': 1, 'American': 4, 'Ice Cream': 2, 'Street Food': 1, 'Fast Food': 6, 'BBQ': 1, 'Italian': 8, 'Finger Food': 2, 'Burger': 1, 'Japanese': 1, 'Salad': 2, 'Sushi': 1, 'Mexican': 1, 'Mughlai': 2, 'Andhra': 5, 'Bakery': 3, 'Juices': 1, 'Arabian': 1, 'Hyderabadi': 1, 'Cafe': 3, 'Spanish': 1, 'Wraps': 1, 'Thai': 1, 'Indonesian': 1, 'Modern Indian': 1}\n",
            "{'Chinese': 25, 'Continental': 14, 'Kebab': 4, 'European': 4, 'South Indian': 8, 'North Indian': 39, 'Biryani': 10, 'Asian': 8, 'Mediterranean': 5, 'Desserts': 7, 'Seafood': 2, 'Beverages': 1, 'Goan': 1, 'Healthy Food': 1, 'Lebanese': 1, 'American': 4, 'Ice Cream': 2, 'Street Food': 1, 'Fast Food': 6, 'BBQ': 1, 'Italian': 8, 'Finger Food': 2, 'Burger': 1, 'Japanese': 1, 'Salad': 2, 'Sushi': 1, 'Mexican': 1, 'Mughlai': 2, 'Andhra': 5, 'Bakery': 3, 'Juices': 1, 'Arabian': 1, 'Hyderabadi': 1, 'Cafe': 3, 'Spanish': 1, 'Wraps': 1, 'Thai': 1, 'Indonesian': 1, 'Modern Indian': 1}\n",
            "{'Chinese': 25, 'Continental': 14, 'Kebab': 4, 'European': 4, 'South Indian': 8, 'North Indian': 39, 'Biryani': 10, 'Asian': 8, 'Mediterranean': 5, 'Desserts': 8, 'Seafood': 2, 'Beverages': 1, 'Goan': 1, 'Healthy Food': 1, 'Lebanese': 1, 'American': 4, 'Ice Cream': 2, 'Street Food': 1, 'Fast Food': 6, 'BBQ': 1, 'Italian': 8, 'Finger Food': 2, 'Burger': 1, 'Japanese': 1, 'Salad': 2, 'Sushi': 1, 'Mexican': 1, 'Mughlai': 2, 'Andhra': 5, 'Bakery': 3, 'Juices': 1, 'Arabian': 1, 'Hyderabadi': 1, 'Cafe': 3, 'Spanish': 1, 'Wraps': 1, 'Thai': 1, 'Indonesian': 1, 'Modern Indian': 1}\n",
            "{'Chinese': 25, 'Continental': 14, 'Kebab': 4, 'European': 4, 'South Indian': 8, 'North Indian': 39, 'Biryani': 10, 'Asian': 8, 'Mediterranean': 5, 'Desserts': 8, 'Seafood': 2, 'Beverages': 2, 'Goan': 1, 'Healthy Food': 1, 'Lebanese': 1, 'American': 4, 'Ice Cream': 2, 'Street Food': 1, 'Fast Food': 6, 'BBQ': 1, 'Italian': 8, 'Finger Food': 2, 'Burger': 1, 'Japanese': 1, 'Salad': 2, 'Sushi': 1, 'Mexican': 1, 'Mughlai': 2, 'Andhra': 5, 'Bakery': 3, 'Juices': 1, 'Arabian': 1, 'Hyderabadi': 1, 'Cafe': 3, 'Spanish': 1, 'Wraps': 1, 'Thai': 1, 'Indonesian': 1, 'Modern Indian': 1}\n",
            "{'Chinese': 25, 'Continental': 14, 'Kebab': 4, 'European': 4, 'South Indian': 8, 'North Indian': 39, 'Biryani': 10, 'Asian': 8, 'Mediterranean': 5, 'Desserts': 8, 'Seafood': 2, 'Beverages': 2, 'Goan': 1, 'Healthy Food': 1, 'Lebanese': 1, 'American': 4, 'Ice Cream': 2, 'Street Food': 1, 'Fast Food': 6, 'BBQ': 1, 'Italian': 8, 'Finger Food': 2, 'Burger': 1, 'Japanese': 1, 'Salad': 2, 'Sushi': 1, 'Mexican': 1, 'Mughlai': 2, 'Andhra': 5, 'Bakery': 4, 'Juices': 1, 'Arabian': 1, 'Hyderabadi': 1, 'Cafe': 3, 'Spanish': 1, 'Wraps': 1, 'Thai': 1, 'Indonesian': 1, 'Modern Indian': 1}\n",
            "{'Chinese': 25, 'Continental': 14, 'Kebab': 4, 'European': 4, 'South Indian': 8, 'North Indian': 39, 'Biryani': 10, 'Asian': 8, 'Mediterranean': 5, 'Desserts': 9, 'Seafood': 2, 'Beverages': 2, 'Goan': 1, 'Healthy Food': 1, 'Lebanese': 1, 'American': 4, 'Ice Cream': 2, 'Street Food': 1, 'Fast Food': 6, 'BBQ': 1, 'Italian': 8, 'Finger Food': 2, 'Burger': 1, 'Japanese': 1, 'Salad': 2, 'Sushi': 1, 'Mexican': 1, 'Mughlai': 2, 'Andhra': 5, 'Bakery': 4, 'Juices': 1, 'Arabian': 1, 'Hyderabadi': 1, 'Cafe': 3, 'Spanish': 1, 'Wraps': 1, 'Thai': 1, 'Indonesian': 1, 'Modern Indian': 1}\n",
            "{'Chinese': 25, 'Continental': 14, 'Kebab': 4, 'European': 4, 'South Indian': 8, 'North Indian': 39, 'Biryani': 10, 'Asian': 8, 'Mediterranean': 5, 'Desserts': 9, 'Seafood': 2, 'Beverages': 2, 'Goan': 1, 'Healthy Food': 1, 'Lebanese': 1, 'American': 4, 'Ice Cream': 2, 'Street Food': 1, 'Fast Food': 7, 'BBQ': 1, 'Italian': 8, 'Finger Food': 2, 'Burger': 1, 'Japanese': 1, 'Salad': 2, 'Sushi': 1, 'Mexican': 1, 'Mughlai': 2, 'Andhra': 5, 'Bakery': 4, 'Juices': 1, 'Arabian': 1, 'Hyderabadi': 1, 'Cafe': 3, 'Spanish': 1, 'Wraps': 1, 'Thai': 1, 'Indonesian': 1, 'Modern Indian': 1}\n",
            "{'Chinese': 25, 'Continental': 14, 'Kebab': 4, 'European': 4, 'South Indian': 8, 'North Indian': 40, 'Biryani': 10, 'Asian': 8, 'Mediterranean': 5, 'Desserts': 9, 'Seafood': 2, 'Beverages': 2, 'Goan': 1, 'Healthy Food': 1, 'Lebanese': 1, 'American': 4, 'Ice Cream': 2, 'Street Food': 1, 'Fast Food': 7, 'BBQ': 1, 'Italian': 8, 'Finger Food': 2, 'Burger': 1, 'Japanese': 1, 'Salad': 2, 'Sushi': 1, 'Mexican': 1, 'Mughlai': 2, 'Andhra': 5, 'Bakery': 4, 'Juices': 1, 'Arabian': 1, 'Hyderabadi': 1, 'Cafe': 3, 'Spanish': 1, 'Wraps': 1, 'Thai': 1, 'Indonesian': 1, 'Modern Indian': 1}\n",
            "{'Chinese': 25, 'Continental': 15, 'Kebab': 4, 'European': 4, 'South Indian': 8, 'North Indian': 40, 'Biryani': 10, 'Asian': 8, 'Mediterranean': 5, 'Desserts': 9, 'Seafood': 2, 'Beverages': 2, 'Goan': 1, 'Healthy Food': 1, 'Lebanese': 1, 'American': 4, 'Ice Cream': 2, 'Street Food': 1, 'Fast Food': 7, 'BBQ': 1, 'Italian': 8, 'Finger Food': 2, 'Burger': 1, 'Japanese': 1, 'Salad': 2, 'Sushi': 1, 'Mexican': 1, 'Mughlai': 2, 'Andhra': 5, 'Bakery': 4, 'Juices': 1, 'Arabian': 1, 'Hyderabadi': 1, 'Cafe': 3, 'Spanish': 1, 'Wraps': 1, 'Thai': 1, 'Indonesian': 1, 'Modern Indian': 1}\n",
            "{'Chinese': 26, 'Continental': 15, 'Kebab': 4, 'European': 4, 'South Indian': 8, 'North Indian': 40, 'Biryani': 10, 'Asian': 8, 'Mediterranean': 5, 'Desserts': 9, 'Seafood': 2, 'Beverages': 2, 'Goan': 1, 'Healthy Food': 1, 'Lebanese': 1, 'American': 4, 'Ice Cream': 2, 'Street Food': 1, 'Fast Food': 7, 'BBQ': 1, 'Italian': 8, 'Finger Food': 2, 'Burger': 1, 'Japanese': 1, 'Salad': 2, 'Sushi': 1, 'Mexican': 1, 'Mughlai': 2, 'Andhra': 5, 'Bakery': 4, 'Juices': 1, 'Arabian': 1, 'Hyderabadi': 1, 'Cafe': 3, 'Spanish': 1, 'Wraps': 1, 'Thai': 1, 'Indonesian': 1, 'Modern Indian': 1}\n",
            "{'Chinese': 26, 'Continental': 15, 'Kebab': 4, 'European': 4, 'South Indian': 8, 'North Indian': 40, 'Biryani': 10, 'Asian': 8, 'Mediterranean': 5, 'Desserts': 9, 'Seafood': 2, 'Beverages': 2, 'Goan': 1, 'Healthy Food': 1, 'Lebanese': 1, 'American': 4, 'Ice Cream': 2, 'Street Food': 1, 'Fast Food': 7, 'BBQ': 1, 'Italian': 9, 'Finger Food': 2, 'Burger': 1, 'Japanese': 1, 'Salad': 2, 'Sushi': 1, 'Mexican': 1, 'Mughlai': 2, 'Andhra': 5, 'Bakery': 4, 'Juices': 1, 'Arabian': 1, 'Hyderabadi': 1, 'Cafe': 3, 'Spanish': 1, 'Wraps': 1, 'Thai': 1, 'Indonesian': 1, 'Modern Indian': 1}\n",
            "{'Chinese': 26, 'Continental': 15, 'Kebab': 5, 'European': 4, 'South Indian': 8, 'North Indian': 40, 'Biryani': 10, 'Asian': 8, 'Mediterranean': 5, 'Desserts': 9, 'Seafood': 2, 'Beverages': 2, 'Goan': 1, 'Healthy Food': 1, 'Lebanese': 1, 'American': 4, 'Ice Cream': 2, 'Street Food': 1, 'Fast Food': 7, 'BBQ': 1, 'Italian': 9, 'Finger Food': 2, 'Burger': 1, 'Japanese': 1, 'Salad': 2, 'Sushi': 1, 'Mexican': 1, 'Mughlai': 2, 'Andhra': 5, 'Bakery': 4, 'Juices': 1, 'Arabian': 1, 'Hyderabadi': 1, 'Cafe': 3, 'Spanish': 1, 'Wraps': 1, 'Thai': 1, 'Indonesian': 1, 'Modern Indian': 1}\n",
            "{'Chinese': 26, 'Continental': 16, 'Kebab': 5, 'European': 4, 'South Indian': 8, 'North Indian': 40, 'Biryani': 10, 'Asian': 8, 'Mediterranean': 5, 'Desserts': 9, 'Seafood': 2, 'Beverages': 2, 'Goan': 1, 'Healthy Food': 1, 'Lebanese': 1, 'American': 4, 'Ice Cream': 2, 'Street Food': 1, 'Fast Food': 7, 'BBQ': 1, 'Italian': 9, 'Finger Food': 2, 'Burger': 1, 'Japanese': 1, 'Salad': 2, 'Sushi': 1, 'Mexican': 1, 'Mughlai': 2, 'Andhra': 5, 'Bakery': 4, 'Juices': 1, 'Arabian': 1, 'Hyderabadi': 1, 'Cafe': 3, 'Spanish': 1, 'Wraps': 1, 'Thai': 1, 'Indonesian': 1, 'Modern Indian': 1}\n",
            "{'Chinese': 26, 'Continental': 16, 'Kebab': 5, 'European': 4, 'South Indian': 8, 'North Indian': 40, 'Biryani': 10, 'Asian': 8, 'Mediterranean': 5, 'Desserts': 9, 'Seafood': 2, 'Beverages': 2, 'Goan': 1, 'Healthy Food': 1, 'Lebanese': 1, 'American': 4, 'Ice Cream': 2, 'Street Food': 1, 'Fast Food': 7, 'BBQ': 1, 'Italian': 10, 'Finger Food': 2, 'Burger': 1, 'Japanese': 1, 'Salad': 2, 'Sushi': 1, 'Mexican': 1, 'Mughlai': 2, 'Andhra': 5, 'Bakery': 4, 'Juices': 1, 'Arabian': 1, 'Hyderabadi': 1, 'Cafe': 3, 'Spanish': 1, 'Wraps': 1, 'Thai': 1, 'Indonesian': 1, 'Modern Indian': 1}\n",
            "{'Chinese': 26, 'Continental': 16, 'Kebab': 5, 'European': 4, 'South Indian': 8, 'North Indian': 41, 'Biryani': 10, 'Asian': 8, 'Mediterranean': 5, 'Desserts': 9, 'Seafood': 2, 'Beverages': 2, 'Goan': 1, 'Healthy Food': 1, 'Lebanese': 1, 'American': 4, 'Ice Cream': 2, 'Street Food': 1, 'Fast Food': 7, 'BBQ': 1, 'Italian': 10, 'Finger Food': 2, 'Burger': 1, 'Japanese': 1, 'Salad': 2, 'Sushi': 1, 'Mexican': 1, 'Mughlai': 2, 'Andhra': 5, 'Bakery': 4, 'Juices': 1, 'Arabian': 1, 'Hyderabadi': 1, 'Cafe': 3, 'Spanish': 1, 'Wraps': 1, 'Thai': 1, 'Indonesian': 1, 'Modern Indian': 1}\n",
            "{'Chinese': 26, 'Continental': 16, 'Kebab': 5, 'European': 4, 'South Indian': 8, 'North Indian': 42, 'Biryani': 10, 'Asian': 8, 'Mediterranean': 5, 'Desserts': 9, 'Seafood': 2, 'Beverages': 2, 'Goan': 1, 'Healthy Food': 1, 'Lebanese': 1, 'American': 4, 'Ice Cream': 2, 'Street Food': 1, 'Fast Food': 7, 'BBQ': 1, 'Italian': 10, 'Finger Food': 2, 'Burger': 1, 'Japanese': 1, 'Salad': 2, 'Sushi': 1, 'Mexican': 1, 'Mughlai': 2, 'Andhra': 5, 'Bakery': 4, 'Juices': 1, 'Arabian': 1, 'Hyderabadi': 1, 'Cafe': 3, 'Spanish': 1, 'Wraps': 1, 'Thai': 1, 'Indonesian': 1, 'Modern Indian': 1}\n",
            "{'Chinese': 27, 'Continental': 16, 'Kebab': 5, 'European': 4, 'South Indian': 8, 'North Indian': 42, 'Biryani': 10, 'Asian': 8, 'Mediterranean': 5, 'Desserts': 9, 'Seafood': 2, 'Beverages': 2, 'Goan': 1, 'Healthy Food': 1, 'Lebanese': 1, 'American': 4, 'Ice Cream': 2, 'Street Food': 1, 'Fast Food': 7, 'BBQ': 1, 'Italian': 10, 'Finger Food': 2, 'Burger': 1, 'Japanese': 1, 'Salad': 2, 'Sushi': 1, 'Mexican': 1, 'Mughlai': 2, 'Andhra': 5, 'Bakery': 4, 'Juices': 1, 'Arabian': 1, 'Hyderabadi': 1, 'Cafe': 3, 'Spanish': 1, 'Wraps': 1, 'Thai': 1, 'Indonesian': 1, 'Modern Indian': 1}\n",
            "{'Chinese': 27, 'Continental': 16, 'Kebab': 5, 'European': 4, 'South Indian': 8, 'North Indian': 42, 'Biryani': 10, 'Asian': 8, 'Mediterranean': 5, 'Desserts': 9, 'Seafood': 2, 'Beverages': 2, 'Goan': 1, 'Healthy Food': 1, 'Lebanese': 1, 'American': 4, 'Ice Cream': 2, 'Street Food': 1, 'Fast Food': 8, 'BBQ': 1, 'Italian': 10, 'Finger Food': 2, 'Burger': 1, 'Japanese': 1, 'Salad': 2, 'Sushi': 1, 'Mexican': 1, 'Mughlai': 2, 'Andhra': 5, 'Bakery': 4, 'Juices': 1, 'Arabian': 1, 'Hyderabadi': 1, 'Cafe': 3, 'Spanish': 1, 'Wraps': 1, 'Thai': 1, 'Indonesian': 1, 'Modern Indian': 1}\n",
            "{'Chinese': 28, 'Continental': 16, 'Kebab': 5, 'European': 4, 'South Indian': 8, 'North Indian': 42, 'Biryani': 10, 'Asian': 8, 'Mediterranean': 5, 'Desserts': 9, 'Seafood': 2, 'Beverages': 2, 'Goan': 1, 'Healthy Food': 1, 'Lebanese': 1, 'American': 4, 'Ice Cream': 2, 'Street Food': 1, 'Fast Food': 8, 'BBQ': 1, 'Italian': 10, 'Finger Food': 2, 'Burger': 1, 'Japanese': 1, 'Salad': 2, 'Sushi': 1, 'Mexican': 1, 'Mughlai': 2, 'Andhra': 5, 'Bakery': 4, 'Juices': 1, 'Arabian': 1, 'Hyderabadi': 1, 'Cafe': 3, 'Spanish': 1, 'Wraps': 1, 'Thai': 1, 'Indonesian': 1, 'Modern Indian': 1}\n",
            "{'Chinese': 28, 'Continental': 16, 'Kebab': 5, 'European': 4, 'South Indian': 8, 'North Indian': 42, 'Biryani': 10, 'Asian': 9, 'Mediterranean': 5, 'Desserts': 9, 'Seafood': 2, 'Beverages': 2, 'Goan': 1, 'Healthy Food': 1, 'Lebanese': 1, 'American': 4, 'Ice Cream': 2, 'Street Food': 1, 'Fast Food': 8, 'BBQ': 1, 'Italian': 10, 'Finger Food': 2, 'Burger': 1, 'Japanese': 1, 'Salad': 2, 'Sushi': 1, 'Mexican': 1, 'Mughlai': 2, 'Andhra': 5, 'Bakery': 4, 'Juices': 1, 'Arabian': 1, 'Hyderabadi': 1, 'Cafe': 3, 'Spanish': 1, 'Wraps': 1, 'Thai': 1, 'Indonesian': 1, 'Modern Indian': 1}\n",
            "{'Chinese': 28, 'Continental': 16, 'Kebab': 5, 'European': 4, 'South Indian': 8, 'North Indian': 43, 'Biryani': 10, 'Asian': 9, 'Mediterranean': 5, 'Desserts': 9, 'Seafood': 2, 'Beverages': 2, 'Goan': 1, 'Healthy Food': 1, 'Lebanese': 1, 'American': 4, 'Ice Cream': 2, 'Street Food': 1, 'Fast Food': 8, 'BBQ': 1, 'Italian': 10, 'Finger Food': 2, 'Burger': 1, 'Japanese': 1, 'Salad': 2, 'Sushi': 1, 'Mexican': 1, 'Mughlai': 2, 'Andhra': 5, 'Bakery': 4, 'Juices': 1, 'Arabian': 1, 'Hyderabadi': 1, 'Cafe': 3, 'Spanish': 1, 'Wraps': 1, 'Thai': 1, 'Indonesian': 1, 'Modern Indian': 1, 'Momos': 1}\n",
            "{'Chinese': 29, 'Continental': 16, 'Kebab': 5, 'European': 4, 'South Indian': 8, 'North Indian': 43, 'Biryani': 10, 'Asian': 9, 'Mediterranean': 5, 'Desserts': 9, 'Seafood': 2, 'Beverages': 2, 'Goan': 1, 'Healthy Food': 1, 'Lebanese': 1, 'American': 4, 'Ice Cream': 2, 'Street Food': 1, 'Fast Food': 8, 'BBQ': 1, 'Italian': 10, 'Finger Food': 2, 'Burger': 1, 'Japanese': 1, 'Salad': 2, 'Sushi': 1, 'Mexican': 1, 'Mughlai': 2, 'Andhra': 5, 'Bakery': 4, 'Juices': 1, 'Arabian': 1, 'Hyderabadi': 1, 'Cafe': 3, 'Spanish': 1, 'Wraps': 1, 'Thai': 1, 'Indonesian': 1, 'Modern Indian': 1, 'Momos': 1}\n",
            "{'Chinese': 29, 'Continental': 16, 'Kebab': 5, 'European': 4, 'South Indian': 8, 'North Indian': 44, 'Biryani': 10, 'Asian': 9, 'Mediterranean': 5, 'Desserts': 9, 'Seafood': 2, 'Beverages': 2, 'Goan': 1, 'Healthy Food': 1, 'Lebanese': 1, 'American': 4, 'Ice Cream': 2, 'Street Food': 1, 'Fast Food': 8, 'BBQ': 1, 'Italian': 10, 'Finger Food': 2, 'Burger': 1, 'Japanese': 1, 'Salad': 2, 'Sushi': 1, 'Mexican': 1, 'Mughlai': 2, 'Andhra': 5, 'Bakery': 4, 'Juices': 1, 'Arabian': 1, 'Hyderabadi': 1, 'Cafe': 3, 'Spanish': 1, 'Wraps': 1, 'Thai': 1, 'Indonesian': 1, 'Modern Indian': 1, 'Momos': 1}\n",
            "{'Chinese': 30, 'Continental': 16, 'Kebab': 5, 'European': 4, 'South Indian': 8, 'North Indian': 44, 'Biryani': 10, 'Asian': 9, 'Mediterranean': 5, 'Desserts': 9, 'Seafood': 2, 'Beverages': 2, 'Goan': 1, 'Healthy Food': 1, 'Lebanese': 1, 'American': 4, 'Ice Cream': 2, 'Street Food': 1, 'Fast Food': 8, 'BBQ': 1, 'Italian': 10, 'Finger Food': 2, 'Burger': 1, 'Japanese': 1, 'Salad': 2, 'Sushi': 1, 'Mexican': 1, 'Mughlai': 2, 'Andhra': 5, 'Bakery': 4, 'Juices': 1, 'Arabian': 1, 'Hyderabadi': 1, 'Cafe': 3, 'Spanish': 1, 'Wraps': 1, 'Thai': 1, 'Indonesian': 1, 'Modern Indian': 1, 'Momos': 1}\n",
            "{'Chinese': 30, 'Continental': 16, 'Kebab': 5, 'European': 4, 'South Indian': 8, 'North Indian': 44, 'Biryani': 10, 'Asian': 9, 'Mediterranean': 5, 'Desserts': 9, 'Seafood': 2, 'Beverages': 2, 'Goan': 1, 'Healthy Food': 1, 'Lebanese': 1, 'American': 4, 'Ice Cream': 2, 'Street Food': 1, 'Fast Food': 8, 'BBQ': 1, 'Italian': 10, 'Finger Food': 2, 'Burger': 1, 'Japanese': 2, 'Salad': 2, 'Sushi': 1, 'Mexican': 1, 'Mughlai': 2, 'Andhra': 5, 'Bakery': 4, 'Juices': 1, 'Arabian': 1, 'Hyderabadi': 1, 'Cafe': 3, 'Spanish': 1, 'Wraps': 1, 'Thai': 1, 'Indonesian': 1, 'Modern Indian': 1, 'Momos': 1}\n",
            "{'Chinese': 30, 'Continental': 16, 'Kebab': 5, 'European': 4, 'South Indian': 8, 'North Indian': 44, 'Biryani': 10, 'Asian': 9, 'Mediterranean': 5, 'Desserts': 9, 'Seafood': 2, 'Beverages': 2, 'Goan': 1, 'Healthy Food': 1, 'Lebanese': 1, 'American': 4, 'Ice Cream': 2, 'Street Food': 1, 'Fast Food': 8, 'BBQ': 1, 'Italian': 10, 'Finger Food': 2, 'Burger': 1, 'Japanese': 2, 'Salad': 2, 'Sushi': 2, 'Mexican': 1, 'Mughlai': 2, 'Andhra': 5, 'Bakery': 4, 'Juices': 1, 'Arabian': 1, 'Hyderabadi': 1, 'Cafe': 3, 'Spanish': 1, 'Wraps': 1, 'Thai': 1, 'Indonesian': 1, 'Modern Indian': 1, 'Momos': 1}\n",
            "{'Chinese': 30, 'Continental': 16, 'Kebab': 5, 'European': 4, 'South Indian': 8, 'North Indian': 45, 'Biryani': 10, 'Asian': 9, 'Mediterranean': 5, 'Desserts': 9, 'Seafood': 2, 'Beverages': 2, 'Goan': 1, 'Healthy Food': 1, 'Lebanese': 1, 'American': 4, 'Ice Cream': 2, 'Street Food': 1, 'Fast Food': 8, 'BBQ': 1, 'Italian': 10, 'Finger Food': 2, 'Burger': 1, 'Japanese': 2, 'Salad': 2, 'Sushi': 2, 'Mexican': 1, 'Mughlai': 2, 'Andhra': 5, 'Bakery': 4, 'Juices': 1, 'Arabian': 1, 'Hyderabadi': 1, 'Cafe': 3, 'Spanish': 1, 'Wraps': 1, 'Thai': 1, 'Indonesian': 1, 'Modern Indian': 1, 'Momos': 1}\n",
            "{'Chinese': 31, 'Continental': 16, 'Kebab': 5, 'European': 4, 'South Indian': 8, 'North Indian': 45, 'Biryani': 10, 'Asian': 9, 'Mediterranean': 5, 'Desserts': 9, 'Seafood': 2, 'Beverages': 2, 'Goan': 1, 'Healthy Food': 1, 'Lebanese': 1, 'American': 4, 'Ice Cream': 2, 'Street Food': 1, 'Fast Food': 8, 'BBQ': 1, 'Italian': 10, 'Finger Food': 2, 'Burger': 1, 'Japanese': 2, 'Salad': 2, 'Sushi': 2, 'Mexican': 1, 'Mughlai': 2, 'Andhra': 5, 'Bakery': 4, 'Juices': 1, 'Arabian': 1, 'Hyderabadi': 1, 'Cafe': 3, 'Spanish': 1, 'Wraps': 1, 'Thai': 1, 'Indonesian': 1, 'Modern Indian': 1, 'Momos': 1}\n",
            "{'Chinese': 31, 'Continental': 16, 'Kebab': 5, 'European': 4, 'South Indian': 8, 'North Indian': 45, 'Biryani': 10, 'Asian': 9, 'Mediterranean': 5, 'Desserts': 9, 'Seafood': 2, 'Beverages': 2, 'Goan': 1, 'Healthy Food': 1, 'Lebanese': 1, 'American': 4, 'Ice Cream': 2, 'Street Food': 1, 'Fast Food': 8, 'BBQ': 1, 'Italian': 10, 'Finger Food': 2, 'Burger': 1, 'Japanese': 2, 'Salad': 2, 'Sushi': 2, 'Mexican': 1, 'Mughlai': 3, 'Andhra': 5, 'Bakery': 4, 'Juices': 1, 'Arabian': 1, 'Hyderabadi': 1, 'Cafe': 3, 'Spanish': 1, 'Wraps': 1, 'Thai': 1, 'Indonesian': 1, 'Modern Indian': 1, 'Momos': 1}\n",
            "{'Chinese': 31, 'Continental': 16, 'Kebab': 5, 'European': 4, 'South Indian': 8, 'North Indian': 45, 'Biryani': 11, 'Asian': 9, 'Mediterranean': 5, 'Desserts': 9, 'Seafood': 2, 'Beverages': 2, 'Goan': 1, 'Healthy Food': 1, 'Lebanese': 1, 'American': 4, 'Ice Cream': 2, 'Street Food': 1, 'Fast Food': 8, 'BBQ': 1, 'Italian': 10, 'Finger Food': 2, 'Burger': 1, 'Japanese': 2, 'Salad': 2, 'Sushi': 2, 'Mexican': 1, 'Mughlai': 3, 'Andhra': 5, 'Bakery': 4, 'Juices': 1, 'Arabian': 1, 'Hyderabadi': 1, 'Cafe': 3, 'Spanish': 1, 'Wraps': 1, 'Thai': 1, 'Indonesian': 1, 'Modern Indian': 1, 'Momos': 1}\n",
            "{'Chinese': 31, 'Continental': 16, 'Kebab': 5, 'European': 4, 'South Indian': 8, 'North Indian': 46, 'Biryani': 11, 'Asian': 9, 'Mediterranean': 5, 'Desserts': 9, 'Seafood': 2, 'Beverages': 2, 'Goan': 1, 'Healthy Food': 1, 'Lebanese': 1, 'American': 4, 'Ice Cream': 2, 'Street Food': 1, 'Fast Food': 8, 'BBQ': 1, 'Italian': 10, 'Finger Food': 2, 'Burger': 1, 'Japanese': 2, 'Salad': 2, 'Sushi': 2, 'Mexican': 1, 'Mughlai': 3, 'Andhra': 5, 'Bakery': 4, 'Juices': 1, 'Arabian': 1, 'Hyderabadi': 1, 'Cafe': 3, 'Spanish': 1, 'Wraps': 1, 'Thai': 1, 'Indonesian': 1, 'Modern Indian': 1, 'Momos': 1}\n",
            "{'Chinese': 31, 'Continental': 16, 'Kebab': 5, 'European': 4, 'South Indian': 8, 'North Indian': 46, 'Biryani': 11, 'Asian': 9, 'Mediterranean': 5, 'Desserts': 9, 'Seafood': 2, 'Beverages': 2, 'Goan': 1, 'Healthy Food': 1, 'Lebanese': 1, 'American': 4, 'Ice Cream': 2, 'Street Food': 1, 'Fast Food': 8, 'BBQ': 1, 'Italian': 10, 'Finger Food': 2, 'Burger': 1, 'Japanese': 2, 'Salad': 2, 'Sushi': 2, 'Mexican': 1, 'Mughlai': 3, 'Andhra': 5, 'Bakery': 4, 'Juices': 1, 'Arabian': 1, 'Hyderabadi': 2, 'Cafe': 3, 'Spanish': 1, 'Wraps': 1, 'Thai': 1, 'Indonesian': 1, 'Modern Indian': 1, 'Momos': 1}\n",
            "{'Chinese': 31, 'Continental': 16, 'Kebab': 5, 'European': 4, 'South Indian': 8, 'North Indian': 47, 'Biryani': 11, 'Asian': 9, 'Mediterranean': 5, 'Desserts': 9, 'Seafood': 2, 'Beverages': 2, 'Goan': 1, 'Healthy Food': 1, 'Lebanese': 1, 'American': 4, 'Ice Cream': 2, 'Street Food': 1, 'Fast Food': 8, 'BBQ': 1, 'Italian': 10, 'Finger Food': 2, 'Burger': 1, 'Japanese': 2, 'Salad': 2, 'Sushi': 2, 'Mexican': 1, 'Mughlai': 3, 'Andhra': 5, 'Bakery': 4, 'Juices': 1, 'Arabian': 1, 'Hyderabadi': 2, 'Cafe': 3, 'Spanish': 1, 'Wraps': 1, 'Thai': 1, 'Indonesian': 1, 'Modern Indian': 1, 'Momos': 1}\n",
            "{'Chinese': 31, 'Continental': 17, 'Kebab': 5, 'European': 4, 'South Indian': 8, 'North Indian': 47, 'Biryani': 11, 'Asian': 9, 'Mediterranean': 5, 'Desserts': 9, 'Seafood': 2, 'Beverages': 2, 'Goan': 1, 'Healthy Food': 1, 'Lebanese': 1, 'American': 4, 'Ice Cream': 2, 'Street Food': 1, 'Fast Food': 8, 'BBQ': 1, 'Italian': 10, 'Finger Food': 2, 'Burger': 1, 'Japanese': 2, 'Salad': 2, 'Sushi': 2, 'Mexican': 1, 'Mughlai': 3, 'Andhra': 5, 'Bakery': 4, 'Juices': 1, 'Arabian': 1, 'Hyderabadi': 2, 'Cafe': 3, 'Spanish': 1, 'Wraps': 1, 'Thai': 1, 'Indonesian': 1, 'Modern Indian': 1, 'Momos': 1}\n",
            "{'Chinese': 31, 'Continental': 17, 'Kebab': 5, 'European': 4, 'South Indian': 8, 'North Indian': 47, 'Biryani': 11, 'Asian': 9, 'Mediterranean': 5, 'Desserts': 9, 'Seafood': 2, 'Beverages': 2, 'Goan': 1, 'Healthy Food': 1, 'Lebanese': 1, 'American': 4, 'Ice Cream': 2, 'Street Food': 1, 'Fast Food': 8, 'BBQ': 1, 'Italian': 11, 'Finger Food': 2, 'Burger': 1, 'Japanese': 2, 'Salad': 2, 'Sushi': 2, 'Mexican': 1, 'Mughlai': 3, 'Andhra': 5, 'Bakery': 4, 'Juices': 1, 'Arabian': 1, 'Hyderabadi': 2, 'Cafe': 3, 'Spanish': 1, 'Wraps': 1, 'Thai': 1, 'Indonesian': 1, 'Modern Indian': 1, 'Momos': 1}\n",
            "{'Chinese': 31, 'Continental': 17, 'Kebab': 5, 'European': 4, 'South Indian': 8, 'North Indian': 47, 'Biryani': 11, 'Asian': 9, 'Mediterranean': 5, 'Desserts': 9, 'Seafood': 2, 'Beverages': 2, 'Goan': 1, 'Healthy Food': 1, 'Lebanese': 1, 'American': 4, 'Ice Cream': 2, 'Street Food': 1, 'Fast Food': 8, 'BBQ': 2, 'Italian': 11, 'Finger Food': 2, 'Burger': 1, 'Japanese': 2, 'Salad': 2, 'Sushi': 2, 'Mexican': 1, 'Mughlai': 3, 'Andhra': 5, 'Bakery': 4, 'Juices': 1, 'Arabian': 1, 'Hyderabadi': 2, 'Cafe': 3, 'Spanish': 1, 'Wraps': 1, 'Thai': 1, 'Indonesian': 1, 'Modern Indian': 1, 'Momos': 1}\n",
            "{'Chinese': 31, 'Continental': 17, 'Kebab': 5, 'European': 4, 'South Indian': 8, 'North Indian': 47, 'Biryani': 11, 'Asian': 10, 'Mediterranean': 5, 'Desserts': 9, 'Seafood': 2, 'Beverages': 2, 'Goan': 1, 'Healthy Food': 1, 'Lebanese': 1, 'American': 4, 'Ice Cream': 2, 'Street Food': 1, 'Fast Food': 8, 'BBQ': 2, 'Italian': 11, 'Finger Food': 2, 'Burger': 1, 'Japanese': 2, 'Salad': 2, 'Sushi': 2, 'Mexican': 1, 'Mughlai': 3, 'Andhra': 5, 'Bakery': 4, 'Juices': 1, 'Arabian': 1, 'Hyderabadi': 2, 'Cafe': 3, 'Spanish': 1, 'Wraps': 1, 'Thai': 1, 'Indonesian': 1, 'Modern Indian': 1, 'Momos': 1}\n",
            "{'Chinese': 31, 'Continental': 17, 'Kebab': 5, 'European': 4, 'South Indian': 8, 'North Indian': 47, 'Biryani': 11, 'Asian': 10, 'Mediterranean': 5, 'Desserts': 9, 'Seafood': 2, 'Beverages': 2, 'Goan': 1, 'Healthy Food': 1, 'Lebanese': 1, 'American': 4, 'Ice Cream': 2, 'Street Food': 1, 'Fast Food': 8, 'BBQ': 2, 'Italian': 11, 'Finger Food': 2, 'Burger': 1, 'Japanese': 2, 'Salad': 2, 'Sushi': 2, 'Mexican': 1, 'Mughlai': 3, 'Andhra': 5, 'Bakery': 4, 'Juices': 1, 'Arabian': 1, 'Hyderabadi': 2, 'Cafe': 3, 'Spanish': 1, 'Wraps': 1, 'Thai': 1, 'Indonesian': 1, 'Modern Indian': 2, 'Momos': 1}\n",
            "{'Chinese': 31, 'Continental': 17, 'Kebab': 5, 'European': 4, 'South Indian': 8, 'North Indian': 47, 'Biryani': 11, 'Asian': 11, 'Mediterranean': 5, 'Desserts': 9, 'Seafood': 2, 'Beverages': 2, 'Goan': 1, 'Healthy Food': 1, 'Lebanese': 1, 'American': 4, 'Ice Cream': 2, 'Street Food': 1, 'Fast Food': 8, 'BBQ': 2, 'Italian': 11, 'Finger Food': 2, 'Burger': 1, 'Japanese': 2, 'Salad': 2, 'Sushi': 2, 'Mexican': 1, 'Mughlai': 3, 'Andhra': 5, 'Bakery': 4, 'Juices': 1, 'Arabian': 1, 'Hyderabadi': 2, 'Cafe': 3, 'Spanish': 1, 'Wraps': 1, 'Thai': 1, 'Indonesian': 1, 'Modern Indian': 2, 'Momos': 1}\n",
            "{'Chinese': 31, 'Continental': 17, 'Kebab': 5, 'European': 4, 'South Indian': 8, 'North Indian': 47, 'Biryani': 11, 'Asian': 11, 'Mediterranean': 5, 'Desserts': 9, 'Seafood': 2, 'Beverages': 2, 'Goan': 1, 'Healthy Food': 1, 'Lebanese': 1, 'American': 4, 'Ice Cream': 2, 'Street Food': 1, 'Fast Food': 8, 'BBQ': 2, 'Italian': 11, 'Finger Food': 2, 'Burger': 1, 'Japanese': 2, 'Salad': 2, 'Sushi': 2, 'Mexican': 1, 'Mughlai': 3, 'Andhra': 5, 'Bakery': 4, 'Juices': 1, 'Arabian': 1, 'Hyderabadi': 2, 'Cafe': 3, 'Spanish': 1, 'Wraps': 1, 'Thai': 2, 'Indonesian': 1, 'Modern Indian': 2, 'Momos': 1}\n",
            "{'Chinese': 32, 'Continental': 17, 'Kebab': 5, 'European': 4, 'South Indian': 8, 'North Indian': 47, 'Biryani': 11, 'Asian': 11, 'Mediterranean': 5, 'Desserts': 9, 'Seafood': 2, 'Beverages': 2, 'Goan': 1, 'Healthy Food': 1, 'Lebanese': 1, 'American': 4, 'Ice Cream': 2, 'Street Food': 1, 'Fast Food': 8, 'BBQ': 2, 'Italian': 11, 'Finger Food': 2, 'Burger': 1, 'Japanese': 2, 'Salad': 2, 'Sushi': 2, 'Mexican': 1, 'Mughlai': 3, 'Andhra': 5, 'Bakery': 4, 'Juices': 1, 'Arabian': 1, 'Hyderabadi': 2, 'Cafe': 3, 'Spanish': 1, 'Wraps': 1, 'Thai': 2, 'Indonesian': 1, 'Modern Indian': 2, 'Momos': 1}\n",
            "{'Chinese': 32, 'Continental': 17, 'Kebab': 5, 'European': 4, 'South Indian': 8, 'North Indian': 47, 'Biryani': 11, 'Asian': 11, 'Mediterranean': 5, 'Desserts': 9, 'Seafood': 2, 'Beverages': 2, 'Goan': 1, 'Healthy Food': 1, 'Lebanese': 1, 'American': 4, 'Ice Cream': 2, 'Street Food': 1, 'Fast Food': 8, 'BBQ': 2, 'Italian': 11, 'Finger Food': 2, 'Burger': 1, 'Japanese': 2, 'Salad': 2, 'Sushi': 3, 'Mexican': 1, 'Mughlai': 3, 'Andhra': 5, 'Bakery': 4, 'Juices': 1, 'Arabian': 1, 'Hyderabadi': 2, 'Cafe': 3, 'Spanish': 1, 'Wraps': 1, 'Thai': 2, 'Indonesian': 1, 'Modern Indian': 2, 'Momos': 1}\n",
            "{'Chinese': 32, 'Continental': 17, 'Kebab': 5, 'European': 4, 'South Indian': 8, 'North Indian': 47, 'Biryani': 11, 'Asian': 11, 'Mediterranean': 5, 'Desserts': 9, 'Seafood': 2, 'Beverages': 2, 'Goan': 1, 'Healthy Food': 1, 'Lebanese': 1, 'American': 4, 'Ice Cream': 2, 'Street Food': 1, 'Fast Food': 8, 'BBQ': 2, 'Italian': 11, 'Finger Food': 2, 'Burger': 1, 'Japanese': 2, 'Salad': 2, 'Sushi': 3, 'Mexican': 1, 'Mughlai': 3, 'Andhra': 5, 'Bakery': 4, 'Juices': 1, 'Arabian': 1, 'Hyderabadi': 2, 'Cafe': 3, 'Spanish': 1, 'Wraps': 1, 'Thai': 2, 'Indonesian': 1, 'Modern Indian': 2, 'Momos': 2}\n",
            "{'Chinese': 32, 'Continental': 17, 'Kebab': 5, 'European': 4, 'South Indian': 8, 'North Indian': 48, 'Biryani': 11, 'Asian': 11, 'Mediterranean': 5, 'Desserts': 9, 'Seafood': 2, 'Beverages': 2, 'Goan': 1, 'Healthy Food': 1, 'Lebanese': 1, 'American': 4, 'Ice Cream': 2, 'Street Food': 1, 'Fast Food': 8, 'BBQ': 2, 'Italian': 11, 'Finger Food': 2, 'Burger': 1, 'Japanese': 2, 'Salad': 2, 'Sushi': 3, 'Mexican': 1, 'Mughlai': 3, 'Andhra': 5, 'Bakery': 4, 'Juices': 1, 'Arabian': 1, 'Hyderabadi': 2, 'Cafe': 3, 'Spanish': 1, 'Wraps': 1, 'Thai': 2, 'Indonesian': 1, 'Modern Indian': 2, 'Momos': 2}\n",
            "{'Chinese': 32, 'Continental': 17, 'Kebab': 5, 'European': 4, 'South Indian': 8, 'North Indian': 48, 'Biryani': 11, 'Asian': 11, 'Mediterranean': 5, 'Desserts': 9, 'Seafood': 2, 'Beverages': 2, 'Goan': 1, 'Healthy Food': 1, 'Lebanese': 1, 'American': 4, 'Ice Cream': 2, 'Street Food': 1, 'Fast Food': 8, 'BBQ': 2, 'Italian': 11, 'Finger Food': 2, 'Burger': 1, 'Japanese': 2, 'Salad': 2, 'Sushi': 3, 'Mexican': 1, 'Mughlai': 4, 'Andhra': 5, 'Bakery': 4, 'Juices': 1, 'Arabian': 1, 'Hyderabadi': 2, 'Cafe': 3, 'Spanish': 1, 'Wraps': 1, 'Thai': 2, 'Indonesian': 1, 'Modern Indian': 2, 'Momos': 2}\n",
            "{'Chinese': 32, 'Continental': 17, 'Kebab': 5, 'European': 4, 'South Indian': 8, 'North Indian': 48, 'Biryani': 11, 'Asian': 11, 'Mediterranean': 5, 'Desserts': 9, 'Seafood': 2, 'Beverages': 3, 'Goan': 1, 'Healthy Food': 1, 'Lebanese': 1, 'American': 4, 'Ice Cream': 2, 'Street Food': 1, 'Fast Food': 8, 'BBQ': 2, 'Italian': 11, 'Finger Food': 2, 'Burger': 1, 'Japanese': 2, 'Salad': 2, 'Sushi': 3, 'Mexican': 1, 'Mughlai': 4, 'Andhra': 5, 'Bakery': 4, 'Juices': 1, 'Arabian': 1, 'Hyderabadi': 2, 'Cafe': 3, 'Spanish': 1, 'Wraps': 1, 'Thai': 2, 'Indonesian': 1, 'Modern Indian': 2, 'Momos': 2}\n",
            "{'Chinese': 32, 'Continental': 17, 'Kebab': 5, 'European': 4, 'South Indian': 8, 'North Indian': 48, 'Biryani': 11, 'Asian': 11, 'Mediterranean': 5, 'Desserts': 9, 'Seafood': 2, 'Beverages': 3, 'Goan': 1, 'Healthy Food': 1, 'Lebanese': 1, 'American': 4, 'Ice Cream': 2, 'Street Food': 1, 'Fast Food': 8, 'BBQ': 2, 'Italian': 11, 'Finger Food': 2, 'Burger': 1, 'Japanese': 2, 'Salad': 2, 'Sushi': 3, 'Mexican': 1, 'Mughlai': 4, 'Andhra': 5, 'Bakery': 5, 'Juices': 1, 'Arabian': 1, 'Hyderabadi': 2, 'Cafe': 3, 'Spanish': 1, 'Wraps': 1, 'Thai': 2, 'Indonesian': 1, 'Modern Indian': 2, 'Momos': 2}\n",
            "{'Chinese': 32, 'Continental': 17, 'Kebab': 5, 'European': 4, 'South Indian': 8, 'North Indian': 48, 'Biryani': 11, 'Asian': 11, 'Mediterranean': 5, 'Desserts': 10, 'Seafood': 2, 'Beverages': 3, 'Goan': 1, 'Healthy Food': 1, 'Lebanese': 1, 'American': 4, 'Ice Cream': 2, 'Street Food': 1, 'Fast Food': 8, 'BBQ': 2, 'Italian': 11, 'Finger Food': 2, 'Burger': 1, 'Japanese': 2, 'Salad': 2, 'Sushi': 3, 'Mexican': 1, 'Mughlai': 4, 'Andhra': 5, 'Bakery': 5, 'Juices': 1, 'Arabian': 1, 'Hyderabadi': 2, 'Cafe': 3, 'Spanish': 1, 'Wraps': 1, 'Thai': 2, 'Indonesian': 1, 'Modern Indian': 2, 'Momos': 2}\n",
            "{'Chinese': 32, 'Continental': 17, 'Kebab': 5, 'European': 4, 'South Indian': 8, 'North Indian': 48, 'Biryani': 11, 'Asian': 11, 'Mediterranean': 5, 'Desserts': 10, 'Seafood': 2, 'Beverages': 3, 'Goan': 1, 'Healthy Food': 1, 'Lebanese': 1, 'American': 4, 'Ice Cream': 2, 'Street Food': 1, 'Fast Food': 8, 'BBQ': 2, 'Italian': 11, 'Finger Food': 2, 'Burger': 1, 'Japanese': 2, 'Salad': 2, 'Sushi': 3, 'Mexican': 1, 'Mughlai': 4, 'Andhra': 5, 'Bakery': 5, 'Juices': 1, 'Arabian': 1, 'Hyderabadi': 2, 'Cafe': 4, 'Spanish': 1, 'Wraps': 1, 'Thai': 2, 'Indonesian': 1, 'Modern Indian': 2, 'Momos': 2}\n",
            "{'Chinese': 32, 'Continental': 17, 'Kebab': 5, 'European': 4, 'South Indian': 8, 'North Indian': 48, 'Biryani': 11, 'Asian': 11, 'Mediterranean': 5, 'Desserts': 10, 'Seafood': 2, 'Beverages': 3, 'Goan': 1, 'Healthy Food': 1, 'Lebanese': 1, 'American': 4, 'Ice Cream': 2, 'Street Food': 1, 'Fast Food': 9, 'BBQ': 2, 'Italian': 11, 'Finger Food': 2, 'Burger': 1, 'Japanese': 2, 'Salad': 2, 'Sushi': 3, 'Mexican': 1, 'Mughlai': 4, 'Andhra': 5, 'Bakery': 5, 'Juices': 1, 'Arabian': 1, 'Hyderabadi': 2, 'Cafe': 4, 'Spanish': 1, 'Wraps': 1, 'Thai': 2, 'Indonesian': 1, 'Modern Indian': 2, 'Momos': 2}\n",
            "{'Chinese': 32, 'Continental': 17, 'Kebab': 5, 'European': 4, 'South Indian': 8, 'North Indian': 48, 'Biryani': 11, 'Asian': 11, 'Mediterranean': 5, 'Desserts': 10, 'Seafood': 2, 'Beverages': 4, 'Goan': 1, 'Healthy Food': 1, 'Lebanese': 1, 'American': 4, 'Ice Cream': 2, 'Street Food': 1, 'Fast Food': 9, 'BBQ': 2, 'Italian': 11, 'Finger Food': 2, 'Burger': 1, 'Japanese': 2, 'Salad': 2, 'Sushi': 3, 'Mexican': 1, 'Mughlai': 4, 'Andhra': 5, 'Bakery': 5, 'Juices': 1, 'Arabian': 1, 'Hyderabadi': 2, 'Cafe': 4, 'Spanish': 1, 'Wraps': 1, 'Thai': 2, 'Indonesian': 1, 'Modern Indian': 2, 'Momos': 2}\n",
            "{'Chinese': 32, 'Continental': 17, 'Kebab': 5, 'European': 4, 'South Indian': 8, 'North Indian': 48, 'Biryani': 11, 'Asian': 11, 'Mediterranean': 5, 'Desserts': 10, 'Seafood': 2, 'Beverages': 4, 'Goan': 1, 'Healthy Food': 1, 'Lebanese': 1, 'American': 4, 'Ice Cream': 2, 'Street Food': 1, 'Fast Food': 10, 'BBQ': 2, 'Italian': 11, 'Finger Food': 2, 'Burger': 1, 'Japanese': 2, 'Salad': 2, 'Sushi': 3, 'Mexican': 1, 'Mughlai': 4, 'Andhra': 5, 'Bakery': 5, 'Juices': 1, 'Arabian': 1, 'Hyderabadi': 2, 'Cafe': 4, 'Spanish': 1, 'Wraps': 1, 'Thai': 2, 'Indonesian': 1, 'Modern Indian': 2, 'Momos': 2}\n",
            "{'Chinese': 32, 'Continental': 17, 'Kebab': 5, 'European': 4, 'South Indian': 8, 'North Indian': 48, 'Biryani': 12, 'Asian': 11, 'Mediterranean': 5, 'Desserts': 10, 'Seafood': 2, 'Beverages': 4, 'Goan': 1, 'Healthy Food': 1, 'Lebanese': 1, 'American': 4, 'Ice Cream': 2, 'Street Food': 1, 'Fast Food': 10, 'BBQ': 2, 'Italian': 11, 'Finger Food': 2, 'Burger': 1, 'Japanese': 2, 'Salad': 2, 'Sushi': 3, 'Mexican': 1, 'Mughlai': 4, 'Andhra': 5, 'Bakery': 5, 'Juices': 1, 'Arabian': 1, 'Hyderabadi': 2, 'Cafe': 4, 'Spanish': 1, 'Wraps': 1, 'Thai': 2, 'Indonesian': 1, 'Modern Indian': 2, 'Momos': 2}\n",
            "{'Chinese': 32, 'Continental': 17, 'Kebab': 5, 'European': 4, 'South Indian': 8, 'North Indian': 48, 'Biryani': 12, 'Asian': 11, 'Mediterranean': 5, 'Desserts': 11, 'Seafood': 2, 'Beverages': 4, 'Goan': 1, 'Healthy Food': 1, 'Lebanese': 1, 'American': 4, 'Ice Cream': 2, 'Street Food': 1, 'Fast Food': 10, 'BBQ': 2, 'Italian': 11, 'Finger Food': 2, 'Burger': 1, 'Japanese': 2, 'Salad': 2, 'Sushi': 3, 'Mexican': 1, 'Mughlai': 4, 'Andhra': 5, 'Bakery': 5, 'Juices': 1, 'Arabian': 1, 'Hyderabadi': 2, 'Cafe': 4, 'Spanish': 1, 'Wraps': 1, 'Thai': 2, 'Indonesian': 1, 'Modern Indian': 2, 'Momos': 2}\n",
            "{'Chinese': 32, 'Continental': 17, 'Kebab': 5, 'European': 4, 'South Indian': 8, 'North Indian': 49, 'Biryani': 12, 'Asian': 11, 'Mediterranean': 5, 'Desserts': 11, 'Seafood': 2, 'Beverages': 4, 'Goan': 1, 'Healthy Food': 1, 'Lebanese': 1, 'American': 4, 'Ice Cream': 2, 'Street Food': 1, 'Fast Food': 10, 'BBQ': 2, 'Italian': 11, 'Finger Food': 2, 'Burger': 1, 'Japanese': 2, 'Salad': 2, 'Sushi': 3, 'Mexican': 1, 'Mughlai': 4, 'Andhra': 5, 'Bakery': 5, 'Juices': 1, 'Arabian': 1, 'Hyderabadi': 2, 'Cafe': 4, 'Spanish': 1, 'Wraps': 1, 'Thai': 2, 'Indonesian': 1, 'Modern Indian': 2, 'Momos': 2}\n",
            "{'Chinese': 32, 'Continental': 17, 'Kebab': 5, 'European': 4, 'South Indian': 9, 'North Indian': 49, 'Biryani': 12, 'Asian': 11, 'Mediterranean': 5, 'Desserts': 11, 'Seafood': 2, 'Beverages': 4, 'Goan': 1, 'Healthy Food': 1, 'Lebanese': 1, 'American': 4, 'Ice Cream': 2, 'Street Food': 1, 'Fast Food': 10, 'BBQ': 2, 'Italian': 11, 'Finger Food': 2, 'Burger': 1, 'Japanese': 2, 'Salad': 2, 'Sushi': 3, 'Mexican': 1, 'Mughlai': 4, 'Andhra': 5, 'Bakery': 5, 'Juices': 1, 'Arabian': 1, 'Hyderabadi': 2, 'Cafe': 4, 'Spanish': 1, 'Wraps': 1, 'Thai': 2, 'Indonesian': 1, 'Modern Indian': 2, 'Momos': 2}\n",
            "{'Chinese': 32, 'Continental': 17, 'Kebab': 5, 'European': 4, 'South Indian': 9, 'North Indian': 49, 'Biryani': 12, 'Asian': 11, 'Mediterranean': 5, 'Desserts': 11, 'Seafood': 2, 'Beverages': 4, 'Goan': 1, 'Healthy Food': 1, 'Lebanese': 1, 'American': 4, 'Ice Cream': 2, 'Street Food': 1, 'Fast Food': 10, 'BBQ': 2, 'Italian': 11, 'Finger Food': 2, 'Burger': 1, 'Japanese': 2, 'Salad': 2, 'Sushi': 3, 'Mexican': 1, 'Mughlai': 4, 'Andhra': 5, 'Bakery': 6, 'Juices': 1, 'Arabian': 1, 'Hyderabadi': 2, 'Cafe': 4, 'Spanish': 1, 'Wraps': 1, 'Thai': 2, 'Indonesian': 1, 'Modern Indian': 2, 'Momos': 2}\n",
            "{'Chinese': 32, 'Continental': 17, 'Kebab': 5, 'European': 4, 'South Indian': 9, 'North Indian': 49, 'Biryani': 12, 'Asian': 11, 'Mediterranean': 5, 'Desserts': 11, 'Seafood': 2, 'Beverages': 4, 'Goan': 1, 'Healthy Food': 1, 'Lebanese': 1, 'American': 4, 'Ice Cream': 2, 'Street Food': 1, 'Fast Food': 10, 'BBQ': 2, 'Italian': 12, 'Finger Food': 2, 'Burger': 1, 'Japanese': 2, 'Salad': 2, 'Sushi': 3, 'Mexican': 1, 'Mughlai': 4, 'Andhra': 5, 'Bakery': 6, 'Juices': 1, 'Arabian': 1, 'Hyderabadi': 2, 'Cafe': 4, 'Spanish': 1, 'Wraps': 1, 'Thai': 2, 'Indonesian': 1, 'Modern Indian': 2, 'Momos': 2}\n",
            "{'Chinese': 32, 'Continental': 17, 'Kebab': 5, 'European': 4, 'South Indian': 9, 'North Indian': 50, 'Biryani': 12, 'Asian': 11, 'Mediterranean': 5, 'Desserts': 11, 'Seafood': 2, 'Beverages': 4, 'Goan': 1, 'Healthy Food': 1, 'Lebanese': 1, 'American': 4, 'Ice Cream': 2, 'Street Food': 1, 'Fast Food': 10, 'BBQ': 2, 'Italian': 12, 'Finger Food': 2, 'Burger': 1, 'Japanese': 2, 'Salad': 2, 'Sushi': 3, 'Mexican': 1, 'Mughlai': 4, 'Andhra': 5, 'Bakery': 6, 'Juices': 1, 'Arabian': 1, 'Hyderabadi': 2, 'Cafe': 4, 'Spanish': 1, 'Wraps': 1, 'Thai': 2, 'Indonesian': 1, 'Modern Indian': 2, 'Momos': 2}\n",
            "{'Chinese': 33, 'Continental': 17, 'Kebab': 5, 'European': 4, 'South Indian': 9, 'North Indian': 50, 'Biryani': 12, 'Asian': 11, 'Mediterranean': 5, 'Desserts': 11, 'Seafood': 2, 'Beverages': 4, 'Goan': 1, 'Healthy Food': 1, 'Lebanese': 1, 'American': 4, 'Ice Cream': 2, 'Street Food': 1, 'Fast Food': 10, 'BBQ': 2, 'Italian': 12, 'Finger Food': 2, 'Burger': 1, 'Japanese': 2, 'Salad': 2, 'Sushi': 3, 'Mexican': 1, 'Mughlai': 4, 'Andhra': 5, 'Bakery': 6, 'Juices': 1, 'Arabian': 1, 'Hyderabadi': 2, 'Cafe': 4, 'Spanish': 1, 'Wraps': 1, 'Thai': 2, 'Indonesian': 1, 'Modern Indian': 2, 'Momos': 2}\n",
            "{'Chinese': 33, 'Continental': 17, 'Kebab': 5, 'European': 4, 'South Indian': 9, 'North Indian': 50, 'Biryani': 12, 'Asian': 11, 'Mediterranean': 5, 'Desserts': 11, 'Seafood': 2, 'Beverages': 4, 'Goan': 1, 'Healthy Food': 1, 'Lebanese': 1, 'American': 4, 'Ice Cream': 2, 'Street Food': 1, 'Fast Food': 10, 'BBQ': 2, 'Italian': 12, 'Finger Food': 2, 'Burger': 1, 'Japanese': 2, 'Salad': 3, 'Sushi': 3, 'Mexican': 1, 'Mughlai': 4, 'Andhra': 5, 'Bakery': 6, 'Juices': 1, 'Arabian': 1, 'Hyderabadi': 2, 'Cafe': 4, 'Spanish': 1, 'Wraps': 1, 'Thai': 2, 'Indonesian': 1, 'Modern Indian': 2, 'Momos': 2}\n",
            "{'Chinese': 33, 'Continental': 17, 'Kebab': 5, 'European': 4, 'South Indian': 9, 'North Indian': 51, 'Biryani': 12, 'Asian': 11, 'Mediterranean': 5, 'Desserts': 11, 'Seafood': 2, 'Beverages': 4, 'Goan': 1, 'Healthy Food': 1, 'Lebanese': 1, 'American': 4, 'Ice Cream': 2, 'Street Food': 1, 'Fast Food': 10, 'BBQ': 2, 'Italian': 12, 'Finger Food': 2, 'Burger': 1, 'Japanese': 2, 'Salad': 3, 'Sushi': 3, 'Mexican': 1, 'Mughlai': 4, 'Andhra': 5, 'Bakery': 6, 'Juices': 1, 'Arabian': 1, 'Hyderabadi': 2, 'Cafe': 4, 'Spanish': 1, 'Wraps': 1, 'Thai': 2, 'Indonesian': 1, 'Modern Indian': 2, 'Momos': 2}\n",
            "{'Chinese': 33, 'Continental': 17, 'Kebab': 5, 'European': 4, 'South Indian': 9, 'North Indian': 51, 'Biryani': 12, 'Asian': 11, 'Mediterranean': 5, 'Desserts': 11, 'Seafood': 2, 'Beverages': 4, 'Goan': 1, 'Healthy Food': 1, 'Lebanese': 1, 'American': 4, 'Ice Cream': 2, 'Street Food': 1, 'Fast Food': 10, 'BBQ': 2, 'Italian': 12, 'Finger Food': 2, 'Burger': 1, 'Japanese': 2, 'Salad': 3, 'Sushi': 3, 'Mexican': 1, 'Mughlai': 5, 'Andhra': 5, 'Bakery': 6, 'Juices': 1, 'Arabian': 1, 'Hyderabadi': 2, 'Cafe': 4, 'Spanish': 1, 'Wraps': 1, 'Thai': 2, 'Indonesian': 1, 'Modern Indian': 2, 'Momos': 2}\n",
            "{'Chinese': 33, 'Continental': 17, 'Kebab': 5, 'European': 4, 'South Indian': 9, 'North Indian': 52, 'Biryani': 12, 'Asian': 11, 'Mediterranean': 5, 'Desserts': 11, 'Seafood': 2, 'Beverages': 4, 'Goan': 1, 'Healthy Food': 1, 'Lebanese': 1, 'American': 4, 'Ice Cream': 2, 'Street Food': 1, 'Fast Food': 10, 'BBQ': 2, 'Italian': 12, 'Finger Food': 2, 'Burger': 1, 'Japanese': 2, 'Salad': 3, 'Sushi': 3, 'Mexican': 1, 'Mughlai': 5, 'Andhra': 5, 'Bakery': 6, 'Juices': 1, 'Arabian': 1, 'Hyderabadi': 2, 'Cafe': 4, 'Spanish': 1, 'Wraps': 1, 'Thai': 2, 'Indonesian': 1, 'Modern Indian': 2, 'Momos': 2}\n",
            "{'Chinese': 34, 'Continental': 17, 'Kebab': 5, 'European': 4, 'South Indian': 9, 'North Indian': 52, 'Biryani': 12, 'Asian': 11, 'Mediterranean': 5, 'Desserts': 11, 'Seafood': 2, 'Beverages': 4, 'Goan': 1, 'Healthy Food': 1, 'Lebanese': 1, 'American': 4, 'Ice Cream': 2, 'Street Food': 1, 'Fast Food': 10, 'BBQ': 2, 'Italian': 12, 'Finger Food': 2, 'Burger': 1, 'Japanese': 2, 'Salad': 3, 'Sushi': 3, 'Mexican': 1, 'Mughlai': 5, 'Andhra': 5, 'Bakery': 6, 'Juices': 1, 'Arabian': 1, 'Hyderabadi': 2, 'Cafe': 4, 'Spanish': 1, 'Wraps': 1, 'Thai': 2, 'Indonesian': 1, 'Modern Indian': 2, 'Momos': 2}\n",
            "{'Chinese': 34, 'Continental': 18, 'Kebab': 5, 'European': 4, 'South Indian': 9, 'North Indian': 52, 'Biryani': 12, 'Asian': 11, 'Mediterranean': 5, 'Desserts': 11, 'Seafood': 2, 'Beverages': 4, 'Goan': 1, 'Healthy Food': 1, 'Lebanese': 1, 'American': 4, 'Ice Cream': 2, 'Street Food': 1, 'Fast Food': 10, 'BBQ': 2, 'Italian': 12, 'Finger Food': 2, 'Burger': 1, 'Japanese': 2, 'Salad': 3, 'Sushi': 3, 'Mexican': 1, 'Mughlai': 5, 'Andhra': 5, 'Bakery': 6, 'Juices': 1, 'Arabian': 1, 'Hyderabadi': 2, 'Cafe': 4, 'Spanish': 1, 'Wraps': 1, 'Thai': 2, 'Indonesian': 1, 'Modern Indian': 2, 'Momos': 2}\n",
            "{'Chinese': 34, 'Continental': 18, 'Kebab': 5, 'European': 4, 'South Indian': 9, 'North Indian': 52, 'Biryani': 13, 'Asian': 11, 'Mediterranean': 5, 'Desserts': 11, 'Seafood': 2, 'Beverages': 4, 'Goan': 1, 'Healthy Food': 1, 'Lebanese': 1, 'American': 4, 'Ice Cream': 2, 'Street Food': 1, 'Fast Food': 10, 'BBQ': 2, 'Italian': 12, 'Finger Food': 2, 'Burger': 1, 'Japanese': 2, 'Salad': 3, 'Sushi': 3, 'Mexican': 1, 'Mughlai': 5, 'Andhra': 5, 'Bakery': 6, 'Juices': 1, 'Arabian': 1, 'Hyderabadi': 2, 'Cafe': 4, 'Spanish': 1, 'Wraps': 1, 'Thai': 2, 'Indonesian': 1, 'Modern Indian': 2, 'Momos': 2}\n",
            "{'Chinese': 34, 'Continental': 18, 'Kebab': 5, 'European': 4, 'South Indian': 9, 'North Indian': 53, 'Biryani': 13, 'Asian': 11, 'Mediterranean': 5, 'Desserts': 11, 'Seafood': 2, 'Beverages': 4, 'Goan': 1, 'Healthy Food': 1, 'Lebanese': 1, 'American': 4, 'Ice Cream': 2, 'Street Food': 1, 'Fast Food': 10, 'BBQ': 2, 'Italian': 12, 'Finger Food': 2, 'Burger': 1, 'Japanese': 2, 'Salad': 3, 'Sushi': 3, 'Mexican': 1, 'Mughlai': 5, 'Andhra': 5, 'Bakery': 6, 'Juices': 1, 'Arabian': 1, 'Hyderabadi': 2, 'Cafe': 4, 'Spanish': 1, 'Wraps': 1, 'Thai': 2, 'Indonesian': 1, 'Modern Indian': 2, 'Momos': 2}\n",
            "{'Chinese': 34, 'Continental': 18, 'Kebab': 5, 'European': 4, 'South Indian': 9, 'North Indian': 53, 'Biryani': 13, 'Asian': 11, 'Mediterranean': 5, 'Desserts': 11, 'Seafood': 2, 'Beverages': 4, 'Goan': 1, 'Healthy Food': 1, 'Lebanese': 1, 'American': 4, 'Ice Cream': 2, 'Street Food': 1, 'Fast Food': 10, 'BBQ': 2, 'Italian': 12, 'Finger Food': 2, 'Burger': 2, 'Japanese': 2, 'Salad': 3, 'Sushi': 3, 'Mexican': 1, 'Mughlai': 5, 'Andhra': 5, 'Bakery': 6, 'Juices': 1, 'Arabian': 1, 'Hyderabadi': 2, 'Cafe': 4, 'Spanish': 1, 'Wraps': 1, 'Thai': 2, 'Indonesian': 1, 'Modern Indian': 2, 'Momos': 2}\n",
            "{'Chinese': 34, 'Continental': 18, 'Kebab': 6, 'European': 4, 'South Indian': 9, 'North Indian': 53, 'Biryani': 13, 'Asian': 11, 'Mediterranean': 5, 'Desserts': 11, 'Seafood': 2, 'Beverages': 4, 'Goan': 1, 'Healthy Food': 1, 'Lebanese': 1, 'American': 4, 'Ice Cream': 2, 'Street Food': 1, 'Fast Food': 10, 'BBQ': 2, 'Italian': 12, 'Finger Food': 2, 'Burger': 2, 'Japanese': 2, 'Salad': 3, 'Sushi': 3, 'Mexican': 1, 'Mughlai': 5, 'Andhra': 5, 'Bakery': 6, 'Juices': 1, 'Arabian': 1, 'Hyderabadi': 2, 'Cafe': 4, 'Spanish': 1, 'Wraps': 1, 'Thai': 2, 'Indonesian': 1, 'Modern Indian': 2, 'Momos': 2}\n",
            "{'Chinese': 34, 'Continental': 18, 'Kebab': 6, 'European': 4, 'South Indian': 9, 'North Indian': 54, 'Biryani': 13, 'Asian': 11, 'Mediterranean': 5, 'Desserts': 11, 'Seafood': 2, 'Beverages': 4, 'Goan': 1, 'Healthy Food': 1, 'Lebanese': 1, 'American': 4, 'Ice Cream': 2, 'Street Food': 1, 'Fast Food': 10, 'BBQ': 2, 'Italian': 12, 'Finger Food': 2, 'Burger': 2, 'Japanese': 2, 'Salad': 3, 'Sushi': 3, 'Mexican': 1, 'Mughlai': 5, 'Andhra': 5, 'Bakery': 6, 'Juices': 1, 'Arabian': 1, 'Hyderabadi': 2, 'Cafe': 4, 'Spanish': 1, 'Wraps': 1, 'Thai': 2, 'Indonesian': 1, 'Modern Indian': 2, 'Momos': 2}\n",
            "{'Chinese': 35, 'Continental': 18, 'Kebab': 6, 'European': 4, 'South Indian': 9, 'North Indian': 54, 'Biryani': 13, 'Asian': 11, 'Mediterranean': 5, 'Desserts': 11, 'Seafood': 2, 'Beverages': 4, 'Goan': 1, 'Healthy Food': 1, 'Lebanese': 1, 'American': 4, 'Ice Cream': 2, 'Street Food': 1, 'Fast Food': 10, 'BBQ': 2, 'Italian': 12, 'Finger Food': 2, 'Burger': 2, 'Japanese': 2, 'Salad': 3, 'Sushi': 3, 'Mexican': 1, 'Mughlai': 5, 'Andhra': 5, 'Bakery': 6, 'Juices': 1, 'Arabian': 1, 'Hyderabadi': 2, 'Cafe': 4, 'Spanish': 1, 'Wraps': 1, 'Thai': 2, 'Indonesian': 1, 'Modern Indian': 2, 'Momos': 2}\n",
            "{'Chinese': 35, 'Continental': 18, 'Kebab': 6, 'European': 4, 'South Indian': 9, 'North Indian': 55, 'Biryani': 13, 'Asian': 11, 'Mediterranean': 5, 'Desserts': 11, 'Seafood': 2, 'Beverages': 4, 'Goan': 1, 'Healthy Food': 1, 'Lebanese': 1, 'American': 4, 'Ice Cream': 2, 'Street Food': 1, 'Fast Food': 10, 'BBQ': 2, 'Italian': 12, 'Finger Food': 2, 'Burger': 2, 'Japanese': 2, 'Salad': 3, 'Sushi': 3, 'Mexican': 1, 'Mughlai': 5, 'Andhra': 5, 'Bakery': 6, 'Juices': 1, 'Arabian': 1, 'Hyderabadi': 2, 'Cafe': 4, 'Spanish': 1, 'Wraps': 1, 'Thai': 2, 'Indonesian': 1, 'Modern Indian': 2, 'Momos': 2}\n",
            "{'Chinese': 36, 'Continental': 18, 'Kebab': 6, 'European': 4, 'South Indian': 9, 'North Indian': 55, 'Biryani': 13, 'Asian': 11, 'Mediterranean': 5, 'Desserts': 11, 'Seafood': 2, 'Beverages': 4, 'Goan': 1, 'Healthy Food': 1, 'Lebanese': 1, 'American': 4, 'Ice Cream': 2, 'Street Food': 1, 'Fast Food': 10, 'BBQ': 2, 'Italian': 12, 'Finger Food': 2, 'Burger': 2, 'Japanese': 2, 'Salad': 3, 'Sushi': 3, 'Mexican': 1, 'Mughlai': 5, 'Andhra': 5, 'Bakery': 6, 'Juices': 1, 'Arabian': 1, 'Hyderabadi': 2, 'Cafe': 4, 'Spanish': 1, 'Wraps': 1, 'Thai': 2, 'Indonesian': 1, 'Modern Indian': 2, 'Momos': 2}\n",
            "{'Chinese': 36, 'Continental': 18, 'Kebab': 6, 'European': 4, 'South Indian': 9, 'North Indian': 55, 'Biryani': 13, 'Asian': 11, 'Mediterranean': 5, 'Desserts': 11, 'Seafood': 3, 'Beverages': 4, 'Goan': 1, 'Healthy Food': 1, 'Lebanese': 1, 'American': 4, 'Ice Cream': 2, 'Street Food': 1, 'Fast Food': 10, 'BBQ': 2, 'Italian': 12, 'Finger Food': 2, 'Burger': 2, 'Japanese': 2, 'Salad': 3, 'Sushi': 3, 'Mexican': 1, 'Mughlai': 5, 'Andhra': 5, 'Bakery': 6, 'Juices': 1, 'Arabian': 1, 'Hyderabadi': 2, 'Cafe': 4, 'Spanish': 1, 'Wraps': 1, 'Thai': 2, 'Indonesian': 1, 'Modern Indian': 2, 'Momos': 2}\n",
            "{'Chinese': 36, 'Continental': 18, 'Kebab': 6, 'European': 4, 'South Indian': 9, 'North Indian': 55, 'Biryani': 14, 'Asian': 11, 'Mediterranean': 5, 'Desserts': 11, 'Seafood': 3, 'Beverages': 4, 'Goan': 1, 'Healthy Food': 1, 'Lebanese': 1, 'American': 4, 'Ice Cream': 2, 'Street Food': 1, 'Fast Food': 10, 'BBQ': 2, 'Italian': 12, 'Finger Food': 2, 'Burger': 2, 'Japanese': 2, 'Salad': 3, 'Sushi': 3, 'Mexican': 1, 'Mughlai': 5, 'Andhra': 5, 'Bakery': 6, 'Juices': 1, 'Arabian': 1, 'Hyderabadi': 2, 'Cafe': 4, 'Spanish': 1, 'Wraps': 1, 'Thai': 2, 'Indonesian': 1, 'Modern Indian': 2, 'Momos': 2}\n",
            "{'Chinese': 36, 'Continental': 18, 'Kebab': 6, 'European': 4, 'South Indian': 9, 'North Indian': 55, 'Biryani': 14, 'Asian': 11, 'Mediterranean': 5, 'Desserts': 11, 'Seafood': 3, 'Beverages': 4, 'Goan': 1, 'Healthy Food': 1, 'Lebanese': 1, 'American': 4, 'Ice Cream': 2, 'Street Food': 1, 'Fast Food': 10, 'BBQ': 2, 'Italian': 12, 'Finger Food': 2, 'Burger': 2, 'Japanese': 2, 'Salad': 3, 'Sushi': 3, 'Mexican': 1, 'Mughlai': 5, 'Andhra': 5, 'Bakery': 6, 'Juices': 1, 'Arabian': 1, 'Hyderabadi': 3, 'Cafe': 4, 'Spanish': 1, 'Wraps': 1, 'Thai': 2, 'Indonesian': 1, 'Modern Indian': 2, 'Momos': 2}\n",
            "{'Chinese': 36, 'Continental': 18, 'Kebab': 6, 'European': 4, 'South Indian': 9, 'North Indian': 55, 'Biryani': 14, 'Asian': 11, 'Mediterranean': 5, 'Desserts': 11, 'Seafood': 3, 'Beverages': 4, 'Goan': 1, 'Healthy Food': 1, 'Lebanese': 1, 'American': 4, 'Ice Cream': 2, 'Street Food': 1, 'Fast Food': 10, 'BBQ': 2, 'Italian': 12, 'Finger Food': 2, 'Burger': 3, 'Japanese': 2, 'Salad': 3, 'Sushi': 3, 'Mexican': 1, 'Mughlai': 5, 'Andhra': 5, 'Bakery': 6, 'Juices': 1, 'Arabian': 1, 'Hyderabadi': 3, 'Cafe': 4, 'Spanish': 1, 'Wraps': 1, 'Thai': 2, 'Indonesian': 1, 'Modern Indian': 2, 'Momos': 2}\n",
            "{'Chinese': 36, 'Continental': 18, 'Kebab': 6, 'European': 4, 'South Indian': 9, 'North Indian': 55, 'Biryani': 14, 'Asian': 11, 'Mediterranean': 5, 'Desserts': 11, 'Seafood': 3, 'Beverages': 4, 'Goan': 1, 'Healthy Food': 1, 'Lebanese': 1, 'American': 5, 'Ice Cream': 2, 'Street Food': 1, 'Fast Food': 10, 'BBQ': 2, 'Italian': 12, 'Finger Food': 2, 'Burger': 3, 'Japanese': 2, 'Salad': 3, 'Sushi': 3, 'Mexican': 1, 'Mughlai': 5, 'Andhra': 5, 'Bakery': 6, 'Juices': 1, 'Arabian': 1, 'Hyderabadi': 3, 'Cafe': 4, 'Spanish': 1, 'Wraps': 1, 'Thai': 2, 'Indonesian': 1, 'Modern Indian': 2, 'Momos': 2}\n",
            "{'Chinese': 36, 'Continental': 18, 'Kebab': 6, 'European': 4, 'South Indian': 9, 'North Indian': 56, 'Biryani': 14, 'Asian': 11, 'Mediterranean': 5, 'Desserts': 11, 'Seafood': 3, 'Beverages': 4, 'Goan': 1, 'Healthy Food': 1, 'Lebanese': 1, 'American': 5, 'Ice Cream': 2, 'Street Food': 1, 'Fast Food': 10, 'BBQ': 2, 'Italian': 12, 'Finger Food': 2, 'Burger': 3, 'Japanese': 2, 'Salad': 3, 'Sushi': 3, 'Mexican': 1, 'Mughlai': 5, 'Andhra': 5, 'Bakery': 6, 'Juices': 1, 'Arabian': 1, 'Hyderabadi': 3, 'Cafe': 4, 'Spanish': 1, 'Wraps': 1, 'Thai': 2, 'Indonesian': 1, 'Modern Indian': 2, 'Momos': 2}\n",
            "{'Chinese': 36, 'Continental': 18, 'Kebab': 6, 'European': 4, 'South Indian': 9, 'North Indian': 56, 'Biryani': 14, 'Asian': 11, 'Mediterranean': 5, 'Desserts': 11, 'Seafood': 3, 'Beverages': 4, 'Goan': 1, 'Healthy Food': 1, 'Lebanese': 1, 'American': 5, 'Ice Cream': 2, 'Street Food': 1, 'Fast Food': 10, 'BBQ': 2, 'Italian': 12, 'Finger Food': 2, 'Burger': 3, 'Japanese': 2, 'Salad': 3, 'Sushi': 3, 'Mexican': 1, 'Mughlai': 5, 'Andhra': 6, 'Bakery': 6, 'Juices': 1, 'Arabian': 1, 'Hyderabadi': 3, 'Cafe': 4, 'Spanish': 1, 'Wraps': 1, 'Thai': 2, 'Indonesian': 1, 'Modern Indian': 2, 'Momos': 2}\n",
            "{'Chinese': 36, 'Continental': 18, 'Kebab': 6, 'European': 4, 'South Indian': 9, 'North Indian': 56, 'Biryani': 15, 'Asian': 11, 'Mediterranean': 5, 'Desserts': 11, 'Seafood': 3, 'Beverages': 4, 'Goan': 1, 'Healthy Food': 1, 'Lebanese': 1, 'American': 5, 'Ice Cream': 2, 'Street Food': 1, 'Fast Food': 10, 'BBQ': 2, 'Italian': 12, 'Finger Food': 2, 'Burger': 3, 'Japanese': 2, 'Salad': 3, 'Sushi': 3, 'Mexican': 1, 'Mughlai': 5, 'Andhra': 6, 'Bakery': 6, 'Juices': 1, 'Arabian': 1, 'Hyderabadi': 3, 'Cafe': 4, 'Spanish': 1, 'Wraps': 1, 'Thai': 2, 'Indonesian': 1, 'Modern Indian': 2, 'Momos': 2}\n",
            "{'Chinese': 37, 'Continental': 18, 'Kebab': 6, 'European': 4, 'South Indian': 9, 'North Indian': 56, 'Biryani': 15, 'Asian': 11, 'Mediterranean': 5, 'Desserts': 11, 'Seafood': 3, 'Beverages': 4, 'Goan': 1, 'Healthy Food': 1, 'Lebanese': 1, 'American': 5, 'Ice Cream': 2, 'Street Food': 1, 'Fast Food': 10, 'BBQ': 2, 'Italian': 12, 'Finger Food': 2, 'Burger': 3, 'Japanese': 2, 'Salad': 3, 'Sushi': 3, 'Mexican': 1, 'Mughlai': 5, 'Andhra': 6, 'Bakery': 6, 'Juices': 1, 'Arabian': 1, 'Hyderabadi': 3, 'Cafe': 4, 'Spanish': 1, 'Wraps': 1, 'Thai': 2, 'Indonesian': 1, 'Modern Indian': 2, 'Momos': 2}\n",
            "{'Chinese': 37, 'Continental': 18, 'Kebab': 6, 'European': 4, 'South Indian': 9, 'North Indian': 56, 'Biryani': 15, 'Asian': 11, 'Mediterranean': 5, 'Desserts': 11, 'Seafood': 3, 'Beverages': 4, 'Goan': 1, 'Healthy Food': 1, 'Lebanese': 1, 'American': 5, 'Ice Cream': 2, 'Street Food': 1, 'Fast Food': 10, 'BBQ': 2, 'Italian': 12, 'Finger Food': 2, 'Burger': 3, 'Japanese': 2, 'Salad': 3, 'Sushi': 3, 'Mexican': 1, 'Mughlai': 5, 'Andhra': 6, 'Bakery': 6, 'Juices': 1, 'Arabian': 1, 'Hyderabadi': 3, 'Cafe': 4, 'Spanish': 1, 'Wraps': 1, 'Thai': 2, 'Indonesian': 1, 'Modern Indian': 2, 'Momos': 3}\n",
            "{'Chinese': 37, 'Continental': 18, 'Kebab': 6, 'European': 4, 'South Indian': 9, 'North Indian': 56, 'Biryani': 15, 'Asian': 11, 'Mediterranean': 5, 'Desserts': 11, 'Seafood': 3, 'Beverages': 4, 'Goan': 1, 'Healthy Food': 1, 'Lebanese': 1, 'American': 5, 'Ice Cream': 2, 'Street Food': 1, 'Fast Food': 10, 'BBQ': 2, 'Italian': 12, 'Finger Food': 2, 'Burger': 3, 'Japanese': 2, 'Salad': 3, 'Sushi': 3, 'Mexican': 1, 'Mughlai': 5, 'Andhra': 6, 'Bakery': 6, 'Juices': 1, 'Arabian': 1, 'Hyderabadi': 3, 'Cafe': 5, 'Spanish': 1, 'Wraps': 1, 'Thai': 2, 'Indonesian': 1, 'Modern Indian': 2, 'Momos': 3}\n",
            "{'Chinese': 37, 'Continental': 18, 'Kebab': 6, 'European': 4, 'South Indian': 9, 'North Indian': 56, 'Biryani': 15, 'Asian': 11, 'Mediterranean': 5, 'Desserts': 12, 'Seafood': 3, 'Beverages': 4, 'Goan': 1, 'Healthy Food': 1, 'Lebanese': 1, 'American': 5, 'Ice Cream': 2, 'Street Food': 1, 'Fast Food': 10, 'BBQ': 2, 'Italian': 12, 'Finger Food': 2, 'Burger': 3, 'Japanese': 2, 'Salad': 3, 'Sushi': 3, 'Mexican': 1, 'Mughlai': 5, 'Andhra': 6, 'Bakery': 6, 'Juices': 1, 'Arabian': 1, 'Hyderabadi': 3, 'Cafe': 5, 'Spanish': 1, 'Wraps': 1, 'Thai': 2, 'Indonesian': 1, 'Modern Indian': 2, 'Momos': 3}\n",
            "{'Chinese': 37, 'Continental': 18, 'Kebab': 6, 'European': 4, 'South Indian': 9, 'North Indian': 56, 'Biryani': 15, 'Asian': 11, 'Mediterranean': 5, 'Desserts': 12, 'Seafood': 3, 'Beverages': 4, 'Goan': 1, 'Healthy Food': 1, 'Lebanese': 1, 'American': 6, 'Ice Cream': 2, 'Street Food': 1, 'Fast Food': 10, 'BBQ': 2, 'Italian': 12, 'Finger Food': 2, 'Burger': 3, 'Japanese': 2, 'Salad': 3, 'Sushi': 3, 'Mexican': 1, 'Mughlai': 5, 'Andhra': 6, 'Bakery': 6, 'Juices': 1, 'Arabian': 1, 'Hyderabadi': 3, 'Cafe': 5, 'Spanish': 1, 'Wraps': 1, 'Thai': 2, 'Indonesian': 1, 'Modern Indian': 2, 'Momos': 3}\n",
            "{'Chinese': 37, 'Continental': 18, 'Kebab': 6, 'European': 4, 'South Indian': 9, 'North Indian': 56, 'Biryani': 15, 'Asian': 11, 'Mediterranean': 5, 'Desserts': 12, 'Seafood': 3, 'Beverages': 4, 'Goan': 1, 'Healthy Food': 1, 'Lebanese': 1, 'American': 6, 'Ice Cream': 2, 'Street Food': 1, 'Fast Food': 11, 'BBQ': 2, 'Italian': 12, 'Finger Food': 2, 'Burger': 3, 'Japanese': 2, 'Salad': 3, 'Sushi': 3, 'Mexican': 1, 'Mughlai': 5, 'Andhra': 6, 'Bakery': 6, 'Juices': 1, 'Arabian': 1, 'Hyderabadi': 3, 'Cafe': 5, 'Spanish': 1, 'Wraps': 1, 'Thai': 2, 'Indonesian': 1, 'Modern Indian': 2, 'Momos': 3}\n",
            "{'Chinese': 37, 'Continental': 18, 'Kebab': 6, 'European': 4, 'South Indian': 9, 'North Indian': 56, 'Biryani': 15, 'Asian': 11, 'Mediterranean': 5, 'Desserts': 12, 'Seafood': 3, 'Beverages': 4, 'Goan': 1, 'Healthy Food': 1, 'Lebanese': 1, 'American': 6, 'Ice Cream': 2, 'Street Food': 1, 'Fast Food': 11, 'BBQ': 2, 'Italian': 12, 'Finger Food': 2, 'Burger': 3, 'Japanese': 2, 'Salad': 4, 'Sushi': 3, 'Mexican': 1, 'Mughlai': 5, 'Andhra': 6, 'Bakery': 6, 'Juices': 1, 'Arabian': 1, 'Hyderabadi': 3, 'Cafe': 5, 'Spanish': 1, 'Wraps': 1, 'Thai': 2, 'Indonesian': 1, 'Modern Indian': 2, 'Momos': 3}\n",
            "{'Chinese': 37, 'Continental': 18, 'Kebab': 6, 'European': 4, 'South Indian': 9, 'North Indian': 56, 'Biryani': 15, 'Asian': 11, 'Mediterranean': 5, 'Desserts': 12, 'Seafood': 3, 'Beverages': 4, 'Goan': 1, 'Healthy Food': 1, 'Lebanese': 1, 'American': 6, 'Ice Cream': 2, 'Street Food': 1, 'Fast Food': 11, 'BBQ': 2, 'Italian': 12, 'Finger Food': 2, 'Burger': 4, 'Japanese': 2, 'Salad': 4, 'Sushi': 3, 'Mexican': 1, 'Mughlai': 5, 'Andhra': 6, 'Bakery': 6, 'Juices': 1, 'Arabian': 1, 'Hyderabadi': 3, 'Cafe': 5, 'Spanish': 1, 'Wraps': 1, 'Thai': 2, 'Indonesian': 1, 'Modern Indian': 2, 'Momos': 3}\n",
            "{'Chinese': 37, 'Continental': 18, 'Kebab': 6, 'European': 4, 'South Indian': 9, 'North Indian': 56, 'Biryani': 15, 'Asian': 11, 'Mediterranean': 5, 'Desserts': 12, 'Seafood': 3, 'Beverages': 4, 'Goan': 1, 'Healthy Food': 1, 'Lebanese': 1, 'American': 6, 'Ice Cream': 2, 'Street Food': 1, 'Fast Food': 12, 'BBQ': 2, 'Italian': 12, 'Finger Food': 2, 'Burger': 4, 'Japanese': 2, 'Salad': 4, 'Sushi': 3, 'Mexican': 1, 'Mughlai': 5, 'Andhra': 6, 'Bakery': 6, 'Juices': 1, 'Arabian': 1, 'Hyderabadi': 3, 'Cafe': 5, 'Spanish': 1, 'Wraps': 1, 'Thai': 2, 'Indonesian': 1, 'Modern Indian': 2, 'Momos': 3}\n",
            "{'Chinese': 37, 'Continental': 18, 'Kebab': 6, 'European': 4, 'South Indian': 9, 'North Indian': 56, 'Biryani': 15, 'Asian': 11, 'Mediterranean': 5, 'Desserts': 12, 'Seafood': 3, 'Beverages': 4, 'Goan': 1, 'Healthy Food': 1, 'Lebanese': 1, 'American': 6, 'Ice Cream': 2, 'Street Food': 2, 'Fast Food': 12, 'BBQ': 2, 'Italian': 12, 'Finger Food': 2, 'Burger': 4, 'Japanese': 2, 'Salad': 4, 'Sushi': 3, 'Mexican': 1, 'Mughlai': 5, 'Andhra': 6, 'Bakery': 6, 'Juices': 1, 'Arabian': 1, 'Hyderabadi': 3, 'Cafe': 5, 'Spanish': 1, 'Wraps': 1, 'Thai': 2, 'Indonesian': 1, 'Modern Indian': 2, 'Momos': 3, 'Pizza': 1}\n",
            "{'Chinese': 37, 'Continental': 18, 'Kebab': 6, 'European': 4, 'South Indian': 9, 'North Indian': 56, 'Biryani': 15, 'Asian': 11, 'Mediterranean': 5, 'Desserts': 12, 'Seafood': 3, 'Beverages': 4, 'Goan': 1, 'Healthy Food': 1, 'Lebanese': 1, 'American': 6, 'Ice Cream': 2, 'Street Food': 2, 'Fast Food': 12, 'BBQ': 2, 'Italian': 12, 'Finger Food': 2, 'Burger': 4, 'Japanese': 2, 'Salad': 4, 'Sushi': 3, 'Mexican': 1, 'Mughlai': 5, 'Andhra': 6, 'Bakery': 6, 'Juices': 1, 'Arabian': 2, 'Hyderabadi': 3, 'Cafe': 5, 'Spanish': 1, 'Wraps': 1, 'Thai': 2, 'Indonesian': 1, 'Modern Indian': 2, 'Momos': 3, 'Pizza': 1}\n",
            "{'Chinese': 37, 'Continental': 19, 'Kebab': 6, 'European': 4, 'South Indian': 9, 'North Indian': 56, 'Biryani': 15, 'Asian': 11, 'Mediterranean': 5, 'Desserts': 12, 'Seafood': 3, 'Beverages': 4, 'Goan': 1, 'Healthy Food': 1, 'Lebanese': 1, 'American': 6, 'Ice Cream': 2, 'Street Food': 2, 'Fast Food': 12, 'BBQ': 2, 'Italian': 12, 'Finger Food': 2, 'Burger': 4, 'Japanese': 2, 'Salad': 4, 'Sushi': 3, 'Mexican': 1, 'Mughlai': 5, 'Andhra': 6, 'Bakery': 6, 'Juices': 1, 'Arabian': 2, 'Hyderabadi': 3, 'Cafe': 5, 'Spanish': 1, 'Wraps': 1, 'Thai': 2, 'Indonesian': 1, 'Modern Indian': 2, 'Momos': 3, 'Pizza': 1}\n",
            "{'Chinese': 37, 'Continental': 19, 'Kebab': 6, 'European': 4, 'South Indian': 9, 'North Indian': 57, 'Biryani': 15, 'Asian': 11, 'Mediterranean': 5, 'Desserts': 12, 'Seafood': 3, 'Beverages': 4, 'Goan': 1, 'Healthy Food': 1, 'Lebanese': 1, 'American': 6, 'Ice Cream': 2, 'Street Food': 2, 'Fast Food': 12, 'BBQ': 2, 'Italian': 12, 'Finger Food': 2, 'Burger': 4, 'Japanese': 2, 'Salad': 4, 'Sushi': 3, 'Mexican': 1, 'Mughlai': 5, 'Andhra': 6, 'Bakery': 6, 'Juices': 1, 'Arabian': 2, 'Hyderabadi': 3, 'Cafe': 5, 'Spanish': 1, 'Wraps': 1, 'Thai': 2, 'Indonesian': 1, 'Modern Indian': 2, 'Momos': 3, 'Pizza': 1}\n",
            "{'Chinese': 37, 'Continental': 19, 'Kebab': 6, 'European': 4, 'South Indian': 9, 'North Indian': 57, 'Biryani': 15, 'Asian': 11, 'Mediterranean': 5, 'Desserts': 12, 'Seafood': 3, 'Beverages': 4, 'Goan': 1, 'Healthy Food': 1, 'Lebanese': 1, 'American': 6, 'Ice Cream': 2, 'Street Food': 2, 'Fast Food': 12, 'BBQ': 2, 'Italian': 13, 'Finger Food': 2, 'Burger': 4, 'Japanese': 2, 'Salad': 4, 'Sushi': 3, 'Mexican': 1, 'Mughlai': 5, 'Andhra': 6, 'Bakery': 6, 'Juices': 1, 'Arabian': 2, 'Hyderabadi': 3, 'Cafe': 5, 'Spanish': 1, 'Wraps': 1, 'Thai': 2, 'Indonesian': 1, 'Modern Indian': 2, 'Momos': 3, 'Pizza': 1}\n",
            "{'Chinese': 37, 'Continental': 20, 'Kebab': 6, 'European': 4, 'South Indian': 9, 'North Indian': 57, 'Biryani': 15, 'Asian': 11, 'Mediterranean': 5, 'Desserts': 12, 'Seafood': 3, 'Beverages': 4, 'Goan': 1, 'Healthy Food': 1, 'Lebanese': 1, 'American': 6, 'Ice Cream': 2, 'Street Food': 2, 'Fast Food': 12, 'BBQ': 2, 'Italian': 13, 'Finger Food': 2, 'Burger': 4, 'Japanese': 2, 'Salad': 4, 'Sushi': 3, 'Mexican': 1, 'Mughlai': 5, 'Andhra': 6, 'Bakery': 6, 'Juices': 1, 'Arabian': 2, 'Hyderabadi': 3, 'Cafe': 5, 'Spanish': 1, 'Wraps': 1, 'Thai': 2, 'Indonesian': 1, 'Modern Indian': 2, 'Momos': 3, 'Pizza': 1}\n",
            "{'Chinese': 37, 'Continental': 20, 'Kebab': 6, 'European': 4, 'South Indian': 9, 'North Indian': 57, 'Biryani': 15, 'Asian': 12, 'Mediterranean': 5, 'Desserts': 12, 'Seafood': 3, 'Beverages': 4, 'Goan': 1, 'Healthy Food': 1, 'Lebanese': 1, 'American': 6, 'Ice Cream': 2, 'Street Food': 2, 'Fast Food': 12, 'BBQ': 2, 'Italian': 13, 'Finger Food': 2, 'Burger': 4, 'Japanese': 2, 'Salad': 4, 'Sushi': 3, 'Mexican': 1, 'Mughlai': 5, 'Andhra': 6, 'Bakery': 6, 'Juices': 1, 'Arabian': 2, 'Hyderabadi': 3, 'Cafe': 5, 'Spanish': 1, 'Wraps': 1, 'Thai': 2, 'Indonesian': 1, 'Modern Indian': 2, 'Momos': 3, 'Pizza': 1}\n",
            "{'Chinese': 37, 'Continental': 21, 'Kebab': 6, 'European': 4, 'South Indian': 9, 'North Indian': 57, 'Biryani': 15, 'Asian': 12, 'Mediterranean': 5, 'Desserts': 12, 'Seafood': 3, 'Beverages': 4, 'Goan': 1, 'Healthy Food': 1, 'Lebanese': 1, 'American': 6, 'Ice Cream': 2, 'Street Food': 2, 'Fast Food': 12, 'BBQ': 2, 'Italian': 13, 'Finger Food': 2, 'Burger': 4, 'Japanese': 2, 'Salad': 4, 'Sushi': 3, 'Mexican': 1, 'Mughlai': 5, 'Andhra': 6, 'Bakery': 6, 'Juices': 1, 'Arabian': 2, 'Hyderabadi': 3, 'Cafe': 5, 'Spanish': 1, 'Wraps': 1, 'Thai': 2, 'Indonesian': 1, 'Modern Indian': 2, 'Momos': 3, 'Pizza': 1}\n",
            "{'Chinese': 37, 'Continental': 21, 'Kebab': 6, 'European': 4, 'South Indian': 9, 'North Indian': 57, 'Biryani': 15, 'Asian': 12, 'Mediterranean': 5, 'Desserts': 12, 'Seafood': 3, 'Beverages': 4, 'Goan': 1, 'Healthy Food': 1, 'Lebanese': 1, 'American': 6, 'Ice Cream': 2, 'Street Food': 2, 'Fast Food': 12, 'BBQ': 2, 'Italian': 14, 'Finger Food': 2, 'Burger': 4, 'Japanese': 2, 'Salad': 4, 'Sushi': 3, 'Mexican': 1, 'Mughlai': 5, 'Andhra': 6, 'Bakery': 6, 'Juices': 1, 'Arabian': 2, 'Hyderabadi': 3, 'Cafe': 5, 'Spanish': 1, 'Wraps': 1, 'Thai': 2, 'Indonesian': 1, 'Modern Indian': 2, 'Momos': 3, 'Pizza': 1}\n",
            "{'Chinese': 37, 'Continental': 21, 'Kebab': 6, 'European': 4, 'South Indian': 9, 'North Indian': 58, 'Biryani': 15, 'Asian': 12, 'Mediterranean': 5, 'Desserts': 12, 'Seafood': 3, 'Beverages': 4, 'Goan': 1, 'Healthy Food': 1, 'Lebanese': 1, 'American': 6, 'Ice Cream': 2, 'Street Food': 2, 'Fast Food': 12, 'BBQ': 2, 'Italian': 14, 'Finger Food': 2, 'Burger': 4, 'Japanese': 2, 'Salad': 4, 'Sushi': 3, 'Mexican': 1, 'Mughlai': 5, 'Andhra': 6, 'Bakery': 6, 'Juices': 1, 'Arabian': 2, 'Hyderabadi': 3, 'Cafe': 5, 'Spanish': 1, 'Wraps': 1, 'Thai': 2, 'Indonesian': 1, 'Modern Indian': 2, 'Momos': 3, 'Pizza': 1}\n",
            "{'Chinese': 38, 'Continental': 21, 'Kebab': 6, 'European': 4, 'South Indian': 9, 'North Indian': 58, 'Biryani': 15, 'Asian': 12, 'Mediterranean': 5, 'Desserts': 12, 'Seafood': 3, 'Beverages': 4, 'Goan': 1, 'Healthy Food': 1, 'Lebanese': 1, 'American': 6, 'Ice Cream': 2, 'Street Food': 2, 'Fast Food': 12, 'BBQ': 2, 'Italian': 14, 'Finger Food': 2, 'Burger': 4, 'Japanese': 2, 'Salad': 4, 'Sushi': 3, 'Mexican': 1, 'Mughlai': 5, 'Andhra': 6, 'Bakery': 6, 'Juices': 1, 'Arabian': 2, 'Hyderabadi': 3, 'Cafe': 5, 'Spanish': 1, 'Wraps': 1, 'Thai': 2, 'Indonesian': 1, 'Modern Indian': 2, 'Momos': 3, 'Pizza': 1}\n",
            "{'Chinese': 38, 'Continental': 21, 'Kebab': 6, 'European': 4, 'South Indian': 9, 'North Indian': 58, 'Biryani': 15, 'Asian': 13, 'Mediterranean': 5, 'Desserts': 12, 'Seafood': 3, 'Beverages': 4, 'Goan': 1, 'Healthy Food': 1, 'Lebanese': 1, 'American': 6, 'Ice Cream': 2, 'Street Food': 2, 'Fast Food': 12, 'BBQ': 2, 'Italian': 14, 'Finger Food': 2, 'Burger': 4, 'Japanese': 2, 'Salad': 4, 'Sushi': 3, 'Mexican': 1, 'Mughlai': 5, 'Andhra': 6, 'Bakery': 6, 'Juices': 1, 'Arabian': 2, 'Hyderabadi': 3, 'Cafe': 5, 'Spanish': 1, 'Wraps': 1, 'Thai': 2, 'Indonesian': 1, 'Modern Indian': 2, 'Momos': 3, 'Pizza': 1}\n",
            "{'Chinese': 38, 'Continental': 21, 'Kebab': 6, 'European': 4, 'South Indian': 9, 'North Indian': 58, 'Biryani': 15, 'Asian': 13, 'Mediterranean': 5, 'Desserts': 12, 'Seafood': 3, 'Beverages': 4, 'Goan': 1, 'Healthy Food': 1, 'Lebanese': 1, 'American': 6, 'Ice Cream': 2, 'Street Food': 2, 'Fast Food': 12, 'BBQ': 2, 'Italian': 14, 'Finger Food': 2, 'Burger': 4, 'Japanese': 2, 'Salad': 4, 'Sushi': 3, 'Mexican': 1, 'Mughlai': 5, 'Andhra': 6, 'Bakery': 6, 'Juices': 1, 'Arabian': 2, 'Hyderabadi': 3, 'Cafe': 5, 'Spanish': 1, 'Wraps': 1, 'Thai': 2, 'Indonesian': 1, 'Modern Indian': 2, 'Momos': 4, 'Pizza': 1, 'North Eastern': 1}\n",
            "{'Chinese': 38, 'Continental': 21, 'Kebab': 6, 'European': 4, 'South Indian': 9, 'North Indian': 58, 'Biryani': 15, 'Asian': 13, 'Mediterranean': 5, 'Desserts': 13, 'Seafood': 3, 'Beverages': 4, 'Goan': 1, 'Healthy Food': 1, 'Lebanese': 1, 'American': 6, 'Ice Cream': 2, 'Street Food': 2, 'Fast Food': 12, 'BBQ': 2, 'Italian': 14, 'Finger Food': 2, 'Burger': 4, 'Japanese': 2, 'Salad': 4, 'Sushi': 3, 'Mexican': 1, 'Mughlai': 5, 'Andhra': 6, 'Bakery': 6, 'Juices': 1, 'Arabian': 2, 'Hyderabadi': 3, 'Cafe': 5, 'Spanish': 1, 'Wraps': 1, 'Thai': 2, 'Indonesian': 1, 'Modern Indian': 2, 'Momos': 4, 'Pizza': 1, 'North Eastern': 1}\n",
            "{'Chinese': 38, 'Continental': 21, 'Kebab': 6, 'European': 4, 'South Indian': 9, 'North Indian': 58, 'Biryani': 15, 'Asian': 13, 'Mediterranean': 5, 'Desserts': 13, 'Seafood': 3, 'Beverages': 4, 'Goan': 1, 'Healthy Food': 1, 'Lebanese': 1, 'American': 6, 'Ice Cream': 2, 'Street Food': 2, 'Fast Food': 12, 'BBQ': 2, 'Italian': 14, 'Finger Food': 2, 'Burger': 4, 'Japanese': 2, 'Salad': 4, 'Sushi': 3, 'Mexican': 1, 'Mughlai': 5, 'Andhra': 6, 'Bakery': 6, 'Juices': 1, 'Arabian': 2, 'Hyderabadi': 3, 'Cafe': 6, 'Spanish': 1, 'Wraps': 1, 'Thai': 2, 'Indonesian': 1, 'Modern Indian': 2, 'Momos': 4, 'Pizza': 1, 'North Eastern': 1}\n",
            "{'Chinese': 38, 'Continental': 21, 'Kebab': 6, 'European': 4, 'South Indian': 9, 'North Indian': 58, 'Biryani': 15, 'Asian': 13, 'Mediterranean': 5, 'Desserts': 13, 'Seafood': 3, 'Beverages': 5, 'Goan': 1, 'Healthy Food': 1, 'Lebanese': 1, 'American': 6, 'Ice Cream': 2, 'Street Food': 2, 'Fast Food': 12, 'BBQ': 2, 'Italian': 14, 'Finger Food': 2, 'Burger': 4, 'Japanese': 2, 'Salad': 4, 'Sushi': 3, 'Mexican': 1, 'Mughlai': 5, 'Andhra': 6, 'Bakery': 6, 'Juices': 1, 'Arabian': 2, 'Hyderabadi': 3, 'Cafe': 6, 'Spanish': 1, 'Wraps': 1, 'Thai': 2, 'Indonesian': 1, 'Modern Indian': 2, 'Momos': 4, 'Pizza': 1, 'North Eastern': 1}\n",
            "{'Chinese': 38, 'Continental': 21, 'Kebab': 6, 'European': 4, 'South Indian': 9, 'North Indian': 58, 'Biryani': 15, 'Asian': 13, 'Mediterranean': 5, 'Desserts': 13, 'Seafood': 3, 'Beverages': 5, 'Goan': 1, 'Healthy Food': 1, 'Lebanese': 1, 'American': 6, 'Ice Cream': 2, 'Street Food': 2, 'Fast Food': 12, 'BBQ': 2, 'Italian': 14, 'Finger Food': 2, 'Burger': 5, 'Japanese': 2, 'Salad': 4, 'Sushi': 3, 'Mexican': 1, 'Mughlai': 5, 'Andhra': 6, 'Bakery': 6, 'Juices': 1, 'Arabian': 2, 'Hyderabadi': 3, 'Cafe': 6, 'Spanish': 1, 'Wraps': 1, 'Thai': 2, 'Indonesian': 1, 'Modern Indian': 2, 'Momos': 4, 'Pizza': 1, 'North Eastern': 1}\n",
            "{'Chinese': 38, 'Continental': 21, 'Kebab': 6, 'European': 4, 'South Indian': 9, 'North Indian': 58, 'Biryani': 15, 'Asian': 13, 'Mediterranean': 5, 'Desserts': 13, 'Seafood': 3, 'Beverages': 5, 'Goan': 1, 'Healthy Food': 1, 'Lebanese': 1, 'American': 6, 'Ice Cream': 2, 'Street Food': 2, 'Fast Food': 13, 'BBQ': 2, 'Italian': 14, 'Finger Food': 2, 'Burger': 5, 'Japanese': 2, 'Salad': 4, 'Sushi': 3, 'Mexican': 1, 'Mughlai': 5, 'Andhra': 6, 'Bakery': 6, 'Juices': 1, 'Arabian': 2, 'Hyderabadi': 3, 'Cafe': 6, 'Spanish': 1, 'Wraps': 1, 'Thai': 2, 'Indonesian': 1, 'Modern Indian': 2, 'Momos': 4, 'Pizza': 1, 'North Eastern': 1}\n",
            "{'Chinese': 38, 'Continental': 21, 'Kebab': 6, 'European': 4, 'South Indian': 9, 'North Indian': 59, 'Biryani': 15, 'Asian': 13, 'Mediterranean': 5, 'Desserts': 13, 'Seafood': 3, 'Beverages': 5, 'Goan': 1, 'Healthy Food': 1, 'Lebanese': 1, 'American': 6, 'Ice Cream': 2, 'Street Food': 2, 'Fast Food': 13, 'BBQ': 2, 'Italian': 14, 'Finger Food': 2, 'Burger': 5, 'Japanese': 2, 'Salad': 4, 'Sushi': 3, 'Mexican': 1, 'Mughlai': 5, 'Andhra': 6, 'Bakery': 6, 'Juices': 1, 'Arabian': 2, 'Hyderabadi': 3, 'Cafe': 6, 'Spanish': 1, 'Wraps': 1, 'Thai': 2, 'Indonesian': 1, 'Modern Indian': 2, 'Momos': 4, 'Pizza': 1, 'North Eastern': 1}\n",
            "{'Chinese': 39, 'Continental': 21, 'Kebab': 6, 'European': 4, 'South Indian': 9, 'North Indian': 59, 'Biryani': 15, 'Asian': 13, 'Mediterranean': 5, 'Desserts': 13, 'Seafood': 3, 'Beverages': 5, 'Goan': 1, 'Healthy Food': 1, 'Lebanese': 1, 'American': 6, 'Ice Cream': 2, 'Street Food': 2, 'Fast Food': 13, 'BBQ': 2, 'Italian': 14, 'Finger Food': 2, 'Burger': 5, 'Japanese': 2, 'Salad': 4, 'Sushi': 3, 'Mexican': 1, 'Mughlai': 5, 'Andhra': 6, 'Bakery': 6, 'Juices': 1, 'Arabian': 2, 'Hyderabadi': 3, 'Cafe': 6, 'Spanish': 1, 'Wraps': 1, 'Thai': 2, 'Indonesian': 1, 'Modern Indian': 2, 'Momos': 4, 'Pizza': 1, 'North Eastern': 1}\n",
            "{'Chinese': 39, 'Continental': 21, 'Kebab': 6, 'European': 4, 'South Indian': 9, 'North Indian': 59, 'Biryani': 15, 'Asian': 13, 'Mediterranean': 5, 'Desserts': 13, 'Seafood': 3, 'Beverages': 5, 'Goan': 1, 'Healthy Food': 1, 'Lebanese': 1, 'American': 6, 'Ice Cream': 2, 'Street Food': 2, 'Fast Food': 13, 'BBQ': 2, 'Italian': 14, 'Finger Food': 2, 'Burger': 5, 'Japanese': 2, 'Salad': 4, 'Sushi': 3, 'Mexican': 1, 'Mughlai': 5, 'Andhra': 6, 'Bakery': 6, 'Juices': 1, 'Arabian': 2, 'Hyderabadi': 4, 'Cafe': 6, 'Spanish': 1, 'Wraps': 1, 'Thai': 2, 'Indonesian': 1, 'Modern Indian': 2, 'Momos': 4, 'Pizza': 1, 'North Eastern': 1}\n",
            "{'Chinese': 40, 'Continental': 21, 'Kebab': 6, 'European': 4, 'South Indian': 9, 'North Indian': 59, 'Biryani': 15, 'Asian': 13, 'Mediterranean': 5, 'Desserts': 13, 'Seafood': 3, 'Beverages': 5, 'Goan': 1, 'Healthy Food': 1, 'Lebanese': 1, 'American': 6, 'Ice Cream': 2, 'Street Food': 2, 'Fast Food': 13, 'BBQ': 2, 'Italian': 14, 'Finger Food': 2, 'Burger': 5, 'Japanese': 2, 'Salad': 4, 'Sushi': 3, 'Mexican': 1, 'Mughlai': 5, 'Andhra': 6, 'Bakery': 6, 'Juices': 1, 'Arabian': 2, 'Hyderabadi': 4, 'Cafe': 6, 'Spanish': 1, 'Wraps': 1, 'Thai': 2, 'Indonesian': 1, 'Modern Indian': 2, 'Momos': 4, 'Pizza': 1, 'North Eastern': 1}\n",
            "{'Chinese': 40, 'Continental': 21, 'Kebab': 6, 'European': 4, 'South Indian': 9, 'North Indian': 59, 'Biryani': 15, 'Asian': 13, 'Mediterranean': 5, 'Desserts': 13, 'Seafood': 3, 'Beverages': 5, 'Goan': 1, 'Healthy Food': 1, 'Lebanese': 1, 'American': 6, 'Ice Cream': 2, 'Street Food': 2, 'Fast Food': 13, 'BBQ': 2, 'Italian': 14, 'Finger Food': 2, 'Burger': 5, 'Japanese': 2, 'Salad': 4, 'Sushi': 3, 'Mexican': 1, 'Mughlai': 6, 'Andhra': 6, 'Bakery': 6, 'Juices': 1, 'Arabian': 2, 'Hyderabadi': 4, 'Cafe': 6, 'Spanish': 1, 'Wraps': 1, 'Thai': 2, 'Indonesian': 1, 'Modern Indian': 2, 'Momos': 4, 'Pizza': 1, 'North Eastern': 1}\n",
            "{'Chinese': 40, 'Continental': 21, 'Kebab': 6, 'European': 4, 'South Indian': 9, 'North Indian': 59, 'Biryani': 15, 'Asian': 14, 'Mediterranean': 5, 'Desserts': 13, 'Seafood': 3, 'Beverages': 5, 'Goan': 1, 'Healthy Food': 1, 'Lebanese': 1, 'American': 6, 'Ice Cream': 2, 'Street Food': 2, 'Fast Food': 13, 'BBQ': 2, 'Italian': 14, 'Finger Food': 2, 'Burger': 5, 'Japanese': 2, 'Salad': 4, 'Sushi': 3, 'Mexican': 1, 'Mughlai': 6, 'Andhra': 6, 'Bakery': 6, 'Juices': 1, 'Arabian': 2, 'Hyderabadi': 4, 'Cafe': 6, 'Spanish': 1, 'Wraps': 1, 'Thai': 2, 'Indonesian': 1, 'Modern Indian': 2, 'Momos': 4, 'Pizza': 1, 'North Eastern': 1}\n",
            "{'Chinese': 40, 'Continental': 21, 'Kebab': 6, 'European': 4, 'South Indian': 9, 'North Indian': 59, 'Biryani': 15, 'Asian': 14, 'Mediterranean': 5, 'Desserts': 13, 'Seafood': 3, 'Beverages': 5, 'Goan': 1, 'Healthy Food': 1, 'Lebanese': 1, 'American': 6, 'Ice Cream': 2, 'Street Food': 2, 'Fast Food': 13, 'BBQ': 2, 'Italian': 14, 'Finger Food': 2, 'Burger': 5, 'Japanese': 2, 'Salad': 4, 'Sushi': 4, 'Mexican': 1, 'Mughlai': 6, 'Andhra': 6, 'Bakery': 6, 'Juices': 1, 'Arabian': 2, 'Hyderabadi': 4, 'Cafe': 6, 'Spanish': 1, 'Wraps': 1, 'Thai': 2, 'Indonesian': 1, 'Modern Indian': 2, 'Momos': 4, 'Pizza': 1, 'North Eastern': 1}\n",
            "{'Chinese': 40, 'Continental': 21, 'Kebab': 6, 'European': 4, 'South Indian': 9, 'North Indian': 60, 'Biryani': 15, 'Asian': 14, 'Mediterranean': 5, 'Desserts': 13, 'Seafood': 3, 'Beverages': 5, 'Goan': 1, 'Healthy Food': 1, 'Lebanese': 1, 'American': 6, 'Ice Cream': 2, 'Street Food': 2, 'Fast Food': 13, 'BBQ': 2, 'Italian': 14, 'Finger Food': 2, 'Burger': 5, 'Japanese': 2, 'Salad': 4, 'Sushi': 4, 'Mexican': 1, 'Mughlai': 6, 'Andhra': 6, 'Bakery': 6, 'Juices': 1, 'Arabian': 2, 'Hyderabadi': 4, 'Cafe': 6, 'Spanish': 1, 'Wraps': 1, 'Thai': 2, 'Indonesian': 1, 'Modern Indian': 2, 'Momos': 4, 'Pizza': 1, 'North Eastern': 1}\n",
            "{'Chinese': 41, 'Continental': 21, 'Kebab': 6, 'European': 4, 'South Indian': 9, 'North Indian': 60, 'Biryani': 15, 'Asian': 14, 'Mediterranean': 5, 'Desserts': 13, 'Seafood': 3, 'Beverages': 5, 'Goan': 1, 'Healthy Food': 1, 'Lebanese': 1, 'American': 6, 'Ice Cream': 2, 'Street Food': 2, 'Fast Food': 13, 'BBQ': 2, 'Italian': 14, 'Finger Food': 2, 'Burger': 5, 'Japanese': 2, 'Salad': 4, 'Sushi': 4, 'Mexican': 1, 'Mughlai': 6, 'Andhra': 6, 'Bakery': 6, 'Juices': 1, 'Arabian': 2, 'Hyderabadi': 4, 'Cafe': 6, 'Spanish': 1, 'Wraps': 1, 'Thai': 2, 'Indonesian': 1, 'Modern Indian': 2, 'Momos': 4, 'Pizza': 1, 'North Eastern': 1}\n",
            "{'Chinese': 41, 'Continental': 21, 'Kebab': 6, 'European': 4, 'South Indian': 9, 'North Indian': 60, 'Biryani': 15, 'Asian': 14, 'Mediterranean': 5, 'Desserts': 13, 'Seafood': 4, 'Beverages': 5, 'Goan': 1, 'Healthy Food': 1, 'Lebanese': 1, 'American': 6, 'Ice Cream': 2, 'Street Food': 2, 'Fast Food': 13, 'BBQ': 2, 'Italian': 14, 'Finger Food': 2, 'Burger': 5, 'Japanese': 2, 'Salad': 4, 'Sushi': 4, 'Mexican': 1, 'Mughlai': 6, 'Andhra': 6, 'Bakery': 6, 'Juices': 1, 'Arabian': 2, 'Hyderabadi': 4, 'Cafe': 6, 'Spanish': 1, 'Wraps': 1, 'Thai': 2, 'Indonesian': 1, 'Modern Indian': 2, 'Momos': 4, 'Pizza': 1, 'North Eastern': 1}\n",
            "{'Chinese': 41, 'Continental': 21, 'Kebab': 6, 'European': 4, 'South Indian': 9, 'North Indian': 60, 'Biryani': 15, 'Asian': 14, 'Mediterranean': 5, 'Desserts': 13, 'Seafood': 4, 'Beverages': 5, 'Goan': 1, 'Healthy Food': 1, 'Lebanese': 1, 'American': 6, 'Ice Cream': 2, 'Street Food': 2, 'Fast Food': 14, 'BBQ': 2, 'Italian': 14, 'Finger Food': 2, 'Burger': 5, 'Japanese': 2, 'Salad': 4, 'Sushi': 4, 'Mexican': 1, 'Mughlai': 6, 'Andhra': 6, 'Bakery': 6, 'Juices': 1, 'Arabian': 2, 'Hyderabadi': 4, 'Cafe': 6, 'Spanish': 1, 'Wraps': 1, 'Thai': 2, 'Indonesian': 1, 'Modern Indian': 2, 'Momos': 4, 'Pizza': 1, 'North Eastern': 1}\n",
            "{'Chinese': 41, 'Continental': 21, 'Kebab': 6, 'European': 4, 'South Indian': 9, 'North Indian': 60, 'Biryani': 15, 'Asian': 14, 'Mediterranean': 5, 'Desserts': 13, 'Seafood': 4, 'Beverages': 5, 'Goan': 1, 'Healthy Food': 1, 'Lebanese': 1, 'American': 6, 'Ice Cream': 2, 'Street Food': 2, 'Fast Food': 14, 'BBQ': 2, 'Italian': 14, 'Finger Food': 2, 'Burger': 5, 'Japanese': 2, 'Salad': 5, 'Sushi': 4, 'Mexican': 1, 'Mughlai': 6, 'Andhra': 6, 'Bakery': 6, 'Juices': 1, 'Arabian': 2, 'Hyderabadi': 4, 'Cafe': 6, 'Spanish': 1, 'Wraps': 1, 'Thai': 2, 'Indonesian': 1, 'Modern Indian': 2, 'Momos': 4, 'Pizza': 1, 'North Eastern': 1}\n",
            "{'Chinese': 41, 'Continental': 21, 'Kebab': 6, 'European': 4, 'South Indian': 9, 'North Indian': 60, 'Biryani': 15, 'Asian': 14, 'Mediterranean': 5, 'Desserts': 13, 'Seafood': 4, 'Beverages': 5, 'Goan': 1, 'Healthy Food': 1, 'Lebanese': 1, 'American': 6, 'Ice Cream': 2, 'Street Food': 2, 'Fast Food': 14, 'BBQ': 2, 'Italian': 14, 'Finger Food': 2, 'Burger': 5, 'Japanese': 2, 'Salad': 5, 'Sushi': 4, 'Mexican': 1, 'Mughlai': 6, 'Andhra': 6, 'Bakery': 7, 'Juices': 1, 'Arabian': 2, 'Hyderabadi': 4, 'Cafe': 6, 'Spanish': 1, 'Wraps': 1, 'Thai': 2, 'Indonesian': 1, 'Modern Indian': 2, 'Momos': 4, 'Pizza': 1, 'North Eastern': 1}\n",
            "{'Chinese': 41, 'Continental': 21, 'Kebab': 6, 'European': 4, 'South Indian': 9, 'North Indian': 61, 'Biryani': 15, 'Asian': 14, 'Mediterranean': 5, 'Desserts': 13, 'Seafood': 4, 'Beverages': 5, 'Goan': 1, 'Healthy Food': 1, 'Lebanese': 1, 'American': 6, 'Ice Cream': 2, 'Street Food': 2, 'Fast Food': 14, 'BBQ': 2, 'Italian': 14, 'Finger Food': 2, 'Burger': 5, 'Japanese': 2, 'Salad': 5, 'Sushi': 4, 'Mexican': 1, 'Mughlai': 6, 'Andhra': 6, 'Bakery': 7, 'Juices': 1, 'Arabian': 2, 'Hyderabadi': 4, 'Cafe': 6, 'Spanish': 1, 'Wraps': 1, 'Thai': 2, 'Indonesian': 1, 'Modern Indian': 2, 'Momos': 4, 'Pizza': 1, 'North Eastern': 1, 'Mithai': 1}\n",
            "{'Chinese': 41, 'Continental': 21, 'Kebab': 6, 'European': 4, 'South Indian': 9, 'North Indian': 61, 'Biryani': 16, 'Asian': 14, 'Mediterranean': 5, 'Desserts': 13, 'Seafood': 4, 'Beverages': 5, 'Goan': 1, 'Healthy Food': 1, 'Lebanese': 1, 'American': 6, 'Ice Cream': 2, 'Street Food': 2, 'Fast Food': 14, 'BBQ': 2, 'Italian': 14, 'Finger Food': 2, 'Burger': 5, 'Japanese': 2, 'Salad': 5, 'Sushi': 4, 'Mexican': 1, 'Mughlai': 6, 'Andhra': 6, 'Bakery': 7, 'Juices': 1, 'Arabian': 2, 'Hyderabadi': 4, 'Cafe': 6, 'Spanish': 1, 'Wraps': 1, 'Thai': 2, 'Indonesian': 1, 'Modern Indian': 2, 'Momos': 4, 'Pizza': 1, 'North Eastern': 1, 'Mithai': 1}\n",
            "{'Chinese': 42, 'Continental': 21, 'Kebab': 6, 'European': 4, 'South Indian': 9, 'North Indian': 61, 'Biryani': 16, 'Asian': 14, 'Mediterranean': 5, 'Desserts': 13, 'Seafood': 4, 'Beverages': 5, 'Goan': 1, 'Healthy Food': 1, 'Lebanese': 1, 'American': 6, 'Ice Cream': 2, 'Street Food': 2, 'Fast Food': 14, 'BBQ': 2, 'Italian': 14, 'Finger Food': 2, 'Burger': 5, 'Japanese': 2, 'Salad': 5, 'Sushi': 4, 'Mexican': 1, 'Mughlai': 6, 'Andhra': 6, 'Bakery': 7, 'Juices': 1, 'Arabian': 2, 'Hyderabadi': 4, 'Cafe': 6, 'Spanish': 1, 'Wraps': 1, 'Thai': 2, 'Indonesian': 1, 'Modern Indian': 2, 'Momos': 4, 'Pizza': 1, 'North Eastern': 1, 'Mithai': 1}\n",
            "{'Chinese': 42, 'Continental': 21, 'Kebab': 6, 'European': 4, 'South Indian': 9, 'North Indian': 61, 'Biryani': 16, 'Asian': 14, 'Mediterranean': 5, 'Desserts': 13, 'Seafood': 4, 'Beverages': 5, 'Goan': 1, 'Healthy Food': 1, 'Lebanese': 1, 'American': 6, 'Ice Cream': 2, 'Street Food': 2, 'Fast Food': 15, 'BBQ': 2, 'Italian': 14, 'Finger Food': 2, 'Burger': 5, 'Japanese': 2, 'Salad': 5, 'Sushi': 4, 'Mexican': 1, 'Mughlai': 6, 'Andhra': 6, 'Bakery': 7, 'Juices': 1, 'Arabian': 2, 'Hyderabadi': 4, 'Cafe': 6, 'Spanish': 1, 'Wraps': 1, 'Thai': 2, 'Indonesian': 1, 'Modern Indian': 2, 'Momos': 4, 'Pizza': 1, 'North Eastern': 1, 'Mithai': 1}\n",
            "{'Chinese': 42, 'Continental': 21, 'Kebab': 6, 'European': 4, 'South Indian': 9, 'North Indian': 61, 'Biryani': 16, 'Asian': 14, 'Mediterranean': 5, 'Desserts': 13, 'Seafood': 4, 'Beverages': 5, 'Goan': 1, 'Healthy Food': 1, 'Lebanese': 1, 'American': 6, 'Ice Cream': 2, 'Street Food': 2, 'Fast Food': 15, 'BBQ': 2, 'Italian': 14, 'Finger Food': 2, 'Burger': 5, 'Japanese': 2, 'Salad': 5, 'Sushi': 4, 'Mexican': 1, 'Mughlai': 6, 'Andhra': 6, 'Bakery': 7, 'Juices': 1, 'Arabian': 2, 'Hyderabadi': 4, 'Cafe': 6, 'Spanish': 1, 'Wraps': 1, 'Thai': 3, 'Indonesian': 1, 'Modern Indian': 2, 'Momos': 4, 'Pizza': 1, 'North Eastern': 1, 'Mithai': 1}\n",
            "{'Chinese': 42, 'Continental': 21, 'Kebab': 6, 'European': 4, 'South Indian': 9, 'North Indian': 61, 'Biryani': 16, 'Asian': 15, 'Mediterranean': 5, 'Desserts': 13, 'Seafood': 4, 'Beverages': 5, 'Goan': 1, 'Healthy Food': 1, 'Lebanese': 1, 'American': 6, 'Ice Cream': 2, 'Street Food': 2, 'Fast Food': 15, 'BBQ': 2, 'Italian': 14, 'Finger Food': 2, 'Burger': 5, 'Japanese': 2, 'Salad': 5, 'Sushi': 4, 'Mexican': 1, 'Mughlai': 6, 'Andhra': 6, 'Bakery': 7, 'Juices': 1, 'Arabian': 2, 'Hyderabadi': 4, 'Cafe': 6, 'Spanish': 1, 'Wraps': 1, 'Thai': 3, 'Indonesian': 1, 'Modern Indian': 2, 'Momos': 4, 'Pizza': 1, 'North Eastern': 1, 'Mithai': 1}\n",
            "{'Chinese': 43, 'Continental': 21, 'Kebab': 6, 'European': 4, 'South Indian': 9, 'North Indian': 61, 'Biryani': 16, 'Asian': 15, 'Mediterranean': 5, 'Desserts': 13, 'Seafood': 4, 'Beverages': 5, 'Goan': 1, 'Healthy Food': 1, 'Lebanese': 1, 'American': 6, 'Ice Cream': 2, 'Street Food': 2, 'Fast Food': 15, 'BBQ': 2, 'Italian': 14, 'Finger Food': 2, 'Burger': 5, 'Japanese': 2, 'Salad': 5, 'Sushi': 4, 'Mexican': 1, 'Mughlai': 6, 'Andhra': 6, 'Bakery': 7, 'Juices': 1, 'Arabian': 2, 'Hyderabadi': 4, 'Cafe': 6, 'Spanish': 1, 'Wraps': 1, 'Thai': 3, 'Indonesian': 1, 'Modern Indian': 2, 'Momos': 4, 'Pizza': 1, 'North Eastern': 1, 'Mithai': 1}\n",
            "The Top 10 Cuisines are:\n",
            "               Counts of Restaurants\n",
            "North Indian                     61\n",
            "Chinese                          43\n",
            "Continental                      21\n",
            "Biryani                          16\n",
            "Fast Food                        15\n",
            "Asian                            15\n",
            "Italian                          14\n",
            "Desserts                         13\n",
            "South Indian                      9\n",
            "Bakery                            7\n"
          ]
        }
      ]
    },
    {
      "cell_type": "code",
      "source": [
        "test = ['sethu','virat','rohit','sethu']\n",
        "dictionary = {}\n",
        "for n in test:\n",
        "  if (n in dictionary):\n",
        "    dictionary[n]+=1\n",
        "  else:\n",
        "    dictionary[n]=1\n",
        "  print(dictionary)"
      ],
      "metadata": {
        "colab": {
          "base_uri": "https://localhost:8080/"
        },
        "id": "xwWsL3hp_Lij",
        "outputId": "59bed2c0-04ec-410b-8f76-3d2c1011520f"
      },
      "execution_count": 8,
      "outputs": [
        {
          "output_type": "stream",
          "name": "stdout",
          "text": [
            "{'sethu': 1}\n",
            "{'sethu': 1, 'virat': 1}\n",
            "{'sethu': 1, 'virat': 1, 'rohit': 1}\n",
            "{'sethu': 2, 'virat': 1, 'rohit': 1}\n"
          ]
        }
      ]
    },
    {
      "cell_type": "code",
      "source": [
        "# Shape\n",
        "df.shape"
      ],
      "metadata": {
        "colab": {
          "base_uri": "https://localhost:8080/"
        },
        "id": "DUAMtdxKwmTw",
        "outputId": "38733937-6b96-4b59-afb4-6aee295f7ffb"
      },
      "execution_count": 9,
      "outputs": [
        {
          "output_type": "execute_result",
          "data": {
            "text/plain": [
              "(105, 6)"
            ]
          },
          "metadata": {},
          "execution_count": 9
        }
      ]
    },
    {
      "cell_type": "code",
      "source": [
        "# Head\n",
        "df.head()"
      ],
      "metadata": {
        "colab": {
          "base_uri": "https://localhost:8080/",
          "height": 406
        },
        "id": "O59Ogi5pwhNW",
        "outputId": "9de77c7e-85e7-48f6-e641-064567b75787"
      },
      "execution_count": 10,
      "outputs": [
        {
          "output_type": "execute_result",
          "data": {
            "text/plain": [
              "                             Name  \\\n",
              "0                 Beyond Flavours   \n",
              "1                        Paradise   \n",
              "2                        Flechazo   \n",
              "3  Shah Ghouse Hotel & Restaurant   \n",
              "4      Over The Moon Brew Company   \n",
              "\n",
              "                                               Links   Cost  \\\n",
              "0  https://www.zomato.com/hyderabad/beyond-flavou...    800   \n",
              "1  https://www.zomato.com/hyderabad/paradise-gach...    800   \n",
              "2  https://www.zomato.com/hyderabad/flechazo-gach...  1,300   \n",
              "3  https://www.zomato.com/hyderabad/shah-ghouse-h...    800   \n",
              "4  https://www.zomato.com/hyderabad/over-the-moon...  1,200   \n",
              "\n",
              "                                         Collections  \\\n",
              "0  Food Hygiene Rated Restaurants in Hyderabad, C...   \n",
              "1                                Hyderabad's Hottest   \n",
              "2                 Great Buffets, Hyderabad's Hottest   \n",
              "3                             Late Night Restaurants   \n",
              "4  Best Bars & Pubs, Food Hygiene Rated Restauran...   \n",
              "\n",
              "                                            Cuisines  \\\n",
              "0  Chinese, Continental, Kebab, European, South I...   \n",
              "1                     Biryani, North Indian, Chinese   \n",
              "2       Asian, Mediterranean, North Indian, Desserts   \n",
              "3  Biryani, North Indian, Chinese, Seafood, Bever...   \n",
              "4  Asian, Continental, North Indian, Chinese, Med...   \n",
              "\n",
              "                                             Timings  \n",
              "0      12noon to 3:30pm, 6:30pm to 11:30pm (Mon-Sun)  \n",
              "1                                     11 AM to 11 PM  \n",
              "2              11:30 AM to 4:30 PM, 6:30 PM to 11 PM  \n",
              "3                                    12 Noon to 2 AM  \n",
              "4  12noon to 11pm (Mon, Tue, Wed, Thu, Sun), 12no...  "
            ],
            "text/html": [
              "\n",
              "  <div id=\"df-1bd9cea9-d97b-49c4-9cb8-0dffb669c051\">\n",
              "    <div class=\"colab-df-container\">\n",
              "      <div>\n",
              "<style scoped>\n",
              "    .dataframe tbody tr th:only-of-type {\n",
              "        vertical-align: middle;\n",
              "    }\n",
              "\n",
              "    .dataframe tbody tr th {\n",
              "        vertical-align: top;\n",
              "    }\n",
              "\n",
              "    .dataframe thead th {\n",
              "        text-align: right;\n",
              "    }\n",
              "</style>\n",
              "<table border=\"1\" class=\"dataframe\">\n",
              "  <thead>\n",
              "    <tr style=\"text-align: right;\">\n",
              "      <th></th>\n",
              "      <th>Name</th>\n",
              "      <th>Links</th>\n",
              "      <th>Cost</th>\n",
              "      <th>Collections</th>\n",
              "      <th>Cuisines</th>\n",
              "      <th>Timings</th>\n",
              "    </tr>\n",
              "  </thead>\n",
              "  <tbody>\n",
              "    <tr>\n",
              "      <th>0</th>\n",
              "      <td>Beyond Flavours</td>\n",
              "      <td>https://www.zomato.com/hyderabad/beyond-flavou...</td>\n",
              "      <td>800</td>\n",
              "      <td>Food Hygiene Rated Restaurants in Hyderabad, C...</td>\n",
              "      <td>Chinese, Continental, Kebab, European, South I...</td>\n",
              "      <td>12noon to 3:30pm, 6:30pm to 11:30pm (Mon-Sun)</td>\n",
              "    </tr>\n",
              "    <tr>\n",
              "      <th>1</th>\n",
              "      <td>Paradise</td>\n",
              "      <td>https://www.zomato.com/hyderabad/paradise-gach...</td>\n",
              "      <td>800</td>\n",
              "      <td>Hyderabad's Hottest</td>\n",
              "      <td>Biryani, North Indian, Chinese</td>\n",
              "      <td>11 AM to 11 PM</td>\n",
              "    </tr>\n",
              "    <tr>\n",
              "      <th>2</th>\n",
              "      <td>Flechazo</td>\n",
              "      <td>https://www.zomato.com/hyderabad/flechazo-gach...</td>\n",
              "      <td>1,300</td>\n",
              "      <td>Great Buffets, Hyderabad's Hottest</td>\n",
              "      <td>Asian, Mediterranean, North Indian, Desserts</td>\n",
              "      <td>11:30 AM to 4:30 PM, 6:30 PM to 11 PM</td>\n",
              "    </tr>\n",
              "    <tr>\n",
              "      <th>3</th>\n",
              "      <td>Shah Ghouse Hotel &amp; Restaurant</td>\n",
              "      <td>https://www.zomato.com/hyderabad/shah-ghouse-h...</td>\n",
              "      <td>800</td>\n",
              "      <td>Late Night Restaurants</td>\n",
              "      <td>Biryani, North Indian, Chinese, Seafood, Bever...</td>\n",
              "      <td>12 Noon to 2 AM</td>\n",
              "    </tr>\n",
              "    <tr>\n",
              "      <th>4</th>\n",
              "      <td>Over The Moon Brew Company</td>\n",
              "      <td>https://www.zomato.com/hyderabad/over-the-moon...</td>\n",
              "      <td>1,200</td>\n",
              "      <td>Best Bars &amp; Pubs, Food Hygiene Rated Restauran...</td>\n",
              "      <td>Asian, Continental, North Indian, Chinese, Med...</td>\n",
              "      <td>12noon to 11pm (Mon, Tue, Wed, Thu, Sun), 12no...</td>\n",
              "    </tr>\n",
              "  </tbody>\n",
              "</table>\n",
              "</div>\n",
              "      <button class=\"colab-df-convert\" onclick=\"convertToInteractive('df-1bd9cea9-d97b-49c4-9cb8-0dffb669c051')\"\n",
              "              title=\"Convert this dataframe to an interactive table.\"\n",
              "              style=\"display:none;\">\n",
              "        \n",
              "  <svg xmlns=\"http://www.w3.org/2000/svg\" height=\"24px\"viewBox=\"0 0 24 24\"\n",
              "       width=\"24px\">\n",
              "    <path d=\"M0 0h24v24H0V0z\" fill=\"none\"/>\n",
              "    <path d=\"M18.56 5.44l.94 2.06.94-2.06 2.06-.94-2.06-.94-.94-2.06-.94 2.06-2.06.94zm-11 1L8.5 8.5l.94-2.06 2.06-.94-2.06-.94L8.5 2.5l-.94 2.06-2.06.94zm10 10l.94 2.06.94-2.06 2.06-.94-2.06-.94-.94-2.06-.94 2.06-2.06.94z\"/><path d=\"M17.41 7.96l-1.37-1.37c-.4-.4-.92-.59-1.43-.59-.52 0-1.04.2-1.43.59L10.3 9.45l-7.72 7.72c-.78.78-.78 2.05 0 2.83L4 21.41c.39.39.9.59 1.41.59.51 0 1.02-.2 1.41-.59l7.78-7.78 2.81-2.81c.8-.78.8-2.07 0-2.86zM5.41 20L4 18.59l7.72-7.72 1.47 1.35L5.41 20z\"/>\n",
              "  </svg>\n",
              "      </button>\n",
              "      \n",
              "  <style>\n",
              "    .colab-df-container {\n",
              "      display:flex;\n",
              "      flex-wrap:wrap;\n",
              "      gap: 12px;\n",
              "    }\n",
              "\n",
              "    .colab-df-convert {\n",
              "      background-color: #E8F0FE;\n",
              "      border: none;\n",
              "      border-radius: 50%;\n",
              "      cursor: pointer;\n",
              "      display: none;\n",
              "      fill: #1967D2;\n",
              "      height: 32px;\n",
              "      padding: 0 0 0 0;\n",
              "      width: 32px;\n",
              "    }\n",
              "\n",
              "    .colab-df-convert:hover {\n",
              "      background-color: #E2EBFA;\n",
              "      box-shadow: 0px 1px 2px rgba(60, 64, 67, 0.3), 0px 1px 3px 1px rgba(60, 64, 67, 0.15);\n",
              "      fill: #174EA6;\n",
              "    }\n",
              "\n",
              "    [theme=dark] .colab-df-convert {\n",
              "      background-color: #3B4455;\n",
              "      fill: #D2E3FC;\n",
              "    }\n",
              "\n",
              "    [theme=dark] .colab-df-convert:hover {\n",
              "      background-color: #434B5C;\n",
              "      box-shadow: 0px 1px 3px 1px rgba(0, 0, 0, 0.15);\n",
              "      filter: drop-shadow(0px 1px 2px rgba(0, 0, 0, 0.3));\n",
              "      fill: #FFFFFF;\n",
              "    }\n",
              "  </style>\n",
              "\n",
              "      <script>\n",
              "        const buttonEl =\n",
              "          document.querySelector('#df-1bd9cea9-d97b-49c4-9cb8-0dffb669c051 button.colab-df-convert');\n",
              "        buttonEl.style.display =\n",
              "          google.colab.kernel.accessAllowed ? 'block' : 'none';\n",
              "\n",
              "        async function convertToInteractive(key) {\n",
              "          const element = document.querySelector('#df-1bd9cea9-d97b-49c4-9cb8-0dffb669c051');\n",
              "          const dataTable =\n",
              "            await google.colab.kernel.invokeFunction('convertToInteractive',\n",
              "                                                     [key], {});\n",
              "          if (!dataTable) return;\n",
              "\n",
              "          const docLinkHtml = 'Like what you see? Visit the ' +\n",
              "            '<a target=\"_blank\" href=https://colab.research.google.com/notebooks/data_table.ipynb>data table notebook</a>'\n",
              "            + ' to learn more about interactive tables.';\n",
              "          element.innerHTML = '';\n",
              "          dataTable['output_type'] = 'display_data';\n",
              "          await google.colab.output.renderOutput(dataTable, element);\n",
              "          const docLink = document.createElement('div');\n",
              "          docLink.innerHTML = docLinkHtml;\n",
              "          element.appendChild(docLink);\n",
              "        }\n",
              "      </script>\n",
              "    </div>\n",
              "  </div>\n",
              "  "
            ]
          },
          "metadata": {},
          "execution_count": 10
        }
      ]
    },
    {
      "cell_type": "code",
      "source": [
        "# Replacing empty space and comma\n",
        "df['Cuisines'] = df['Cuisines'].str.replace(' ','')\n",
        "df['Cuisines'] = df['Cuisines'].str.replace(',',', ')"
      ],
      "metadata": {
        "id": "vesduzfllOzg"
      },
      "execution_count": 11,
      "outputs": []
    },
    {
      "cell_type": "code",
      "source": [
        "# Unique Cuisines\n",
        "print('Number of Unique Cuisines : ',len(df['Cuisines'].unique()))\n",
        "print(list(df['Cuisines'].unique()))"
      ],
      "metadata": {
        "colab": {
          "base_uri": "https://localhost:8080/"
        },
        "id": "rEuZVZ8el-uy",
        "outputId": "0311764f-0797-4874-f9b5-6d71abdb79f0"
      },
      "execution_count": 12,
      "outputs": [
        {
          "output_type": "stream",
          "name": "stdout",
          "text": [
            "Number of Unique Cuisines :  92\n",
            "['Chinese, Continental, Kebab, European, SouthIndian, NorthIndian', 'Biryani, NorthIndian, Chinese', 'Asian, Mediterranean, NorthIndian, Desserts', 'Biryani, NorthIndian, Chinese, Seafood, Beverages', 'Asian, Continental, NorthIndian, Chinese, Mediterranean', 'Seafood, Goan, NorthIndian, Continental, Asian', 'HealthyFood, NorthIndian, Continental, SouthIndian', 'Lebanese', 'American, Chinese, NorthIndian, Kebab, SouthIndian', 'IceCream, Desserts', 'StreetFood, NorthIndian, FastFood', 'Mediterranean, NorthIndian, Kebab, BBQ', 'Continental, American, Chinese', 'NorthIndian, Italian, FingerFood', 'European, Mediterranean, NorthIndian', 'Burger, FastFood', 'NorthIndian', 'Chinese, NorthIndian', 'NorthIndian, Chinese, Continental', 'NorthIndian, Chinese, Biryani', 'NorthIndian, Japanese, Italian, Salad, Sushi', 'American', 'Continental', 'Mexican, Italian, NorthIndian, Chinese, Salad', 'NorthIndian, Mediterranean, European', 'Mughlai, Biryani', 'FastFood', 'Andhra, SouthIndian, NorthIndian', 'Bakery, NorthIndian, Mughlai, Juices, Chinese', 'Arabian, NorthIndian, Chinese', 'NorthIndian, FastFood', 'Italian, NorthIndian, SouthIndian, Asian', 'Biryani, SouthIndian, NorthIndian, Chinese, Andhra', 'Andhra, Biryani, Hyderabadi, NorthIndian', 'NorthIndian, Continental, Italian, Asian', 'Cafe, Continental, Desserts', 'European, Italian, Continental, Spanish', 'Bakery, FastFood, Desserts', 'Cafe, Desserts, FastFood', 'American, Wraps, Desserts', 'FingerFood, NorthIndian, Kebab, Chinese', 'Chinese, Biryani, Andhra, NorthIndian', 'Andhra, NorthIndian, Chinese', 'Chinese, Thai, Indonesian, Asian', 'SouthIndian, NorthIndian, Chinese', 'NorthIndian, Continental', 'NorthIndian, Biryani, Chinese', 'Chinese, Continental, Italian', 'Asian', 'Cafe, Bakery', 'ModernIndian, Asian, Continental, Italian', 'NorthIndian, Chinese', 'Desserts, Beverages', 'Bakery, Desserts, FastFood', 'NorthIndian, Continental, Chinese, Italian', 'Kebab, Continental, Italian, NorthIndian', 'NorthIndian, Chinese, FastFood', 'Chinese, Asian, Momos', 'NorthIndian, Chinese, Japanese, Sushi', 'NorthIndian, Chinese, Mughlai, Biryani', 'NorthIndian, Hyderabadi', 'NorthIndian, Continental, Italian', 'BBQ, Asian, ModernIndian', 'Asian, Thai, Chinese, Sushi, Momos', 'NorthIndian, Mughlai, Beverages', 'Bakery, Desserts', 'Cafe, FastFood, Beverages', 'FastFood, Biryani, Desserts', 'NorthIndian, SouthIndian', 'Bakery', 'Italian, NorthIndian, Chinese, Salad', 'NorthIndian, Mughlai', 'NorthIndian, Chinese, Continental, Biryani', 'NorthIndian, Burger, Kebab', 'NorthIndian, Chinese, Seafood, Biryani, Hyderabadi', 'Burger, American', 'NorthIndian, Andhra, Biryani, Chinese', 'Momos', 'Cafe, Desserts', 'American, FastFood, Salad, Burger', 'FastFood, Pizza', 'StreetFood, Arabian', 'NorthIndian, Italian, Continental, Asian', 'Continental, Italian, NorthIndian, Chinese, Asian', 'NorthEastern, Momos', 'Desserts, Cafe, Beverages, Burger, FastFood', 'Hyderabadi, Chinese, Mughlai', 'Asian, Sushi', 'Chinese, Seafood', 'FastFood, Salad', 'Bakery, Mithai', 'Thai, Asian, Chinese, Malaysian']\n"
          ]
        }
      ]
    },
    {
      "cell_type": "code",
      "source": [
        "# Info\n",
        "df.info()"
      ],
      "metadata": {
        "colab": {
          "base_uri": "https://localhost:8080/"
        },
        "id": "f8B_Qz88wjqw",
        "outputId": "0ed0c0b4-e554-452e-8e7a-ef7071b15b91"
      },
      "execution_count": 13,
      "outputs": [
        {
          "output_type": "stream",
          "name": "stdout",
          "text": [
            "<class 'pandas.core.frame.DataFrame'>\n",
            "RangeIndex: 105 entries, 0 to 104\n",
            "Data columns (total 6 columns):\n",
            " #   Column       Non-Null Count  Dtype \n",
            "---  ------       --------------  ----- \n",
            " 0   Name         105 non-null    object\n",
            " 1   Links        105 non-null    object\n",
            " 2   Cost         105 non-null    object\n",
            " 3   Collections  51 non-null     object\n",
            " 4   Cuisines     105 non-null    object\n",
            " 5   Timings      104 non-null    object\n",
            "dtypes: object(6)\n",
            "memory usage: 5.0+ KB\n"
          ]
        }
      ]
    },
    {
      "cell_type": "code",
      "source": [
        "# Null values\n",
        "# Percentage of null values for each features\n",
        "# print(list(df.columns))\n",
        "\n",
        "for col in list(df.columns):\n",
        "  if ((df[col].isnull().sum())/(len(df[col]))*100) > 50:\n",
        "    # print((df[col].isnull().sum())/(len(df[col]))*100)\n",
        "    print(col)\n",
        "\n",
        "# As in the feature 'Collections' more than 50% of the observations are NULL values, so feature 'Collections' is droppped"
      ],
      "metadata": {
        "colab": {
          "base_uri": "https://localhost:8080/"
        },
        "id": "MFPXlLkFe4-Y",
        "outputId": "f9d30b72-21a3-4be2-8d26-e003be55c76c"
      },
      "execution_count": 14,
      "outputs": [
        {
          "output_type": "stream",
          "name": "stdout",
          "text": [
            "Collections\n"
          ]
        }
      ]
    },
    {
      "cell_type": "code",
      "source": [
        "# Dropping the 'Collections' feature\n",
        "df.drop(columns = 'Collections',axis =1,inplace = True)\n",
        "\n",
        "# Removing the observations with null values in 'Timings' feature\n",
        "df.dropna(axis = 0,inplace = True)\n",
        "\n",
        "# Print\n",
        "print(df.shape)\n",
        "print(df.info())"
      ],
      "metadata": {
        "colab": {
          "base_uri": "https://localhost:8080/"
        },
        "id": "2_IfD8T6oAE8",
        "outputId": "0e6a63b5-acbd-4897-8a4a-c1eb11a50a0e"
      },
      "execution_count": 15,
      "outputs": [
        {
          "output_type": "stream",
          "name": "stdout",
          "text": [
            "(104, 5)\n",
            "<class 'pandas.core.frame.DataFrame'>\n",
            "Int64Index: 104 entries, 0 to 104\n",
            "Data columns (total 5 columns):\n",
            " #   Column    Non-Null Count  Dtype \n",
            "---  ------    --------------  ----- \n",
            " 0   Name      104 non-null    object\n",
            " 1   Links     104 non-null    object\n",
            " 2   Cost      104 non-null    object\n",
            " 3   Cuisines  104 non-null    object\n",
            " 4   Timings   104 non-null    object\n",
            "dtypes: object(5)\n",
            "memory usage: 4.9+ KB\n",
            "None\n"
          ]
        }
      ]
    },
    {
      "cell_type": "code",
      "source": [
        "# Summary\n",
        "df.describe()"
      ],
      "metadata": {
        "colab": {
          "base_uri": "https://localhost:8080/",
          "height": 175
        },
        "id": "GeUKy055w608",
        "outputId": "3da52ff7-8531-41d6-8cbc-aadae9a80b4d"
      },
      "execution_count": 16,
      "outputs": [
        {
          "output_type": "execute_result",
          "data": {
            "text/plain": [
              "                   Name                                              Links  \\\n",
              "count               104                                                104   \n",
              "unique              104                                                104   \n",
              "top     Beyond Flavours  https://www.zomato.com/hyderabad/beyond-flavou...   \n",
              "freq                  1                                                  1   \n",
              "\n",
              "       Cost              Cuisines         Timings  \n",
              "count   104                   104             104  \n",
              "unique   29                    91              77  \n",
              "top     500  NorthIndian, Chinese  11 AM to 11 PM  \n",
              "freq     13                     4               6  "
            ],
            "text/html": [
              "\n",
              "  <div id=\"df-0b045511-4ae4-4eff-a4ee-da9ef62d5da3\">\n",
              "    <div class=\"colab-df-container\">\n",
              "      <div>\n",
              "<style scoped>\n",
              "    .dataframe tbody tr th:only-of-type {\n",
              "        vertical-align: middle;\n",
              "    }\n",
              "\n",
              "    .dataframe tbody tr th {\n",
              "        vertical-align: top;\n",
              "    }\n",
              "\n",
              "    .dataframe thead th {\n",
              "        text-align: right;\n",
              "    }\n",
              "</style>\n",
              "<table border=\"1\" class=\"dataframe\">\n",
              "  <thead>\n",
              "    <tr style=\"text-align: right;\">\n",
              "      <th></th>\n",
              "      <th>Name</th>\n",
              "      <th>Links</th>\n",
              "      <th>Cost</th>\n",
              "      <th>Cuisines</th>\n",
              "      <th>Timings</th>\n",
              "    </tr>\n",
              "  </thead>\n",
              "  <tbody>\n",
              "    <tr>\n",
              "      <th>count</th>\n",
              "      <td>104</td>\n",
              "      <td>104</td>\n",
              "      <td>104</td>\n",
              "      <td>104</td>\n",
              "      <td>104</td>\n",
              "    </tr>\n",
              "    <tr>\n",
              "      <th>unique</th>\n",
              "      <td>104</td>\n",
              "      <td>104</td>\n",
              "      <td>29</td>\n",
              "      <td>91</td>\n",
              "      <td>77</td>\n",
              "    </tr>\n",
              "    <tr>\n",
              "      <th>top</th>\n",
              "      <td>Beyond Flavours</td>\n",
              "      <td>https://www.zomato.com/hyderabad/beyond-flavou...</td>\n",
              "      <td>500</td>\n",
              "      <td>NorthIndian, Chinese</td>\n",
              "      <td>11 AM to 11 PM</td>\n",
              "    </tr>\n",
              "    <tr>\n",
              "      <th>freq</th>\n",
              "      <td>1</td>\n",
              "      <td>1</td>\n",
              "      <td>13</td>\n",
              "      <td>4</td>\n",
              "      <td>6</td>\n",
              "    </tr>\n",
              "  </tbody>\n",
              "</table>\n",
              "</div>\n",
              "      <button class=\"colab-df-convert\" onclick=\"convertToInteractive('df-0b045511-4ae4-4eff-a4ee-da9ef62d5da3')\"\n",
              "              title=\"Convert this dataframe to an interactive table.\"\n",
              "              style=\"display:none;\">\n",
              "        \n",
              "  <svg xmlns=\"http://www.w3.org/2000/svg\" height=\"24px\"viewBox=\"0 0 24 24\"\n",
              "       width=\"24px\">\n",
              "    <path d=\"M0 0h24v24H0V0z\" fill=\"none\"/>\n",
              "    <path d=\"M18.56 5.44l.94 2.06.94-2.06 2.06-.94-2.06-.94-.94-2.06-.94 2.06-2.06.94zm-11 1L8.5 8.5l.94-2.06 2.06-.94-2.06-.94L8.5 2.5l-.94 2.06-2.06.94zm10 10l.94 2.06.94-2.06 2.06-.94-2.06-.94-.94-2.06-.94 2.06-2.06.94z\"/><path d=\"M17.41 7.96l-1.37-1.37c-.4-.4-.92-.59-1.43-.59-.52 0-1.04.2-1.43.59L10.3 9.45l-7.72 7.72c-.78.78-.78 2.05 0 2.83L4 21.41c.39.39.9.59 1.41.59.51 0 1.02-.2 1.41-.59l7.78-7.78 2.81-2.81c.8-.78.8-2.07 0-2.86zM5.41 20L4 18.59l7.72-7.72 1.47 1.35L5.41 20z\"/>\n",
              "  </svg>\n",
              "      </button>\n",
              "      \n",
              "  <style>\n",
              "    .colab-df-container {\n",
              "      display:flex;\n",
              "      flex-wrap:wrap;\n",
              "      gap: 12px;\n",
              "    }\n",
              "\n",
              "    .colab-df-convert {\n",
              "      background-color: #E8F0FE;\n",
              "      border: none;\n",
              "      border-radius: 50%;\n",
              "      cursor: pointer;\n",
              "      display: none;\n",
              "      fill: #1967D2;\n",
              "      height: 32px;\n",
              "      padding: 0 0 0 0;\n",
              "      width: 32px;\n",
              "    }\n",
              "\n",
              "    .colab-df-convert:hover {\n",
              "      background-color: #E2EBFA;\n",
              "      box-shadow: 0px 1px 2px rgba(60, 64, 67, 0.3), 0px 1px 3px 1px rgba(60, 64, 67, 0.15);\n",
              "      fill: #174EA6;\n",
              "    }\n",
              "\n",
              "    [theme=dark] .colab-df-convert {\n",
              "      background-color: #3B4455;\n",
              "      fill: #D2E3FC;\n",
              "    }\n",
              "\n",
              "    [theme=dark] .colab-df-convert:hover {\n",
              "      background-color: #434B5C;\n",
              "      box-shadow: 0px 1px 3px 1px rgba(0, 0, 0, 0.15);\n",
              "      filter: drop-shadow(0px 1px 2px rgba(0, 0, 0, 0.3));\n",
              "      fill: #FFFFFF;\n",
              "    }\n",
              "  </style>\n",
              "\n",
              "      <script>\n",
              "        const buttonEl =\n",
              "          document.querySelector('#df-0b045511-4ae4-4eff-a4ee-da9ef62d5da3 button.colab-df-convert');\n",
              "        buttonEl.style.display =\n",
              "          google.colab.kernel.accessAllowed ? 'block' : 'none';\n",
              "\n",
              "        async function convertToInteractive(key) {\n",
              "          const element = document.querySelector('#df-0b045511-4ae4-4eff-a4ee-da9ef62d5da3');\n",
              "          const dataTable =\n",
              "            await google.colab.kernel.invokeFunction('convertToInteractive',\n",
              "                                                     [key], {});\n",
              "          if (!dataTable) return;\n",
              "\n",
              "          const docLinkHtml = 'Like what you see? Visit the ' +\n",
              "            '<a target=\"_blank\" href=https://colab.research.google.com/notebooks/data_table.ipynb>data table notebook</a>'\n",
              "            + ' to learn more about interactive tables.';\n",
              "          element.innerHTML = '';\n",
              "          dataTable['output_type'] = 'display_data';\n",
              "          await google.colab.output.renderOutput(dataTable, element);\n",
              "          const docLink = document.createElement('div');\n",
              "          docLink.innerHTML = docLinkHtml;\n",
              "          element.appendChild(docLink);\n",
              "        }\n",
              "      </script>\n",
              "    </div>\n",
              "  </div>\n",
              "  "
            ]
          },
          "metadata": {},
          "execution_count": 16
        }
      ]
    },
    {
      "cell_type": "code",
      "source": [
        "# Tokenizer\n",
        "tokenizer = Tokenizer(num_words=\"MAX_NB_WORDS\")\n",
        "tokenizer.fit_on_texts(df[['Cuisines','Links','Timings']])"
      ],
      "metadata": {
        "id": "w1JXvoSTsLnR"
      },
      "execution_count": 17,
      "outputs": []
    },
    {
      "cell_type": "code",
      "source": [
        "# Functions\n",
        "def remove_non_ascii(words):\n",
        "    \"\"\"Remove non-ASCII characters from list of tokenized words\"\"\"\n",
        "    new_words = []\n",
        "    for word in words:\n",
        "        new_word = unicodedata.normalize('NFKD', word).encode('ascii', 'ignore').decode('utf-8', 'ignore')\n",
        "        new_words.append(new_word)\n",
        "    return new_words\n",
        "\n",
        "def to_lowercase(words):\n",
        "    \"\"\"Convert all characters to lowercase from list of tokenized words\"\"\"\n",
        "    new_words = []\n",
        "    for word in words:\n",
        "        new_word = word.lower()\n",
        "        new_words.append(new_word)\n",
        "    return new_words\n",
        "\n",
        "def remove_punctuation(words):\n",
        "    \"\"\"Remove punctuation from list of tokenized words\"\"\"\n",
        "    new_words = []\n",
        "    for word in words:\n",
        "        new_word = re.sub(r'[^\\w\\s]', '', word)\n",
        "        if new_word != '':\n",
        "            new_words.append(new_word)\n",
        "    return new_words\n",
        "\n",
        "def replace_numbers(words):\n",
        "    \"\"\"Replace all interger occurrences in list of tokenized words with textual representation\"\"\"\n",
        "    p = inflect.engine()\n",
        "    new_words = []\n",
        "    for word in words:\n",
        "        if word.isdigit():\n",
        "            new_word = p.number_to_words(word)\n",
        "            new_words.append(new_word)\n",
        "        else:\n",
        "            new_words.append(word)\n",
        "    return new_words\n",
        "\n",
        "def stem_words(words):\n",
        "    \"\"\"Stem words in list of tokenized words\"\"\"\n",
        "    stemmer = LancasterStemmer()\n",
        "    stems = []\n",
        "    for word in words:\n",
        "        stem = stemmer.stem(word)\n",
        "        stems.append(stem)\n",
        "    return stems\n",
        "\n",
        "def lemmatize_verbs(words):\n",
        "    \"\"\"Lemmatize verbs in list of tokenized words\"\"\"\n",
        "    lemmatizer = WordNetLemmatizer()\n",
        "    lemmas = []\n",
        "    for word in words:\n",
        "        lemma = lemmatizer.lemmatize(word, pos='v')\n",
        "        lemmas.append(lemma)\n",
        "    return lemmas\n",
        "\n",
        "def normalize(words):\n",
        "    words = remove_non_ascii(words)\n",
        "    words = to_lowercase(words)\n",
        "    words = remove_punctuation(words)\n",
        "    words = replace_numbers(words)\n",
        "    return words\n",
        "\n",
        "col_lsts = ['Links','Cuisines','Timings']\n",
        "for col_lst in col_lsts:\n",
        "  df[col_lst] = normalize(df[col_lst])"
      ],
      "metadata": {
        "id": "ez2tnI8Csi1f"
      },
      "execution_count": 18,
      "outputs": []
    },
    {
      "cell_type": "code",
      "source": [
        "df.head()"
      ],
      "metadata": {
        "colab": {
          "base_uri": "https://localhost:8080/",
          "height": 320
        },
        "id": "-6cxePQLycMY",
        "outputId": "03c50d7c-07fa-4265-d5b9-1e6a39939233"
      },
      "execution_count": 19,
      "outputs": [
        {
          "output_type": "execute_result",
          "data": {
            "text/plain": [
              "                             Name  \\\n",
              "0                 Beyond Flavours   \n",
              "1                        Paradise   \n",
              "2                        Flechazo   \n",
              "3  Shah Ghouse Hotel & Restaurant   \n",
              "4      Over The Moon Brew Company   \n",
              "\n",
              "                                               Links   Cost  \\\n",
              "0  httpswwwzomatocomhyderabadbeyondflavoursgachib...    800   \n",
              "1       httpswwwzomatocomhyderabadparadisegachibowli    800   \n",
              "2       httpswwwzomatocomhyderabadflechazogachibowli  1,300   \n",
              "3  httpswwwzomatocomhyderabadshahghousehotelresta...    800   \n",
              "4  httpswwwzomatocomhyderabadoverthemoonbrewcompa...  1,200   \n",
              "\n",
              "                                            Cuisines  \\\n",
              "0  chinese continental kebab european southindian...   \n",
              "1                        biryani northindian chinese   \n",
              "2           asian mediterranean northindian desserts   \n",
              "3      biryani northindian chinese seafood beverages   \n",
              "4  asian continental northindian chinese mediterr...   \n",
              "\n",
              "                                             Timings  \n",
              "0             12noon to 330pm 630pm to 1130pm monsun  \n",
              "1                                     11 am to 11 pm  \n",
              "2                  1130 am to 430 pm 630 pm to 11 pm  \n",
              "3                                    12 noon to 2 am  \n",
              "4  12noon to 11pm mon tue wed thu sun 12noon to 1...  "
            ],
            "text/html": [
              "\n",
              "  <div id=\"df-ac12142d-5df7-4a2e-b320-d08e099dab3d\">\n",
              "    <div class=\"colab-df-container\">\n",
              "      <div>\n",
              "<style scoped>\n",
              "    .dataframe tbody tr th:only-of-type {\n",
              "        vertical-align: middle;\n",
              "    }\n",
              "\n",
              "    .dataframe tbody tr th {\n",
              "        vertical-align: top;\n",
              "    }\n",
              "\n",
              "    .dataframe thead th {\n",
              "        text-align: right;\n",
              "    }\n",
              "</style>\n",
              "<table border=\"1\" class=\"dataframe\">\n",
              "  <thead>\n",
              "    <tr style=\"text-align: right;\">\n",
              "      <th></th>\n",
              "      <th>Name</th>\n",
              "      <th>Links</th>\n",
              "      <th>Cost</th>\n",
              "      <th>Cuisines</th>\n",
              "      <th>Timings</th>\n",
              "    </tr>\n",
              "  </thead>\n",
              "  <tbody>\n",
              "    <tr>\n",
              "      <th>0</th>\n",
              "      <td>Beyond Flavours</td>\n",
              "      <td>httpswwwzomatocomhyderabadbeyondflavoursgachib...</td>\n",
              "      <td>800</td>\n",
              "      <td>chinese continental kebab european southindian...</td>\n",
              "      <td>12noon to 330pm 630pm to 1130pm monsun</td>\n",
              "    </tr>\n",
              "    <tr>\n",
              "      <th>1</th>\n",
              "      <td>Paradise</td>\n",
              "      <td>httpswwwzomatocomhyderabadparadisegachibowli</td>\n",
              "      <td>800</td>\n",
              "      <td>biryani northindian chinese</td>\n",
              "      <td>11 am to 11 pm</td>\n",
              "    </tr>\n",
              "    <tr>\n",
              "      <th>2</th>\n",
              "      <td>Flechazo</td>\n",
              "      <td>httpswwwzomatocomhyderabadflechazogachibowli</td>\n",
              "      <td>1,300</td>\n",
              "      <td>asian mediterranean northindian desserts</td>\n",
              "      <td>1130 am to 430 pm 630 pm to 11 pm</td>\n",
              "    </tr>\n",
              "    <tr>\n",
              "      <th>3</th>\n",
              "      <td>Shah Ghouse Hotel &amp; Restaurant</td>\n",
              "      <td>httpswwwzomatocomhyderabadshahghousehotelresta...</td>\n",
              "      <td>800</td>\n",
              "      <td>biryani northindian chinese seafood beverages</td>\n",
              "      <td>12 noon to 2 am</td>\n",
              "    </tr>\n",
              "    <tr>\n",
              "      <th>4</th>\n",
              "      <td>Over The Moon Brew Company</td>\n",
              "      <td>httpswwwzomatocomhyderabadoverthemoonbrewcompa...</td>\n",
              "      <td>1,200</td>\n",
              "      <td>asian continental northindian chinese mediterr...</td>\n",
              "      <td>12noon to 11pm mon tue wed thu sun 12noon to 1...</td>\n",
              "    </tr>\n",
              "  </tbody>\n",
              "</table>\n",
              "</div>\n",
              "      <button class=\"colab-df-convert\" onclick=\"convertToInteractive('df-ac12142d-5df7-4a2e-b320-d08e099dab3d')\"\n",
              "              title=\"Convert this dataframe to an interactive table.\"\n",
              "              style=\"display:none;\">\n",
              "        \n",
              "  <svg xmlns=\"http://www.w3.org/2000/svg\" height=\"24px\"viewBox=\"0 0 24 24\"\n",
              "       width=\"24px\">\n",
              "    <path d=\"M0 0h24v24H0V0z\" fill=\"none\"/>\n",
              "    <path d=\"M18.56 5.44l.94 2.06.94-2.06 2.06-.94-2.06-.94-.94-2.06-.94 2.06-2.06.94zm-11 1L8.5 8.5l.94-2.06 2.06-.94-2.06-.94L8.5 2.5l-.94 2.06-2.06.94zm10 10l.94 2.06.94-2.06 2.06-.94-2.06-.94-.94-2.06-.94 2.06-2.06.94z\"/><path d=\"M17.41 7.96l-1.37-1.37c-.4-.4-.92-.59-1.43-.59-.52 0-1.04.2-1.43.59L10.3 9.45l-7.72 7.72c-.78.78-.78 2.05 0 2.83L4 21.41c.39.39.9.59 1.41.59.51 0 1.02-.2 1.41-.59l7.78-7.78 2.81-2.81c.8-.78.8-2.07 0-2.86zM5.41 20L4 18.59l7.72-7.72 1.47 1.35L5.41 20z\"/>\n",
              "  </svg>\n",
              "      </button>\n",
              "      \n",
              "  <style>\n",
              "    .colab-df-container {\n",
              "      display:flex;\n",
              "      flex-wrap:wrap;\n",
              "      gap: 12px;\n",
              "    }\n",
              "\n",
              "    .colab-df-convert {\n",
              "      background-color: #E8F0FE;\n",
              "      border: none;\n",
              "      border-radius: 50%;\n",
              "      cursor: pointer;\n",
              "      display: none;\n",
              "      fill: #1967D2;\n",
              "      height: 32px;\n",
              "      padding: 0 0 0 0;\n",
              "      width: 32px;\n",
              "    }\n",
              "\n",
              "    .colab-df-convert:hover {\n",
              "      background-color: #E2EBFA;\n",
              "      box-shadow: 0px 1px 2px rgba(60, 64, 67, 0.3), 0px 1px 3px 1px rgba(60, 64, 67, 0.15);\n",
              "      fill: #174EA6;\n",
              "    }\n",
              "\n",
              "    [theme=dark] .colab-df-convert {\n",
              "      background-color: #3B4455;\n",
              "      fill: #D2E3FC;\n",
              "    }\n",
              "\n",
              "    [theme=dark] .colab-df-convert:hover {\n",
              "      background-color: #434B5C;\n",
              "      box-shadow: 0px 1px 3px 1px rgba(0, 0, 0, 0.15);\n",
              "      filter: drop-shadow(0px 1px 2px rgba(0, 0, 0, 0.3));\n",
              "      fill: #FFFFFF;\n",
              "    }\n",
              "  </style>\n",
              "\n",
              "      <script>\n",
              "        const buttonEl =\n",
              "          document.querySelector('#df-ac12142d-5df7-4a2e-b320-d08e099dab3d button.colab-df-convert');\n",
              "        buttonEl.style.display =\n",
              "          google.colab.kernel.accessAllowed ? 'block' : 'none';\n",
              "\n",
              "        async function convertToInteractive(key) {\n",
              "          const element = document.querySelector('#df-ac12142d-5df7-4a2e-b320-d08e099dab3d');\n",
              "          const dataTable =\n",
              "            await google.colab.kernel.invokeFunction('convertToInteractive',\n",
              "                                                     [key], {});\n",
              "          if (!dataTable) return;\n",
              "\n",
              "          const docLinkHtml = 'Like what you see? Visit the ' +\n",
              "            '<a target=\"_blank\" href=https://colab.research.google.com/notebooks/data_table.ipynb>data table notebook</a>'\n",
              "            + ' to learn more about interactive tables.';\n",
              "          element.innerHTML = '';\n",
              "          dataTable['output_type'] = 'display_data';\n",
              "          await google.colab.output.renderOutput(dataTable, element);\n",
              "          const docLink = document.createElement('div');\n",
              "          docLink.innerHTML = docLinkHtml;\n",
              "          element.appendChild(docLink);\n",
              "        }\n",
              "      </script>\n",
              "    </div>\n",
              "  </div>\n",
              "  "
            ]
          },
          "metadata": {},
          "execution_count": 19
        }
      ]
    },
    {
      "cell_type": "code",
      "source": [
        "# Visualization of words from 'Cuisines' feature\n",
        "df['Cuisines']= df['Cuisines'].astype(str)\n",
        "\n",
        "ps = PorterStemmer() \n",
        "df['Cuisines']=df['Cuisines'].map(lambda x: ps.stem(x))\n",
        "long_string = ','.join(list(df['Cuisines'].values))\n",
        "long_string\n",
        "wordcloud = WordCloud(background_color=\"white\", max_words=100, contour_width=3, contour_color='steelblue')\n",
        "wordcloud.generate(long_string)\n",
        "wordcloud.to_image()"
      ],
      "metadata": {
        "colab": {
          "base_uri": "https://localhost:8080/",
          "height": 217
        },
        "id": "5ylYHLJZGMBu",
        "outputId": "c355c77c-09a9-45a4-81da-612732b7747e"
      },
      "execution_count": 20,
      "outputs": [
        {
          "output_type": "execute_result",
          "data": {
            "text/plain": [
              "<PIL.Image.Image image mode=RGB size=400x200 at 0x7FADCA883A90>"
            ],
            "image/png": "[encoded data removed]"
          },
          "metadata": {},
          "execution_count": 20
        }
      ]
    },
    {
      "cell_type": "code",
      "source": [
        ""
      ],
      "metadata": {
        "id": "1CUcZJ_i13xi"
      },
      "execution_count": 20,
      "outputs": []
    },
    {
      "cell_type": "code",
      "source": [
        "df['Cuisines'].nunique()"
      ],
      "metadata": {
        "colab": {
          "base_uri": "https://localhost:8080/"
        },
        "id": "oRfZNqq913_e",
        "outputId": "79b33bbb-d7cd-45d5-eef1-e4d1f7658171"
      },
      "execution_count": 21,
      "outputs": [
        {
          "output_type": "execute_result",
          "data": {
            "text/plain": [
              "91"
            ]
          },
          "metadata": {},
          "execution_count": 21
        }
      ]
    },
    {
      "cell_type": "code",
      "source": [
        "# Tfidf vectorizer\n",
        "vectorizer = TfidfVectorizer(stop_words= 'english')\n",
        "\n",
        "X = vectorizer.fit_transform(df['Cuisines'])"
      ],
      "metadata": {
        "id": "3-Xx1Zvi_4ij"
      },
      "execution_count": 22,
      "outputs": []
    },
    {
      "cell_type": "code",
      "source": [
        "X.shape\n",
        "# we have 50 unique words"
      ],
      "metadata": {
        "colab": {
          "base_uri": "https://localhost:8080/"
        },
        "id": "CobvJJDVGyL-",
        "outputId": "e3e17bf8-6ad7-44c4-c6b8-cf4a61e1ad08"
      },
      "execution_count": 23,
      "outputs": [
        {
          "output_type": "execute_result",
          "data": {
            "text/plain": [
              "(104, 50)"
            ]
          },
          "metadata": {},
          "execution_count": 23
        }
      ]
    },
    {
      "cell_type": "code",
      "source": [
        "# Type of X object\n",
        "type(X)"
      ],
      "metadata": {
        "colab": {
          "base_uri": "https://localhost:8080/"
        },
        "id": "PWMimfwI85EY",
        "outputId": "dd29444c-1ef7-4012-9b5a-43e66920e557"
      },
      "execution_count": 24,
      "outputs": [
        {
          "output_type": "execute_result",
          "data": {
            "text/plain": [
              "scipy.sparse.csr.csr_matrix"
            ]
          },
          "metadata": {},
          "execution_count": 24
        }
      ]
    },
    {
      "cell_type": "code",
      "source": [
        "# Converting 'X' object to array\n",
        "X = X.toarray()"
      ],
      "metadata": {
        "id": "BK8puEDd8nmY"
      },
      "execution_count": 25,
      "outputs": []
    },
    {
      "cell_type": "code",
      "source": [
        "type(X)"
      ],
      "metadata": {
        "colab": {
          "base_uri": "https://localhost:8080/"
        },
        "id": "3sU-jpjXRfbi",
        "outputId": "00a9c275-9d3d-47dc-b31e-c86ab1c36b20"
      },
      "execution_count": 26,
      "outputs": [
        {
          "output_type": "execute_result",
          "data": {
            "text/plain": [
              "numpy.ndarray"
            ]
          },
          "metadata": {},
          "execution_count": 26
        }
      ]
    },
    {
      "cell_type": "code",
      "source": [
        "# Elbow method to find appropriate 'K' value"
      ],
      "metadata": {
        "id": "957qzmTQZDmY"
      },
      "execution_count": 27,
      "outputs": []
    },
    {
      "cell_type": "code",
      "source": [
        "# 'k-means++' would initialize the centroids far from each other because intialize the centroids nearby could lead to improper clustering"
      ],
      "metadata": {
        "id": "Ge349kJyZfls"
      },
      "execution_count": 28,
      "outputs": []
    },
    {
      "cell_type": "code",
      "source": [
        "# KElbowvisualizer with metric as 'distortion\n",
        "\n",
        "model = KMeans(init=\"k-means++\",max_iter=300,random_state=0)\n",
        "visualizer = KElbowVisualizer(model, k=(2,20),metric= 'distortion', timings= True, locate_elbow= True)\n",
        "\n",
        "visualizer.fit(X)    # Fit the data to the visualizer\n",
        "visualizer.poof()"
      ],
      "metadata": {
        "colab": {
          "base_uri": "https://localhost:8080/",
          "height": 311
        },
        "id": "geNAeXIW4wbS",
        "outputId": "8145ed73-58a4-44d1-89f7-d68c7f1721b5"
      },
      "execution_count": 29,
      "outputs": [
        {
          "output_type": "display_data",
          "data": {
            "text/plain": [
              "<Figure size 432x288 with 2 Axes>"
            ],
            "image/png": "[encoded data removed]"
          },
          "metadata": {}
        },
        {
          "output_type": "execute_result",
          "data": {
            "text/plain": [
              "<matplotlib.axes._subplots.AxesSubplot at 0x7fadca823bd0>"
            ]
          },
          "metadata": {},
          "execution_count": 29
        }
      ]
    },
    {
      "cell_type": "code",
      "source": [
        "# KElbowvisualizer with metric as 'calinski_harabasz'\n",
        "\n",
        "model = KMeans(init=\"k-means++\",max_iter=300,random_state=0)\n",
        "visualizer = KElbowVisualizer(model, k=(2,20),metric= 'calinski_harabasz', timings= False, locate_elbow= True)\n",
        "\n",
        "visualizer.fit(X)    # Fit the data to the visualizer\n",
        "visualizer.poof()"
      ],
      "metadata": {
        "colab": {
          "base_uri": "https://localhost:8080/",
          "height": 311
        },
        "id": "07wt-GQQ5LzN",
        "outputId": "abcf318d-89bd-484d-a08a-be1b92587dc4"
      },
      "execution_count": 30,
      "outputs": [
        {
          "output_type": "display_data",
          "data": {
            "text/plain": [
              "<Figure size 432x288 with 1 Axes>"
            ],
            "image/png": "[encoded data removed]"
          },
          "metadata": {
            "needs_background": "light"
          }
        },
        {
          "output_type": "execute_result",
          "data": {
            "text/plain": [
              "<matplotlib.axes._subplots.AxesSubplot at 0x7fadc71a0e50>"
            ]
          },
          "metadata": {},
          "execution_count": 30
        }
      ]
    },
    {
      "cell_type": "code",
      "source": [
        "# # KElbowvisualizer with metric as 'silhouette'\n",
        "model = KMeans(init=\"k-means++\",max_iter=300,random_state=0)\n",
        "visualizer = KElbowVisualizer(model, k=(2,20), metric='silhouette', timings=False, locate_elbow=True)\n",
        "\n",
        "visualizer.fit(X)    # Fit the data to the visualizer\n",
        "visualizer.poof()"
      ],
      "metadata": {
        "colab": {
          "base_uri": "https://localhost:8080/",
          "height": 311
        },
        "id": "kAWyo92M6lKh",
        "outputId": "c4addfce-d834-4672-b093-f29c8c4fd846"
      },
      "execution_count": 31,
      "outputs": [
        {
          "output_type": "display_data",
          "data": {
            "text/plain": [
              "<Figure size 432x288 with 1 Axes>"
            ],
            "image/png": "[encoded data removed]"
          },
          "metadata": {
            "needs_background": "light"
          }
        },
        {
          "output_type": "execute_result",
          "data": {
            "text/plain": [
              "<matplotlib.axes._subplots.AxesSubplot at 0x7fadc71094d0>"
            ]
          },
          "metadata": {},
          "execution_count": 31
        }
      ]
    },
    {
      "cell_type": "code",
      "source": [
        "# Eblow method\n",
        "wcss = []\n",
        "for i in range(2,20):\n",
        "  kmeans = KMeans(n_clusters =i,init='k-means++',random_state=0)\n",
        "  kmeans.fit(X)\n",
        "  wcss.append(kmeans.inertia_)\n",
        "\n",
        "plt.plot(range(2,20),wcss)\n",
        "plt.title('The Elbow method')\n",
        "plt.xlabel('Number of clusters')\n",
        "plt.ylabel('WCSS')\n",
        "plt.show()"
      ],
      "metadata": {
        "colab": {
          "base_uri": "https://localhost:8080/",
          "height": 294
        },
        "id": "3Sgs6bMh61hr",
        "outputId": "bae3e99e-9015-475b-e829-534ec88de822"
      },
      "execution_count": 32,
      "outputs": [
        {
          "output_type": "display_data",
          "data": {
            "text/plain": [
              "<Figure size 432x288 with 1 Axes>"
            ],
            "image/png": "[encoded data removed]"
          },
          "metadata": {
            "needs_background": "light"
          }
        }
      ]
    },
    {
      "cell_type": "code",
      "source": [
        "# looks like we can go with k clusters.\n",
        "\n",
        "kmeans= KMeans(n_clusters=26, init= 'k-means++',max_iter=300, n_init=1,random_state = 0)\n",
        "\n",
        "kmeans.fit(X)"
      ],
      "metadata": {
        "colab": {
          "base_uri": "https://localhost:8080/"
        },
        "id": "ggTWPDZK_POD",
        "outputId": "17da43ee-0e2f-4ac9-8462-c8e78a8ef4fa"
      },
      "execution_count": 33,
      "outputs": [
        {
          "output_type": "execute_result",
          "data": {
            "text/plain": [
              "KMeans(n_clusters=26, n_init=1, random_state=0)"
            ]
          },
          "metadata": {},
          "execution_count": 33
        }
      ]
    },
    {
      "cell_type": "code",
      "source": [
        "#predict the labels of clusters.\n",
        "labels = kmeans.fit_predict(X)"
      ],
      "metadata": {
        "id": "pKjY5wXF_PSh"
      },
      "execution_count": 34,
      "outputs": []
    },
    {
      "cell_type": "code",
      "source": [
        "# Clusters center\n",
        "clusters_center = kmeans.cluster_centers_"
      ],
      "metadata": {
        "id": "erg10KWXXUle"
      },
      "execution_count": 35,
      "outputs": []
    },
    {
      "cell_type": "code",
      "source": [
        "# clusters_center"
      ],
      "metadata": {
        "id": "4zJ31IDMXexR"
      },
      "execution_count": 36,
      "outputs": []
    },
    {
      "cell_type": "code",
      "source": [
        "# test a new text\n",
        "\n",
        "X_new= vectorizer.transform([df['Cuisines'][26]])\n",
        "\n",
        "y_pred_new= kmeans.predict(X_new)[0]\n",
        "\n",
        "y_pred_new"
      ],
      "metadata": {
        "colab": {
          "base_uri": "https://localhost:8080/"
        },
        "id": "6KJulKin_PW5",
        "outputId": "6af5bc90-cff1-40d2-b6a2-6e37bae7628c"
      },
      "execution_count": 37,
      "outputs": [
        {
          "output_type": "execute_result",
          "data": {
            "text/plain": [
              "1"
            ]
          },
          "metadata": {},
          "execution_count": 37
        }
      ]
    },
    {
      "cell_type": "code",
      "source": [
        "# Silhouette score is for model validation for K-means,Hierarichical clustering.\n",
        "# Silhouette Coefficient ranges between -1 to +1.\n",
        "# Higher the Silhouette Coefficient better the clustering."
      ],
      "metadata": {
        "id": "5jzY0wFKZ84y"
      },
      "execution_count": 38,
      "outputs": []
    },
    {
      "cell_type": "code",
      "source": [
        "# Model Validation\n",
        "# silhouette score of my clusters\n",
        "print(\"Silhouette Coefficient: %0.3f\"%silhouette_score(X, kmeans.labels_))"
      ],
      "metadata": {
        "colab": {
          "base_uri": "https://localhost:8080/"
        },
        "id": "pa7aah3L_vRM",
        "outputId": "a05cdf84-1f2b-4669-eba4-8777a75e26e2"
      },
      "execution_count": 39,
      "outputs": [
        {
          "output_type": "stream",
          "name": "stdout",
          "text": [
            "Silhouette Coefficient: 0.250\n"
          ]
        }
      ]
    },
    {
      "cell_type": "code",
      "source": [
        "# Evaluation\n",
        "# range_n_clusters = [11, 12, 13, 14, 15, 16, 17, 18, 19, 20, 21, 22, 23, 24, 25, 26]\n",
        "range_n_clusters = [ 6, 7, 8, 9, 10, 11, 12, 13, 14, 15, 16, 17, 18, 19, 20, 21, 22, 23, 24, 25, 26]\n",
        "for n_clusters in range_n_clusters:\n",
        "    # Initialize the clusterer with n_clusters value and a random generator\n",
        "    # seed of 10 for reproducibility.\n",
        "    clusterer = KMeans(n_clusters=n_clusters, random_state=10)\n",
        "    cluster_labels = clusterer.fit_predict(X)\n",
        "\n",
        "    # The silhouette_score gives the average value for all the samples.\n",
        "    # This gives a perspective into the density and separation of the formed\n",
        "    # clusters\n",
        "    silhouette_avg = silhouette_score(X, cluster_labels)\n",
        "    print(\"For n_clusters =\", n_clusters,\n",
        "          \"The average silhouette_score is :\", round(silhouette_avg,5))"
      ],
      "metadata": {
        "colab": {
          "base_uri": "https://localhost:8080/"
        },
        "id": "OhFOEgdDf_gv",
        "outputId": "611c646a-3ca1-4204-e161-ee660b741d3b"
      },
      "execution_count": 40,
      "outputs": [
        {
          "output_type": "stream",
          "name": "stdout",
          "text": [
            "For n_clusters = 6 The average silhouette_score is : 0.14117\n",
            "For n_clusters = 7 The average silhouette_score is : 0.15739\n",
            "For n_clusters = 8 The average silhouette_score is : 0.16079\n",
            "For n_clusters = 9 The average silhouette_score is : 0.16655\n",
            "For n_clusters = 10 The average silhouette_score is : 0.16542\n",
            "For n_clusters = 11 The average silhouette_score is : 0.18035\n",
            "For n_clusters = 12 The average silhouette_score is : 0.17849\n",
            "For n_clusters = 13 The average silhouette_score is : 0.18703\n",
            "For n_clusters = 14 The average silhouette_score is : 0.19521\n",
            "For n_clusters = 15 The average silhouette_score is : 0.21263\n",
            "For n_clusters = 16 The average silhouette_score is : 0.20445\n",
            "For n_clusters = 17 The average silhouette_score is : 0.20834\n",
            "For n_clusters = 18 The average silhouette_score is : 0.20917\n",
            "For n_clusters = 19 The average silhouette_score is : 0.24654\n",
            "For n_clusters = 20 The average silhouette_score is : 0.2399\n",
            "For n_clusters = 21 The average silhouette_score is : 0.24824\n",
            "For n_clusters = 22 The average silhouette_score is : 0.2363\n",
            "For n_clusters = 23 The average silhouette_score is : 0.24308\n",
            "For n_clusters = 24 The average silhouette_score is : 0.25402\n",
            "For n_clusters = 25 The average silhouette_score is : 0.2843\n",
            "For n_clusters = 26 The average silhouette_score is : 0.26556\n"
          ]
        }
      ]
    },
    {
      "cell_type": "code",
      "source": [
        "# Creating new feature to store labels\n",
        "df['Cluster_labels'] = kmeans.labels_"
      ],
      "metadata": {
        "id": "ps_4bMGAgEqN"
      },
      "execution_count": 41,
      "outputs": []
    },
    {
      "cell_type": "code",
      "source": [
        "# Counting the number of cuisines with each labels\n",
        "pd.DataFrame(df.groupby(['Cluster_labels'])['Cuisines'].count()).reset_index()"
      ],
      "metadata": {
        "colab": {
          "base_uri": "https://localhost:8080/",
          "height": 864
        },
        "id": "QAw0wC78kOpT",
        "outputId": "bb17e55e-9bcb-4878-89ff-ae0858b3f15b"
      },
      "execution_count": 42,
      "outputs": [
        {
          "output_type": "execute_result",
          "data": {
            "text/plain": [
              "    Cluster_labels  Cuisines\n",
              "0                0         4\n",
              "1                1        13\n",
              "2                2         7\n",
              "3                3         4\n",
              "4                4         5\n",
              "5                5         1\n",
              "6                6         1\n",
              "7                7         3\n",
              "8                8         5\n",
              "9                9         6\n",
              "10              10         5\n",
              "11              11         8\n",
              "12              12         2\n",
              "13              13         5\n",
              "14              14         3\n",
              "15              15         1\n",
              "16              16         7\n",
              "17              17         3\n",
              "18              18         4\n",
              "19              19         6\n",
              "20              20         2\n",
              "21              21         2\n",
              "22              22         2\n",
              "23              23         1\n",
              "24              24         1\n",
              "25              25         3"
            ],
            "text/html": [
              "\n",
              "  <div id=\"df-0998d40d-196f-4cb5-a7ba-2c1b7d40f162\">\n",
              "    <div class=\"colab-df-container\">\n",
              "      <div>\n",
              "<style scoped>\n",
              "    .dataframe tbody tr th:only-of-type {\n",
              "        vertical-align: middle;\n",
              "    }\n",
              "\n",
              "    .dataframe tbody tr th {\n",
              "        vertical-align: top;\n",
              "    }\n",
              "\n",
              "    .dataframe thead th {\n",
              "        text-align: right;\n",
              "    }\n",
              "</style>\n",
              "<table border=\"1\" class=\"dataframe\">\n",
              "  <thead>\n",
              "    <tr style=\"text-align: right;\">\n",
              "      <th></th>\n",
              "      <th>Cluster_labels</th>\n",
              "      <th>Cuisines</th>\n",
              "    </tr>\n",
              "  </thead>\n",
              "  <tbody>\n",
              "    <tr>\n",
              "      <th>0</th>\n",
              "      <td>0</td>\n",
              "      <td>4</td>\n",
              "    </tr>\n",
              "    <tr>\n",
              "      <th>1</th>\n",
              "      <td>1</td>\n",
              "      <td>13</td>\n",
              "    </tr>\n",
              "    <tr>\n",
              "      <th>2</th>\n",
              "      <td>2</td>\n",
              "      <td>7</td>\n",
              "    </tr>\n",
              "    <tr>\n",
              "      <th>3</th>\n",
              "      <td>3</td>\n",
              "      <td>4</td>\n",
              "    </tr>\n",
              "    <tr>\n",
              "      <th>4</th>\n",
              "      <td>4</td>\n",
              "      <td>5</td>\n",
              "    </tr>\n",
              "    <tr>\n",
              "      <th>5</th>\n",
              "      <td>5</td>\n",
              "      <td>1</td>\n",
              "    </tr>\n",
              "    <tr>\n",
              "      <th>6</th>\n",
              "      <td>6</td>\n",
              "      <td>1</td>\n",
              "    </tr>\n",
              "    <tr>\n",
              "      <th>7</th>\n",
              "      <td>7</td>\n",
              "      <td>3</td>\n",
              "    </tr>\n",
              "    <tr>\n",
              "      <th>8</th>\n",
              "      <td>8</td>\n",
              "      <td>5</td>\n",
              "    </tr>\n",
              "    <tr>\n",
              "      <th>9</th>\n",
              "      <td>9</td>\n",
              "      <td>6</td>\n",
              "    </tr>\n",
              "    <tr>\n",
              "      <th>10</th>\n",
              "      <td>10</td>\n",
              "      <td>5</td>\n",
              "    </tr>\n",
              "    <tr>\n",
              "      <th>11</th>\n",
              "      <td>11</td>\n",
              "      <td>8</td>\n",
              "    </tr>\n",
              "    <tr>\n",
              "      <th>12</th>\n",
              "      <td>12</td>\n",
              "      <td>2</td>\n",
              "    </tr>\n",
              "    <tr>\n",
              "      <th>13</th>\n",
              "      <td>13</td>\n",
              "      <td>5</td>\n",
              "    </tr>\n",
              "    <tr>\n",
              "      <th>14</th>\n",
              "      <td>14</td>\n",
              "      <td>3</td>\n",
              "    </tr>\n",
              "    <tr>\n",
              "      <th>15</th>\n",
              "      <td>15</td>\n",
              "      <td>1</td>\n",
              "    </tr>\n",
              "    <tr>\n",
              "      <th>16</th>\n",
              "      <td>16</td>\n",
              "      <td>7</td>\n",
              "    </tr>\n",
              "    <tr>\n",
              "      <th>17</th>\n",
              "      <td>17</td>\n",
              "      <td>3</td>\n",
              "    </tr>\n",
              "    <tr>\n",
              "      <th>18</th>\n",
              "      <td>18</td>\n",
              "      <td>4</td>\n",
              "    </tr>\n",
              "    <tr>\n",
              "      <th>19</th>\n",
              "      <td>19</td>\n",
              "      <td>6</td>\n",
              "    </tr>\n",
              "    <tr>\n",
              "      <th>20</th>\n",
              "      <td>20</td>\n",
              "      <td>2</td>\n",
              "    </tr>\n",
              "    <tr>\n",
              "      <th>21</th>\n",
              "      <td>21</td>\n",
              "      <td>2</td>\n",
              "    </tr>\n",
              "    <tr>\n",
              "      <th>22</th>\n",
              "      <td>22</td>\n",
              "      <td>2</td>\n",
              "    </tr>\n",
              "    <tr>\n",
              "      <th>23</th>\n",
              "      <td>23</td>\n",
              "      <td>1</td>\n",
              "    </tr>\n",
              "    <tr>\n",
              "      <th>24</th>\n",
              "      <td>24</td>\n",
              "      <td>1</td>\n",
              "    </tr>\n",
              "    <tr>\n",
              "      <th>25</th>\n",
              "      <td>25</td>\n",
              "      <td>3</td>\n",
              "    </tr>\n",
              "  </tbody>\n",
              "</table>\n",
              "</div>\n",
              "      <button class=\"colab-df-convert\" onclick=\"convertToInteractive('df-0998d40d-196f-4cb5-a7ba-2c1b7d40f162')\"\n",
              "              title=\"Convert this dataframe to an interactive table.\"\n",
              "              style=\"display:none;\">\n",
              "        \n",
              "  <svg xmlns=\"http://www.w3.org/2000/svg\" height=\"24px\"viewBox=\"0 0 24 24\"\n",
              "       width=\"24px\">\n",
              "    <path d=\"M0 0h24v24H0V0z\" fill=\"none\"/>\n",
              "    <path d=\"M18.56 5.44l.94 2.06.94-2.06 2.06-.94-2.06-.94-.94-2.06-.94 2.06-2.06.94zm-11 1L8.5 8.5l.94-2.06 2.06-.94-2.06-.94L8.5 2.5l-.94 2.06-2.06.94zm10 10l.94 2.06.94-2.06 2.06-.94-2.06-.94-.94-2.06-.94 2.06-2.06.94z\"/><path d=\"M17.41 7.96l-1.37-1.37c-.4-.4-.92-.59-1.43-.59-.52 0-1.04.2-1.43.59L10.3 9.45l-7.72 7.72c-.78.78-.78 2.05 0 2.83L4 21.41c.39.39.9.59 1.41.59.51 0 1.02-.2 1.41-.59l7.78-7.78 2.81-2.81c.8-.78.8-2.07 0-2.86zM5.41 20L4 18.59l7.72-7.72 1.47 1.35L5.41 20z\"/>\n",
              "  </svg>\n",
              "      </button>\n",
              "      \n",
              "  <style>\n",
              "    .colab-df-container {\n",
              "      display:flex;\n",
              "      flex-wrap:wrap;\n",
              "      gap: 12px;\n",
              "    }\n",
              "\n",
              "    .colab-df-convert {\n",
              "      background-color: #E8F0FE;\n",
              "      border: none;\n",
              "      border-radius: 50%;\n",
              "      cursor: pointer;\n",
              "      display: none;\n",
              "      fill: #1967D2;\n",
              "      height: 32px;\n",
              "      padding: 0 0 0 0;\n",
              "      width: 32px;\n",
              "    }\n",
              "\n",
              "    .colab-df-convert:hover {\n",
              "      background-color: #E2EBFA;\n",
              "      box-shadow: 0px 1px 2px rgba(60, 64, 67, 0.3), 0px 1px 3px 1px rgba(60, 64, 67, 0.15);\n",
              "      fill: #174EA6;\n",
              "    }\n",
              "\n",
              "    [theme=dark] .colab-df-convert {\n",
              "      background-color: #3B4455;\n",
              "      fill: #D2E3FC;\n",
              "    }\n",
              "\n",
              "    [theme=dark] .colab-df-convert:hover {\n",
              "      background-color: #434B5C;\n",
              "      box-shadow: 0px 1px 3px 1px rgba(0, 0, 0, 0.15);\n",
              "      filter: drop-shadow(0px 1px 2px rgba(0, 0, 0, 0.3));\n",
              "      fill: #FFFFFF;\n",
              "    }\n",
              "  </style>\n",
              "\n",
              "      <script>\n",
              "        const buttonEl =\n",
              "          document.querySelector('#df-0998d40d-196f-4cb5-a7ba-2c1b7d40f162 button.colab-df-convert');\n",
              "        buttonEl.style.display =\n",
              "          google.colab.kernel.accessAllowed ? 'block' : 'none';\n",
              "\n",
              "        async function convertToInteractive(key) {\n",
              "          const element = document.querySelector('#df-0998d40d-196f-4cb5-a7ba-2c1b7d40f162');\n",
              "          const dataTable =\n",
              "            await google.colab.kernel.invokeFunction('convertToInteractive',\n",
              "                                                     [key], {});\n",
              "          if (!dataTable) return;\n",
              "\n",
              "          const docLinkHtml = 'Like what you see? Visit the ' +\n",
              "            '<a target=\"_blank\" href=https://colab.research.google.com/notebooks/data_table.ipynb>data table notebook</a>'\n",
              "            + ' to learn more about interactive tables.';\n",
              "          element.innerHTML = '';\n",
              "          dataTable['output_type'] = 'display_data';\n",
              "          await google.colab.output.renderOutput(dataTable, element);\n",
              "          const docLink = document.createElement('div');\n",
              "          docLink.innerHTML = docLinkHtml;\n",
              "          element.appendChild(docLink);\n",
              "        }\n",
              "      </script>\n",
              "    </div>\n",
              "  </div>\n",
              "  "
            ]
          },
          "metadata": {},
          "execution_count": 42
        }
      ]
    },
    {
      "cell_type": "code",
      "source": [
        "# Getting terms\n",
        "terms = vectorizer.get_feature_names()"
      ],
      "metadata": {
        "colab": {
          "base_uri": "https://localhost:8080/"
        },
        "id": "pBla6J5hmB_L",
        "outputId": "0edc3ca4-dd43-4da2-95a4-87b3c23ca184"
      },
      "execution_count": 43,
      "outputs": [
        {
          "output_type": "stream",
          "name": "stderr",
          "text": [
            "/usr/local/lib/python3.7/dist-packages/sklearn/utils/deprecation.py:87: FutureWarning: Function get_feature_names is deprecated; get_feature_names is deprecated in 1.0 and will be removed in 1.2. Please use get_feature_names_out instead.\n",
            "  warnings.warn(msg, category=FutureWarning)\n"
          ]
        }
      ]
    },
    {
      "cell_type": "code",
      "source": [
        "len(terms)"
      ],
      "metadata": {
        "colab": {
          "base_uri": "https://localhost:8080/"
        },
        "id": "u3XEMpfpmcBG",
        "outputId": "84d2d46e-277a-46a5-f487-3cf6aab0edfb"
      },
      "execution_count": 44,
      "outputs": [
        {
          "output_type": "execute_result",
          "data": {
            "text/plain": [
              "50"
            ]
          },
          "metadata": {},
          "execution_count": 44
        }
      ]
    },
    {
      "cell_type": "code",
      "source": [
        "# Top terms(words) per cluster\n",
        "print(\"Top terms per cluster:\")\n",
        "order_centroids = kmeans.cluster_centers_.argsort()[:, ::-1]\n",
        "for i in range(26):\n",
        "    print(\"Cluster %d:\" % i, end='')\n",
        "    for ind in order_centroids[i, :10]:\n",
        "        print(' %s' % terms[ind], end='')\n",
        "        print()"
      ],
      "metadata": {
        "colab": {
          "base_uri": "https://localhost:8080/"
        },
        "id": "agnIL_ajl2by",
        "outputId": "1103aa0f-55c3-421f-824a-d9ed2f765ac4"
      },
      "execution_count": 45,
      "outputs": [
        {
          "output_type": "stream",
          "name": "stdout",
          "text": [
            "Top terms per cluster:\n",
            "Cluster 0: andhra\n",
            " biryani\n",
            " northindian\n",
            " chinese\n",
            " hyderabadi\n",
            " southindian\n",
            " chines\n",
            " cafe\n",
            " fingerfood\n",
            " fastfood\n",
            "Cluster 1: italian\n",
            " continental\n",
            " northindian\n",
            " asian\n",
            " chinese\n",
            " salad\n",
            " fingerfood\n",
            " modernindian\n",
            " mexican\n",
            " spanish\n",
            "Cluster 2: fastfood\n",
            " pizza\n",
            " northindian\n",
            " burger\n",
            " salad\n",
            " chinese\n",
            " chines\n",
            " biryani\n",
            " american\n",
            " dessert\n",
            "Cluster 3: biryani\n",
            " chines\n",
            " northindian\n",
            " wraps\n",
            " cafe\n",
            " fingerfood\n",
            " fastfood\n",
            " european\n",
            " desserts\n",
            " dessert\n",
            "Cluster 4: continent\n",
            " northindian\n",
            " chinese\n",
            " healthyfood\n",
            " goan\n",
            " fingerfood\n",
            " fastfood\n",
            " european\n",
            " dessert\n",
            " continental\n",
            "Cluster 5: dessert\n",
            " fastfood\n",
            " biryani\n",
            " wraps\n",
            " cafe\n",
            " goan\n",
            " fingerfood\n",
            " european\n",
            " desserts\n",
            " continental\n",
            "Cluster 6: burger\n",
            " kebab\n",
            " northindian\n",
            " cafe\n",
            " fingerfood\n",
            " fastfood\n",
            " european\n",
            " desserts\n",
            " dessert\n",
            " continental\n",
            "Cluster 7: northindian\n",
            " chinese\n",
            " chines\n",
            " continent\n",
            " southindian\n",
            " desserts\n",
            " mediterranean\n",
            " sushi\n",
            " salad\n",
            " burger\n",
            "Cluster 8: desserts\n",
            " fastfood\n",
            " cafe\n",
            " beverag\n",
            " bakery\n",
            " beverages\n",
            " burger\n",
            " dessert\n",
            " healthyfood\n",
            " goan\n",
            "Cluster 9: chines\n",
            " northindian\n",
            " andhra\n",
            " fingerfood\n",
            " kebab\n",
            " biryani\n",
            " chinese\n",
            " continental\n",
            " southindian\n",
            " cafe\n",
            "Cluster 10: mughlai\n",
            " northindian\n",
            " biryani\n",
            " beverag\n",
            " juices\n",
            " bakery\n",
            " chinese\n",
            " chines\n",
            " dessert\n",
            " healthyfood\n",
            "Cluster 11: asian\n",
            " momo\n",
            " thai\n",
            " chinese\n",
            " sushi\n",
            " northeastern\n",
            " malaysian\n",
            " indonesian\n",
            " biryani\n",
            " dessert\n",
            "Cluster 12: japanese\n",
            " sushi\n",
            " salad\n",
            " northindian\n",
            " italian\n",
            " chinese\n",
            " wraps\n",
            " burger\n",
            " european\n",
            " desserts\n",
            "Cluster 13: mediterranean\n",
            " european\n",
            " northindian\n",
            " asian\n",
            " bbq\n",
            " dessert\n",
            " kebab\n",
            " continental\n",
            " chinese\n",
            " healthyfood\n",
            "Cluster 14: bakery\n",
            " dessert\n",
            " mithai\n",
            " fastfood\n",
            " chinese\n",
            " chines\n",
            " continent\n",
            " southindian\n",
            " sushi\n",
            " mediterranean\n",
            "Cluster 15: wraps\n",
            " american\n",
            " dessert\n",
            " sushi\n",
            " streetfood\n",
            " fingerfood\n",
            " fastfood\n",
            " european\n",
            " desserts\n",
            " continental\n",
            "Cluster 16: southindian\n",
            " northindian\n",
            " chines\n",
            " kebab\n",
            " continental\n",
            " healthyfood\n",
            " chinese\n",
            " american\n",
            " european\n",
            " italian\n",
            "Cluster 17: arabian\n",
            " streetfood\n",
            " northindian\n",
            " fastfood\n",
            " chines\n",
            " chinese\n",
            " southindian\n",
            " continent\n",
            " burger\n",
            " sushi\n",
            "Cluster 18: american\n",
            " burger\n",
            " burg\n",
            " continental\n",
            " chines\n",
            " salad\n",
            " fastfood\n",
            " arabian\n",
            " fingerfood\n",
            " european\n",
            "Cluster 19: chinese\n",
            " biryani\n",
            " northindian\n",
            " seafood\n",
            " beverag\n",
            " continental\n",
            " chines\n",
            " mughlai\n",
            " dessert\n",
            " continent\n",
            "Cluster 20: icecream\n",
            " dessert\n",
            " cafe\n",
            " goan\n",
            " fingerfood\n",
            " fastfood\n",
            " european\n",
            " desserts\n",
            " continental\n",
            " continent\n",
            "Cluster 21: bakeri\n",
            " cafe\n",
            " wraps\n",
            " goan\n",
            " fingerfood\n",
            " fastfood\n",
            " european\n",
            " desserts\n",
            " dessert\n",
            " continental\n",
            "Cluster 22: cafe\n",
            " dessert\n",
            " continental\n",
            " wraps\n",
            " goan\n",
            " fingerfood\n",
            " fastfood\n",
            " european\n",
            " desserts\n",
            " continent\n",
            "Cluster 23: lebanes\n",
            " wraps\n",
            " cafe\n",
            " fingerfood\n",
            " fastfood\n",
            " european\n",
            " desserts\n",
            " dessert\n",
            " continental\n",
            " continent\n",
            "Cluster 24: bbq\n",
            " modernindian\n",
            " asian\n",
            " wraps\n",
            " cafe\n",
            " fingerfood\n",
            " fastfood\n",
            " european\n",
            " desserts\n",
            " dessert\n",
            "Cluster 25: hyderabadi\n",
            " chinese\n",
            " mughlai\n",
            " seafood\n",
            " northindian\n",
            " biryani\n",
            " chines\n",
            " southindian\n",
            " continent\n",
            " salad\n"
          ]
        }
      ]
    },
    {
      "cell_type": "code",
      "source": [
        "df[df['Cluster_labels'] == 1]"
      ],
      "metadata": {
        "colab": {
          "base_uri": "https://localhost:8080/",
          "height": 917
        },
        "id": "18y8kxCuCMj_",
        "outputId": "9949e967-558d-45ad-de37-b5e0d5654c5e"
      },
      "execution_count": 46,
      "outputs": [
        {
          "output_type": "execute_result",
          "data": {
            "text/plain": [
              "                                       Name  \\\n",
              "5                     The Fisherman's Wharf   \n",
              "13            The Lal Street - Bar Exchange   \n",
              "26                   Mustang Terrace Lounge   \n",
              "38                          The Glass Onion   \n",
              "40                              Frio Bistro   \n",
              "53                          Diners Pavilion   \n",
              "56         Feast - Sheraton Hyderabad Hotel   \n",
              "60                               PourHouse7   \n",
              "61                     Prism Club & Kitchen   \n",
              "68                    The Tilt Bar Republic   \n",
              "77                       Squeeze @ The Lime   \n",
              "91  Cascade - Radisson Hyderabad Hitec City   \n",
              "92     Collage - Hyatt Hyderabad Gachibowli   \n",
              "\n",
              "                                                Links   Cost  \\\n",
              "5   httpswwwzomatocomhyderabadthefishermanswharfga...  1,500   \n",
              "13  httpswwwzomatocomhyderabadthelalstreetbarexcha...  1,300   \n",
              "26  httpswwwzomatocomhyderabadmustangterracelounge...  1,300   \n",
              "38  httpswwwzomatocomhyderabadtheglassoniongachibowli  1,200   \n",
              "40     httpswwwzomatocomhyderabadfriobistrogachibowli  1,200   \n",
              "53  httpswwwzomatocomhyderabaddinerspaviliongachib...  1,200   \n",
              "56  httpswwwzomatocomhyderabadfeastsheratonhyderab...  2,500   \n",
              "60     httpswwwzomatocomhyderabadpourhouse7gachibowli  1,200   \n",
              "61  httpswwwzomatocomhyderabadprismclubkitchengach...  1,200   \n",
              "68                httpswwwzomatocomthetiltbarrepublic  1,500   \n",
              "77  httpswwwzomatocomhyderabadsqueezethelimegachib...    650   \n",
              "91  httpswwwzomatocomhyderabadcascaderadissonhyder...  1,800   \n",
              "92  httpswwwzomatocomhyderabadcollagehyatthyderaba...  2,800   \n",
              "\n",
              "                                         Cuisines  \\\n",
              "5      seafood goan northindian continental asian   \n",
              "13                 northindian italian fingerfood   \n",
              "26      mexican italian northindian chinese salad   \n",
              "38          northindian continental italian asian   \n",
              "40           european italian continental spanish   \n",
              "53                    chinese continental italian   \n",
              "56         modernindian asian continental italian   \n",
              "60        northindian continental chinese italian   \n",
              "61          kebab continental italian northindian   \n",
              "68                northindian continental italian   \n",
              "77              italian northindian chinese salad   \n",
              "91          northindian italian continental asian   \n",
              "92  continental italian northindian chinese asian   \n",
              "\n",
              "                                              Timings  Cluster_labels  \n",
              "5   12noon to 330pm 4pm to 630pm 7pm to 1130pm mon...               1  \n",
              "13                        12noon to 12midnight monsun               1  \n",
              "26  12 noon to 1130 pm monwed 12 noon to 1 am fris...               1  \n",
              "38  12noon to 11pm mon tue wed thu sun 12noon to 1...               1  \n",
              "40                              12noon to 11pm monsun               1  \n",
              "53  12noon to 430pm 630pm to 1130pm mon tue wed fr...               1  \n",
              "56  630am to 1030am 1230pm to 3pm 7pm to 11pm mon6...               1  \n",
              "60  12 noon to 12 midnight monthu sun 12 noon to 1...               1  \n",
              "61                           5pm to 12midnight monsun               1  \n",
              "68                        12noon to 12midnight monsun               1  \n",
              "77    7 am to 1030 am 1230 pm to 330 pm 7 pm to 11 pm               1  \n",
              "91                                           24 hours               1  \n",
              "92                                    24 hours monsun               1  "
            ],
            "text/html": [
              "\n",
              "  <div id=\"df-4d9bc7a4-c2f5-4fe3-acbe-606321aa0c0d\">\n",
              "    <div class=\"colab-df-container\">\n",
              "      <div>\n",
              "<style scoped>\n",
              "    .dataframe tbody tr th:only-of-type {\n",
              "        vertical-align: middle;\n",
              "    }\n",
              "\n",
              "    .dataframe tbody tr th {\n",
              "        vertical-align: top;\n",
              "    }\n",
              "\n",
              "    .dataframe thead th {\n",
              "        text-align: right;\n",
              "    }\n",
              "</style>\n",
              "<table border=\"1\" class=\"dataframe\">\n",
              "  <thead>\n",
              "    <tr style=\"text-align: right;\">\n",
              "      <th></th>\n",
              "      <th>Name</th>\n",
              "      <th>Links</th>\n",
              "      <th>Cost</th>\n",
              "      <th>Cuisines</th>\n",
              "      <th>Timings</th>\n",
              "      <th>Cluster_labels</th>\n",
              "    </tr>\n",
              "  </thead>\n",
              "  <tbody>\n",
              "    <tr>\n",
              "      <th>5</th>\n",
              "      <td>The Fisherman's Wharf</td>\n",
              "      <td>httpswwwzomatocomhyderabadthefishermanswharfga...</td>\n",
              "      <td>1,500</td>\n",
              "      <td>seafood goan northindian continental asian</td>\n",
              "      <td>12noon to 330pm 4pm to 630pm 7pm to 1130pm mon...</td>\n",
              "      <td>1</td>\n",
              "    </tr>\n",
              "    <tr>\n",
              "      <th>13</th>\n",
              "      <td>The Lal Street - Bar Exchange</td>\n",
              "      <td>httpswwwzomatocomhyderabadthelalstreetbarexcha...</td>\n",
              "      <td>1,300</td>\n",
              "      <td>northindian italian fingerfood</td>\n",
              "      <td>12noon to 12midnight monsun</td>\n",
              "      <td>1</td>\n",
              "    </tr>\n",
              "    <tr>\n",
              "      <th>26</th>\n",
              "      <td>Mustang Terrace Lounge</td>\n",
              "      <td>httpswwwzomatocomhyderabadmustangterracelounge...</td>\n",
              "      <td>1,300</td>\n",
              "      <td>mexican italian northindian chinese salad</td>\n",
              "      <td>12 noon to 1130 pm monwed 12 noon to 1 am fris...</td>\n",
              "      <td>1</td>\n",
              "    </tr>\n",
              "    <tr>\n",
              "      <th>38</th>\n",
              "      <td>The Glass Onion</td>\n",
              "      <td>httpswwwzomatocomhyderabadtheglassoniongachibowli</td>\n",
              "      <td>1,200</td>\n",
              "      <td>northindian continental italian asian</td>\n",
              "      <td>12noon to 11pm mon tue wed thu sun 12noon to 1...</td>\n",
              "      <td>1</td>\n",
              "    </tr>\n",
              "    <tr>\n",
              "      <th>40</th>\n",
              "      <td>Frio Bistro</td>\n",
              "      <td>httpswwwzomatocomhyderabadfriobistrogachibowli</td>\n",
              "      <td>1,200</td>\n",
              "      <td>european italian continental spanish</td>\n",
              "      <td>12noon to 11pm monsun</td>\n",
              "      <td>1</td>\n",
              "    </tr>\n",
              "    <tr>\n",
              "      <th>53</th>\n",
              "      <td>Diners Pavilion</td>\n",
              "      <td>httpswwwzomatocomhyderabaddinerspaviliongachib...</td>\n",
              "      <td>1,200</td>\n",
              "      <td>chinese continental italian</td>\n",
              "      <td>12noon to 430pm 630pm to 1130pm mon tue wed fr...</td>\n",
              "      <td>1</td>\n",
              "    </tr>\n",
              "    <tr>\n",
              "      <th>56</th>\n",
              "      <td>Feast - Sheraton Hyderabad Hotel</td>\n",
              "      <td>httpswwwzomatocomhyderabadfeastsheratonhyderab...</td>\n",
              "      <td>2,500</td>\n",
              "      <td>modernindian asian continental italian</td>\n",
              "      <td>630am to 1030am 1230pm to 3pm 7pm to 11pm mon6...</td>\n",
              "      <td>1</td>\n",
              "    </tr>\n",
              "    <tr>\n",
              "      <th>60</th>\n",
              "      <td>PourHouse7</td>\n",
              "      <td>httpswwwzomatocomhyderabadpourhouse7gachibowli</td>\n",
              "      <td>1,200</td>\n",
              "      <td>northindian continental chinese italian</td>\n",
              "      <td>12 noon to 12 midnight monthu sun 12 noon to 1...</td>\n",
              "      <td>1</td>\n",
              "    </tr>\n",
              "    <tr>\n",
              "      <th>61</th>\n",
              "      <td>Prism Club &amp; Kitchen</td>\n",
              "      <td>httpswwwzomatocomhyderabadprismclubkitchengach...</td>\n",
              "      <td>1,200</td>\n",
              "      <td>kebab continental italian northindian</td>\n",
              "      <td>5pm to 12midnight monsun</td>\n",
              "      <td>1</td>\n",
              "    </tr>\n",
              "    <tr>\n",
              "      <th>68</th>\n",
              "      <td>The Tilt Bar Republic</td>\n",
              "      <td>httpswwwzomatocomthetiltbarrepublic</td>\n",
              "      <td>1,500</td>\n",
              "      <td>northindian continental italian</td>\n",
              "      <td>12noon to 12midnight monsun</td>\n",
              "      <td>1</td>\n",
              "    </tr>\n",
              "    <tr>\n",
              "      <th>77</th>\n",
              "      <td>Squeeze @ The Lime</td>\n",
              "      <td>httpswwwzomatocomhyderabadsqueezethelimegachib...</td>\n",
              "      <td>650</td>\n",
              "      <td>italian northindian chinese salad</td>\n",
              "      <td>7 am to 1030 am 1230 pm to 330 pm 7 pm to 11 pm</td>\n",
              "      <td>1</td>\n",
              "    </tr>\n",
              "    <tr>\n",
              "      <th>91</th>\n",
              "      <td>Cascade - Radisson Hyderabad Hitec City</td>\n",
              "      <td>httpswwwzomatocomhyderabadcascaderadissonhyder...</td>\n",
              "      <td>1,800</td>\n",
              "      <td>northindian italian continental asian</td>\n",
              "      <td>24 hours</td>\n",
              "      <td>1</td>\n",
              "    </tr>\n",
              "    <tr>\n",
              "      <th>92</th>\n",
              "      <td>Collage - Hyatt Hyderabad Gachibowli</td>\n",
              "      <td>httpswwwzomatocomhyderabadcollagehyatthyderaba...</td>\n",
              "      <td>2,800</td>\n",
              "      <td>continental italian northindian chinese asian</td>\n",
              "      <td>24 hours monsun</td>\n",
              "      <td>1</td>\n",
              "    </tr>\n",
              "  </tbody>\n",
              "</table>\n",
              "</div>\n",
              "      <button class=\"colab-df-convert\" onclick=\"convertToInteractive('df-4d9bc7a4-c2f5-4fe3-acbe-606321aa0c0d')\"\n",
              "              title=\"Convert this dataframe to an interactive table.\"\n",
              "              style=\"display:none;\">\n",
              "        \n",
              "  <svg xmlns=\"http://www.w3.org/2000/svg\" height=\"24px\"viewBox=\"0 0 24 24\"\n",
              "       width=\"24px\">\n",
              "    <path d=\"M0 0h24v24H0V0z\" fill=\"none\"/>\n",
              "    <path d=\"M18.56 5.44l.94 2.06.94-2.06 2.06-.94-2.06-.94-.94-2.06-.94 2.06-2.06.94zm-11 1L8.5 8.5l.94-2.06 2.06-.94-2.06-.94L8.5 2.5l-.94 2.06-2.06.94zm10 10l.94 2.06.94-2.06 2.06-.94-2.06-.94-.94-2.06-.94 2.06-2.06.94z\"/><path d=\"M17.41 7.96l-1.37-1.37c-.4-.4-.92-.59-1.43-.59-.52 0-1.04.2-1.43.59L10.3 9.45l-7.72 7.72c-.78.78-.78 2.05 0 2.83L4 21.41c.39.39.9.59 1.41.59.51 0 1.02-.2 1.41-.59l7.78-7.78 2.81-2.81c.8-.78.8-2.07 0-2.86zM5.41 20L4 18.59l7.72-7.72 1.47 1.35L5.41 20z\"/>\n",
              "  </svg>\n",
              "      </button>\n",
              "      \n",
              "  <style>\n",
              "    .colab-df-container {\n",
              "      display:flex;\n",
              "      flex-wrap:wrap;\n",
              "      gap: 12px;\n",
              "    }\n",
              "\n",
              "    .colab-df-convert {\n",
              "      background-color: #E8F0FE;\n",
              "      border: none;\n",
              "      border-radius: 50%;\n",
              "      cursor: pointer;\n",
              "      display: none;\n",
              "      fill: #1967D2;\n",
              "      height: 32px;\n",
              "      padding: 0 0 0 0;\n",
              "      width: 32px;\n",
              "    }\n",
              "\n",
              "    .colab-df-convert:hover {\n",
              "      background-color: #E2EBFA;\n",
              "      box-shadow: 0px 1px 2px rgba(60, 64, 67, 0.3), 0px 1px 3px 1px rgba(60, 64, 67, 0.15);\n",
              "      fill: #174EA6;\n",
              "    }\n",
              "\n",
              "    [theme=dark] .colab-df-convert {\n",
              "      background-color: #3B4455;\n",
              "      fill: #D2E3FC;\n",
              "    }\n",
              "\n",
              "    [theme=dark] .colab-df-convert:hover {\n",
              "      background-color: #434B5C;\n",
              "      box-shadow: 0px 1px 3px 1px rgba(0, 0, 0, 0.15);\n",
              "      filter: drop-shadow(0px 1px 2px rgba(0, 0, 0, 0.3));\n",
              "      fill: #FFFFFF;\n",
              "    }\n",
              "  </style>\n",
              "\n",
              "      <script>\n",
              "        const buttonEl =\n",
              "          document.querySelector('#df-4d9bc7a4-c2f5-4fe3-acbe-606321aa0c0d button.colab-df-convert');\n",
              "        buttonEl.style.display =\n",
              "          google.colab.kernel.accessAllowed ? 'block' : 'none';\n",
              "\n",
              "        async function convertToInteractive(key) {\n",
              "          const element = document.querySelector('#df-4d9bc7a4-c2f5-4fe3-acbe-606321aa0c0d');\n",
              "          const dataTable =\n",
              "            await google.colab.kernel.invokeFunction('convertToInteractive',\n",
              "                                                     [key], {});\n",
              "          if (!dataTable) return;\n",
              "\n",
              "          const docLinkHtml = 'Like what you see? Visit the ' +\n",
              "            '<a target=\"_blank\" href=https://colab.research.google.com/notebooks/data_table.ipynb>data table notebook</a>'\n",
              "            + ' to learn more about interactive tables.';\n",
              "          element.innerHTML = '';\n",
              "          dataTable['output_type'] = 'display_data';\n",
              "          await google.colab.output.renderOutput(dataTable, element);\n",
              "          const docLink = document.createElement('div');\n",
              "          docLink.innerHTML = docLinkHtml;\n",
              "          element.appendChild(docLink);\n",
              "        }\n",
              "      </script>\n",
              "    </div>\n",
              "  </div>\n",
              "  "
            ]
          },
          "metadata": {},
          "execution_count": 46
        }
      ]
    },
    {
      "cell_type": "code",
      "source": [
        "# Replacing ',' \n",
        "df['Cost'] = df['Cost'].str.replace(',','')\n",
        "\n",
        "# Converting 'cost' feature to integer datatype\n",
        "df['Cost'] = df['Cost'].apply(lambda x:int(x))\n",
        "df.info()"
      ],
      "metadata": {
        "colab": {
          "base_uri": "https://localhost:8080/"
        },
        "id": "SkDPujWfptd9",
        "outputId": "818a5117-4563-4bb5-e2c4-db3d8038a88b"
      },
      "execution_count": 47,
      "outputs": [
        {
          "output_type": "stream",
          "name": "stdout",
          "text": [
            "<class 'pandas.core.frame.DataFrame'>\n",
            "Int64Index: 104 entries, 0 to 104\n",
            "Data columns (total 6 columns):\n",
            " #   Column          Non-Null Count  Dtype \n",
            "---  ------          --------------  ----- \n",
            " 0   Name            104 non-null    object\n",
            " 1   Links           104 non-null    object\n",
            " 2   Cost            104 non-null    int64 \n",
            " 3   Cuisines        104 non-null    object\n",
            " 4   Timings         104 non-null    object\n",
            " 5   Cluster_labels  104 non-null    int32 \n",
            "dtypes: int32(1), int64(1), object(4)\n",
            "memory usage: 9.4+ KB\n"
          ]
        }
      ]
    },
    {
      "cell_type": "code",
      "source": [
        "# Installing inflect library\n",
        "pip install inflect"
      ],
      "metadata": {
        "colab": {
          "base_uri": "https://localhost:8080/",
          "height": 130
        },
        "id": "VFPnnrU1tOg2",
        "outputId": "b60584ff-01ce-4bc6-d347-e9a53623f459"
      },
      "execution_count": 48,
      "outputs": [
        {
          "output_type": "error",
          "ename": "SyntaxError",
          "evalue": "ignored",
          "traceback": [
            "\u001b[0;36m  File \u001b[0;32m\"<ipython-input-48-8dcba8b07024>\"\u001b[0;36m, line \u001b[0;32m2\u001b[0m\n\u001b[0;31m    pip install inflect\u001b[0m\n\u001b[0m              ^\u001b[0m\n\u001b[0;31mSyntaxError\u001b[0m\u001b[0;31m:\u001b[0m invalid syntax\n"
          ]
        }
      ]
    },
    {
      "cell_type": "code",
      "source": [
        "# Creating an instance for converting number to words\n",
        "p = inflect.engine()"
      ],
      "metadata": {
        "id": "RmYXJx2ptoWC"
      },
      "execution_count": 49,
      "outputs": []
    },
    {
      "cell_type": "code",
      "source": [
        "# Appling number to words to 'Cost' feature\n",
        "df['Cost'] = df['Cost'].apply(lambda x: p.number_to_words(x) )"
      ],
      "metadata": {
        "id": "x3o1OsJ0pJAF"
      },
      "execution_count": 50,
      "outputs": []
    },
    {
      "cell_type": "code",
      "source": [
        "df['Cost'] = df['Cost'].str.replace(',','')\n",
        "df['Cost'] = df['Cost'].str.replace(' ','')"
      ],
      "metadata": {
        "id": "0tdtECpPp9vO"
      },
      "execution_count": 51,
      "outputs": []
    },
    {
      "cell_type": "code",
      "source": [
        "df.head()"
      ],
      "metadata": {
        "colab": {
          "base_uri": "https://localhost:8080/",
          "height": 597
        },
        "id": "_DMC-IhEvdsk",
        "outputId": "206a5bf4-6aa9-4128-a94c-a11cc8b1538a"
      },
      "execution_count": 52,
      "outputs": [
        {
          "output_type": "execute_result",
          "data": {
            "text/plain": [
              "                             Name  \\\n",
              "0                 Beyond Flavours   \n",
              "1                        Paradise   \n",
              "2                        Flechazo   \n",
              "3  Shah Ghouse Hotel & Restaurant   \n",
              "4      Over The Moon Brew Company   \n",
              "\n",
              "                                               Links                     Cost  \\\n",
              "0  httpswwwzomatocomhyderabadbeyondflavoursgachib...             eighthundred   \n",
              "1       httpswwwzomatocomhyderabadparadisegachibowli             eighthundred   \n",
              "2       httpswwwzomatocomhyderabadflechazogachibowli  onethousandthreehundred   \n",
              "3  httpswwwzomatocomhyderabadshahghousehotelresta...             eighthundred   \n",
              "4  httpswwwzomatocomhyderabadoverthemoonbrewcompa...    onethousandtwohundred   \n",
              "\n",
              "                                            Cuisines  \\\n",
              "0  chinese continental kebab european southindian...   \n",
              "1                         biryani northindian chines   \n",
              "2            asian mediterranean northindian dessert   \n",
              "3        biryani northindian chinese seafood beverag   \n",
              "4  asian continental northindian chinese mediterr...   \n",
              "\n",
              "                                             Timings  Cluster_labels  \n",
              "0             12noon to 330pm 630pm to 1130pm monsun              16  \n",
              "1                                     11 am to 11 pm               3  \n",
              "2                  1130 am to 430 pm 630 pm to 11 pm              13  \n",
              "3                                    12 noon to 2 am              19  \n",
              "4  12noon to 11pm mon tue wed thu sun 12noon to 1...              13  "
            ],
            "text/html": [
              "\n",
              "  <div id=\"df-11016d26-e05f-4c3e-ab2b-2d8083dcd57e\">\n",
              "    <div class=\"colab-df-container\">\n",
              "      <div>\n",
              "<style scoped>\n",
              "    .dataframe tbody tr th:only-of-type {\n",
              "        vertical-align: middle;\n",
              "    }\n",
              "\n",
              "    .dataframe tbody tr th {\n",
              "        vertical-align: top;\n",
              "    }\n",
              "\n",
              "    .dataframe thead th {\n",
              "        text-align: right;\n",
              "    }\n",
              "</style>\n",
              "<table border=\"1\" class=\"dataframe\">\n",
              "  <thead>\n",
              "    <tr style=\"text-align: right;\">\n",
              "      <th></th>\n",
              "      <th>Name</th>\n",
              "      <th>Links</th>\n",
              "      <th>Cost</th>\n",
              "      <th>Cuisines</th>\n",
              "      <th>Timings</th>\n",
              "      <th>Cluster_labels</th>\n",
              "    </tr>\n",
              "  </thead>\n",
              "  <tbody>\n",
              "    <tr>\n",
              "      <th>0</th>\n",
              "      <td>Beyond Flavours</td>\n",
              "      <td>httpswwwzomatocomhyderabadbeyondflavoursgachib...</td>\n",
              "      <td>eighthundred</td>\n",
              "      <td>chinese continental kebab european southindian...</td>\n",
              "      <td>12noon to 330pm 630pm to 1130pm monsun</td>\n",
              "      <td>16</td>\n",
              "    </tr>\n",
              "    <tr>\n",
              "      <th>1</th>\n",
              "      <td>Paradise</td>\n",
              "      <td>httpswwwzomatocomhyderabadparadisegachibowli</td>\n",
              "      <td>eighthundred</td>\n",
              "      <td>biryani northindian chines</td>\n",
              "      <td>11 am to 11 pm</td>\n",
              "      <td>3</td>\n",
              "    </tr>\n",
              "    <tr>\n",
              "      <th>2</th>\n",
              "      <td>Flechazo</td>\n",
              "      <td>httpswwwzomatocomhyderabadflechazogachibowli</td>\n",
              "      <td>onethousandthreehundred</td>\n",
              "      <td>asian mediterranean northindian dessert</td>\n",
              "      <td>1130 am to 430 pm 630 pm to 11 pm</td>\n",
              "      <td>13</td>\n",
              "    </tr>\n",
              "    <tr>\n",
              "      <th>3</th>\n",
              "      <td>Shah Ghouse Hotel &amp; Restaurant</td>\n",
              "      <td>httpswwwzomatocomhyderabadshahghousehotelresta...</td>\n",
              "      <td>eighthundred</td>\n",
              "      <td>biryani northindian chinese seafood beverag</td>\n",
              "      <td>12 noon to 2 am</td>\n",
              "      <td>19</td>\n",
              "    </tr>\n",
              "    <tr>\n",
              "      <th>4</th>\n",
              "      <td>Over The Moon Brew Company</td>\n",
              "      <td>httpswwwzomatocomhyderabadoverthemoonbrewcompa...</td>\n",
              "      <td>onethousandtwohundred</td>\n",
              "      <td>asian continental northindian chinese mediterr...</td>\n",
              "      <td>12noon to 11pm mon tue wed thu sun 12noon to 1...</td>\n",
              "      <td>13</td>\n",
              "    </tr>\n",
              "  </tbody>\n",
              "</table>\n",
              "</div>\n",
              "      <button class=\"colab-df-convert\" onclick=\"convertToInteractive('df-11016d26-e05f-4c3e-ab2b-2d8083dcd57e')\"\n",
              "              title=\"Convert this dataframe to an interactive table.\"\n",
              "              style=\"display:none;\">\n",
              "        \n",
              "  <svg xmlns=\"http://www.w3.org/2000/svg\" height=\"24px\"viewBox=\"0 0 24 24\"\n",
              "       width=\"24px\">\n",
              "    <path d=\"M0 0h24v24H0V0z\" fill=\"none\"/>\n",
              "    <path d=\"M18.56 5.44l.94 2.06.94-2.06 2.06-.94-2.06-.94-.94-2.06-.94 2.06-2.06.94zm-11 1L8.5 8.5l.94-2.06 2.06-.94-2.06-.94L8.5 2.5l-.94 2.06-2.06.94zm10 10l.94 2.06.94-2.06 2.06-.94-2.06-.94-.94-2.06-.94 2.06-2.06.94z\"/><path d=\"M17.41 7.96l-1.37-1.37c-.4-.4-.92-.59-1.43-.59-.52 0-1.04.2-1.43.59L10.3 9.45l-7.72 7.72c-.78.78-.78 2.05 0 2.83L4 21.41c.39.39.9.59 1.41.59.51 0 1.02-.2 1.41-.59l7.78-7.78 2.81-2.81c.8-.78.8-2.07 0-2.86zM5.41 20L4 18.59l7.72-7.72 1.47 1.35L5.41 20z\"/>\n",
              "  </svg>\n",
              "      </button>\n",
              "      \n",
              "  <style>\n",
              "    .colab-df-container {\n",
              "      display:flex;\n",
              "      flex-wrap:wrap;\n",
              "      gap: 12px;\n",
              "    }\n",
              "\n",
              "    .colab-df-convert {\n",
              "      background-color: #E8F0FE;\n",
              "      border: none;\n",
              "      border-radius: 50%;\n",
              "      cursor: pointer;\n",
              "      display: none;\n",
              "      fill: #1967D2;\n",
              "      height: 32px;\n",
              "      padding: 0 0 0 0;\n",
              "      width: 32px;\n",
              "    }\n",
              "\n",
              "    .colab-df-convert:hover {\n",
              "      background-color: #E2EBFA;\n",
              "      box-shadow: 0px 1px 2px rgba(60, 64, 67, 0.3), 0px 1px 3px 1px rgba(60, 64, 67, 0.15);\n",
              "      fill: #174EA6;\n",
              "    }\n",
              "\n",
              "    [theme=dark] .colab-df-convert {\n",
              "      background-color: #3B4455;\n",
              "      fill: #D2E3FC;\n",
              "    }\n",
              "\n",
              "    [theme=dark] .colab-df-convert:hover {\n",
              "      background-color: #434B5C;\n",
              "      box-shadow: 0px 1px 3px 1px rgba(0, 0, 0, 0.15);\n",
              "      filter: drop-shadow(0px 1px 2px rgba(0, 0, 0, 0.3));\n",
              "      fill: #FFFFFF;\n",
              "    }\n",
              "  </style>\n",
              "\n",
              "      <script>\n",
              "        const buttonEl =\n",
              "          document.querySelector('#df-11016d26-e05f-4c3e-ab2b-2d8083dcd57e button.colab-df-convert');\n",
              "        buttonEl.style.display =\n",
              "          google.colab.kernel.accessAllowed ? 'block' : 'none';\n",
              "\n",
              "        async function convertToInteractive(key) {\n",
              "          const element = document.querySelector('#df-11016d26-e05f-4c3e-ab2b-2d8083dcd57e');\n",
              "          const dataTable =\n",
              "            await google.colab.kernel.invokeFunction('convertToInteractive',\n",
              "                                                     [key], {});\n",
              "          if (!dataTable) return;\n",
              "\n",
              "          const docLinkHtml = 'Like what you see? Visit the ' +\n",
              "            '<a target=\"_blank\" href=https://colab.research.google.com/notebooks/data_table.ipynb>data table notebook</a>'\n",
              "            + ' to learn more about interactive tables.';\n",
              "          element.innerHTML = '';\n",
              "          dataTable['output_type'] = 'display_data';\n",
              "          await google.colab.output.renderOutput(dataTable, element);\n",
              "          const docLink = document.createElement('div');\n",
              "          docLink.innerHTML = docLinkHtml;\n",
              "          element.appendChild(docLink);\n",
              "        }\n",
              "      </script>\n",
              "    </div>\n",
              "  </div>\n",
              "  "
            ]
          },
          "metadata": {},
          "execution_count": 52
        }
      ]
    },
    {
      "cell_type": "code",
      "source": [
        "df['costncuisine'] = df['Cost'] +' '+ df['Cuisines']"
      ],
      "metadata": {
        "id": "YW2tVI7msCoj"
      },
      "execution_count": 53,
      "outputs": []
    },
    {
      "cell_type": "code",
      "source": [
        "df.head()"
      ],
      "metadata": {
        "colab": {
          "base_uri": "https://localhost:8080/",
          "height": 652
        },
        "id": "kMqT0K3hwHSr",
        "outputId": "6029d436-c5a3-445e-e728-8bba87166721"
      },
      "execution_count": 54,
      "outputs": [
        {
          "output_type": "execute_result",
          "data": {
            "text/plain": [
              "                             Name  \\\n",
              "0                 Beyond Flavours   \n",
              "1                        Paradise   \n",
              "2                        Flechazo   \n",
              "3  Shah Ghouse Hotel & Restaurant   \n",
              "4      Over The Moon Brew Company   \n",
              "\n",
              "                                               Links                     Cost  \\\n",
              "0  httpswwwzomatocomhyderabadbeyondflavoursgachib...             eighthundred   \n",
              "1       httpswwwzomatocomhyderabadparadisegachibowli             eighthundred   \n",
              "2       httpswwwzomatocomhyderabadflechazogachibowli  onethousandthreehundred   \n",
              "3  httpswwwzomatocomhyderabadshahghousehotelresta...             eighthundred   \n",
              "4  httpswwwzomatocomhyderabadoverthemoonbrewcompa...    onethousandtwohundred   \n",
              "\n",
              "                                            Cuisines  \\\n",
              "0  chinese continental kebab european southindian...   \n",
              "1                         biryani northindian chines   \n",
              "2            asian mediterranean northindian dessert   \n",
              "3        biryani northindian chinese seafood beverag   \n",
              "4  asian continental northindian chinese mediterr...   \n",
              "\n",
              "                                             Timings  Cluster_labels  \\\n",
              "0             12noon to 330pm 630pm to 1130pm monsun              16   \n",
              "1                                     11 am to 11 pm               3   \n",
              "2                  1130 am to 430 pm 630 pm to 11 pm              13   \n",
              "3                                    12 noon to 2 am              19   \n",
              "4  12noon to 11pm mon tue wed thu sun 12noon to 1...              13   \n",
              "\n",
              "                                        costncuisine  \n",
              "0  eighthundred chinese continental kebab europea...  \n",
              "1            eighthundred biryani northindian chines  \n",
              "2  onethousandthreehundred asian mediterranean no...  \n",
              "3  eighthundred biryani northindian chinese seafo...  \n",
              "4  onethousandtwohundred asian continental northi...  "
            ],
            "text/html": [
              "\n",
              "  <div id=\"df-39375fee-1612-42d0-a5f6-32b1f570325f\">\n",
              "    <div class=\"colab-df-container\">\n",
              "      <div>\n",
              "<style scoped>\n",
              "    .dataframe tbody tr th:only-of-type {\n",
              "        vertical-align: middle;\n",
              "    }\n",
              "\n",
              "    .dataframe tbody tr th {\n",
              "        vertical-align: top;\n",
              "    }\n",
              "\n",
              "    .dataframe thead th {\n",
              "        text-align: right;\n",
              "    }\n",
              "</style>\n",
              "<table border=\"1\" class=\"dataframe\">\n",
              "  <thead>\n",
              "    <tr style=\"text-align: right;\">\n",
              "      <th></th>\n",
              "      <th>Name</th>\n",
              "      <th>Links</th>\n",
              "      <th>Cost</th>\n",
              "      <th>Cuisines</th>\n",
              "      <th>Timings</th>\n",
              "      <th>Cluster_labels</th>\n",
              "      <th>costncuisine</th>\n",
              "    </tr>\n",
              "  </thead>\n",
              "  <tbody>\n",
              "    <tr>\n",
              "      <th>0</th>\n",
              "      <td>Beyond Flavours</td>\n",
              "      <td>httpswwwzomatocomhyderabadbeyondflavoursgachib...</td>\n",
              "      <td>eighthundred</td>\n",
              "      <td>chinese continental kebab european southindian...</td>\n",
              "      <td>12noon to 330pm 630pm to 1130pm monsun</td>\n",
              "      <td>16</td>\n",
              "      <td>eighthundred chinese continental kebab europea...</td>\n",
              "    </tr>\n",
              "    <tr>\n",
              "      <th>1</th>\n",
              "      <td>Paradise</td>\n",
              "      <td>httpswwwzomatocomhyderabadparadisegachibowli</td>\n",
              "      <td>eighthundred</td>\n",
              "      <td>biryani northindian chines</td>\n",
              "      <td>11 am to 11 pm</td>\n",
              "      <td>3</td>\n",
              "      <td>eighthundred biryani northindian chines</td>\n",
              "    </tr>\n",
              "    <tr>\n",
              "      <th>2</th>\n",
              "      <td>Flechazo</td>\n",
              "      <td>httpswwwzomatocomhyderabadflechazogachibowli</td>\n",
              "      <td>onethousandthreehundred</td>\n",
              "      <td>asian mediterranean northindian dessert</td>\n",
              "      <td>1130 am to 430 pm 630 pm to 11 pm</td>\n",
              "      <td>13</td>\n",
              "      <td>onethousandthreehundred asian mediterranean no...</td>\n",
              "    </tr>\n",
              "    <tr>\n",
              "      <th>3</th>\n",
              "      <td>Shah Ghouse Hotel &amp; Restaurant</td>\n",
              "      <td>httpswwwzomatocomhyderabadshahghousehotelresta...</td>\n",
              "      <td>eighthundred</td>\n",
              "      <td>biryani northindian chinese seafood beverag</td>\n",
              "      <td>12 noon to 2 am</td>\n",
              "      <td>19</td>\n",
              "      <td>eighthundred biryani northindian chinese seafo...</td>\n",
              "    </tr>\n",
              "    <tr>\n",
              "      <th>4</th>\n",
              "      <td>Over The Moon Brew Company</td>\n",
              "      <td>httpswwwzomatocomhyderabadoverthemoonbrewcompa...</td>\n",
              "      <td>onethousandtwohundred</td>\n",
              "      <td>asian continental northindian chinese mediterr...</td>\n",
              "      <td>12noon to 11pm mon tue wed thu sun 12noon to 1...</td>\n",
              "      <td>13</td>\n",
              "      <td>onethousandtwohundred asian continental northi...</td>\n",
              "    </tr>\n",
              "  </tbody>\n",
              "</table>\n",
              "</div>\n",
              "      <button class=\"colab-df-convert\" onclick=\"convertToInteractive('df-39375fee-1612-42d0-a5f6-32b1f570325f')\"\n",
              "              title=\"Convert this dataframe to an interactive table.\"\n",
              "              style=\"display:none;\">\n",
              "        \n",
              "  <svg xmlns=\"http://www.w3.org/2000/svg\" height=\"24px\"viewBox=\"0 0 24 24\"\n",
              "       width=\"24px\">\n",
              "    <path d=\"M0 0h24v24H0V0z\" fill=\"none\"/>\n",
              "    <path d=\"M18.56 5.44l.94 2.06.94-2.06 2.06-.94-2.06-.94-.94-2.06-.94 2.06-2.06.94zm-11 1L8.5 8.5l.94-2.06 2.06-.94-2.06-.94L8.5 2.5l-.94 2.06-2.06.94zm10 10l.94 2.06.94-2.06 2.06-.94-2.06-.94-.94-2.06-.94 2.06-2.06.94z\"/><path d=\"M17.41 7.96l-1.37-1.37c-.4-.4-.92-.59-1.43-.59-.52 0-1.04.2-1.43.59L10.3 9.45l-7.72 7.72c-.78.78-.78 2.05 0 2.83L4 21.41c.39.39.9.59 1.41.59.51 0 1.02-.2 1.41-.59l7.78-7.78 2.81-2.81c.8-.78.8-2.07 0-2.86zM5.41 20L4 18.59l7.72-7.72 1.47 1.35L5.41 20z\"/>\n",
              "  </svg>\n",
              "      </button>\n",
              "      \n",
              "  <style>\n",
              "    .colab-df-container {\n",
              "      display:flex;\n",
              "      flex-wrap:wrap;\n",
              "      gap: 12px;\n",
              "    }\n",
              "\n",
              "    .colab-df-convert {\n",
              "      background-color: #E8F0FE;\n",
              "      border: none;\n",
              "      border-radius: 50%;\n",
              "      cursor: pointer;\n",
              "      display: none;\n",
              "      fill: #1967D2;\n",
              "      height: 32px;\n",
              "      padding: 0 0 0 0;\n",
              "      width: 32px;\n",
              "    }\n",
              "\n",
              "    .colab-df-convert:hover {\n",
              "      background-color: #E2EBFA;\n",
              "      box-shadow: 0px 1px 2px rgba(60, 64, 67, 0.3), 0px 1px 3px 1px rgba(60, 64, 67, 0.15);\n",
              "      fill: #174EA6;\n",
              "    }\n",
              "\n",
              "    [theme=dark] .colab-df-convert {\n",
              "      background-color: #3B4455;\n",
              "      fill: #D2E3FC;\n",
              "    }\n",
              "\n",
              "    [theme=dark] .colab-df-convert:hover {\n",
              "      background-color: #434B5C;\n",
              "      box-shadow: 0px 1px 3px 1px rgba(0, 0, 0, 0.15);\n",
              "      filter: drop-shadow(0px 1px 2px rgba(0, 0, 0, 0.3));\n",
              "      fill: #FFFFFF;\n",
              "    }\n",
              "  </style>\n",
              "\n",
              "      <script>\n",
              "        const buttonEl =\n",
              "          document.querySelector('#df-39375fee-1612-42d0-a5f6-32b1f570325f button.colab-df-convert');\n",
              "        buttonEl.style.display =\n",
              "          google.colab.kernel.accessAllowed ? 'block' : 'none';\n",
              "\n",
              "        async function convertToInteractive(key) {\n",
              "          const element = document.querySelector('#df-39375fee-1612-42d0-a5f6-32b1f570325f');\n",
              "          const dataTable =\n",
              "            await google.colab.kernel.invokeFunction('convertToInteractive',\n",
              "                                                     [key], {});\n",
              "          if (!dataTable) return;\n",
              "\n",
              "          const docLinkHtml = 'Like what you see? Visit the ' +\n",
              "            '<a target=\"_blank\" href=https://colab.research.google.com/notebooks/data_table.ipynb>data table notebook</a>'\n",
              "            + ' to learn more about interactive tables.';\n",
              "          element.innerHTML = '';\n",
              "          dataTable['output_type'] = 'display_data';\n",
              "          await google.colab.output.renderOutput(dataTable, element);\n",
              "          const docLink = document.createElement('div');\n",
              "          docLink.innerHTML = docLinkHtml;\n",
              "          element.appendChild(docLink);\n",
              "        }\n",
              "      </script>\n",
              "    </div>\n",
              "  </div>\n",
              "  "
            ]
          },
          "metadata": {},
          "execution_count": 54
        }
      ]
    },
    {
      "cell_type": "code",
      "source": [
        "# Applying kmeans for feature 'Costncuisine' \n",
        "# Costncusine = concatenation of cost and cuisine"
      ],
      "metadata": {
        "id": "t85XpuYG4DG4"
      },
      "execution_count": 55,
      "outputs": []
    },
    {
      "cell_type": "code",
      "source": [
        "# Tfidf vectorizer\n",
        "vectorizer = TfidfVectorizer(stop_words= 'english')\n",
        "X_costncuisine = vectorizer.fit_transform(df['costncuisine'])"
      ],
      "metadata": {
        "id": "g-lZ93Ml2DA3"
      },
      "execution_count": 56,
      "outputs": []
    },
    {
      "cell_type": "code",
      "source": [
        "X_costncuisine.shape\n",
        "# we have 50 unique words"
      ],
      "metadata": {
        "colab": {
          "base_uri": "https://localhost:8080/"
        },
        "id": "8-JiN8Fj2MS2",
        "outputId": "af85ad80-3e76-4f61-d3f0-76a704d128e1"
      },
      "execution_count": 57,
      "outputs": [
        {
          "output_type": "execute_result",
          "data": {
            "text/plain": [
              "(104, 79)"
            ]
          },
          "metadata": {},
          "execution_count": 57
        }
      ]
    },
    {
      "cell_type": "code",
      "source": [
        "# Type of X object\n",
        "type(X_costncuisine)"
      ],
      "metadata": {
        "colab": {
          "base_uri": "https://localhost:8080/"
        },
        "id": "a4_mtb9I2Meg",
        "outputId": "1ea6d4db-277c-4b6d-a76c-43387a24d360"
      },
      "execution_count": 58,
      "outputs": [
        {
          "output_type": "execute_result",
          "data": {
            "text/plain": [
              "scipy.sparse.csr.csr_matrix"
            ]
          },
          "metadata": {},
          "execution_count": 58
        }
      ]
    },
    {
      "cell_type": "code",
      "source": [
        "# Converting 'X' object to array\n",
        "X_costncuisine = X_costncuisine.toarray()"
      ],
      "metadata": {
        "id": "nvyhSIN22Mre"
      },
      "execution_count": 59,
      "outputs": []
    },
    {
      "cell_type": "code",
      "source": [
        "type(X_costncuisine)"
      ],
      "metadata": {
        "colab": {
          "base_uri": "https://localhost:8080/"
        },
        "id": "lcJgCkLp2M3j",
        "outputId": "57ed6488-a15c-4ca3-c933-eb01179471f3"
      },
      "execution_count": 60,
      "outputs": [
        {
          "output_type": "execute_result",
          "data": {
            "text/plain": [
              "numpy.ndarray"
            ]
          },
          "metadata": {},
          "execution_count": 60
        }
      ]
    },
    {
      "cell_type": "code",
      "source": [
        "# KElbowvisualizer with metric as 'distortion\n",
        "\n",
        "model = KMeans(init=\"k-means++\",max_iter=300,random_state=0)\n",
        "visualizer = KElbowVisualizer(model, k=(2,30),metric= 'distortion', timings= True, locate_elbow= True)\n",
        "\n",
        "visualizer.fit(X_costncuisine)    # Fit the data to the visualizer\n",
        "visualizer.poof()"
      ],
      "metadata": {
        "colab": {
          "base_uri": "https://localhost:8080/",
          "height": 311
        },
        "id": "abRT_qY42Y8X",
        "outputId": "894f7011-6e8c-4b6d-9902-c378d2fcffd5"
      },
      "execution_count": 61,
      "outputs": [
        {
          "output_type": "display_data",
          "data": {
            "text/plain": [
              "<Figure size 432x288 with 2 Axes>"
            ],
            "image/png": "[encoded data removed]"
          },
          "metadata": {}
        },
        {
          "output_type": "execute_result",
          "data": {
            "text/plain": [
              "<matplotlib.axes._subplots.AxesSubplot at 0x7fadca810d50>"
            ]
          },
          "metadata": {},
          "execution_count": 61
        }
      ]
    },
    {
      "cell_type": "code",
      "source": [
        "# Evaluation\n",
        "# range_n_clusters = [11, 12, 13, 14, 15, 16, 17, 18, 19, 20, 21, 22, 23, 24, 25, 26]\n",
        "range_n_clusters = [ 6, 7, 8, 9, 10, 11, 12, 13, 14, 15, 16, 17, 18, 19, 20, 21, 22, 23, 24, 25, 26]\n",
        "for n_clusters in range_n_clusters:\n",
        "    # Initialize the clusterer with n_clusters value and a random generator\n",
        "    # seed of 10 for reproducibility.\n",
        "    clusterer = KMeans(n_clusters=n_clusters, random_state=10)\n",
        "    cluster_labels = clusterer.fit_predict(X_costncuisine)\n",
        "\n",
        "    # The silhouette_score gives the average value for all the samples.\n",
        "    # This gives a perspective into the density and separation of the formed\n",
        "    # clusters\n",
        "    silhouette_avg = silhouette_score(X_costncuisine, cluster_labels)\n",
        "    print(\"For n_clusters =\", n_clusters,\n",
        "          \"The average silhouette_score is :\", round(silhouette_avg,5))"
      ],
      "metadata": {
        "colab": {
          "base_uri": "https://localhost:8080/"
        },
        "id": "pUVDlXIywIa3",
        "outputId": "789a0674-80df-4725-b20c-494b92dcadd7"
      },
      "execution_count": 62,
      "outputs": [
        {
          "output_type": "stream",
          "name": "stdout",
          "text": [
            "For n_clusters = 6 The average silhouette_score is : 0.06014\n",
            "For n_clusters = 7 The average silhouette_score is : 0.05674\n",
            "For n_clusters = 8 The average silhouette_score is : 0.06494\n",
            "For n_clusters = 9 The average silhouette_score is : 0.07857\n",
            "For n_clusters = 10 The average silhouette_score is : 0.0811\n",
            "For n_clusters = 11 The average silhouette_score is : 0.08713\n",
            "For n_clusters = 12 The average silhouette_score is : 0.08796\n",
            "For n_clusters = 13 The average silhouette_score is : 0.10574\n",
            "For n_clusters = 14 The average silhouette_score is : 0.09965\n",
            "For n_clusters = 15 The average silhouette_score is : 0.11555\n",
            "For n_clusters = 16 The average silhouette_score is : 0.09652\n",
            "For n_clusters = 17 The average silhouette_score is : 0.11121\n",
            "For n_clusters = 18 The average silhouette_score is : 0.10708\n",
            "For n_clusters = 19 The average silhouette_score is : 0.12528\n",
            "For n_clusters = 20 The average silhouette_score is : 0.12298\n",
            "For n_clusters = 21 The average silhouette_score is : 0.12796\n",
            "For n_clusters = 22 The average silhouette_score is : 0.12653\n",
            "For n_clusters = 23 The average silhouette_score is : 0.13308\n",
            "For n_clusters = 24 The average silhouette_score is : 0.12163\n",
            "For n_clusters = 25 The average silhouette_score is : 0.13757\n",
            "For n_clusters = 26 The average silhouette_score is : 0.1315\n"
          ]
        }
      ]
    },
    {
      "cell_type": "code",
      "source": [
        "# Hierarchical Clustering\n",
        "\n",
        "plt.figure(figsize=(30,10))\n",
        "dend = shc.dendrogram(shc.linkage(X, method='ward'))\n",
        "plt.title(\"Dendrograms\")\n",
        "plt.xlabel('Cuisines')\n",
        "plt.ylabel('Euclidean Distances')\n",
        "plt.axhline(y=3.2, color='r', linestyle='--')\n",
        "plt.show()"
      ],
      "metadata": {
        "colab": {
          "base_uri": "https://localhost:8080/",
          "height": 356
        },
        "id": "LjGhCHG34Wgp",
        "outputId": "f58e0053-66ff-4369-bafd-803ec297f5e0"
      },
      "execution_count": 63,
      "outputs": [
        {
          "output_type": "display_data",
          "data": {
            "text/plain": [
              "<Figure size 2160x720 with 1 Axes>"
            ],
            "image/png": "[encoded data removed]"
          },
          "metadata": {
            "needs_background": "light"
          }
        }
      ]
    },
    {
      "cell_type": "code",
      "source": [
        "# AgglomerativeClustering\n",
        "\n",
        "for k in range(2,20):\n",
        "  aggh = AgglomerativeClustering(n_clusters=k, affinity='euclidean', linkage='ward')  \n",
        "  aggh.fit(X)\n",
        "  y_hc=aggh.fit_predict(X)\n",
        "  # print(\"Silhouette Coefficient for : %0.3f\"%silhouette_score(X, y_hc))\n",
        "  print(\"For n_clusters =\", k, \"The average silhouette_score is :\", round(silhouette_score(X, y_hc),5))"
      ],
      "metadata": {
        "colab": {
          "base_uri": "https://localhost:8080/"
        },
        "id": "GtFxyybb6uiP",
        "outputId": "5eb14567-e906-4436-bf62-762dad756bd7"
      },
      "execution_count": 64,
      "outputs": [
        {
          "output_type": "stream",
          "name": "stdout",
          "text": [
            "For n_clusters = 2 The average silhouette_score is : 0.06304\n",
            "For n_clusters = 3 The average silhouette_score is : 0.07949\n",
            "For n_clusters = 4 The average silhouette_score is : 0.1068\n",
            "For n_clusters = 5 The average silhouette_score is : 0.10474\n",
            "For n_clusters = 6 The average silhouette_score is : 0.11906\n",
            "For n_clusters = 7 The average silhouette_score is : 0.12565\n",
            "For n_clusters = 8 The average silhouette_score is : 0.12826\n",
            "For n_clusters = 9 The average silhouette_score is : 0.13974\n",
            "For n_clusters = 10 The average silhouette_score is : 0.15252\n",
            "For n_clusters = 11 The average silhouette_score is : 0.16091\n",
            "For n_clusters = 12 The average silhouette_score is : 0.17093\n",
            "For n_clusters = 13 The average silhouette_score is : 0.18888\n",
            "For n_clusters = 14 The average silhouette_score is : 0.19819\n",
            "For n_clusters = 15 The average silhouette_score is : 0.20475\n",
            "For n_clusters = 16 The average silhouette_score is : 0.20966\n",
            "For n_clusters = 17 The average silhouette_score is : 0.21066\n",
            "For n_clusters = 18 The average silhouette_score is : 0.22104\n",
            "For n_clusters = 19 The average silhouette_score is : 0.22807\n"
          ]
        }
      ]
    },
    {
      "cell_type": "code",
      "source": [
        ""
      ],
      "metadata": {
        "id": "R6VL-VRY-Syb"
      },
      "execution_count": 64,
      "outputs": []
    },
    {
      "cell_type": "code",
      "source": [
        ""
      ],
      "metadata": {
        "id": "2zG20CY4-TLU"
      },
      "execution_count": 64,
      "outputs": []
    }
  ]
}