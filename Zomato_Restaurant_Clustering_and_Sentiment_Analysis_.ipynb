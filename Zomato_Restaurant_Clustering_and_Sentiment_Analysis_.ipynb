{
  "nbformat": 4,
  "nbformat_minor": 0,
  "metadata": {
    "colab": {
      "name": "Zomato Restaurant Clustering and Sentiment Analysis .ipynb",
      "provenance": [],
      "collapsed_sections": [],
      "include_colab_link": true
    },
    "kernelspec": {
      "name": "python3",
      "display_name": "Python 3"
    },
    "language_info": {
      "name": "python"
    }
  },
  "cells": [
    {
      "cell_type": "markdown",
      "metadata": {
        "id": "view-in-github",
        "colab_type": "text"
      },
      "source": [
        "<a href=\"https://colab.research.google.com/github/SethupathyM/Unsupervised_ML_Clustering_and_Sentiment_Analysis_Zomato_Restaurant/blob/main/Zomato_Restaurant_Clustering_and_Sentiment_Analysis_.ipynb\" target=\"_parent\"><img src=\"https://colab.research.google.com/assets/colab-badge.svg\" alt=\"Open In Colab\"/></a>"
      ]
    },
    {
      "cell_type": "markdown",
      "metadata": {
        "id": "LGcl5Bv9ed6u"
      },
      "source": [
        "# **Problem Statement**"
      ]
    },
    {
      "cell_type": "markdown",
      "metadata": {
        "id": "Dtb2te3Omis9"
      },
      "source": [
        "Zomato is an Indian restaurant aggregator and food delivery start-up founded by Deepinder Goyal and Pankaj Chaddah in 2008. Zomato provides information, menus and user-reviews of restaurants, and also has food delivery options from partner restaurants in select cities.\n",
        "\n",
        "India is quite famous for its diverse multi cuisine available in a large number of restaurants and hotel resorts, which is reminiscent of unity in diversity. Restaurant business in India is always evolving. More Indians are warming up to the idea of eating restaurant food whether by dining outside or getting food delivered. The growing number of restaurants in every state of India has been a motivation to inspect the data to get some insights, interesting facts and figures about the Indian food industry in each city. So, this project focuses on analysing the Zomato restaurant data for each city in India.\n",
        "\n",
        "The Project focuses on Customers and Company, you have  to analyze the sentiments of the reviews given by the customer in the data and made some useful conclusion in the form of Visualizations. Also, cluster the zomato restaurants into different segments. The data is vizualized as it becomes easy to analyse data at instant. The Analysis also solve some of the business cases that can directly help the customers finding the Best restaurant in their locality and for the company to grow up and work on the fields they are currently lagging in.\n",
        "\n",
        "This could help in clustering the restaurants into segments. Also the data has valuable information around cuisine and costing which can be used in cost vs. benefit analysis\n",
        "\n",
        "Data could be used for sentiment analysis. Also the metadata of reviewers can be used for identifying the critics in the industry. "
      ]
    },
    {
      "cell_type": "markdown",
      "metadata": {
        "id": "AzGDqdC4fZ-b"
      },
      "source": [
        "# **Attribute Information**"
      ]
    },
    {
      "cell_type": "markdown",
      "metadata": {
        "id": "1rDsYX7KtvFb"
      },
      "source": [
        "## **Zomato Restaurant names and Metadata**\n",
        "Use this dataset for clustering part"
      ]
    },
    {
      "cell_type": "markdown",
      "metadata": {
        "id": "3uB3PQRXtz-A"
      },
      "source": [
        "1. Name : Name of Restaurants\n",
        "\n",
        "2. Links : URL Links of Restaurants\n",
        "\n",
        "3. Cost : Per person estimated Cost of dining\n",
        "\n",
        "4. Collection : Tagging of Restaurants w.r.t. Zomato categories\n",
        "\n",
        "5. Cuisines : Cuisines served by Restaurants\n",
        "\n",
        "6. Timings : Restaurant Timings"
      ]
    },
    {
      "cell_type": "markdown",
      "metadata": {
        "id": "Pq7CVNxQuT8i"
      },
      "source": [
        "## **Zomato Restaurant reviews**\n",
        "Merge this dataset with Names and Matadata and then use for sentiment analysis part"
      ]
    },
    {
      "cell_type": "markdown",
      "metadata": {
        "id": "k9E4XoEGuc0G"
      },
      "source": [
        "1. Restaurant : Name of the Restaurant\n",
        "\n",
        "2. Reviewer : Name of the Reviewer\n",
        "\n",
        "3. Review : Review Text\n",
        "\n",
        "4. Rating : Rating Provided by Reviewer\n",
        "\n",
        "5. MetaData : Reviewer Metadata - No. of Reviews and followers\n",
        "\n",
        "6. Time: Date and Time of Review\n",
        "\n",
        "7. Pictures : No. of pictures posted with review"
      ]
    },
    {
      "cell_type": "code",
      "source": [
        "# Importing Libraries\n",
        "import pandas as pd\n",
        "import numpy as np\n",
        "import seaborn as sns\n",
        "import matplotlib.pyplot as plt\n",
        "import matplotlib.cm as cm\n",
        "import math\n",
        "\n",
        "import re, string, unicodedata\n",
        "import nltk\n",
        "import inflect\n",
        "from bs4 import BeautifulSoup\n",
        "from nltk import word_tokenize, sent_tokenize\n",
        "from nltk.corpus import stopwords\n",
        "from nltk.stem import LancasterStemmer, WordNetLemmatizer\n",
        "\n",
        "from keras.preprocessing.text import Tokenizer\n",
        "from sklearn.feature_extraction.text import TfidfVectorizer\n",
        "from sklearn.cluster import KMeans\n",
        "from sklearn.metrics import silhouette_samples, silhouette_score\n",
        "from sklearn.datasets import make_blobs\n",
        "from nltk.stem import PorterStemmer, LancasterStemmer\n",
        "\n",
        "from yellowbrick.cluster import KElbowVisualizer\n",
        "from wordcloud import WordCloud\n",
        "\n",
        "import inflect\n",
        "import scipy.cluster.hierarchy as shc"
      ],
      "metadata": {
        "id": "A8EC7skUFy9U"
      },
      "execution_count": 61,
      "outputs": []
    },
    {
      "cell_type": "code",
      "source": [
        "# Mounting the drive\n",
        "from google.colab import drive\n",
        "drive.mount('/content/Mydrive')"
      ],
      "metadata": {
        "id": "TjE5pgyrFzOL",
        "colab": {
          "base_uri": "https://localhost:8080/"
        },
        "outputId": "71369938-c45c-4894-8183-b2ef080628e9"
      },
      "execution_count": 2,
      "outputs": [
        {
          "output_type": "stream",
          "name": "stdout",
          "text": [
            "Mounted at /content/Mydrive\n"
          ]
        }
      ]
    },
    {
      "cell_type": "code",
      "source": [
        "# Reading the CSV file\n",
        "df = pd.read_csv('/content/Mydrive/MyDrive/Capstone_Project_Unsupervised_ML_Zomato_Restaurant_Clustering_and_Sentiment_Analysis/Zomato Restaurant names and Metadata.csv')"
      ],
      "metadata": {
        "id": "pk2rxyqIv_cl"
      },
      "execution_count": 3,
      "outputs": []
    },
    {
      "cell_type": "code",
      "source": [
        "# Shape\n",
        "df.shape"
      ],
      "metadata": {
        "colab": {
          "base_uri": "https://localhost:8080/"
        },
        "id": "DUAMtdxKwmTw",
        "outputId": "dc4e43b2-4eea-44f4-cd66-d6a820502a42"
      },
      "execution_count": 4,
      "outputs": [
        {
          "output_type": "execute_result",
          "data": {
            "text/plain": [
              "(105, 6)"
            ]
          },
          "metadata": {},
          "execution_count": 4
        }
      ]
    },
    {
      "cell_type": "code",
      "source": [
        "# Head\n",
        "df.head()"
      ],
      "metadata": {
        "colab": {
          "base_uri": "https://localhost:8080/",
          "height": 406
        },
        "id": "O59Ogi5pwhNW",
        "outputId": "157dc4d7-3a62-4994-89bb-c6229be7b220"
      },
      "execution_count": 5,
      "outputs": [
        {
          "output_type": "execute_result",
          "data": {
            "text/plain": [
              "                             Name  \\\n",
              "0                 Beyond Flavours   \n",
              "1                        Paradise   \n",
              "2                        Flechazo   \n",
              "3  Shah Ghouse Hotel & Restaurant   \n",
              "4      Over The Moon Brew Company   \n",
              "\n",
              "                                               Links   Cost  \\\n",
              "0  https://www.zomato.com/hyderabad/beyond-flavou...    800   \n",
              "1  https://www.zomato.com/hyderabad/paradise-gach...    800   \n",
              "2  https://www.zomato.com/hyderabad/flechazo-gach...  1,300   \n",
              "3  https://www.zomato.com/hyderabad/shah-ghouse-h...    800   \n",
              "4  https://www.zomato.com/hyderabad/over-the-moon...  1,200   \n",
              "\n",
              "                                         Collections  \\\n",
              "0  Food Hygiene Rated Restaurants in Hyderabad, C...   \n",
              "1                                Hyderabad's Hottest   \n",
              "2                 Great Buffets, Hyderabad's Hottest   \n",
              "3                             Late Night Restaurants   \n",
              "4  Best Bars & Pubs, Food Hygiene Rated Restauran...   \n",
              "\n",
              "                                            Cuisines  \\\n",
              "0  Chinese, Continental, Kebab, European, South I...   \n",
              "1                     Biryani, North Indian, Chinese   \n",
              "2       Asian, Mediterranean, North Indian, Desserts   \n",
              "3  Biryani, North Indian, Chinese, Seafood, Bever...   \n",
              "4  Asian, Continental, North Indian, Chinese, Med...   \n",
              "\n",
              "                                             Timings  \n",
              "0      12noon to 3:30pm, 6:30pm to 11:30pm (Mon-Sun)  \n",
              "1                                     11 AM to 11 PM  \n",
              "2              11:30 AM to 4:30 PM, 6:30 PM to 11 PM  \n",
              "3                                    12 Noon to 2 AM  \n",
              "4  12noon to 11pm (Mon, Tue, Wed, Thu, Sun), 12no...  "
            ],
            "text/html": [
              "\n",
              "  <div id=\"df-febe3c07-0d51-4e52-9c8f-c1e6a726b0b5\">\n",
              "    <div class=\"colab-df-container\">\n",
              "      <div>\n",
              "<style scoped>\n",
              "    .dataframe tbody tr th:only-of-type {\n",
              "        vertical-align: middle;\n",
              "    }\n",
              "\n",
              "    .dataframe tbody tr th {\n",
              "        vertical-align: top;\n",
              "    }\n",
              "\n",
              "    .dataframe thead th {\n",
              "        text-align: right;\n",
              "    }\n",
              "</style>\n",
              "<table border=\"1\" class=\"dataframe\">\n",
              "  <thead>\n",
              "    <tr style=\"text-align: right;\">\n",
              "      <th></th>\n",
              "      <th>Name</th>\n",
              "      <th>Links</th>\n",
              "      <th>Cost</th>\n",
              "      <th>Collections</th>\n",
              "      <th>Cuisines</th>\n",
              "      <th>Timings</th>\n",
              "    </tr>\n",
              "  </thead>\n",
              "  <tbody>\n",
              "    <tr>\n",
              "      <th>0</th>\n",
              "      <td>Beyond Flavours</td>\n",
              "      <td>https://www.zomato.com/hyderabad/beyond-flavou...</td>\n",
              "      <td>800</td>\n",
              "      <td>Food Hygiene Rated Restaurants in Hyderabad, C...</td>\n",
              "      <td>Chinese, Continental, Kebab, European, South I...</td>\n",
              "      <td>12noon to 3:30pm, 6:30pm to 11:30pm (Mon-Sun)</td>\n",
              "    </tr>\n",
              "    <tr>\n",
              "      <th>1</th>\n",
              "      <td>Paradise</td>\n",
              "      <td>https://www.zomato.com/hyderabad/paradise-gach...</td>\n",
              "      <td>800</td>\n",
              "      <td>Hyderabad's Hottest</td>\n",
              "      <td>Biryani, North Indian, Chinese</td>\n",
              "      <td>11 AM to 11 PM</td>\n",
              "    </tr>\n",
              "    <tr>\n",
              "      <th>2</th>\n",
              "      <td>Flechazo</td>\n",
              "      <td>https://www.zomato.com/hyderabad/flechazo-gach...</td>\n",
              "      <td>1,300</td>\n",
              "      <td>Great Buffets, Hyderabad's Hottest</td>\n",
              "      <td>Asian, Mediterranean, North Indian, Desserts</td>\n",
              "      <td>11:30 AM to 4:30 PM, 6:30 PM to 11 PM</td>\n",
              "    </tr>\n",
              "    <tr>\n",
              "      <th>3</th>\n",
              "      <td>Shah Ghouse Hotel &amp; Restaurant</td>\n",
              "      <td>https://www.zomato.com/hyderabad/shah-ghouse-h...</td>\n",
              "      <td>800</td>\n",
              "      <td>Late Night Restaurants</td>\n",
              "      <td>Biryani, North Indian, Chinese, Seafood, Bever...</td>\n",
              "      <td>12 Noon to 2 AM</td>\n",
              "    </tr>\n",
              "    <tr>\n",
              "      <th>4</th>\n",
              "      <td>Over The Moon Brew Company</td>\n",
              "      <td>https://www.zomato.com/hyderabad/over-the-moon...</td>\n",
              "      <td>1,200</td>\n",
              "      <td>Best Bars &amp; Pubs, Food Hygiene Rated Restauran...</td>\n",
              "      <td>Asian, Continental, North Indian, Chinese, Med...</td>\n",
              "      <td>12noon to 11pm (Mon, Tue, Wed, Thu, Sun), 12no...</td>\n",
              "    </tr>\n",
              "  </tbody>\n",
              "</table>\n",
              "</div>\n",
              "      <button class=\"colab-df-convert\" onclick=\"convertToInteractive('df-febe3c07-0d51-4e52-9c8f-c1e6a726b0b5')\"\n",
              "              title=\"Convert this dataframe to an interactive table.\"\n",
              "              style=\"display:none;\">\n",
              "        \n",
              "  <svg xmlns=\"http://www.w3.org/2000/svg\" height=\"24px\"viewBox=\"0 0 24 24\"\n",
              "       width=\"24px\">\n",
              "    <path d=\"M0 0h24v24H0V0z\" fill=\"none\"/>\n",
              "    <path d=\"M18.56 5.44l.94 2.06.94-2.06 2.06-.94-2.06-.94-.94-2.06-.94 2.06-2.06.94zm-11 1L8.5 8.5l.94-2.06 2.06-.94-2.06-.94L8.5 2.5l-.94 2.06-2.06.94zm10 10l.94 2.06.94-2.06 2.06-.94-2.06-.94-.94-2.06-.94 2.06-2.06.94z\"/><path d=\"M17.41 7.96l-1.37-1.37c-.4-.4-.92-.59-1.43-.59-.52 0-1.04.2-1.43.59L10.3 9.45l-7.72 7.72c-.78.78-.78 2.05 0 2.83L4 21.41c.39.39.9.59 1.41.59.51 0 1.02-.2 1.41-.59l7.78-7.78 2.81-2.81c.8-.78.8-2.07 0-2.86zM5.41 20L4 18.59l7.72-7.72 1.47 1.35L5.41 20z\"/>\n",
              "  </svg>\n",
              "      </button>\n",
              "      \n",
              "  <style>\n",
              "    .colab-df-container {\n",
              "      display:flex;\n",
              "      flex-wrap:wrap;\n",
              "      gap: 12px;\n",
              "    }\n",
              "\n",
              "    .colab-df-convert {\n",
              "      background-color: #E8F0FE;\n",
              "      border: none;\n",
              "      border-radius: 50%;\n",
              "      cursor: pointer;\n",
              "      display: none;\n",
              "      fill: #1967D2;\n",
              "      height: 32px;\n",
              "      padding: 0 0 0 0;\n",
              "      width: 32px;\n",
              "    }\n",
              "\n",
              "    .colab-df-convert:hover {\n",
              "      background-color: #E2EBFA;\n",
              "      box-shadow: 0px 1px 2px rgba(60, 64, 67, 0.3), 0px 1px 3px 1px rgba(60, 64, 67, 0.15);\n",
              "      fill: #174EA6;\n",
              "    }\n",
              "\n",
              "    [theme=dark] .colab-df-convert {\n",
              "      background-color: #3B4455;\n",
              "      fill: #D2E3FC;\n",
              "    }\n",
              "\n",
              "    [theme=dark] .colab-df-convert:hover {\n",
              "      background-color: #434B5C;\n",
              "      box-shadow: 0px 1px 3px 1px rgba(0, 0, 0, 0.15);\n",
              "      filter: drop-shadow(0px 1px 2px rgba(0, 0, 0, 0.3));\n",
              "      fill: #FFFFFF;\n",
              "    }\n",
              "  </style>\n",
              "\n",
              "      <script>\n",
              "        const buttonEl =\n",
              "          document.querySelector('#df-febe3c07-0d51-4e52-9c8f-c1e6a726b0b5 button.colab-df-convert');\n",
              "        buttonEl.style.display =\n",
              "          google.colab.kernel.accessAllowed ? 'block' : 'none';\n",
              "\n",
              "        async function convertToInteractive(key) {\n",
              "          const element = document.querySelector('#df-febe3c07-0d51-4e52-9c8f-c1e6a726b0b5');\n",
              "          const dataTable =\n",
              "            await google.colab.kernel.invokeFunction('convertToInteractive',\n",
              "                                                     [key], {});\n",
              "          if (!dataTable) return;\n",
              "\n",
              "          const docLinkHtml = 'Like what you see? Visit the ' +\n",
              "            '<a target=\"_blank\" href=https://colab.research.google.com/notebooks/data_table.ipynb>data table notebook</a>'\n",
              "            + ' to learn more about interactive tables.';\n",
              "          element.innerHTML = '';\n",
              "          dataTable['output_type'] = 'display_data';\n",
              "          await google.colab.output.renderOutput(dataTable, element);\n",
              "          const docLink = document.createElement('div');\n",
              "          docLink.innerHTML = docLinkHtml;\n",
              "          element.appendChild(docLink);\n",
              "        }\n",
              "      </script>\n",
              "    </div>\n",
              "  </div>\n",
              "  "
            ]
          },
          "metadata": {},
          "execution_count": 5
        }
      ]
    },
    {
      "cell_type": "code",
      "source": [
        "df['Cuisines'] = df['Cuisines'].str.replace(' ','')\n",
        "df['Cuisines'] = df['Cuisines'].str.replace(',',', ')\n"
      ],
      "metadata": {
        "id": "vesduzfllOzg"
      },
      "execution_count": 6,
      "outputs": []
    },
    {
      "cell_type": "code",
      "source": [
        "df['Cuisines'].unique()"
      ],
      "metadata": {
        "colab": {
          "base_uri": "https://localhost:8080/"
        },
        "id": "rEuZVZ8el-uy",
        "outputId": "00c30e7d-1a95-485a-c882-f2d4b9961f9f"
      },
      "execution_count": 7,
      "outputs": [
        {
          "output_type": "execute_result",
          "data": {
            "text/plain": [
              "array(['Chinese, Continental, Kebab, European, SouthIndian, NorthIndian',\n",
              "       'Biryani, NorthIndian, Chinese',\n",
              "       'Asian, Mediterranean, NorthIndian, Desserts',\n",
              "       'Biryani, NorthIndian, Chinese, Seafood, Beverages',\n",
              "       'Asian, Continental, NorthIndian, Chinese, Mediterranean',\n",
              "       'Seafood, Goan, NorthIndian, Continental, Asian',\n",
              "       'HealthyFood, NorthIndian, Continental, SouthIndian', 'Lebanese',\n",
              "       'American, Chinese, NorthIndian, Kebab, SouthIndian',\n",
              "       'IceCream, Desserts', 'StreetFood, NorthIndian, FastFood',\n",
              "       'Mediterranean, NorthIndian, Kebab, BBQ',\n",
              "       'Continental, American, Chinese',\n",
              "       'NorthIndian, Italian, FingerFood',\n",
              "       'European, Mediterranean, NorthIndian', 'Burger, FastFood',\n",
              "       'NorthIndian', 'Chinese, NorthIndian',\n",
              "       'NorthIndian, Chinese, Continental',\n",
              "       'NorthIndian, Chinese, Biryani',\n",
              "       'NorthIndian, Japanese, Italian, Salad, Sushi', 'American',\n",
              "       'Continental', 'Mexican, Italian, NorthIndian, Chinese, Salad',\n",
              "       'NorthIndian, Mediterranean, European', 'Mughlai, Biryani',\n",
              "       'FastFood', 'Andhra, SouthIndian, NorthIndian',\n",
              "       'Bakery, NorthIndian, Mughlai, Juices, Chinese',\n",
              "       'Arabian, NorthIndian, Chinese', 'NorthIndian, FastFood',\n",
              "       'Italian, NorthIndian, SouthIndian, Asian',\n",
              "       'Biryani, SouthIndian, NorthIndian, Chinese, Andhra',\n",
              "       'Andhra, Biryani, Hyderabadi, NorthIndian',\n",
              "       'NorthIndian, Continental, Italian, Asian',\n",
              "       'Cafe, Continental, Desserts',\n",
              "       'European, Italian, Continental, Spanish',\n",
              "       'Bakery, FastFood, Desserts', 'Cafe, Desserts, FastFood',\n",
              "       'American, Wraps, Desserts',\n",
              "       'FingerFood, NorthIndian, Kebab, Chinese',\n",
              "       'Chinese, Biryani, Andhra, NorthIndian',\n",
              "       'Andhra, NorthIndian, Chinese', 'Chinese, Thai, Indonesian, Asian',\n",
              "       'SouthIndian, NorthIndian, Chinese', 'NorthIndian, Continental',\n",
              "       'NorthIndian, Biryani, Chinese', 'Chinese, Continental, Italian',\n",
              "       'Asian', 'Cafe, Bakery',\n",
              "       'ModernIndian, Asian, Continental, Italian',\n",
              "       'NorthIndian, Chinese', 'Desserts, Beverages',\n",
              "       'Bakery, Desserts, FastFood',\n",
              "       'NorthIndian, Continental, Chinese, Italian',\n",
              "       'Kebab, Continental, Italian, NorthIndian',\n",
              "       'NorthIndian, Chinese, FastFood', 'Chinese, Asian, Momos',\n",
              "       'NorthIndian, Chinese, Japanese, Sushi',\n",
              "       'NorthIndian, Chinese, Mughlai, Biryani',\n",
              "       'NorthIndian, Hyderabadi', 'NorthIndian, Continental, Italian',\n",
              "       'BBQ, Asian, ModernIndian', 'Asian, Thai, Chinese, Sushi, Momos',\n",
              "       'NorthIndian, Mughlai, Beverages', 'Bakery, Desserts',\n",
              "       'Cafe, FastFood, Beverages', 'FastFood, Biryani, Desserts',\n",
              "       'NorthIndian, SouthIndian', 'Bakery',\n",
              "       'Italian, NorthIndian, Chinese, Salad', 'NorthIndian, Mughlai',\n",
              "       'NorthIndian, Chinese, Continental, Biryani',\n",
              "       'NorthIndian, Burger, Kebab',\n",
              "       'NorthIndian, Chinese, Seafood, Biryani, Hyderabadi',\n",
              "       'Burger, American', 'NorthIndian, Andhra, Biryani, Chinese',\n",
              "       'Momos', 'Cafe, Desserts', 'American, FastFood, Salad, Burger',\n",
              "       'FastFood, Pizza', 'StreetFood, Arabian',\n",
              "       'NorthIndian, Italian, Continental, Asian',\n",
              "       'Continental, Italian, NorthIndian, Chinese, Asian',\n",
              "       'NorthEastern, Momos',\n",
              "       'Desserts, Cafe, Beverages, Burger, FastFood',\n",
              "       'Hyderabadi, Chinese, Mughlai', 'Asian, Sushi', 'Chinese, Seafood',\n",
              "       'FastFood, Salad', 'Bakery, Mithai',\n",
              "       'Thai, Asian, Chinese, Malaysian'], dtype=object)"
            ]
          },
          "metadata": {},
          "execution_count": 7
        }
      ]
    },
    {
      "cell_type": "code",
      "source": [
        "# Info\n",
        "df.info()"
      ],
      "metadata": {
        "colab": {
          "base_uri": "https://localhost:8080/"
        },
        "id": "f8B_Qz88wjqw",
        "outputId": "4cf78335-7b32-4ce1-88d5-8e4fd1c3c2ea"
      },
      "execution_count": 8,
      "outputs": [
        {
          "output_type": "stream",
          "name": "stdout",
          "text": [
            "<class 'pandas.core.frame.DataFrame'>\n",
            "RangeIndex: 105 entries, 0 to 104\n",
            "Data columns (total 6 columns):\n",
            " #   Column       Non-Null Count  Dtype \n",
            "---  ------       --------------  ----- \n",
            " 0   Name         105 non-null    object\n",
            " 1   Links        105 non-null    object\n",
            " 2   Cost         105 non-null    object\n",
            " 3   Collections  51 non-null     object\n",
            " 4   Cuisines     105 non-null    object\n",
            " 5   Timings      104 non-null    object\n",
            "dtypes: object(6)\n",
            "memory usage: 5.0+ KB\n"
          ]
        }
      ]
    },
    {
      "cell_type": "code",
      "source": [
        "# Null values\n",
        "# Percentage of null values for each features\n",
        "# print(list(df.columns))\n",
        "\n",
        "for col in list(df.columns):\n",
        "  if ((df[col].isnull().sum())/(len(df[col]))*100) > 50:\n",
        "    # print((df[col].isnull().sum())/(len(df[col]))*100)\n",
        "    print(col)\n",
        "\n",
        "# As in the feature 'Collections' more than 50% of the observations are NULL values, so feature 'Collections' is droppped"
      ],
      "metadata": {
        "colab": {
          "base_uri": "https://localhost:8080/"
        },
        "id": "MFPXlLkFe4-Y",
        "outputId": "69c29e83-680d-4545-ff1d-edb64c79a95f"
      },
      "execution_count": 9,
      "outputs": [
        {
          "output_type": "stream",
          "name": "stdout",
          "text": [
            "Collections\n"
          ]
        }
      ]
    },
    {
      "cell_type": "code",
      "source": [
        "# Dropping the 'Collections' feature\n",
        "df.drop(columns = 'Collections',axis =1,inplace = True)\n",
        "\n",
        "# Removing the observations with null values in 'Timings' feature\n",
        "df.dropna(axis = 0,inplace = True)\n",
        "\n",
        "# Print\n",
        "print(df.shape)\n",
        "print(df.info())"
      ],
      "metadata": {
        "colab": {
          "base_uri": "https://localhost:8080/"
        },
        "id": "2_IfD8T6oAE8",
        "outputId": "a1543124-3ffb-4ed8-820c-e3e9457ae437"
      },
      "execution_count": 10,
      "outputs": [
        {
          "output_type": "stream",
          "name": "stdout",
          "text": [
            "(104, 5)\n",
            "<class 'pandas.core.frame.DataFrame'>\n",
            "Int64Index: 104 entries, 0 to 104\n",
            "Data columns (total 5 columns):\n",
            " #   Column    Non-Null Count  Dtype \n",
            "---  ------    --------------  ----- \n",
            " 0   Name      104 non-null    object\n",
            " 1   Links     104 non-null    object\n",
            " 2   Cost      104 non-null    object\n",
            " 3   Cuisines  104 non-null    object\n",
            " 4   Timings   104 non-null    object\n",
            "dtypes: object(5)\n",
            "memory usage: 4.9+ KB\n",
            "None\n"
          ]
        }
      ]
    },
    {
      "cell_type": "code",
      "source": [
        "# Summary\n",
        "df.describe()"
      ],
      "metadata": {
        "colab": {
          "base_uri": "https://localhost:8080/",
          "height": 175
        },
        "id": "GeUKy055w608",
        "outputId": "a0164fac-9a1a-4450-cdf0-21e0b6bc505c"
      },
      "execution_count": 11,
      "outputs": [
        {
          "output_type": "execute_result",
          "data": {
            "text/plain": [
              "                   Name                                              Links  \\\n",
              "count               104                                                104   \n",
              "unique              104                                                104   \n",
              "top     Beyond Flavours  https://www.zomato.com/hyderabad/beyond-flavou...   \n",
              "freq                  1                                                  1   \n",
              "\n",
              "       Cost              Cuisines         Timings  \n",
              "count   104                   104             104  \n",
              "unique   29                    91              77  \n",
              "top     500  NorthIndian, Chinese  11 AM to 11 PM  \n",
              "freq     13                     4               6  "
            ],
            "text/html": [
              "\n",
              "  <div id=\"df-c9e2766f-beb2-4650-ac2b-18a992d65def\">\n",
              "    <div class=\"colab-df-container\">\n",
              "      <div>\n",
              "<style scoped>\n",
              "    .dataframe tbody tr th:only-of-type {\n",
              "        vertical-align: middle;\n",
              "    }\n",
              "\n",
              "    .dataframe tbody tr th {\n",
              "        vertical-align: top;\n",
              "    }\n",
              "\n",
              "    .dataframe thead th {\n",
              "        text-align: right;\n",
              "    }\n",
              "</style>\n",
              "<table border=\"1\" class=\"dataframe\">\n",
              "  <thead>\n",
              "    <tr style=\"text-align: right;\">\n",
              "      <th></th>\n",
              "      <th>Name</th>\n",
              "      <th>Links</th>\n",
              "      <th>Cost</th>\n",
              "      <th>Cuisines</th>\n",
              "      <th>Timings</th>\n",
              "    </tr>\n",
              "  </thead>\n",
              "  <tbody>\n",
              "    <tr>\n",
              "      <th>count</th>\n",
              "      <td>104</td>\n",
              "      <td>104</td>\n",
              "      <td>104</td>\n",
              "      <td>104</td>\n",
              "      <td>104</td>\n",
              "    </tr>\n",
              "    <tr>\n",
              "      <th>unique</th>\n",
              "      <td>104</td>\n",
              "      <td>104</td>\n",
              "      <td>29</td>\n",
              "      <td>91</td>\n",
              "      <td>77</td>\n",
              "    </tr>\n",
              "    <tr>\n",
              "      <th>top</th>\n",
              "      <td>Beyond Flavours</td>\n",
              "      <td>https://www.zomato.com/hyderabad/beyond-flavou...</td>\n",
              "      <td>500</td>\n",
              "      <td>NorthIndian, Chinese</td>\n",
              "      <td>11 AM to 11 PM</td>\n",
              "    </tr>\n",
              "    <tr>\n",
              "      <th>freq</th>\n",
              "      <td>1</td>\n",
              "      <td>1</td>\n",
              "      <td>13</td>\n",
              "      <td>4</td>\n",
              "      <td>6</td>\n",
              "    </tr>\n",
              "  </tbody>\n",
              "</table>\n",
              "</div>\n",
              "      <button class=\"colab-df-convert\" onclick=\"convertToInteractive('df-c9e2766f-beb2-4650-ac2b-18a992d65def')\"\n",
              "              title=\"Convert this dataframe to an interactive table.\"\n",
              "              style=\"display:none;\">\n",
              "        \n",
              "  <svg xmlns=\"http://www.w3.org/2000/svg\" height=\"24px\"viewBox=\"0 0 24 24\"\n",
              "       width=\"24px\">\n",
              "    <path d=\"M0 0h24v24H0V0z\" fill=\"none\"/>\n",
              "    <path d=\"M18.56 5.44l.94 2.06.94-2.06 2.06-.94-2.06-.94-.94-2.06-.94 2.06-2.06.94zm-11 1L8.5 8.5l.94-2.06 2.06-.94-2.06-.94L8.5 2.5l-.94 2.06-2.06.94zm10 10l.94 2.06.94-2.06 2.06-.94-2.06-.94-.94-2.06-.94 2.06-2.06.94z\"/><path d=\"M17.41 7.96l-1.37-1.37c-.4-.4-.92-.59-1.43-.59-.52 0-1.04.2-1.43.59L10.3 9.45l-7.72 7.72c-.78.78-.78 2.05 0 2.83L4 21.41c.39.39.9.59 1.41.59.51 0 1.02-.2 1.41-.59l7.78-7.78 2.81-2.81c.8-.78.8-2.07 0-2.86zM5.41 20L4 18.59l7.72-7.72 1.47 1.35L5.41 20z\"/>\n",
              "  </svg>\n",
              "      </button>\n",
              "      \n",
              "  <style>\n",
              "    .colab-df-container {\n",
              "      display:flex;\n",
              "      flex-wrap:wrap;\n",
              "      gap: 12px;\n",
              "    }\n",
              "\n",
              "    .colab-df-convert {\n",
              "      background-color: #E8F0FE;\n",
              "      border: none;\n",
              "      border-radius: 50%;\n",
              "      cursor: pointer;\n",
              "      display: none;\n",
              "      fill: #1967D2;\n",
              "      height: 32px;\n",
              "      padding: 0 0 0 0;\n",
              "      width: 32px;\n",
              "    }\n",
              "\n",
              "    .colab-df-convert:hover {\n",
              "      background-color: #E2EBFA;\n",
              "      box-shadow: 0px 1px 2px rgba(60, 64, 67, 0.3), 0px 1px 3px 1px rgba(60, 64, 67, 0.15);\n",
              "      fill: #174EA6;\n",
              "    }\n",
              "\n",
              "    [theme=dark] .colab-df-convert {\n",
              "      background-color: #3B4455;\n",
              "      fill: #D2E3FC;\n",
              "    }\n",
              "\n",
              "    [theme=dark] .colab-df-convert:hover {\n",
              "      background-color: #434B5C;\n",
              "      box-shadow: 0px 1px 3px 1px rgba(0, 0, 0, 0.15);\n",
              "      filter: drop-shadow(0px 1px 2px rgba(0, 0, 0, 0.3));\n",
              "      fill: #FFFFFF;\n",
              "    }\n",
              "  </style>\n",
              "\n",
              "      <script>\n",
              "        const buttonEl =\n",
              "          document.querySelector('#df-c9e2766f-beb2-4650-ac2b-18a992d65def button.colab-df-convert');\n",
              "        buttonEl.style.display =\n",
              "          google.colab.kernel.accessAllowed ? 'block' : 'none';\n",
              "\n",
              "        async function convertToInteractive(key) {\n",
              "          const element = document.querySelector('#df-c9e2766f-beb2-4650-ac2b-18a992d65def');\n",
              "          const dataTable =\n",
              "            await google.colab.kernel.invokeFunction('convertToInteractive',\n",
              "                                                     [key], {});\n",
              "          if (!dataTable) return;\n",
              "\n",
              "          const docLinkHtml = 'Like what you see? Visit the ' +\n",
              "            '<a target=\"_blank\" href=https://colab.research.google.com/notebooks/data_table.ipynb>data table notebook</a>'\n",
              "            + ' to learn more about interactive tables.';\n",
              "          element.innerHTML = '';\n",
              "          dataTable['output_type'] = 'display_data';\n",
              "          await google.colab.output.renderOutput(dataTable, element);\n",
              "          const docLink = document.createElement('div');\n",
              "          docLink.innerHTML = docLinkHtml;\n",
              "          element.appendChild(docLink);\n",
              "        }\n",
              "      </script>\n",
              "    </div>\n",
              "  </div>\n",
              "  "
            ]
          },
          "metadata": {},
          "execution_count": 11
        }
      ]
    },
    {
      "cell_type": "code",
      "source": [
        "# Tokenizer\n",
        "tokenizer = Tokenizer(num_words=\"MAX_NB_WORDS\")\n",
        "tokenizer.fit_on_texts(df[['Cuisines','Links','Timings']])"
      ],
      "metadata": {
        "id": "w1JXvoSTsLnR"
      },
      "execution_count": 12,
      "outputs": []
    },
    {
      "cell_type": "code",
      "source": [
        "# Functions\n",
        "def remove_non_ascii(words):\n",
        "    \"\"\"Remove non-ASCII characters from list of tokenized words\"\"\"\n",
        "    new_words = []\n",
        "    for word in words:\n",
        "        new_word = unicodedata.normalize('NFKD', word).encode('ascii', 'ignore').decode('utf-8', 'ignore')\n",
        "        new_words.append(new_word)\n",
        "    return new_words\n",
        "\n",
        "def to_lowercase(words):\n",
        "    \"\"\"Convert all characters to lowercase from list of tokenized words\"\"\"\n",
        "    new_words = []\n",
        "    for word in words:\n",
        "        new_word = word.lower()\n",
        "        new_words.append(new_word)\n",
        "    return new_words\n",
        "\n",
        "def remove_punctuation(words):\n",
        "    \"\"\"Remove punctuation from list of tokenized words\"\"\"\n",
        "    new_words = []\n",
        "    for word in words:\n",
        "        new_word = re.sub(r'[^\\w\\s]', '', word)\n",
        "        if new_word != '':\n",
        "            new_words.append(new_word)\n",
        "    return new_words\n",
        "\n",
        "def replace_numbers(words):\n",
        "    \"\"\"Replace all interger occurrences in list of tokenized words with textual representation\"\"\"\n",
        "    p = inflect.engine()\n",
        "    new_words = []\n",
        "    for word in words:\n",
        "        if word.isdigit():\n",
        "            new_word = p.number_to_words(word)\n",
        "            new_words.append(new_word)\n",
        "        else:\n",
        "            new_words.append(word)\n",
        "    return new_words\n",
        "\n",
        "def stem_words(words):\n",
        "    \"\"\"Stem words in list of tokenized words\"\"\"\n",
        "    stemmer = LancasterStemmer()\n",
        "    stems = []\n",
        "    for word in words:\n",
        "        stem = stemmer.stem(word)\n",
        "        stems.append(stem)\n",
        "    return stems\n",
        "\n",
        "def lemmatize_verbs(words):\n",
        "    \"\"\"Lemmatize verbs in list of tokenized words\"\"\"\n",
        "    lemmatizer = WordNetLemmatizer()\n",
        "    lemmas = []\n",
        "    for word in words:\n",
        "        lemma = lemmatizer.lemmatize(word, pos='v')\n",
        "        lemmas.append(lemma)\n",
        "    return lemmas\n",
        "\n",
        "def normalize(words):\n",
        "    words = remove_non_ascii(words)\n",
        "    words = to_lowercase(words)\n",
        "    words = remove_punctuation(words)\n",
        "    words = replace_numbers(words)\n",
        "    return words\n",
        "\n",
        "col_lsts = ['Links','Cuisines','Timings']\n",
        "for col_lst in col_lsts:\n",
        "  df[col_lst] = normalize(df[col_lst])"
      ],
      "metadata": {
        "id": "ez2tnI8Csi1f"
      },
      "execution_count": 13,
      "outputs": []
    },
    {
      "cell_type": "code",
      "source": [
        "df.head()"
      ],
      "metadata": {
        "colab": {
          "base_uri": "https://localhost:8080/",
          "height": 320
        },
        "id": "-6cxePQLycMY",
        "outputId": "0b79bff5-e74a-4a96-d77e-48e7beec0ee2"
      },
      "execution_count": 14,
      "outputs": [
        {
          "output_type": "execute_result",
          "data": {
            "text/plain": [
              "                             Name  \\\n",
              "0                 Beyond Flavours   \n",
              "1                        Paradise   \n",
              "2                        Flechazo   \n",
              "3  Shah Ghouse Hotel & Restaurant   \n",
              "4      Over The Moon Brew Company   \n",
              "\n",
              "                                               Links   Cost  \\\n",
              "0  httpswwwzomatocomhyderabadbeyondflavoursgachib...    800   \n",
              "1       httpswwwzomatocomhyderabadparadisegachibowli    800   \n",
              "2       httpswwwzomatocomhyderabadflechazogachibowli  1,300   \n",
              "3  httpswwwzomatocomhyderabadshahghousehotelresta...    800   \n",
              "4  httpswwwzomatocomhyderabadoverthemoonbrewcompa...  1,200   \n",
              "\n",
              "                                            Cuisines  \\\n",
              "0  chinese continental kebab european southindian...   \n",
              "1                        biryani northindian chinese   \n",
              "2           asian mediterranean northindian desserts   \n",
              "3      biryani northindian chinese seafood beverages   \n",
              "4  asian continental northindian chinese mediterr...   \n",
              "\n",
              "                                             Timings  \n",
              "0             12noon to 330pm 630pm to 1130pm monsun  \n",
              "1                                     11 am to 11 pm  \n",
              "2                  1130 am to 430 pm 630 pm to 11 pm  \n",
              "3                                    12 noon to 2 am  \n",
              "4  12noon to 11pm mon tue wed thu sun 12noon to 1...  "
            ],
            "text/html": [
              "\n",
              "  <div id=\"df-39b96cca-7afc-434a-a657-f54887bb0066\">\n",
              "    <div class=\"colab-df-container\">\n",
              "      <div>\n",
              "<style scoped>\n",
              "    .dataframe tbody tr th:only-of-type {\n",
              "        vertical-align: middle;\n",
              "    }\n",
              "\n",
              "    .dataframe tbody tr th {\n",
              "        vertical-align: top;\n",
              "    }\n",
              "\n",
              "    .dataframe thead th {\n",
              "        text-align: right;\n",
              "    }\n",
              "</style>\n",
              "<table border=\"1\" class=\"dataframe\">\n",
              "  <thead>\n",
              "    <tr style=\"text-align: right;\">\n",
              "      <th></th>\n",
              "      <th>Name</th>\n",
              "      <th>Links</th>\n",
              "      <th>Cost</th>\n",
              "      <th>Cuisines</th>\n",
              "      <th>Timings</th>\n",
              "    </tr>\n",
              "  </thead>\n",
              "  <tbody>\n",
              "    <tr>\n",
              "      <th>0</th>\n",
              "      <td>Beyond Flavours</td>\n",
              "      <td>httpswwwzomatocomhyderabadbeyondflavoursgachib...</td>\n",
              "      <td>800</td>\n",
              "      <td>chinese continental kebab european southindian...</td>\n",
              "      <td>12noon to 330pm 630pm to 1130pm monsun</td>\n",
              "    </tr>\n",
              "    <tr>\n",
              "      <th>1</th>\n",
              "      <td>Paradise</td>\n",
              "      <td>httpswwwzomatocomhyderabadparadisegachibowli</td>\n",
              "      <td>800</td>\n",
              "      <td>biryani northindian chinese</td>\n",
              "      <td>11 am to 11 pm</td>\n",
              "    </tr>\n",
              "    <tr>\n",
              "      <th>2</th>\n",
              "      <td>Flechazo</td>\n",
              "      <td>httpswwwzomatocomhyderabadflechazogachibowli</td>\n",
              "      <td>1,300</td>\n",
              "      <td>asian mediterranean northindian desserts</td>\n",
              "      <td>1130 am to 430 pm 630 pm to 11 pm</td>\n",
              "    </tr>\n",
              "    <tr>\n",
              "      <th>3</th>\n",
              "      <td>Shah Ghouse Hotel &amp; Restaurant</td>\n",
              "      <td>httpswwwzomatocomhyderabadshahghousehotelresta...</td>\n",
              "      <td>800</td>\n",
              "      <td>biryani northindian chinese seafood beverages</td>\n",
              "      <td>12 noon to 2 am</td>\n",
              "    </tr>\n",
              "    <tr>\n",
              "      <th>4</th>\n",
              "      <td>Over The Moon Brew Company</td>\n",
              "      <td>httpswwwzomatocomhyderabadoverthemoonbrewcompa...</td>\n",
              "      <td>1,200</td>\n",
              "      <td>asian continental northindian chinese mediterr...</td>\n",
              "      <td>12noon to 11pm mon tue wed thu sun 12noon to 1...</td>\n",
              "    </tr>\n",
              "  </tbody>\n",
              "</table>\n",
              "</div>\n",
              "      <button class=\"colab-df-convert\" onclick=\"convertToInteractive('df-39b96cca-7afc-434a-a657-f54887bb0066')\"\n",
              "              title=\"Convert this dataframe to an interactive table.\"\n",
              "              style=\"display:none;\">\n",
              "        \n",
              "  <svg xmlns=\"http://www.w3.org/2000/svg\" height=\"24px\"viewBox=\"0 0 24 24\"\n",
              "       width=\"24px\">\n",
              "    <path d=\"M0 0h24v24H0V0z\" fill=\"none\"/>\n",
              "    <path d=\"M18.56 5.44l.94 2.06.94-2.06 2.06-.94-2.06-.94-.94-2.06-.94 2.06-2.06.94zm-11 1L8.5 8.5l.94-2.06 2.06-.94-2.06-.94L8.5 2.5l-.94 2.06-2.06.94zm10 10l.94 2.06.94-2.06 2.06-.94-2.06-.94-.94-2.06-.94 2.06-2.06.94z\"/><path d=\"M17.41 7.96l-1.37-1.37c-.4-.4-.92-.59-1.43-.59-.52 0-1.04.2-1.43.59L10.3 9.45l-7.72 7.72c-.78.78-.78 2.05 0 2.83L4 21.41c.39.39.9.59 1.41.59.51 0 1.02-.2 1.41-.59l7.78-7.78 2.81-2.81c.8-.78.8-2.07 0-2.86zM5.41 20L4 18.59l7.72-7.72 1.47 1.35L5.41 20z\"/>\n",
              "  </svg>\n",
              "      </button>\n",
              "      \n",
              "  <style>\n",
              "    .colab-df-container {\n",
              "      display:flex;\n",
              "      flex-wrap:wrap;\n",
              "      gap: 12px;\n",
              "    }\n",
              "\n",
              "    .colab-df-convert {\n",
              "      background-color: #E8F0FE;\n",
              "      border: none;\n",
              "      border-radius: 50%;\n",
              "      cursor: pointer;\n",
              "      display: none;\n",
              "      fill: #1967D2;\n",
              "      height: 32px;\n",
              "      padding: 0 0 0 0;\n",
              "      width: 32px;\n",
              "    }\n",
              "\n",
              "    .colab-df-convert:hover {\n",
              "      background-color: #E2EBFA;\n",
              "      box-shadow: 0px 1px 2px rgba(60, 64, 67, 0.3), 0px 1px 3px 1px rgba(60, 64, 67, 0.15);\n",
              "      fill: #174EA6;\n",
              "    }\n",
              "\n",
              "    [theme=dark] .colab-df-convert {\n",
              "      background-color: #3B4455;\n",
              "      fill: #D2E3FC;\n",
              "    }\n",
              "\n",
              "    [theme=dark] .colab-df-convert:hover {\n",
              "      background-color: #434B5C;\n",
              "      box-shadow: 0px 1px 3px 1px rgba(0, 0, 0, 0.15);\n",
              "      filter: drop-shadow(0px 1px 2px rgba(0, 0, 0, 0.3));\n",
              "      fill: #FFFFFF;\n",
              "    }\n",
              "  </style>\n",
              "\n",
              "      <script>\n",
              "        const buttonEl =\n",
              "          document.querySelector('#df-39b96cca-7afc-434a-a657-f54887bb0066 button.colab-df-convert');\n",
              "        buttonEl.style.display =\n",
              "          google.colab.kernel.accessAllowed ? 'block' : 'none';\n",
              "\n",
              "        async function convertToInteractive(key) {\n",
              "          const element = document.querySelector('#df-39b96cca-7afc-434a-a657-f54887bb0066');\n",
              "          const dataTable =\n",
              "            await google.colab.kernel.invokeFunction('convertToInteractive',\n",
              "                                                     [key], {});\n",
              "          if (!dataTable) return;\n",
              "\n",
              "          const docLinkHtml = 'Like what you see? Visit the ' +\n",
              "            '<a target=\"_blank\" href=https://colab.research.google.com/notebooks/data_table.ipynb>data table notebook</a>'\n",
              "            + ' to learn more about interactive tables.';\n",
              "          element.innerHTML = '';\n",
              "          dataTable['output_type'] = 'display_data';\n",
              "          await google.colab.output.renderOutput(dataTable, element);\n",
              "          const docLink = document.createElement('div');\n",
              "          docLink.innerHTML = docLinkHtml;\n",
              "          element.appendChild(docLink);\n",
              "        }\n",
              "      </script>\n",
              "    </div>\n",
              "  </div>\n",
              "  "
            ]
          },
          "metadata": {},
          "execution_count": 14
        }
      ]
    },
    {
      "cell_type": "code",
      "source": [
        "# Visualization of words from 'Cuisines' feature\n",
        "df['Cuisines']= df['Cuisines'].astype(str)\n",
        "\n",
        "ps = PorterStemmer() \n",
        "df['Cuisines']=df['Cuisines'].map(lambda x: ps.stem(x))\n",
        "long_string = ','.join(list(df['Cuisines'].values))\n",
        "long_string\n",
        "wordcloud = WordCloud(background_color=\"white\", max_words=100, contour_width=3, contour_color='steelblue')\n",
        "wordcloud.generate(long_string)\n",
        "wordcloud.to_image()"
      ],
      "metadata": {
        "colab": {
          "base_uri": "https://localhost:8080/",
          "height": 217
        },
        "id": "5ylYHLJZGMBu",
        "outputId": "c4898c64-b8dc-425a-d71f-05daf4075cc1"
      },
      "execution_count": 15,
      "outputs": [
        {
          "output_type": "execute_result",
          "data": {
            "text/plain": [
              "<PIL.Image.Image image mode=RGB size=400x200 at 0x7FBF84300E90>"
            ],
            "image/png": "[encoded data removed]"
          },
          "metadata": {},
          "execution_count": 15
        }
      ]
    },
    {
      "cell_type": "code",
      "source": [
        "pd.DataFrame(df.Cuisines.unique())"
      ],
      "metadata": {
        "colab": {
          "base_uri": "https://localhost:8080/",
          "height": 424
        },
        "id": "7g1QK0D08TsI",
        "outputId": "25828163-4f84-4d1b-f389-a75f2e1afc2e"
      },
      "execution_count": 16,
      "outputs": [
        {
          "output_type": "execute_result",
          "data": {
            "text/plain": [
              "                                                    0\n",
              "0   chinese continental kebab european southindian...\n",
              "1                          biryani northindian chines\n",
              "2             asian mediterranean northindian dessert\n",
              "3         biryani northindian chinese seafood beverag\n",
              "4   asian continental northindian chinese mediterr...\n",
              "..                                                ...\n",
              "86                                        asian sushi\n",
              "87                                    chinese seafood\n",
              "88                                     fastfood salad\n",
              "89                                      bakery mithai\n",
              "90                       thai asian chinese malaysian\n",
              "\n",
              "[91 rows x 1 columns]"
            ],
            "text/html": [
              "\n",
              "  <div id=\"df-61d1f9d0-3b44-4147-8c67-a362a8ca3663\">\n",
              "    <div class=\"colab-df-container\">\n",
              "      <div>\n",
              "<style scoped>\n",
              "    .dataframe tbody tr th:only-of-type {\n",
              "        vertical-align: middle;\n",
              "    }\n",
              "\n",
              "    .dataframe tbody tr th {\n",
              "        vertical-align: top;\n",
              "    }\n",
              "\n",
              "    .dataframe thead th {\n",
              "        text-align: right;\n",
              "    }\n",
              "</style>\n",
              "<table border=\"1\" class=\"dataframe\">\n",
              "  <thead>\n",
              "    <tr style=\"text-align: right;\">\n",
              "      <th></th>\n",
              "      <th>0</th>\n",
              "    </tr>\n",
              "  </thead>\n",
              "  <tbody>\n",
              "    <tr>\n",
              "      <th>0</th>\n",
              "      <td>chinese continental kebab european southindian...</td>\n",
              "    </tr>\n",
              "    <tr>\n",
              "      <th>1</th>\n",
              "      <td>biryani northindian chines</td>\n",
              "    </tr>\n",
              "    <tr>\n",
              "      <th>2</th>\n",
              "      <td>asian mediterranean northindian dessert</td>\n",
              "    </tr>\n",
              "    <tr>\n",
              "      <th>3</th>\n",
              "      <td>biryani northindian chinese seafood beverag</td>\n",
              "    </tr>\n",
              "    <tr>\n",
              "      <th>4</th>\n",
              "      <td>asian continental northindian chinese mediterr...</td>\n",
              "    </tr>\n",
              "    <tr>\n",
              "      <th>...</th>\n",
              "      <td>...</td>\n",
              "    </tr>\n",
              "    <tr>\n",
              "      <th>86</th>\n",
              "      <td>asian sushi</td>\n",
              "    </tr>\n",
              "    <tr>\n",
              "      <th>87</th>\n",
              "      <td>chinese seafood</td>\n",
              "    </tr>\n",
              "    <tr>\n",
              "      <th>88</th>\n",
              "      <td>fastfood salad</td>\n",
              "    </tr>\n",
              "    <tr>\n",
              "      <th>89</th>\n",
              "      <td>bakery mithai</td>\n",
              "    </tr>\n",
              "    <tr>\n",
              "      <th>90</th>\n",
              "      <td>thai asian chinese malaysian</td>\n",
              "    </tr>\n",
              "  </tbody>\n",
              "</table>\n",
              "<p>91 rows × 1 columns</p>\n",
              "</div>\n",
              "      <button class=\"colab-df-convert\" onclick=\"convertToInteractive('df-61d1f9d0-3b44-4147-8c67-a362a8ca3663')\"\n",
              "              title=\"Convert this dataframe to an interactive table.\"\n",
              "              style=\"display:none;\">\n",
              "        \n",
              "  <svg xmlns=\"http://www.w3.org/2000/svg\" height=\"24px\"viewBox=\"0 0 24 24\"\n",
              "       width=\"24px\">\n",
              "    <path d=\"M0 0h24v24H0V0z\" fill=\"none\"/>\n",
              "    <path d=\"M18.56 5.44l.94 2.06.94-2.06 2.06-.94-2.06-.94-.94-2.06-.94 2.06-2.06.94zm-11 1L8.5 8.5l.94-2.06 2.06-.94-2.06-.94L8.5 2.5l-.94 2.06-2.06.94zm10 10l.94 2.06.94-2.06 2.06-.94-2.06-.94-.94-2.06-.94 2.06-2.06.94z\"/><path d=\"M17.41 7.96l-1.37-1.37c-.4-.4-.92-.59-1.43-.59-.52 0-1.04.2-1.43.59L10.3 9.45l-7.72 7.72c-.78.78-.78 2.05 0 2.83L4 21.41c.39.39.9.59 1.41.59.51 0 1.02-.2 1.41-.59l7.78-7.78 2.81-2.81c.8-.78.8-2.07 0-2.86zM5.41 20L4 18.59l7.72-7.72 1.47 1.35L5.41 20z\"/>\n",
              "  </svg>\n",
              "      </button>\n",
              "      \n",
              "  <style>\n",
              "    .colab-df-container {\n",
              "      display:flex;\n",
              "      flex-wrap:wrap;\n",
              "      gap: 12px;\n",
              "    }\n",
              "\n",
              "    .colab-df-convert {\n",
              "      background-color: #E8F0FE;\n",
              "      border: none;\n",
              "      border-radius: 50%;\n",
              "      cursor: pointer;\n",
              "      display: none;\n",
              "      fill: #1967D2;\n",
              "      height: 32px;\n",
              "      padding: 0 0 0 0;\n",
              "      width: 32px;\n",
              "    }\n",
              "\n",
              "    .colab-df-convert:hover {\n",
              "      background-color: #E2EBFA;\n",
              "      box-shadow: 0px 1px 2px rgba(60, 64, 67, 0.3), 0px 1px 3px 1px rgba(60, 64, 67, 0.15);\n",
              "      fill: #174EA6;\n",
              "    }\n",
              "\n",
              "    [theme=dark] .colab-df-convert {\n",
              "      background-color: #3B4455;\n",
              "      fill: #D2E3FC;\n",
              "    }\n",
              "\n",
              "    [theme=dark] .colab-df-convert:hover {\n",
              "      background-color: #434B5C;\n",
              "      box-shadow: 0px 1px 3px 1px rgba(0, 0, 0, 0.15);\n",
              "      filter: drop-shadow(0px 1px 2px rgba(0, 0, 0, 0.3));\n",
              "      fill: #FFFFFF;\n",
              "    }\n",
              "  </style>\n",
              "\n",
              "      <script>\n",
              "        const buttonEl =\n",
              "          document.querySelector('#df-61d1f9d0-3b44-4147-8c67-a362a8ca3663 button.colab-df-convert');\n",
              "        buttonEl.style.display =\n",
              "          google.colab.kernel.accessAllowed ? 'block' : 'none';\n",
              "\n",
              "        async function convertToInteractive(key) {\n",
              "          const element = document.querySelector('#df-61d1f9d0-3b44-4147-8c67-a362a8ca3663');\n",
              "          const dataTable =\n",
              "            await google.colab.kernel.invokeFunction('convertToInteractive',\n",
              "                                                     [key], {});\n",
              "          if (!dataTable) return;\n",
              "\n",
              "          const docLinkHtml = 'Like what you see? Visit the ' +\n",
              "            '<a target=\"_blank\" href=https://colab.research.google.com/notebooks/data_table.ipynb>data table notebook</a>'\n",
              "            + ' to learn more about interactive tables.';\n",
              "          element.innerHTML = '';\n",
              "          dataTable['output_type'] = 'display_data';\n",
              "          await google.colab.output.renderOutput(dataTable, element);\n",
              "          const docLink = document.createElement('div');\n",
              "          docLink.innerHTML = docLinkHtml;\n",
              "          element.appendChild(docLink);\n",
              "        }\n",
              "      </script>\n",
              "    </div>\n",
              "  </div>\n",
              "  "
            ]
          },
          "metadata": {},
          "execution_count": 16
        }
      ]
    },
    {
      "cell_type": "code",
      "source": [
        "# Tfidf vectorizer\n",
        "vectorizer = TfidfVectorizer(stop_words= 'english')\n",
        "\n",
        "X = vectorizer.fit_transform(df['Cuisines'])"
      ],
      "metadata": {
        "id": "3-Xx1Zvi_4ij"
      },
      "execution_count": 17,
      "outputs": []
    },
    {
      "cell_type": "code",
      "source": [
        ""
      ],
      "metadata": {
        "id": "Wi0fOQmI11Kt"
      },
      "execution_count": null,
      "outputs": []
    },
    {
      "cell_type": "code",
      "source": [
        "X.shape\n",
        "# we have 50 unique words"
      ],
      "metadata": {
        "colab": {
          "base_uri": "https://localhost:8080/"
        },
        "id": "CobvJJDVGyL-",
        "outputId": "73a28cbc-8cfb-43aa-ada7-bfabf4264043"
      },
      "execution_count": 18,
      "outputs": [
        {
          "output_type": "execute_result",
          "data": {
            "text/plain": [
              "(104, 50)"
            ]
          },
          "metadata": {},
          "execution_count": 18
        }
      ]
    },
    {
      "cell_type": "code",
      "source": [
        "# Type of X object\n",
        "type(X)"
      ],
      "metadata": {
        "colab": {
          "base_uri": "https://localhost:8080/"
        },
        "id": "PWMimfwI85EY",
        "outputId": "0bac5a42-3a28-4668-ae75-ca1afd40c62d"
      },
      "execution_count": 19,
      "outputs": [
        {
          "output_type": "execute_result",
          "data": {
            "text/plain": [
              "scipy.sparse.csr.csr_matrix"
            ]
          },
          "metadata": {},
          "execution_count": 19
        }
      ]
    },
    {
      "cell_type": "code",
      "source": [
        "# Converting 'X' object to array\n",
        "X = X.toarray()"
      ],
      "metadata": {
        "id": "BK8puEDd8nmY"
      },
      "execution_count": 20,
      "outputs": []
    },
    {
      "cell_type": "code",
      "source": [
        "type(X)"
      ],
      "metadata": {
        "colab": {
          "base_uri": "https://localhost:8080/"
        },
        "id": "3sU-jpjXRfbi",
        "outputId": "6de20936-fd4b-4bc0-dd73-9a76e7427db4"
      },
      "execution_count": 21,
      "outputs": [
        {
          "output_type": "execute_result",
          "data": {
            "text/plain": [
              "numpy.ndarray"
            ]
          },
          "metadata": {},
          "execution_count": 21
        }
      ]
    },
    {
      "cell_type": "code",
      "source": [
        "# Elbow method to find appropriate 'K' value"
      ],
      "metadata": {
        "id": "957qzmTQZDmY"
      },
      "execution_count": 22,
      "outputs": []
    },
    {
      "cell_type": "code",
      "source": [
        "# 'k-means++' would initialize the centroids far from each other because intialize the centroids nearby could lead to improper clustering"
      ],
      "metadata": {
        "id": "Ge349kJyZfls"
      },
      "execution_count": 23,
      "outputs": []
    },
    {
      "cell_type": "code",
      "source": [
        "# KElbowvisualizer with metric as 'distortion\n",
        "\n",
        "model = KMeans(init=\"k-means++\",max_iter=300,random_state=0)\n",
        "visualizer = KElbowVisualizer(model, k=(2,20),metric= 'distortion', timings= True, locate_elbow= True)\n",
        "\n",
        "visualizer.fit(X)    # Fit the data to the visualizer\n",
        "visualizer.poof()"
      ],
      "metadata": {
        "colab": {
          "base_uri": "https://localhost:8080/",
          "height": 311
        },
        "id": "geNAeXIW4wbS",
        "outputId": "f73223c7-59d7-4df7-ff93-4f571ada0f65"
      },
      "execution_count": 24,
      "outputs": [
        {
          "output_type": "display_data",
          "data": {
            "text/plain": [
              "<Figure size 432x288 with 2 Axes>"
            ],
            "image/png": "[encoded data removed]"
          },
          "metadata": {}
        },
        {
          "output_type": "execute_result",
          "data": {
            "text/plain": [
              "<matplotlib.axes._subplots.AxesSubplot at 0x7fbf8421c390>"
            ]
          },
          "metadata": {},
          "execution_count": 24
        }
      ]
    },
    {
      "cell_type": "code",
      "source": [
        "# KElbowvisualizer with metric as 'calinski_harabasz'\n",
        "\n",
        "model = KMeans(init=\"k-means++\",max_iter=300,random_state=0)\n",
        "visualizer = KElbowVisualizer(model, k=(2,20),metric= 'calinski_harabasz', timings= False, locate_elbow= True)\n",
        "\n",
        "visualizer.fit(X)    # Fit the data to the visualizer\n",
        "visualizer.poof()"
      ],
      "metadata": {
        "colab": {
          "base_uri": "https://localhost:8080/",
          "height": 311
        },
        "id": "07wt-GQQ5LzN",
        "outputId": "fc358014-b388-44c7-af9c-1b15fddde04f"
      },
      "execution_count": 25,
      "outputs": [
        {
          "output_type": "display_data",
          "data": {
            "text/plain": [
              "<Figure size 432x288 with 1 Axes>"
            ],
            "image/png": "[encoded data removed]"
          },
          "metadata": {
            "needs_background": "light"
          }
        },
        {
          "output_type": "execute_result",
          "data": {
            "text/plain": [
              "<matplotlib.axes._subplots.AxesSubplot at 0x7fbf80b64c50>"
            ]
          },
          "metadata": {},
          "execution_count": 25
        }
      ]
    },
    {
      "cell_type": "code",
      "source": [
        "# # KElbowvisualizer with metric as 'silhouette'\n",
        "model = KMeans(init=\"k-means++\",max_iter=300,random_state=0)\n",
        "visualizer = KElbowVisualizer(model, k=(2,20), metric='silhouette', timings=False, locate_elbow=True)\n",
        "\n",
        "visualizer.fit(X)    # Fit the data to the visualizer\n",
        "visualizer.poof()"
      ],
      "metadata": {
        "colab": {
          "base_uri": "https://localhost:8080/",
          "height": 311
        },
        "id": "kAWyo92M6lKh",
        "outputId": "05349883-f3bb-40ac-bafe-54fea2d988ce"
      },
      "execution_count": 26,
      "outputs": [
        {
          "output_type": "display_data",
          "data": {
            "text/plain": [
              "<Figure size 432x288 with 1 Axes>"
            ],
            "image/png": "[encoded data removed]"
          },
          "metadata": {
            "needs_background": "light"
          }
        },
        {
          "output_type": "execute_result",
          "data": {
            "text/plain": [
              "<matplotlib.axes._subplots.AxesSubplot at 0x7fbf80b0be90>"
            ]
          },
          "metadata": {},
          "execution_count": 26
        }
      ]
    },
    {
      "cell_type": "code",
      "source": [
        "# Eblow method\n",
        "wcss = []\n",
        "for i in range(2,20):\n",
        "  kmeans = KMeans(n_clusters =i,init='k-means++',random_state=0)\n",
        "  kmeans.fit(X)\n",
        "  wcss.append(kmeans.inertia_)\n",
        "\n",
        "plt.plot(range(2,20),wcss)\n",
        "plt.title('The Elbow method')\n",
        "plt.xlabel('Number of clusters')\n",
        "plt.ylabel('WCSS')\n",
        "plt.show()"
      ],
      "metadata": {
        "colab": {
          "base_uri": "https://localhost:8080/",
          "height": 294
        },
        "id": "3Sgs6bMh61hr",
        "outputId": "b333dc07-202e-4190-a7af-6c550eb73638"
      },
      "execution_count": 27,
      "outputs": [
        {
          "output_type": "display_data",
          "data": {
            "text/plain": [
              "<Figure size 432x288 with 1 Axes>"
            ],
            "image/png": "[encoded data removed]"
          },
          "metadata": {
            "needs_background": "light"
          }
        }
      ]
    },
    {
      "cell_type": "code",
      "source": [
        "# looks like we can go with k clusters.\n",
        "\n",
        "kmeans= KMeans(n_clusters=26, init= 'k-means++',max_iter=300, n_init=1,random_state = 0)\n",
        "\n",
        "kmeans.fit(X)"
      ],
      "metadata": {
        "colab": {
          "base_uri": "https://localhost:8080/"
        },
        "id": "ggTWPDZK_POD",
        "outputId": "ebb58d81-9c89-4cad-e5ee-7b12c7252d8e"
      },
      "execution_count": 28,
      "outputs": [
        {
          "output_type": "execute_result",
          "data": {
            "text/plain": [
              "KMeans(n_clusters=26, n_init=1, random_state=0)"
            ]
          },
          "metadata": {},
          "execution_count": 28
        }
      ]
    },
    {
      "cell_type": "code",
      "source": [
        "#predict the labels of clusters.\n",
        "labels = kmeans.fit_predict(X)"
      ],
      "metadata": {
        "id": "pKjY5wXF_PSh"
      },
      "execution_count": 29,
      "outputs": []
    },
    {
      "cell_type": "code",
      "source": [
        "# Clusters center\n",
        "clusters_center = kmeans.cluster_centers_"
      ],
      "metadata": {
        "id": "erg10KWXXUle"
      },
      "execution_count": 30,
      "outputs": []
    },
    {
      "cell_type": "code",
      "source": [
        "# clusters_center"
      ],
      "metadata": {
        "id": "4zJ31IDMXexR"
      },
      "execution_count": 31,
      "outputs": []
    },
    {
      "cell_type": "code",
      "source": [
        "# test a new text\n",
        "\n",
        "X_new= vectorizer.transform([df['Cuisines'][26]])\n",
        "\n",
        "y_pred_new= kmeans.predict(X_new)[0]\n",
        "\n",
        "y_pred_new"
      ],
      "metadata": {
        "colab": {
          "base_uri": "https://localhost:8080/"
        },
        "id": "6KJulKin_PW5",
        "outputId": "d54e569f-d37c-4337-bf56-de3950d4b8f9"
      },
      "execution_count": 32,
      "outputs": [
        {
          "output_type": "execute_result",
          "data": {
            "text/plain": [
              "1"
            ]
          },
          "metadata": {},
          "execution_count": 32
        }
      ]
    },
    {
      "cell_type": "code",
      "source": [
        "# Silhouette score is for model validation for K-means,Hierarichical clustering.\n",
        "# Silhouette Coefficient ranges between -1 to +1.\n",
        "# Higher the Silhouette Coefficient better the clustering."
      ],
      "metadata": {
        "id": "5jzY0wFKZ84y"
      },
      "execution_count": 33,
      "outputs": []
    },
    {
      "cell_type": "code",
      "source": [
        "# Model Validation\n",
        "# silhouette score of my clusters\n",
        "print(\"Silhouette Coefficient: %0.3f\"%silhouette_score(X, kmeans.labels_))"
      ],
      "metadata": {
        "colab": {
          "base_uri": "https://localhost:8080/"
        },
        "id": "pa7aah3L_vRM",
        "outputId": "7e65a09c-ea43-42e6-fa54-13469b86f90c"
      },
      "execution_count": 34,
      "outputs": [
        {
          "output_type": "stream",
          "name": "stdout",
          "text": [
            "Silhouette Coefficient: 0.250\n"
          ]
        }
      ]
    },
    {
      "cell_type": "code",
      "source": [
        "# Evaluation\n",
        "# range_n_clusters = [11, 12, 13, 14, 15, 16, 17, 18, 19, 20, 21, 22, 23, 24, 25, 26]\n",
        "range_n_clusters = [ 6, 7, 8, 9, 10, 11, 12, 13, 14, 15, 16, 17, 18, 19, 20, 21, 22, 23, 24, 25, 26]\n",
        "for n_clusters in range_n_clusters:\n",
        "    # Initialize the clusterer with n_clusters value and a random generator\n",
        "    # seed of 10 for reproducibility.\n",
        "    clusterer = KMeans(n_clusters=n_clusters, random_state=10)\n",
        "    cluster_labels = clusterer.fit_predict(X)\n",
        "\n",
        "    # The silhouette_score gives the average value for all the samples.\n",
        "    # This gives a perspective into the density and separation of the formed\n",
        "    # clusters\n",
        "    silhouette_avg = silhouette_score(X, cluster_labels)\n",
        "    print(\"For n_clusters =\", n_clusters,\n",
        "          \"The average silhouette_score is :\", round(silhouette_avg,5))"
      ],
      "metadata": {
        "colab": {
          "base_uri": "https://localhost:8080/"
        },
        "id": "OhFOEgdDf_gv",
        "outputId": "d15e79b9-bc66-48b7-8ce4-bd034c98c5e3"
      },
      "execution_count": 35,
      "outputs": [
        {
          "output_type": "stream",
          "name": "stdout",
          "text": [
            "For n_clusters = 6 The average silhouette_score is : 0.14117\n",
            "For n_clusters = 7 The average silhouette_score is : 0.15739\n",
            "For n_clusters = 8 The average silhouette_score is : 0.16079\n",
            "For n_clusters = 9 The average silhouette_score is : 0.16655\n",
            "For n_clusters = 10 The average silhouette_score is : 0.16542\n",
            "For n_clusters = 11 The average silhouette_score is : 0.18035\n",
            "For n_clusters = 12 The average silhouette_score is : 0.17849\n",
            "For n_clusters = 13 The average silhouette_score is : 0.18703\n",
            "For n_clusters = 14 The average silhouette_score is : 0.19521\n",
            "For n_clusters = 15 The average silhouette_score is : 0.21263\n",
            "For n_clusters = 16 The average silhouette_score is : 0.20445\n",
            "For n_clusters = 17 The average silhouette_score is : 0.20834\n",
            "For n_clusters = 18 The average silhouette_score is : 0.20917\n",
            "For n_clusters = 19 The average silhouette_score is : 0.24654\n",
            "For n_clusters = 20 The average silhouette_score is : 0.2399\n",
            "For n_clusters = 21 The average silhouette_score is : 0.24824\n",
            "For n_clusters = 22 The average silhouette_score is : 0.2363\n",
            "For n_clusters = 23 The average silhouette_score is : 0.24308\n",
            "For n_clusters = 24 The average silhouette_score is : 0.25402\n",
            "For n_clusters = 25 The average silhouette_score is : 0.2843\n",
            "For n_clusters = 26 The average silhouette_score is : 0.26556\n"
          ]
        }
      ]
    },
    {
      "cell_type": "code",
      "source": [
        "# Creating new feature to store labels\n",
        "df['Cluster_labels'] = kmeans.labels_"
      ],
      "metadata": {
        "id": "ps_4bMGAgEqN"
      },
      "execution_count": 36,
      "outputs": []
    },
    {
      "cell_type": "code",
      "source": [
        "# Counting the number of cuisines with each labels\n",
        "pd.DataFrame(df.groupby(['Cluster_labels'])['Cuisines'].count()).reset_index()"
      ],
      "metadata": {
        "colab": {
          "base_uri": "https://localhost:8080/",
          "height": 864
        },
        "id": "QAw0wC78kOpT",
        "outputId": "337774c5-4e83-42f4-cc8d-2ad340c5dab5"
      },
      "execution_count": 37,
      "outputs": [
        {
          "output_type": "execute_result",
          "data": {
            "text/plain": [
              "    Cluster_labels  Cuisines\n",
              "0                0         4\n",
              "1                1        13\n",
              "2                2         7\n",
              "3                3         4\n",
              "4                4         5\n",
              "5                5         1\n",
              "6                6         1\n",
              "7                7         3\n",
              "8                8         5\n",
              "9                9         6\n",
              "10              10         5\n",
              "11              11         8\n",
              "12              12         2\n",
              "13              13         5\n",
              "14              14         3\n",
              "15              15         1\n",
              "16              16         7\n",
              "17              17         3\n",
              "18              18         4\n",
              "19              19         6\n",
              "20              20         2\n",
              "21              21         2\n",
              "22              22         2\n",
              "23              23         1\n",
              "24              24         1\n",
              "25              25         3"
            ],
            "text/html": [
              "\n",
              "  <div id=\"df-150df1a1-ae3c-499c-81c5-b06f1d6eead3\">\n",
              "    <div class=\"colab-df-container\">\n",
              "      <div>\n",
              "<style scoped>\n",
              "    .dataframe tbody tr th:only-of-type {\n",
              "        vertical-align: middle;\n",
              "    }\n",
              "\n",
              "    .dataframe tbody tr th {\n",
              "        vertical-align: top;\n",
              "    }\n",
              "\n",
              "    .dataframe thead th {\n",
              "        text-align: right;\n",
              "    }\n",
              "</style>\n",
              "<table border=\"1\" class=\"dataframe\">\n",
              "  <thead>\n",
              "    <tr style=\"text-align: right;\">\n",
              "      <th></th>\n",
              "      <th>Cluster_labels</th>\n",
              "      <th>Cuisines</th>\n",
              "    </tr>\n",
              "  </thead>\n",
              "  <tbody>\n",
              "    <tr>\n",
              "      <th>0</th>\n",
              "      <td>0</td>\n",
              "      <td>4</td>\n",
              "    </tr>\n",
              "    <tr>\n",
              "      <th>1</th>\n",
              "      <td>1</td>\n",
              "      <td>13</td>\n",
              "    </tr>\n",
              "    <tr>\n",
              "      <th>2</th>\n",
              "      <td>2</td>\n",
              "      <td>7</td>\n",
              "    </tr>\n",
              "    <tr>\n",
              "      <th>3</th>\n",
              "      <td>3</td>\n",
              "      <td>4</td>\n",
              "    </tr>\n",
              "    <tr>\n",
              "      <th>4</th>\n",
              "      <td>4</td>\n",
              "      <td>5</td>\n",
              "    </tr>\n",
              "    <tr>\n",
              "      <th>5</th>\n",
              "      <td>5</td>\n",
              "      <td>1</td>\n",
              "    </tr>\n",
              "    <tr>\n",
              "      <th>6</th>\n",
              "      <td>6</td>\n",
              "      <td>1</td>\n",
              "    </tr>\n",
              "    <tr>\n",
              "      <th>7</th>\n",
              "      <td>7</td>\n",
              "      <td>3</td>\n",
              "    </tr>\n",
              "    <tr>\n",
              "      <th>8</th>\n",
              "      <td>8</td>\n",
              "      <td>5</td>\n",
              "    </tr>\n",
              "    <tr>\n",
              "      <th>9</th>\n",
              "      <td>9</td>\n",
              "      <td>6</td>\n",
              "    </tr>\n",
              "    <tr>\n",
              "      <th>10</th>\n",
              "      <td>10</td>\n",
              "      <td>5</td>\n",
              "    </tr>\n",
              "    <tr>\n",
              "      <th>11</th>\n",
              "      <td>11</td>\n",
              "      <td>8</td>\n",
              "    </tr>\n",
              "    <tr>\n",
              "      <th>12</th>\n",
              "      <td>12</td>\n",
              "      <td>2</td>\n",
              "    </tr>\n",
              "    <tr>\n",
              "      <th>13</th>\n",
              "      <td>13</td>\n",
              "      <td>5</td>\n",
              "    </tr>\n",
              "    <tr>\n",
              "      <th>14</th>\n",
              "      <td>14</td>\n",
              "      <td>3</td>\n",
              "    </tr>\n",
              "    <tr>\n",
              "      <th>15</th>\n",
              "      <td>15</td>\n",
              "      <td>1</td>\n",
              "    </tr>\n",
              "    <tr>\n",
              "      <th>16</th>\n",
              "      <td>16</td>\n",
              "      <td>7</td>\n",
              "    </tr>\n",
              "    <tr>\n",
              "      <th>17</th>\n",
              "      <td>17</td>\n",
              "      <td>3</td>\n",
              "    </tr>\n",
              "    <tr>\n",
              "      <th>18</th>\n",
              "      <td>18</td>\n",
              "      <td>4</td>\n",
              "    </tr>\n",
              "    <tr>\n",
              "      <th>19</th>\n",
              "      <td>19</td>\n",
              "      <td>6</td>\n",
              "    </tr>\n",
              "    <tr>\n",
              "      <th>20</th>\n",
              "      <td>20</td>\n",
              "      <td>2</td>\n",
              "    </tr>\n",
              "    <tr>\n",
              "      <th>21</th>\n",
              "      <td>21</td>\n",
              "      <td>2</td>\n",
              "    </tr>\n",
              "    <tr>\n",
              "      <th>22</th>\n",
              "      <td>22</td>\n",
              "      <td>2</td>\n",
              "    </tr>\n",
              "    <tr>\n",
              "      <th>23</th>\n",
              "      <td>23</td>\n",
              "      <td>1</td>\n",
              "    </tr>\n",
              "    <tr>\n",
              "      <th>24</th>\n",
              "      <td>24</td>\n",
              "      <td>1</td>\n",
              "    </tr>\n",
              "    <tr>\n",
              "      <th>25</th>\n",
              "      <td>25</td>\n",
              "      <td>3</td>\n",
              "    </tr>\n",
              "  </tbody>\n",
              "</table>\n",
              "</div>\n",
              "      <button class=\"colab-df-convert\" onclick=\"convertToInteractive('df-150df1a1-ae3c-499c-81c5-b06f1d6eead3')\"\n",
              "              title=\"Convert this dataframe to an interactive table.\"\n",
              "              style=\"display:none;\">\n",
              "        \n",
              "  <svg xmlns=\"http://www.w3.org/2000/svg\" height=\"24px\"viewBox=\"0 0 24 24\"\n",
              "       width=\"24px\">\n",
              "    <path d=\"M0 0h24v24H0V0z\" fill=\"none\"/>\n",
              "    <path d=\"M18.56 5.44l.94 2.06.94-2.06 2.06-.94-2.06-.94-.94-2.06-.94 2.06-2.06.94zm-11 1L8.5 8.5l.94-2.06 2.06-.94-2.06-.94L8.5 2.5l-.94 2.06-2.06.94zm10 10l.94 2.06.94-2.06 2.06-.94-2.06-.94-.94-2.06-.94 2.06-2.06.94z\"/><path d=\"M17.41 7.96l-1.37-1.37c-.4-.4-.92-.59-1.43-.59-.52 0-1.04.2-1.43.59L10.3 9.45l-7.72 7.72c-.78.78-.78 2.05 0 2.83L4 21.41c.39.39.9.59 1.41.59.51 0 1.02-.2 1.41-.59l7.78-7.78 2.81-2.81c.8-.78.8-2.07 0-2.86zM5.41 20L4 18.59l7.72-7.72 1.47 1.35L5.41 20z\"/>\n",
              "  </svg>\n",
              "      </button>\n",
              "      \n",
              "  <style>\n",
              "    .colab-df-container {\n",
              "      display:flex;\n",
              "      flex-wrap:wrap;\n",
              "      gap: 12px;\n",
              "    }\n",
              "\n",
              "    .colab-df-convert {\n",
              "      background-color: #E8F0FE;\n",
              "      border: none;\n",
              "      border-radius: 50%;\n",
              "      cursor: pointer;\n",
              "      display: none;\n",
              "      fill: #1967D2;\n",
              "      height: 32px;\n",
              "      padding: 0 0 0 0;\n",
              "      width: 32px;\n",
              "    }\n",
              "\n",
              "    .colab-df-convert:hover {\n",
              "      background-color: #E2EBFA;\n",
              "      box-shadow: 0px 1px 2px rgba(60, 64, 67, 0.3), 0px 1px 3px 1px rgba(60, 64, 67, 0.15);\n",
              "      fill: #174EA6;\n",
              "    }\n",
              "\n",
              "    [theme=dark] .colab-df-convert {\n",
              "      background-color: #3B4455;\n",
              "      fill: #D2E3FC;\n",
              "    }\n",
              "\n",
              "    [theme=dark] .colab-df-convert:hover {\n",
              "      background-color: #434B5C;\n",
              "      box-shadow: 0px 1px 3px 1px rgba(0, 0, 0, 0.15);\n",
              "      filter: drop-shadow(0px 1px 2px rgba(0, 0, 0, 0.3));\n",
              "      fill: #FFFFFF;\n",
              "    }\n",
              "  </style>\n",
              "\n",
              "      <script>\n",
              "        const buttonEl =\n",
              "          document.querySelector('#df-150df1a1-ae3c-499c-81c5-b06f1d6eead3 button.colab-df-convert');\n",
              "        buttonEl.style.display =\n",
              "          google.colab.kernel.accessAllowed ? 'block' : 'none';\n",
              "\n",
              "        async function convertToInteractive(key) {\n",
              "          const element = document.querySelector('#df-150df1a1-ae3c-499c-81c5-b06f1d6eead3');\n",
              "          const dataTable =\n",
              "            await google.colab.kernel.invokeFunction('convertToInteractive',\n",
              "                                                     [key], {});\n",
              "          if (!dataTable) return;\n",
              "\n",
              "          const docLinkHtml = 'Like what you see? Visit the ' +\n",
              "            '<a target=\"_blank\" href=https://colab.research.google.com/notebooks/data_table.ipynb>data table notebook</a>'\n",
              "            + ' to learn more about interactive tables.';\n",
              "          element.innerHTML = '';\n",
              "          dataTable['output_type'] = 'display_data';\n",
              "          await google.colab.output.renderOutput(dataTable, element);\n",
              "          const docLink = document.createElement('div');\n",
              "          docLink.innerHTML = docLinkHtml;\n",
              "          element.appendChild(docLink);\n",
              "        }\n",
              "      </script>\n",
              "    </div>\n",
              "  </div>\n",
              "  "
            ]
          },
          "metadata": {},
          "execution_count": 37
        }
      ]
    },
    {
      "cell_type": "code",
      "source": [
        "# Getting terms\n",
        "terms = vectorizer.get_feature_names()"
      ],
      "metadata": {
        "colab": {
          "base_uri": "https://localhost:8080/"
        },
        "id": "pBla6J5hmB_L",
        "outputId": "d9a809b3-1b9b-4f98-f13e-abfd8582720e"
      },
      "execution_count": 38,
      "outputs": [
        {
          "output_type": "stream",
          "name": "stderr",
          "text": [
            "/usr/local/lib/python3.7/dist-packages/sklearn/utils/deprecation.py:87: FutureWarning: Function get_feature_names is deprecated; get_feature_names is deprecated in 1.0 and will be removed in 1.2. Please use get_feature_names_out instead.\n",
            "  warnings.warn(msg, category=FutureWarning)\n"
          ]
        }
      ]
    },
    {
      "cell_type": "code",
      "source": [
        "len(terms)"
      ],
      "metadata": {
        "colab": {
          "base_uri": "https://localhost:8080/"
        },
        "id": "u3XEMpfpmcBG",
        "outputId": "380ca132-3fea-4b9c-e964-3558d0d9e22f"
      },
      "execution_count": 39,
      "outputs": [
        {
          "output_type": "execute_result",
          "data": {
            "text/plain": [
              "50"
            ]
          },
          "metadata": {},
          "execution_count": 39
        }
      ]
    },
    {
      "cell_type": "code",
      "source": [
        "# Top terms(words) per cluster\n",
        "print(\"Top terms per cluster:\")\n",
        "order_centroids = kmeans.cluster_centers_.argsort()[:, ::-1]\n",
        "for i in range(26):\n",
        "    print(\"Cluster %d:\" % i, end='')\n",
        "    for ind in order_centroids[i, :10]:\n",
        "        print(' %s' % terms[ind], end='')\n",
        "        print()"
      ],
      "metadata": {
        "colab": {
          "base_uri": "https://localhost:8080/"
        },
        "id": "agnIL_ajl2by",
        "outputId": "0bdd7d11-2f77-4329-d9b0-5f1f9a90caa3"
      },
      "execution_count": 40,
      "outputs": [
        {
          "output_type": "stream",
          "name": "stdout",
          "text": [
            "Top terms per cluster:\n",
            "Cluster 0: andhra\n",
            " biryani\n",
            " northindian\n",
            " chinese\n",
            " hyderabadi\n",
            " southindian\n",
            " chines\n",
            " cafe\n",
            " fingerfood\n",
            " fastfood\n",
            "Cluster 1: italian\n",
            " continental\n",
            " northindian\n",
            " asian\n",
            " chinese\n",
            " salad\n",
            " fingerfood\n",
            " modernindian\n",
            " mexican\n",
            " spanish\n",
            "Cluster 2: fastfood\n",
            " pizza\n",
            " northindian\n",
            " burger\n",
            " salad\n",
            " chinese\n",
            " chines\n",
            " biryani\n",
            " american\n",
            " dessert\n",
            "Cluster 3: biryani\n",
            " chines\n",
            " northindian\n",
            " wraps\n",
            " cafe\n",
            " fingerfood\n",
            " fastfood\n",
            " european\n",
            " desserts\n",
            " dessert\n",
            "Cluster 4: continent\n",
            " northindian\n",
            " chinese\n",
            " healthyfood\n",
            " goan\n",
            " fingerfood\n",
            " fastfood\n",
            " european\n",
            " dessert\n",
            " continental\n",
            "Cluster 5: dessert\n",
            " fastfood\n",
            " biryani\n",
            " wraps\n",
            " cafe\n",
            " goan\n",
            " fingerfood\n",
            " european\n",
            " desserts\n",
            " continental\n",
            "Cluster 6: burger\n",
            " kebab\n",
            " northindian\n",
            " cafe\n",
            " fingerfood\n",
            " fastfood\n",
            " european\n",
            " desserts\n",
            " dessert\n",
            " continental\n",
            "Cluster 7: northindian\n",
            " chinese\n",
            " chines\n",
            " continent\n",
            " southindian\n",
            " desserts\n",
            " mediterranean\n",
            " sushi\n",
            " salad\n",
            " burger\n",
            "Cluster 8: desserts\n",
            " fastfood\n",
            " cafe\n",
            " beverag\n",
            " bakery\n",
            " beverages\n",
            " burger\n",
            " dessert\n",
            " healthyfood\n",
            " goan\n",
            "Cluster 9: chines\n",
            " northindian\n",
            " andhra\n",
            " fingerfood\n",
            " kebab\n",
            " biryani\n",
            " chinese\n",
            " continental\n",
            " southindian\n",
            " cafe\n",
            "Cluster 10: mughlai\n",
            " northindian\n",
            " biryani\n",
            " beverag\n",
            " juices\n",
            " bakery\n",
            " chinese\n",
            " chines\n",
            " dessert\n",
            " healthyfood\n",
            "Cluster 11: asian\n",
            " momo\n",
            " thai\n",
            " chinese\n",
            " sushi\n",
            " northeastern\n",
            " malaysian\n",
            " indonesian\n",
            " biryani\n",
            " dessert\n",
            "Cluster 12: japanese\n",
            " sushi\n",
            " salad\n",
            " northindian\n",
            " italian\n",
            " chinese\n",
            " wraps\n",
            " burger\n",
            " european\n",
            " desserts\n",
            "Cluster 13: mediterranean\n",
            " european\n",
            " northindian\n",
            " asian\n",
            " bbq\n",
            " dessert\n",
            " kebab\n",
            " continental\n",
            " chinese\n",
            " healthyfood\n",
            "Cluster 14: bakery\n",
            " dessert\n",
            " mithai\n",
            " fastfood\n",
            " chinese\n",
            " chines\n",
            " continent\n",
            " southindian\n",
            " sushi\n",
            " mediterranean\n",
            "Cluster 15: wraps\n",
            " american\n",
            " dessert\n",
            " sushi\n",
            " streetfood\n",
            " fingerfood\n",
            " fastfood\n",
            " european\n",
            " desserts\n",
            " continental\n",
            "Cluster 16: southindian\n",
            " northindian\n",
            " chines\n",
            " kebab\n",
            " continental\n",
            " healthyfood\n",
            " chinese\n",
            " american\n",
            " european\n",
            " italian\n",
            "Cluster 17: arabian\n",
            " streetfood\n",
            " northindian\n",
            " fastfood\n",
            " chines\n",
            " chinese\n",
            " southindian\n",
            " continent\n",
            " burger\n",
            " sushi\n",
            "Cluster 18: american\n",
            " burger\n",
            " burg\n",
            " continental\n",
            " chines\n",
            " salad\n",
            " fastfood\n",
            " arabian\n",
            " fingerfood\n",
            " european\n",
            "Cluster 19: chinese\n",
            " biryani\n",
            " northindian\n",
            " seafood\n",
            " beverag\n",
            " continental\n",
            " chines\n",
            " mughlai\n",
            " dessert\n",
            " continent\n",
            "Cluster 20: icecream\n",
            " dessert\n",
            " cafe\n",
            " goan\n",
            " fingerfood\n",
            " fastfood\n",
            " european\n",
            " desserts\n",
            " continental\n",
            " continent\n",
            "Cluster 21: bakeri\n",
            " cafe\n",
            " wraps\n",
            " goan\n",
            " fingerfood\n",
            " fastfood\n",
            " european\n",
            " desserts\n",
            " dessert\n",
            " continental\n",
            "Cluster 22: cafe\n",
            " dessert\n",
            " continental\n",
            " wraps\n",
            " goan\n",
            " fingerfood\n",
            " fastfood\n",
            " european\n",
            " desserts\n",
            " continent\n",
            "Cluster 23: lebanes\n",
            " wraps\n",
            " cafe\n",
            " fingerfood\n",
            " fastfood\n",
            " european\n",
            " desserts\n",
            " dessert\n",
            " continental\n",
            " continent\n",
            "Cluster 24: bbq\n",
            " modernindian\n",
            " asian\n",
            " wraps\n",
            " cafe\n",
            " fingerfood\n",
            " fastfood\n",
            " european\n",
            " desserts\n",
            " dessert\n",
            "Cluster 25: hyderabadi\n",
            " chinese\n",
            " mughlai\n",
            " seafood\n",
            " northindian\n",
            " biryani\n",
            " chines\n",
            " southindian\n",
            " continent\n",
            " salad\n"
          ]
        }
      ]
    },
    {
      "cell_type": "code",
      "source": [
        "df[df['Cluster_labels'] == 1]"
      ],
      "metadata": {
        "colab": {
          "base_uri": "https://localhost:8080/",
          "height": 917
        },
        "id": "18y8kxCuCMj_",
        "outputId": "6cd39a31-8e8c-4414-df1d-d6e01ce43464"
      },
      "execution_count": 41,
      "outputs": [
        {
          "output_type": "execute_result",
          "data": {
            "text/plain": [
              "                                       Name  \\\n",
              "5                     The Fisherman's Wharf   \n",
              "13            The Lal Street - Bar Exchange   \n",
              "26                   Mustang Terrace Lounge   \n",
              "38                          The Glass Onion   \n",
              "40                              Frio Bistro   \n",
              "53                          Diners Pavilion   \n",
              "56         Feast - Sheraton Hyderabad Hotel   \n",
              "60                               PourHouse7   \n",
              "61                     Prism Club & Kitchen   \n",
              "68                    The Tilt Bar Republic   \n",
              "77                       Squeeze @ The Lime   \n",
              "91  Cascade - Radisson Hyderabad Hitec City   \n",
              "92     Collage - Hyatt Hyderabad Gachibowli   \n",
              "\n",
              "                                                Links   Cost  \\\n",
              "5   httpswwwzomatocomhyderabadthefishermanswharfga...  1,500   \n",
              "13  httpswwwzomatocomhyderabadthelalstreetbarexcha...  1,300   \n",
              "26  httpswwwzomatocomhyderabadmustangterracelounge...  1,300   \n",
              "38  httpswwwzomatocomhyderabadtheglassoniongachibowli  1,200   \n",
              "40     httpswwwzomatocomhyderabadfriobistrogachibowli  1,200   \n",
              "53  httpswwwzomatocomhyderabaddinerspaviliongachib...  1,200   \n",
              "56  httpswwwzomatocomhyderabadfeastsheratonhyderab...  2,500   \n",
              "60     httpswwwzomatocomhyderabadpourhouse7gachibowli  1,200   \n",
              "61  httpswwwzomatocomhyderabadprismclubkitchengach...  1,200   \n",
              "68                httpswwwzomatocomthetiltbarrepublic  1,500   \n",
              "77  httpswwwzomatocomhyderabadsqueezethelimegachib...    650   \n",
              "91  httpswwwzomatocomhyderabadcascaderadissonhyder...  1,800   \n",
              "92  httpswwwzomatocomhyderabadcollagehyatthyderaba...  2,800   \n",
              "\n",
              "                                         Cuisines  \\\n",
              "5      seafood goan northindian continental asian   \n",
              "13                 northindian italian fingerfood   \n",
              "26      mexican italian northindian chinese salad   \n",
              "38          northindian continental italian asian   \n",
              "40           european italian continental spanish   \n",
              "53                    chinese continental italian   \n",
              "56         modernindian asian continental italian   \n",
              "60        northindian continental chinese italian   \n",
              "61          kebab continental italian northindian   \n",
              "68                northindian continental italian   \n",
              "77              italian northindian chinese salad   \n",
              "91          northindian italian continental asian   \n",
              "92  continental italian northindian chinese asian   \n",
              "\n",
              "                                              Timings  Cluster_labels  \n",
              "5   12noon to 330pm 4pm to 630pm 7pm to 1130pm mon...               1  \n",
              "13                        12noon to 12midnight monsun               1  \n",
              "26  12 noon to 1130 pm monwed 12 noon to 1 am fris...               1  \n",
              "38  12noon to 11pm mon tue wed thu sun 12noon to 1...               1  \n",
              "40                              12noon to 11pm monsun               1  \n",
              "53  12noon to 430pm 630pm to 1130pm mon tue wed fr...               1  \n",
              "56  630am to 1030am 1230pm to 3pm 7pm to 11pm mon6...               1  \n",
              "60  12 noon to 12 midnight monthu sun 12 noon to 1...               1  \n",
              "61                           5pm to 12midnight monsun               1  \n",
              "68                        12noon to 12midnight monsun               1  \n",
              "77    7 am to 1030 am 1230 pm to 330 pm 7 pm to 11 pm               1  \n",
              "91                                           24 hours               1  \n",
              "92                                    24 hours monsun               1  "
            ],
            "text/html": [
              "\n",
              "  <div id=\"df-f583d00b-3cf2-4f74-8093-93ddb793479d\">\n",
              "    <div class=\"colab-df-container\">\n",
              "      <div>\n",
              "<style scoped>\n",
              "    .dataframe tbody tr th:only-of-type {\n",
              "        vertical-align: middle;\n",
              "    }\n",
              "\n",
              "    .dataframe tbody tr th {\n",
              "        vertical-align: top;\n",
              "    }\n",
              "\n",
              "    .dataframe thead th {\n",
              "        text-align: right;\n",
              "    }\n",
              "</style>\n",
              "<table border=\"1\" class=\"dataframe\">\n",
              "  <thead>\n",
              "    <tr style=\"text-align: right;\">\n",
              "      <th></th>\n",
              "      <th>Name</th>\n",
              "      <th>Links</th>\n",
              "      <th>Cost</th>\n",
              "      <th>Cuisines</th>\n",
              "      <th>Timings</th>\n",
              "      <th>Cluster_labels</th>\n",
              "    </tr>\n",
              "  </thead>\n",
              "  <tbody>\n",
              "    <tr>\n",
              "      <th>5</th>\n",
              "      <td>The Fisherman's Wharf</td>\n",
              "      <td>httpswwwzomatocomhyderabadthefishermanswharfga...</td>\n",
              "      <td>1,500</td>\n",
              "      <td>seafood goan northindian continental asian</td>\n",
              "      <td>12noon to 330pm 4pm to 630pm 7pm to 1130pm mon...</td>\n",
              "      <td>1</td>\n",
              "    </tr>\n",
              "    <tr>\n",
              "      <th>13</th>\n",
              "      <td>The Lal Street - Bar Exchange</td>\n",
              "      <td>httpswwwzomatocomhyderabadthelalstreetbarexcha...</td>\n",
              "      <td>1,300</td>\n",
              "      <td>northindian italian fingerfood</td>\n",
              "      <td>12noon to 12midnight monsun</td>\n",
              "      <td>1</td>\n",
              "    </tr>\n",
              "    <tr>\n",
              "      <th>26</th>\n",
              "      <td>Mustang Terrace Lounge</td>\n",
              "      <td>httpswwwzomatocomhyderabadmustangterracelounge...</td>\n",
              "      <td>1,300</td>\n",
              "      <td>mexican italian northindian chinese salad</td>\n",
              "      <td>12 noon to 1130 pm monwed 12 noon to 1 am fris...</td>\n",
              "      <td>1</td>\n",
              "    </tr>\n",
              "    <tr>\n",
              "      <th>38</th>\n",
              "      <td>The Glass Onion</td>\n",
              "      <td>httpswwwzomatocomhyderabadtheglassoniongachibowli</td>\n",
              "      <td>1,200</td>\n",
              "      <td>northindian continental italian asian</td>\n",
              "      <td>12noon to 11pm mon tue wed thu sun 12noon to 1...</td>\n",
              "      <td>1</td>\n",
              "    </tr>\n",
              "    <tr>\n",
              "      <th>40</th>\n",
              "      <td>Frio Bistro</td>\n",
              "      <td>httpswwwzomatocomhyderabadfriobistrogachibowli</td>\n",
              "      <td>1,200</td>\n",
              "      <td>european italian continental spanish</td>\n",
              "      <td>12noon to 11pm monsun</td>\n",
              "      <td>1</td>\n",
              "    </tr>\n",
              "    <tr>\n",
              "      <th>53</th>\n",
              "      <td>Diners Pavilion</td>\n",
              "      <td>httpswwwzomatocomhyderabaddinerspaviliongachib...</td>\n",
              "      <td>1,200</td>\n",
              "      <td>chinese continental italian</td>\n",
              "      <td>12noon to 430pm 630pm to 1130pm mon tue wed fr...</td>\n",
              "      <td>1</td>\n",
              "    </tr>\n",
              "    <tr>\n",
              "      <th>56</th>\n",
              "      <td>Feast - Sheraton Hyderabad Hotel</td>\n",
              "      <td>httpswwwzomatocomhyderabadfeastsheratonhyderab...</td>\n",
              "      <td>2,500</td>\n",
              "      <td>modernindian asian continental italian</td>\n",
              "      <td>630am to 1030am 1230pm to 3pm 7pm to 11pm mon6...</td>\n",
              "      <td>1</td>\n",
              "    </tr>\n",
              "    <tr>\n",
              "      <th>60</th>\n",
              "      <td>PourHouse7</td>\n",
              "      <td>httpswwwzomatocomhyderabadpourhouse7gachibowli</td>\n",
              "      <td>1,200</td>\n",
              "      <td>northindian continental chinese italian</td>\n",
              "      <td>12 noon to 12 midnight monthu sun 12 noon to 1...</td>\n",
              "      <td>1</td>\n",
              "    </tr>\n",
              "    <tr>\n",
              "      <th>61</th>\n",
              "      <td>Prism Club &amp; Kitchen</td>\n",
              "      <td>httpswwwzomatocomhyderabadprismclubkitchengach...</td>\n",
              "      <td>1,200</td>\n",
              "      <td>kebab continental italian northindian</td>\n",
              "      <td>5pm to 12midnight monsun</td>\n",
              "      <td>1</td>\n",
              "    </tr>\n",
              "    <tr>\n",
              "      <th>68</th>\n",
              "      <td>The Tilt Bar Republic</td>\n",
              "      <td>httpswwwzomatocomthetiltbarrepublic</td>\n",
              "      <td>1,500</td>\n",
              "      <td>northindian continental italian</td>\n",
              "      <td>12noon to 12midnight monsun</td>\n",
              "      <td>1</td>\n",
              "    </tr>\n",
              "    <tr>\n",
              "      <th>77</th>\n",
              "      <td>Squeeze @ The Lime</td>\n",
              "      <td>httpswwwzomatocomhyderabadsqueezethelimegachib...</td>\n",
              "      <td>650</td>\n",
              "      <td>italian northindian chinese salad</td>\n",
              "      <td>7 am to 1030 am 1230 pm to 330 pm 7 pm to 11 pm</td>\n",
              "      <td>1</td>\n",
              "    </tr>\n",
              "    <tr>\n",
              "      <th>91</th>\n",
              "      <td>Cascade - Radisson Hyderabad Hitec City</td>\n",
              "      <td>httpswwwzomatocomhyderabadcascaderadissonhyder...</td>\n",
              "      <td>1,800</td>\n",
              "      <td>northindian italian continental asian</td>\n",
              "      <td>24 hours</td>\n",
              "      <td>1</td>\n",
              "    </tr>\n",
              "    <tr>\n",
              "      <th>92</th>\n",
              "      <td>Collage - Hyatt Hyderabad Gachibowli</td>\n",
              "      <td>httpswwwzomatocomhyderabadcollagehyatthyderaba...</td>\n",
              "      <td>2,800</td>\n",
              "      <td>continental italian northindian chinese asian</td>\n",
              "      <td>24 hours monsun</td>\n",
              "      <td>1</td>\n",
              "    </tr>\n",
              "  </tbody>\n",
              "</table>\n",
              "</div>\n",
              "      <button class=\"colab-df-convert\" onclick=\"convertToInteractive('df-f583d00b-3cf2-4f74-8093-93ddb793479d')\"\n",
              "              title=\"Convert this dataframe to an interactive table.\"\n",
              "              style=\"display:none;\">\n",
              "        \n",
              "  <svg xmlns=\"http://www.w3.org/2000/svg\" height=\"24px\"viewBox=\"0 0 24 24\"\n",
              "       width=\"24px\">\n",
              "    <path d=\"M0 0h24v24H0V0z\" fill=\"none\"/>\n",
              "    <path d=\"M18.56 5.44l.94 2.06.94-2.06 2.06-.94-2.06-.94-.94-2.06-.94 2.06-2.06.94zm-11 1L8.5 8.5l.94-2.06 2.06-.94-2.06-.94L8.5 2.5l-.94 2.06-2.06.94zm10 10l.94 2.06.94-2.06 2.06-.94-2.06-.94-.94-2.06-.94 2.06-2.06.94z\"/><path d=\"M17.41 7.96l-1.37-1.37c-.4-.4-.92-.59-1.43-.59-.52 0-1.04.2-1.43.59L10.3 9.45l-7.72 7.72c-.78.78-.78 2.05 0 2.83L4 21.41c.39.39.9.59 1.41.59.51 0 1.02-.2 1.41-.59l7.78-7.78 2.81-2.81c.8-.78.8-2.07 0-2.86zM5.41 20L4 18.59l7.72-7.72 1.47 1.35L5.41 20z\"/>\n",
              "  </svg>\n",
              "      </button>\n",
              "      \n",
              "  <style>\n",
              "    .colab-df-container {\n",
              "      display:flex;\n",
              "      flex-wrap:wrap;\n",
              "      gap: 12px;\n",
              "    }\n",
              "\n",
              "    .colab-df-convert {\n",
              "      background-color: #E8F0FE;\n",
              "      border: none;\n",
              "      border-radius: 50%;\n",
              "      cursor: pointer;\n",
              "      display: none;\n",
              "      fill: #1967D2;\n",
              "      height: 32px;\n",
              "      padding: 0 0 0 0;\n",
              "      width: 32px;\n",
              "    }\n",
              "\n",
              "    .colab-df-convert:hover {\n",
              "      background-color: #E2EBFA;\n",
              "      box-shadow: 0px 1px 2px rgba(60, 64, 67, 0.3), 0px 1px 3px 1px rgba(60, 64, 67, 0.15);\n",
              "      fill: #174EA6;\n",
              "    }\n",
              "\n",
              "    [theme=dark] .colab-df-convert {\n",
              "      background-color: #3B4455;\n",
              "      fill: #D2E3FC;\n",
              "    }\n",
              "\n",
              "    [theme=dark] .colab-df-convert:hover {\n",
              "      background-color: #434B5C;\n",
              "      box-shadow: 0px 1px 3px 1px rgba(0, 0, 0, 0.15);\n",
              "      filter: drop-shadow(0px 1px 2px rgba(0, 0, 0, 0.3));\n",
              "      fill: #FFFFFF;\n",
              "    }\n",
              "  </style>\n",
              "\n",
              "      <script>\n",
              "        const buttonEl =\n",
              "          document.querySelector('#df-f583d00b-3cf2-4f74-8093-93ddb793479d button.colab-df-convert');\n",
              "        buttonEl.style.display =\n",
              "          google.colab.kernel.accessAllowed ? 'block' : 'none';\n",
              "\n",
              "        async function convertToInteractive(key) {\n",
              "          const element = document.querySelector('#df-f583d00b-3cf2-4f74-8093-93ddb793479d');\n",
              "          const dataTable =\n",
              "            await google.colab.kernel.invokeFunction('convertToInteractive',\n",
              "                                                     [key], {});\n",
              "          if (!dataTable) return;\n",
              "\n",
              "          const docLinkHtml = 'Like what you see? Visit the ' +\n",
              "            '<a target=\"_blank\" href=https://colab.research.google.com/notebooks/data_table.ipynb>data table notebook</a>'\n",
              "            + ' to learn more about interactive tables.';\n",
              "          element.innerHTML = '';\n",
              "          dataTable['output_type'] = 'display_data';\n",
              "          await google.colab.output.renderOutput(dataTable, element);\n",
              "          const docLink = document.createElement('div');\n",
              "          docLink.innerHTML = docLinkHtml;\n",
              "          element.appendChild(docLink);\n",
              "        }\n",
              "      </script>\n",
              "    </div>\n",
              "  </div>\n",
              "  "
            ]
          },
          "metadata": {},
          "execution_count": 41
        }
      ]
    },
    {
      "cell_type": "code",
      "source": [
        "# Replacing ',' \n",
        "df['Cost'] = df['Cost'].str.replace(',','')\n",
        "\n",
        "# Converting 'cost' feature to integer datatype\n",
        "df['Cost'] = df['Cost'].apply(lambda x:int(x))\n",
        "df.info()"
      ],
      "metadata": {
        "colab": {
          "base_uri": "https://localhost:8080/"
        },
        "id": "SkDPujWfptd9",
        "outputId": "2ab1ece6-442a-42b0-b9a7-c76301bc0c9b"
      },
      "execution_count": 42,
      "outputs": [
        {
          "output_type": "stream",
          "name": "stdout",
          "text": [
            "<class 'pandas.core.frame.DataFrame'>\n",
            "Int64Index: 104 entries, 0 to 104\n",
            "Data columns (total 6 columns):\n",
            " #   Column          Non-Null Count  Dtype \n",
            "---  ------          --------------  ----- \n",
            " 0   Name            104 non-null    object\n",
            " 1   Links           104 non-null    object\n",
            " 2   Cost            104 non-null    int64 \n",
            " 3   Cuisines        104 non-null    object\n",
            " 4   Timings         104 non-null    object\n",
            " 5   Cluster_labels  104 non-null    int32 \n",
            "dtypes: int32(1), int64(1), object(4)\n",
            "memory usage: 9.4+ KB\n"
          ]
        }
      ]
    },
    {
      "cell_type": "code",
      "source": [
        "# Installing inflect library\n",
        "pip install inflect"
      ],
      "metadata": {
        "colab": {
          "base_uri": "https://localhost:8080/",
          "height": 130
        },
        "id": "VFPnnrU1tOg2",
        "outputId": "927c5d41-5246-4491-e163-79192d3863e0"
      },
      "execution_count": 44,
      "outputs": [
        {
          "output_type": "error",
          "ename": "SyntaxError",
          "evalue": "ignored",
          "traceback": [
            "\u001b[0;36m  File \u001b[0;32m\"<ipython-input-44-8dcba8b07024>\"\u001b[0;36m, line \u001b[0;32m2\u001b[0m\n\u001b[0;31m    pip install inflect\u001b[0m\n\u001b[0m              ^\u001b[0m\n\u001b[0;31mSyntaxError\u001b[0m\u001b[0;31m:\u001b[0m invalid syntax\n"
          ]
        }
      ]
    },
    {
      "cell_type": "code",
      "source": [
        "# Creating an instance for converting number to words\n",
        "p = inflect.engine()"
      ],
      "metadata": {
        "id": "RmYXJx2ptoWC"
      },
      "execution_count": 45,
      "outputs": []
    },
    {
      "cell_type": "code",
      "source": [
        "# Appling number to words to 'Cost' feature\n",
        "df['Cost'] = df['Cost'].apply(lambda x: p.number_to_words(x) )"
      ],
      "metadata": {
        "id": "x3o1OsJ0pJAF"
      },
      "execution_count": 46,
      "outputs": []
    },
    {
      "cell_type": "code",
      "source": [
        "df['Cost'] = df['Cost'].str.replace(',','')\n",
        "df['Cost'] = df['Cost'].str.replace(' ','')"
      ],
      "metadata": {
        "id": "0tdtECpPp9vO"
      },
      "execution_count": 47,
      "outputs": []
    },
    {
      "cell_type": "code",
      "source": [
        "df.head()"
      ],
      "metadata": {
        "colab": {
          "base_uri": "https://localhost:8080/",
          "height": 597
        },
        "id": "_DMC-IhEvdsk",
        "outputId": "71ea4c4b-0595-4915-e7b6-5e31236e55e8"
      },
      "execution_count": 48,
      "outputs": [
        {
          "output_type": "execute_result",
          "data": {
            "text/plain": [
              "                             Name  \\\n",
              "0                 Beyond Flavours   \n",
              "1                        Paradise   \n",
              "2                        Flechazo   \n",
              "3  Shah Ghouse Hotel & Restaurant   \n",
              "4      Over The Moon Brew Company   \n",
              "\n",
              "                                               Links                     Cost  \\\n",
              "0  httpswwwzomatocomhyderabadbeyondflavoursgachib...             eighthundred   \n",
              "1       httpswwwzomatocomhyderabadparadisegachibowli             eighthundred   \n",
              "2       httpswwwzomatocomhyderabadflechazogachibowli  onethousandthreehundred   \n",
              "3  httpswwwzomatocomhyderabadshahghousehotelresta...             eighthundred   \n",
              "4  httpswwwzomatocomhyderabadoverthemoonbrewcompa...    onethousandtwohundred   \n",
              "\n",
              "                                            Cuisines  \\\n",
              "0  chinese continental kebab european southindian...   \n",
              "1                         biryani northindian chines   \n",
              "2            asian mediterranean northindian dessert   \n",
              "3        biryani northindian chinese seafood beverag   \n",
              "4  asian continental northindian chinese mediterr...   \n",
              "\n",
              "                                             Timings  Cluster_labels  \n",
              "0             12noon to 330pm 630pm to 1130pm monsun              16  \n",
              "1                                     11 am to 11 pm               3  \n",
              "2                  1130 am to 430 pm 630 pm to 11 pm              13  \n",
              "3                                    12 noon to 2 am              19  \n",
              "4  12noon to 11pm mon tue wed thu sun 12noon to 1...              13  "
            ],
            "text/html": [
              "\n",
              "  <div id=\"df-08e6933d-c603-4818-a3c0-338145aa9f81\">\n",
              "    <div class=\"colab-df-container\">\n",
              "      <div>\n",
              "<style scoped>\n",
              "    .dataframe tbody tr th:only-of-type {\n",
              "        vertical-align: middle;\n",
              "    }\n",
              "\n",
              "    .dataframe tbody tr th {\n",
              "        vertical-align: top;\n",
              "    }\n",
              "\n",
              "    .dataframe thead th {\n",
              "        text-align: right;\n",
              "    }\n",
              "</style>\n",
              "<table border=\"1\" class=\"dataframe\">\n",
              "  <thead>\n",
              "    <tr style=\"text-align: right;\">\n",
              "      <th></th>\n",
              "      <th>Name</th>\n",
              "      <th>Links</th>\n",
              "      <th>Cost</th>\n",
              "      <th>Cuisines</th>\n",
              "      <th>Timings</th>\n",
              "      <th>Cluster_labels</th>\n",
              "    </tr>\n",
              "  </thead>\n",
              "  <tbody>\n",
              "    <tr>\n",
              "      <th>0</th>\n",
              "      <td>Beyond Flavours</td>\n",
              "      <td>httpswwwzomatocomhyderabadbeyondflavoursgachib...</td>\n",
              "      <td>eighthundred</td>\n",
              "      <td>chinese continental kebab european southindian...</td>\n",
              "      <td>12noon to 330pm 630pm to 1130pm monsun</td>\n",
              "      <td>16</td>\n",
              "    </tr>\n",
              "    <tr>\n",
              "      <th>1</th>\n",
              "      <td>Paradise</td>\n",
              "      <td>httpswwwzomatocomhyderabadparadisegachibowli</td>\n",
              "      <td>eighthundred</td>\n",
              "      <td>biryani northindian chines</td>\n",
              "      <td>11 am to 11 pm</td>\n",
              "      <td>3</td>\n",
              "    </tr>\n",
              "    <tr>\n",
              "      <th>2</th>\n",
              "      <td>Flechazo</td>\n",
              "      <td>httpswwwzomatocomhyderabadflechazogachibowli</td>\n",
              "      <td>onethousandthreehundred</td>\n",
              "      <td>asian mediterranean northindian dessert</td>\n",
              "      <td>1130 am to 430 pm 630 pm to 11 pm</td>\n",
              "      <td>13</td>\n",
              "    </tr>\n",
              "    <tr>\n",
              "      <th>3</th>\n",
              "      <td>Shah Ghouse Hotel &amp; Restaurant</td>\n",
              "      <td>httpswwwzomatocomhyderabadshahghousehotelresta...</td>\n",
              "      <td>eighthundred</td>\n",
              "      <td>biryani northindian chinese seafood beverag</td>\n",
              "      <td>12 noon to 2 am</td>\n",
              "      <td>19</td>\n",
              "    </tr>\n",
              "    <tr>\n",
              "      <th>4</th>\n",
              "      <td>Over The Moon Brew Company</td>\n",
              "      <td>httpswwwzomatocomhyderabadoverthemoonbrewcompa...</td>\n",
              "      <td>onethousandtwohundred</td>\n",
              "      <td>asian continental northindian chinese mediterr...</td>\n",
              "      <td>12noon to 11pm mon tue wed thu sun 12noon to 1...</td>\n",
              "      <td>13</td>\n",
              "    </tr>\n",
              "  </tbody>\n",
              "</table>\n",
              "</div>\n",
              "      <button class=\"colab-df-convert\" onclick=\"convertToInteractive('df-08e6933d-c603-4818-a3c0-338145aa9f81')\"\n",
              "              title=\"Convert this dataframe to an interactive table.\"\n",
              "              style=\"display:none;\">\n",
              "        \n",
              "  <svg xmlns=\"http://www.w3.org/2000/svg\" height=\"24px\"viewBox=\"0 0 24 24\"\n",
              "       width=\"24px\">\n",
              "    <path d=\"M0 0h24v24H0V0z\" fill=\"none\"/>\n",
              "    <path d=\"M18.56 5.44l.94 2.06.94-2.06 2.06-.94-2.06-.94-.94-2.06-.94 2.06-2.06.94zm-11 1L8.5 8.5l.94-2.06 2.06-.94-2.06-.94L8.5 2.5l-.94 2.06-2.06.94zm10 10l.94 2.06.94-2.06 2.06-.94-2.06-.94-.94-2.06-.94 2.06-2.06.94z\"/><path d=\"M17.41 7.96l-1.37-1.37c-.4-.4-.92-.59-1.43-.59-.52 0-1.04.2-1.43.59L10.3 9.45l-7.72 7.72c-.78.78-.78 2.05 0 2.83L4 21.41c.39.39.9.59 1.41.59.51 0 1.02-.2 1.41-.59l7.78-7.78 2.81-2.81c.8-.78.8-2.07 0-2.86zM5.41 20L4 18.59l7.72-7.72 1.47 1.35L5.41 20z\"/>\n",
              "  </svg>\n",
              "      </button>\n",
              "      \n",
              "  <style>\n",
              "    .colab-df-container {\n",
              "      display:flex;\n",
              "      flex-wrap:wrap;\n",
              "      gap: 12px;\n",
              "    }\n",
              "\n",
              "    .colab-df-convert {\n",
              "      background-color: #E8F0FE;\n",
              "      border: none;\n",
              "      border-radius: 50%;\n",
              "      cursor: pointer;\n",
              "      display: none;\n",
              "      fill: #1967D2;\n",
              "      height: 32px;\n",
              "      padding: 0 0 0 0;\n",
              "      width: 32px;\n",
              "    }\n",
              "\n",
              "    .colab-df-convert:hover {\n",
              "      background-color: #E2EBFA;\n",
              "      box-shadow: 0px 1px 2px rgba(60, 64, 67, 0.3), 0px 1px 3px 1px rgba(60, 64, 67, 0.15);\n",
              "      fill: #174EA6;\n",
              "    }\n",
              "\n",
              "    [theme=dark] .colab-df-convert {\n",
              "      background-color: #3B4455;\n",
              "      fill: #D2E3FC;\n",
              "    }\n",
              "\n",
              "    [theme=dark] .colab-df-convert:hover {\n",
              "      background-color: #434B5C;\n",
              "      box-shadow: 0px 1px 3px 1px rgba(0, 0, 0, 0.15);\n",
              "      filter: drop-shadow(0px 1px 2px rgba(0, 0, 0, 0.3));\n",
              "      fill: #FFFFFF;\n",
              "    }\n",
              "  </style>\n",
              "\n",
              "      <script>\n",
              "        const buttonEl =\n",
              "          document.querySelector('#df-08e6933d-c603-4818-a3c0-338145aa9f81 button.colab-df-convert');\n",
              "        buttonEl.style.display =\n",
              "          google.colab.kernel.accessAllowed ? 'block' : 'none';\n",
              "\n",
              "        async function convertToInteractive(key) {\n",
              "          const element = document.querySelector('#df-08e6933d-c603-4818-a3c0-338145aa9f81');\n",
              "          const dataTable =\n",
              "            await google.colab.kernel.invokeFunction('convertToInteractive',\n",
              "                                                     [key], {});\n",
              "          if (!dataTable) return;\n",
              "\n",
              "          const docLinkHtml = 'Like what you see? Visit the ' +\n",
              "            '<a target=\"_blank\" href=https://colab.research.google.com/notebooks/data_table.ipynb>data table notebook</a>'\n",
              "            + ' to learn more about interactive tables.';\n",
              "          element.innerHTML = '';\n",
              "          dataTable['output_type'] = 'display_data';\n",
              "          await google.colab.output.renderOutput(dataTable, element);\n",
              "          const docLink = document.createElement('div');\n",
              "          docLink.innerHTML = docLinkHtml;\n",
              "          element.appendChild(docLink);\n",
              "        }\n",
              "      </script>\n",
              "    </div>\n",
              "  </div>\n",
              "  "
            ]
          },
          "metadata": {},
          "execution_count": 48
        }
      ]
    },
    {
      "cell_type": "code",
      "source": [
        "df['costncuisine'] = df['Cost'] +' '+ df['Cuisines']"
      ],
      "metadata": {
        "id": "YW2tVI7msCoj"
      },
      "execution_count": 51,
      "outputs": []
    },
    {
      "cell_type": "code",
      "source": [
        "df.head()"
      ],
      "metadata": {
        "colab": {
          "base_uri": "https://localhost:8080/",
          "height": 652
        },
        "id": "kMqT0K3hwHSr",
        "outputId": "af4fa20b-6e8d-4eb3-894f-187c07137700"
      },
      "execution_count": 52,
      "outputs": [
        {
          "output_type": "execute_result",
          "data": {
            "text/plain": [
              "                             Name  \\\n",
              "0                 Beyond Flavours   \n",
              "1                        Paradise   \n",
              "2                        Flechazo   \n",
              "3  Shah Ghouse Hotel & Restaurant   \n",
              "4      Over The Moon Brew Company   \n",
              "\n",
              "                                               Links                     Cost  \\\n",
              "0  httpswwwzomatocomhyderabadbeyondflavoursgachib...             eighthundred   \n",
              "1       httpswwwzomatocomhyderabadparadisegachibowli             eighthundred   \n",
              "2       httpswwwzomatocomhyderabadflechazogachibowli  onethousandthreehundred   \n",
              "3  httpswwwzomatocomhyderabadshahghousehotelresta...             eighthundred   \n",
              "4  httpswwwzomatocomhyderabadoverthemoonbrewcompa...    onethousandtwohundred   \n",
              "\n",
              "                                            Cuisines  \\\n",
              "0  chinese continental kebab european southindian...   \n",
              "1                         biryani northindian chines   \n",
              "2            asian mediterranean northindian dessert   \n",
              "3        biryani northindian chinese seafood beverag   \n",
              "4  asian continental northindian chinese mediterr...   \n",
              "\n",
              "                                             Timings  Cluster_labels  \\\n",
              "0             12noon to 330pm 630pm to 1130pm monsun              16   \n",
              "1                                     11 am to 11 pm               3   \n",
              "2                  1130 am to 430 pm 630 pm to 11 pm              13   \n",
              "3                                    12 noon to 2 am              19   \n",
              "4  12noon to 11pm mon tue wed thu sun 12noon to 1...              13   \n",
              "\n",
              "                                        costncuisine  \n",
              "0  eighthundred chinese continental kebab europea...  \n",
              "1            eighthundred biryani northindian chines  \n",
              "2  onethousandthreehundred asian mediterranean no...  \n",
              "3  eighthundred biryani northindian chinese seafo...  \n",
              "4  onethousandtwohundred asian continental northi...  "
            ],
            "text/html": [
              "\n",
              "  <div id=\"df-5c0705d5-84a0-43a8-ac39-faba45bbbfde\">\n",
              "    <div class=\"colab-df-container\">\n",
              "      <div>\n",
              "<style scoped>\n",
              "    .dataframe tbody tr th:only-of-type {\n",
              "        vertical-align: middle;\n",
              "    }\n",
              "\n",
              "    .dataframe tbody tr th {\n",
              "        vertical-align: top;\n",
              "    }\n",
              "\n",
              "    .dataframe thead th {\n",
              "        text-align: right;\n",
              "    }\n",
              "</style>\n",
              "<table border=\"1\" class=\"dataframe\">\n",
              "  <thead>\n",
              "    <tr style=\"text-align: right;\">\n",
              "      <th></th>\n",
              "      <th>Name</th>\n",
              "      <th>Links</th>\n",
              "      <th>Cost</th>\n",
              "      <th>Cuisines</th>\n",
              "      <th>Timings</th>\n",
              "      <th>Cluster_labels</th>\n",
              "      <th>costncuisine</th>\n",
              "    </tr>\n",
              "  </thead>\n",
              "  <tbody>\n",
              "    <tr>\n",
              "      <th>0</th>\n",
              "      <td>Beyond Flavours</td>\n",
              "      <td>httpswwwzomatocomhyderabadbeyondflavoursgachib...</td>\n",
              "      <td>eighthundred</td>\n",
              "      <td>chinese continental kebab european southindian...</td>\n",
              "      <td>12noon to 330pm 630pm to 1130pm monsun</td>\n",
              "      <td>16</td>\n",
              "      <td>eighthundred chinese continental kebab europea...</td>\n",
              "    </tr>\n",
              "    <tr>\n",
              "      <th>1</th>\n",
              "      <td>Paradise</td>\n",
              "      <td>httpswwwzomatocomhyderabadparadisegachibowli</td>\n",
              "      <td>eighthundred</td>\n",
              "      <td>biryani northindian chines</td>\n",
              "      <td>11 am to 11 pm</td>\n",
              "      <td>3</td>\n",
              "      <td>eighthundred biryani northindian chines</td>\n",
              "    </tr>\n",
              "    <tr>\n",
              "      <th>2</th>\n",
              "      <td>Flechazo</td>\n",
              "      <td>httpswwwzomatocomhyderabadflechazogachibowli</td>\n",
              "      <td>onethousandthreehundred</td>\n",
              "      <td>asian mediterranean northindian dessert</td>\n",
              "      <td>1130 am to 430 pm 630 pm to 11 pm</td>\n",
              "      <td>13</td>\n",
              "      <td>onethousandthreehundred asian mediterranean no...</td>\n",
              "    </tr>\n",
              "    <tr>\n",
              "      <th>3</th>\n",
              "      <td>Shah Ghouse Hotel &amp; Restaurant</td>\n",
              "      <td>httpswwwzomatocomhyderabadshahghousehotelresta...</td>\n",
              "      <td>eighthundred</td>\n",
              "      <td>biryani northindian chinese seafood beverag</td>\n",
              "      <td>12 noon to 2 am</td>\n",
              "      <td>19</td>\n",
              "      <td>eighthundred biryani northindian chinese seafo...</td>\n",
              "    </tr>\n",
              "    <tr>\n",
              "      <th>4</th>\n",
              "      <td>Over The Moon Brew Company</td>\n",
              "      <td>httpswwwzomatocomhyderabadoverthemoonbrewcompa...</td>\n",
              "      <td>onethousandtwohundred</td>\n",
              "      <td>asian continental northindian chinese mediterr...</td>\n",
              "      <td>12noon to 11pm mon tue wed thu sun 12noon to 1...</td>\n",
              "      <td>13</td>\n",
              "      <td>onethousandtwohundred asian continental northi...</td>\n",
              "    </tr>\n",
              "  </tbody>\n",
              "</table>\n",
              "</div>\n",
              "      <button class=\"colab-df-convert\" onclick=\"convertToInteractive('df-5c0705d5-84a0-43a8-ac39-faba45bbbfde')\"\n",
              "              title=\"Convert this dataframe to an interactive table.\"\n",
              "              style=\"display:none;\">\n",
              "        \n",
              "  <svg xmlns=\"http://www.w3.org/2000/svg\" height=\"24px\"viewBox=\"0 0 24 24\"\n",
              "       width=\"24px\">\n",
              "    <path d=\"M0 0h24v24H0V0z\" fill=\"none\"/>\n",
              "    <path d=\"M18.56 5.44l.94 2.06.94-2.06 2.06-.94-2.06-.94-.94-2.06-.94 2.06-2.06.94zm-11 1L8.5 8.5l.94-2.06 2.06-.94-2.06-.94L8.5 2.5l-.94 2.06-2.06.94zm10 10l.94 2.06.94-2.06 2.06-.94-2.06-.94-.94-2.06-.94 2.06-2.06.94z\"/><path d=\"M17.41 7.96l-1.37-1.37c-.4-.4-.92-.59-1.43-.59-.52 0-1.04.2-1.43.59L10.3 9.45l-7.72 7.72c-.78.78-.78 2.05 0 2.83L4 21.41c.39.39.9.59 1.41.59.51 0 1.02-.2 1.41-.59l7.78-7.78 2.81-2.81c.8-.78.8-2.07 0-2.86zM5.41 20L4 18.59l7.72-7.72 1.47 1.35L5.41 20z\"/>\n",
              "  </svg>\n",
              "      </button>\n",
              "      \n",
              "  <style>\n",
              "    .colab-df-container {\n",
              "      display:flex;\n",
              "      flex-wrap:wrap;\n",
              "      gap: 12px;\n",
              "    }\n",
              "\n",
              "    .colab-df-convert {\n",
              "      background-color: #E8F0FE;\n",
              "      border: none;\n",
              "      border-radius: 50%;\n",
              "      cursor: pointer;\n",
              "      display: none;\n",
              "      fill: #1967D2;\n",
              "      height: 32px;\n",
              "      padding: 0 0 0 0;\n",
              "      width: 32px;\n",
              "    }\n",
              "\n",
              "    .colab-df-convert:hover {\n",
              "      background-color: #E2EBFA;\n",
              "      box-shadow: 0px 1px 2px rgba(60, 64, 67, 0.3), 0px 1px 3px 1px rgba(60, 64, 67, 0.15);\n",
              "      fill: #174EA6;\n",
              "    }\n",
              "\n",
              "    [theme=dark] .colab-df-convert {\n",
              "      background-color: #3B4455;\n",
              "      fill: #D2E3FC;\n",
              "    }\n",
              "\n",
              "    [theme=dark] .colab-df-convert:hover {\n",
              "      background-color: #434B5C;\n",
              "      box-shadow: 0px 1px 3px 1px rgba(0, 0, 0, 0.15);\n",
              "      filter: drop-shadow(0px 1px 2px rgba(0, 0, 0, 0.3));\n",
              "      fill: #FFFFFF;\n",
              "    }\n",
              "  </style>\n",
              "\n",
              "      <script>\n",
              "        const buttonEl =\n",
              "          document.querySelector('#df-5c0705d5-84a0-43a8-ac39-faba45bbbfde button.colab-df-convert');\n",
              "        buttonEl.style.display =\n",
              "          google.colab.kernel.accessAllowed ? 'block' : 'none';\n",
              "\n",
              "        async function convertToInteractive(key) {\n",
              "          const element = document.querySelector('#df-5c0705d5-84a0-43a8-ac39-faba45bbbfde');\n",
              "          const dataTable =\n",
              "            await google.colab.kernel.invokeFunction('convertToInteractive',\n",
              "                                                     [key], {});\n",
              "          if (!dataTable) return;\n",
              "\n",
              "          const docLinkHtml = 'Like what you see? Visit the ' +\n",
              "            '<a target=\"_blank\" href=https://colab.research.google.com/notebooks/data_table.ipynb>data table notebook</a>'\n",
              "            + ' to learn more about interactive tables.';\n",
              "          element.innerHTML = '';\n",
              "          dataTable['output_type'] = 'display_data';\n",
              "          await google.colab.output.renderOutput(dataTable, element);\n",
              "          const docLink = document.createElement('div');\n",
              "          docLink.innerHTML = docLinkHtml;\n",
              "          element.appendChild(docLink);\n",
              "        }\n",
              "      </script>\n",
              "    </div>\n",
              "  </div>\n",
              "  "
            ]
          },
          "metadata": {},
          "execution_count": 52
        }
      ]
    },
    {
      "cell_type": "code",
      "source": [
        "# Applying kmeans for feature 'Costncuisine' \n",
        "# Costncusine = concatenation of cost and cuisine"
      ],
      "metadata": {
        "id": "t85XpuYG4DG4"
      },
      "execution_count": null,
      "outputs": []
    },
    {
      "cell_type": "code",
      "source": [
        "# Tfidf vectorizer\n",
        "vectorizer = TfidfVectorizer(stop_words= 'english')\n",
        "X_costncuisine = vectorizer.fit_transform(df['costncuisine'])"
      ],
      "metadata": {
        "id": "g-lZ93Ml2DA3"
      },
      "execution_count": 53,
      "outputs": []
    },
    {
      "cell_type": "code",
      "source": [
        "X_costncuisine.shape\n",
        "# we have 50 unique words"
      ],
      "metadata": {
        "colab": {
          "base_uri": "https://localhost:8080/"
        },
        "id": "8-JiN8Fj2MS2",
        "outputId": "6b38ad5e-2ab8-4c7e-ff85-6f02cd6c543a"
      },
      "execution_count": 54,
      "outputs": [
        {
          "output_type": "execute_result",
          "data": {
            "text/plain": [
              "(104, 79)"
            ]
          },
          "metadata": {},
          "execution_count": 54
        }
      ]
    },
    {
      "cell_type": "code",
      "source": [
        "# Type of X object\n",
        "type(X_costncuisine)"
      ],
      "metadata": {
        "colab": {
          "base_uri": "https://localhost:8080/"
        },
        "id": "a4_mtb9I2Meg",
        "outputId": "7e276fc2-574b-48b1-82b5-ec687c6e6845"
      },
      "execution_count": 55,
      "outputs": [
        {
          "output_type": "execute_result",
          "data": {
            "text/plain": [
              "scipy.sparse.csr.csr_matrix"
            ]
          },
          "metadata": {},
          "execution_count": 55
        }
      ]
    },
    {
      "cell_type": "code",
      "source": [
        "# Converting 'X' object to array\n",
        "X_costncuisine = X_costncuisine.toarray()"
      ],
      "metadata": {
        "id": "nvyhSIN22Mre"
      },
      "execution_count": 56,
      "outputs": []
    },
    {
      "cell_type": "code",
      "source": [
        "type(X_costncuisine)"
      ],
      "metadata": {
        "colab": {
          "base_uri": "https://localhost:8080/"
        },
        "id": "lcJgCkLp2M3j",
        "outputId": "7be6683c-dc35-4659-919b-754983c5e2b4"
      },
      "execution_count": 57,
      "outputs": [
        {
          "output_type": "execute_result",
          "data": {
            "text/plain": [
              "numpy.ndarray"
            ]
          },
          "metadata": {},
          "execution_count": 57
        }
      ]
    },
    {
      "cell_type": "code",
      "source": [
        "# KElbowvisualizer with metric as 'distortion\n",
        "\n",
        "model = KMeans(init=\"k-means++\",max_iter=300,random_state=0)\n",
        "visualizer = KElbowVisualizer(model, k=(2,30),metric= 'distortion', timings= True, locate_elbow= True)\n",
        "\n",
        "visualizer.fit(X_costncuisine)    # Fit the data to the visualizer\n",
        "visualizer.poof()"
      ],
      "metadata": {
        "colab": {
          "base_uri": "https://localhost:8080/",
          "height": 311
        },
        "id": "abRT_qY42Y8X",
        "outputId": "cec92599-382f-4f38-bb18-ca2ad61a7a0b"
      },
      "execution_count": 59,
      "outputs": [
        {
          "output_type": "display_data",
          "data": {
            "text/plain": [
              "<Figure size 432x288 with 2 Axes>"
            ],
            "image/png": "[encoded data removed]"
          },
          "metadata": {}
        },
        {
          "output_type": "execute_result",
          "data": {
            "text/plain": [
              "<matplotlib.axes._subplots.AxesSubplot at 0x7fbf808a6510>"
            ]
          },
          "metadata": {},
          "execution_count": 59
        }
      ]
    },
    {
      "cell_type": "code",
      "source": [
        "# Evaluation\n",
        "# range_n_clusters = [11, 12, 13, 14, 15, 16, 17, 18, 19, 20, 21, 22, 23, 24, 25, 26]\n",
        "range_n_clusters = [ 6, 7, 8, 9, 10, 11, 12, 13, 14, 15, 16, 17, 18, 19, 20, 21, 22, 23, 24, 25, 26]\n",
        "for n_clusters in range_n_clusters:\n",
        "    # Initialize the clusterer with n_clusters value and a random generator\n",
        "    # seed of 10 for reproducibility.\n",
        "    clusterer = KMeans(n_clusters=n_clusters, random_state=10)\n",
        "    cluster_labels = clusterer.fit_predict(X_costncuisine)\n",
        "\n",
        "    # The silhouette_score gives the average value for all the samples.\n",
        "    # This gives a perspective into the density and separation of the formed\n",
        "    # clusters\n",
        "    silhouette_avg = silhouette_score(X_costncuisine, cluster_labels)\n",
        "    print(\"For n_clusters =\", n_clusters,\n",
        "          \"The average silhouette_score is :\", round(silhouette_avg,5))"
      ],
      "metadata": {
        "colab": {
          "base_uri": "https://localhost:8080/"
        },
        "id": "pUVDlXIywIa3",
        "outputId": "76c8bbaa-105b-4a81-9876-484d7775aaba"
      },
      "execution_count": 60,
      "outputs": [
        {
          "output_type": "stream",
          "name": "stdout",
          "text": [
            "For n_clusters = 6 The average silhouette_score is : 0.06014\n",
            "For n_clusters = 7 The average silhouette_score is : 0.05674\n",
            "For n_clusters = 8 The average silhouette_score is : 0.06494\n",
            "For n_clusters = 9 The average silhouette_score is : 0.07857\n",
            "For n_clusters = 10 The average silhouette_score is : 0.0811\n",
            "For n_clusters = 11 The average silhouette_score is : 0.08713\n",
            "For n_clusters = 12 The average silhouette_score is : 0.08796\n",
            "For n_clusters = 13 The average silhouette_score is : 0.10574\n",
            "For n_clusters = 14 The average silhouette_score is : 0.09965\n",
            "For n_clusters = 15 The average silhouette_score is : 0.11555\n",
            "For n_clusters = 16 The average silhouette_score is : 0.09652\n",
            "For n_clusters = 17 The average silhouette_score is : 0.11121\n",
            "For n_clusters = 18 The average silhouette_score is : 0.10708\n",
            "For n_clusters = 19 The average silhouette_score is : 0.12528\n",
            "For n_clusters = 20 The average silhouette_score is : 0.12298\n",
            "For n_clusters = 21 The average silhouette_score is : 0.12796\n",
            "For n_clusters = 22 The average silhouette_score is : 0.12653\n",
            "For n_clusters = 23 The average silhouette_score is : 0.13308\n",
            "For n_clusters = 24 The average silhouette_score is : 0.12163\n",
            "For n_clusters = 25 The average silhouette_score is : 0.13757\n",
            "For n_clusters = 26 The average silhouette_score is : 0.1315\n"
          ]
        }
      ]
    },
    {
      "cell_type": "code",
      "source": [
        "# Hierarchical Clustering\n",
        "\n",
        "plt.figure(figsize=(30,10))  \n",
        "plt.title(\"Dendrograms\")  \n",
        "dend = shc.dendrogram(shc.linkage(X, method='ward'))"
      ],
      "metadata": {
        "colab": {
          "base_uri": "https://localhost:8080/",
          "height": 351
        },
        "id": "LjGhCHG34Wgp",
        "outputId": "b915b670-cd2d-414b-925a-013f975e893f"
      },
      "execution_count": 62,
      "outputs": [
        {
          "output_type": "display_data",
          "data": {
            "text/plain": [
              "<Figure size 2160x720 with 1 Axes>"
            ],
            "image/png": "[encoded data removed]"
          },
          "metadata": {
            "needs_background": "light"
          }
        }
      ]
    }
  ]
}